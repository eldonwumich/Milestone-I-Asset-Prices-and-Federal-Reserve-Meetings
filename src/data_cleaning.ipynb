{
 "cells": [
  {
   "cell_type": "code",
   "execution_count": null,
   "metadata": {},
   "outputs": [],
   "source": [
    "ALPHA_VANTAGE_API_KEY = \"2TF07MIMWVNCRG7I\"  # Replace with your API key"
   ]
  },
  {
   "cell_type": "code",
   "execution_count": 8,
   "metadata": {},
   "outputs": [
    {
     "name": "stderr",
     "output_type": "stream",
     "text": [
      "[*********************100%***********************]  1 of 1 completed\n",
      "[*********************100%***********************]  1 of 1 completed"
     ]
    },
    {
     "name": "stderr",
     "output_type": "stream",
     "text": [
      "\n",
      "[*********************100%***********************]  1 of 1 completed"
     ]
    },
    {
     "name": "stdout",
     "output_type": "stream",
     "text": [
      "Downloading data for 2010-01-27 (2010-01-12 to 2010-02-11)\n",
      "Downloaded data for ^GSPC:\n",
      "Price             Close         High          Low         Open      Volume\n",
      "Ticker            ^GSPC        ^GSPC        ^GSPC        ^GSPC       ^GSPC\n",
      "Date                                                                      \n",
      "2010-01-12  1136.219971  1143.810059  1131.770020  1143.810059  4716160000\n",
      "2010-01-13  1145.680054  1148.400024  1133.180054  1137.310059  4170360000\n",
      "2010-01-14  1148.459961  1150.410034  1143.800049  1145.680054  3915200000\n",
      "2010-01-15  1136.030029  1147.770020  1131.390015  1147.719971  4758730000\n",
      "2010-01-19  1150.229980  1150.449951  1135.770020  1136.030029  4724830000\n",
      "Warning: 'Adj Close' not found for ^GSPC. Available columns: MultiIndex([( 'Close', '^GSPC'),\n",
      "            (  'High', '^GSPC'),\n",
      "            (   'Low', '^GSPC'),\n",
      "            (  'Open', '^GSPC'),\n",
      "            ('Volume', '^GSPC')],\n",
      "           names=['Price', 'Ticker'])\n",
      "Downloaded data for ^IXIC:\n",
      "Price             Close         High          Low         Open      Volume\n",
      "Ticker            ^IXIC        ^IXIC        ^IXIC        ^IXIC       ^IXIC\n",
      "Date                                                                      \n",
      "2010-01-12  2282.310059  2298.850098  2272.699951  2297.280029  2368320000\n",
      "2010-01-13  2307.899902  2313.030029  2274.120117  2289.459961  2318350000\n",
      "2010-01-14  2316.739990  2322.560059  2303.290039  2303.310059  2254170000\n",
      "2010-01-15  2287.989990  2322.540039  2279.199951  2316.979980  2637770000\n",
      "2010-01-19  2320.399902  2320.399902  2290.679932  2291.020020  2045290000\n",
      "Warning: 'Adj Close' not found for ^IXIC. Available columns: MultiIndex([( 'Close', '^IXIC'),\n",
      "            (  'High', '^IXIC'),\n",
      "            (   'Low', '^IXIC'),\n",
      "            (  'Open', '^IXIC'),\n",
      "            ('Volume', '^IXIC')],\n",
      "           names=['Price', 'Ticker'])\n",
      "Downloaded data for ^DJI:\n",
      "Price              Close          High           Low          Open     Volume\n",
      "Ticker              ^DJI          ^DJI          ^DJI          ^DJI       ^DJI\n",
      "Date                                                                         \n",
      "2010-01-12  10627.259766  10663.080078  10568.839844  10662.860352  256050000\n",
      "2010-01-13  10680.769531  10709.259766  10614.490234  10628.089844  202810000\n",
      "2010-01-14  10710.549805  10723.769531  10666.860352  10680.160156  201320000\n",
      "2010-01-15  10609.650391  10709.940430  10561.059570  10706.990234  362930000\n",
      "2010-01-19  10725.429688  10729.889648  10591.969727  10608.370117  192150000\n",
      "Warning: 'Adj Close' not found for ^DJI. Available columns: MultiIndex([( 'Close', '^DJI'),\n",
      "            (  'High', '^DJI'),\n",
      "            (   'Low', '^DJI'),\n",
      "            (  'Open', '^DJI'),\n",
      "            ('Volume', '^DJI')],\n",
      "           names=['Price', 'Ticker'])\n"
     ]
    },
    {
     "name": "stderr",
     "output_type": "stream",
     "text": [
      "\n",
      "[*********************100%***********************]  1 of 1 completed\n"
     ]
    },
    {
     "name": "stdout",
     "output_type": "stream",
     "text": [
      "Downloaded Gold Data:\n",
      "Price             Close         High          Low         Open Volume\n",
      "Ticker             GC=F         GC=F         GC=F         GC=F   GC=F\n",
      "Date                                                                 \n",
      "2010-01-12  1128.900024  1157.199951  1127.199951  1128.900024     51\n",
      "2010-01-13  1136.400024  1136.400024  1121.000000  1136.400024     58\n",
      "2010-01-14  1142.599976  1145.900024  1132.800049  1137.000000     81\n",
      "2010-01-15  1130.099976  1133.400024  1127.199951  1132.800049     50\n",
      "2010-01-19  1139.699951  1139.699951  1130.500000  1139.699951     22\n",
      "Warning: 'Adj Close' not found in gold data. Available columns: MultiIndex([( 'Close', 'GC=F'),\n",
      "            (  'High', 'GC=F'),\n",
      "            (   'Low', 'GC=F'),\n",
      "            (  'Open', 'GC=F'),\n",
      "            ('Volume', 'GC=F')],\n",
      "           names=['Price', 'Ticker'])\n"
     ]
    },
    {
     "name": "stderr",
     "output_type": "stream",
     "text": [
      "[*********************100%***********************]  1 of 1 completed"
     ]
    },
    {
     "name": "stdout",
     "output_type": "stream",
     "text": [
      "Downloading data for 2010-03-16 (2010-03-01 to 2010-03-31)\n",
      "Downloaded data for ^GSPC:\n",
      "Price             Close         High          Low         Open      Volume\n",
      "Ticker            ^GSPC        ^GSPC        ^GSPC        ^GSPC       ^GSPC\n",
      "Date                                                                      \n",
      "2010-03-01  1115.709961  1116.109985  1105.359985  1105.359985  3847640000\n",
      "2010-03-02  1118.310059  1123.459961  1116.510010  1117.010010  4134680000\n",
      "2010-03-03  1118.790039  1125.640015  1116.579956  1119.359985  3951320000\n",
      "2010-03-04  1122.969971  1123.729980  1116.660034  1119.119995  3945010000\n",
      "2010-03-05  1138.699951  1139.380005  1125.119995  1125.119995  4133000000\n",
      "Warning: 'Adj Close' not found for ^GSPC. Available columns: MultiIndex([( 'Close', '^GSPC'),\n",
      "            (  'High', '^GSPC'),\n",
      "            (   'Low', '^GSPC'),\n",
      "            (  'Open', '^GSPC'),\n",
      "            ('Volume', '^GSPC')],\n",
      "           names=['Price', 'Ticker'])\n"
     ]
    },
    {
     "name": "stderr",
     "output_type": "stream",
     "text": [
      "\n",
      "[*********************100%***********************]  1 of 1 completed\n",
      "[*********************100%***********************]  1 of 1 completed\n"
     ]
    },
    {
     "name": "stdout",
     "output_type": "stream",
     "text": [
      "Downloaded data for ^IXIC:\n",
      "Price             Close         High          Low         Open      Volume\n",
      "Ticker            ^IXIC        ^IXIC        ^IXIC        ^IXIC       ^IXIC\n",
      "Date                                                                      \n",
      "2010-03-01  2273.570068  2274.020020  2247.330078  2247.399902  2504940000\n",
      "2010-03-02  2280.790039  2292.489990  2275.350098  2279.070068  2831870000\n",
      "2010-03-03  2280.679932  2293.320068  2275.250000  2284.820068  2603510000\n",
      "2010-03-04  2292.310059  2293.159912  2273.629883  2282.570068  2186020000\n",
      "2010-03-05  2326.350098  2327.030029  2301.100098  2304.010010  2411880000\n",
      "Warning: 'Adj Close' not found for ^IXIC. Available columns: MultiIndex([( 'Close', '^IXIC'),\n",
      "            (  'High', '^IXIC'),\n",
      "            (   'Low', '^IXIC'),\n",
      "            (  'Open', '^IXIC'),\n",
      "            ('Volume', '^IXIC')],\n",
      "           names=['Price', 'Ticker'])\n",
      "Downloaded data for ^DJI:\n",
      "Price              Close          High           Low          Open     Volume\n",
      "Ticker              ^DJI          ^DJI          ^DJI          ^DJI       ^DJI\n",
      "Date                                                                         \n",
      "2010-03-01  10403.790039  10413.990234  10326.099609  10326.099609  173750000\n",
      "2010-03-02  10405.980469  10456.919922  10389.429688  10404.160156  217180000\n",
      "2010-03-03  10396.759766  10469.540039  10376.580078  10406.280273  183290000\n",
      "2010-03-04  10444.139648  10452.379883  10390.860352  10396.530273  165740000\n",
      "2010-03-05  10566.200195  10571.940430  10445.049805  10445.129883  184270000\n",
      "Warning: 'Adj Close' not found for ^DJI. Available columns: MultiIndex([( 'Close', '^DJI'),\n",
      "            (  'High', '^DJI'),\n",
      "            (   'Low', '^DJI'),\n",
      "            (  'Open', '^DJI'),\n",
      "            ('Volume', '^DJI')],\n",
      "           names=['Price', 'Ticker'])\n"
     ]
    },
    {
     "name": "stderr",
     "output_type": "stream",
     "text": [
      "[*********************100%***********************]  1 of 1 completed\n"
     ]
    },
    {
     "name": "stdout",
     "output_type": "stream",
     "text": [
      "Downloaded Gold Data:\n",
      "Price             Close         High          Low         Open Volume\n",
      "Ticker             GC=F         GC=F         GC=F         GC=F   GC=F\n",
      "Date                                                                 \n",
      "2010-03-01  1117.800049  1121.900024  1113.599976  1119.300049    184\n",
      "2010-03-02  1136.900024  1137.400024  1115.699951  1136.900024    155\n",
      "2010-03-03  1142.699951  1145.000000  1133.699951  1142.699951    170\n",
      "2010-03-04  1132.599976  1139.000000  1128.599976  1132.599976    118\n",
      "2010-03-05  1134.800049  1134.800049  1134.800049  1134.800049    129\n",
      "Warning: 'Adj Close' not found in gold data. Available columns: MultiIndex([( 'Close', 'GC=F'),\n",
      "            (  'High', 'GC=F'),\n",
      "            (   'Low', 'GC=F'),\n",
      "            (  'Open', 'GC=F'),\n",
      "            ('Volume', 'GC=F')],\n",
      "           names=['Price', 'Ticker'])\n"
     ]
    },
    {
     "name": "stderr",
     "output_type": "stream",
     "text": [
      "[*********************100%***********************]  1 of 1 completed"
     ]
    },
    {
     "name": "stdout",
     "output_type": "stream",
     "text": [
      "Downloading data for 2010-04-28 (2010-04-13 to 2010-05-13)\n",
      "Downloaded data for ^GSPC:\n",
      "Price             Close         High          Low         Open      Volume\n",
      "Ticker            ^GSPC        ^GSPC        ^GSPC        ^GSPC       ^GSPC\n",
      "Date                                                                      \n",
      "2010-04-13  1197.300049  1199.040039  1188.819946  1195.939941  5403580000\n",
      "2010-04-14  1210.650024  1210.650024  1198.689941  1198.689941  5760040000\n",
      "2010-04-15  1211.670044  1213.920044  1208.500000  1210.770020  5995330000\n",
      "2010-04-16  1192.130005  1210.170044  1186.770020  1210.170044  8108470000\n",
      "2010-04-19  1197.520020  1197.869995  1183.680054  1192.060059  6597740000\n",
      "Warning: 'Adj Close' not found for ^GSPC. Available columns: MultiIndex([( 'Close', '^GSPC'),\n",
      "            (  'High', '^GSPC'),\n",
      "            (   'Low', '^GSPC'),\n",
      "            (  'Open', '^GSPC'),\n",
      "            ('Volume', '^GSPC')],\n",
      "           names=['Price', 'Ticker'])\n"
     ]
    },
    {
     "name": "stderr",
     "output_type": "stream",
     "text": [
      "\n",
      "[*********************100%***********************]  1 of 1 completed\n",
      "[*********************100%***********************]  1 of 1 completed\n"
     ]
    },
    {
     "name": "stdout",
     "output_type": "stream",
     "text": [
      "Downloaded data for ^IXIC:\n",
      "Price             Close         High          Low         Open      Volume\n",
      "Ticker            ^IXIC        ^IXIC        ^IXIC        ^IXIC       ^IXIC\n",
      "Date                                                                      \n",
      "2010-04-13  2465.989990  2467.939941  2445.260010  2454.949951  2665420000\n",
      "2010-04-14  2504.860107  2504.860107  2480.429932  2481.800049  3143270000\n",
      "2010-04-15  2515.689941  2517.820068  2502.510010  2503.409912  2840660000\n",
      "2010-04-16  2481.260010  2510.060059  2467.679932  2505.379883  2960950000\n",
      "2010-04-19  2480.110107  2487.669922  2451.719971  2477.800049  2223650000\n",
      "Warning: 'Adj Close' not found for ^IXIC. Available columns: MultiIndex([( 'Close', '^IXIC'),\n",
      "            (  'High', '^IXIC'),\n",
      "            (   'Low', '^IXIC'),\n",
      "            (  'Open', '^IXIC'),\n",
      "            ('Volume', '^IXIC')],\n",
      "           names=['Price', 'Ticker'])\n",
      "Downloaded data for ^DJI:\n",
      "Price              Close          High           Low          Open     Volume\n",
      "Ticker              ^DJI          ^DJI          ^DJI          ^DJI       ^DJI\n",
      "Date                                                                         \n",
      "2010-04-13  11019.419922  11038.919922  10947.769531  11006.719727  183950000\n",
      "2010-04-14  11123.110352  11125.219727  11020.629883  11020.700195  223920000\n",
      "2010-04-15  11144.570312  11154.549805  11096.200195  11122.959961  203720000\n",
      "2010-04-16  11018.660156  11153.790039  10973.919922  11143.660156  373950000\n",
      "2010-04-19  11092.049805  11095.299805  10977.849609  11018.360352  214850000\n",
      "Warning: 'Adj Close' not found for ^DJI. Available columns: MultiIndex([( 'Close', '^DJI'),\n",
      "            (  'High', '^DJI'),\n",
      "            (   'Low', '^DJI'),\n",
      "            (  'Open', '^DJI'),\n",
      "            ('Volume', '^DJI')],\n",
      "           names=['Price', 'Ticker'])\n"
     ]
    },
    {
     "name": "stderr",
     "output_type": "stream",
     "text": [
      "[*********************100%***********************]  1 of 1 completed\n"
     ]
    },
    {
     "name": "stdout",
     "output_type": "stream",
     "text": [
      "Downloaded Gold Data:\n",
      "Price             Close         High          Low         Open Volume\n",
      "Ticker             GC=F         GC=F         GC=F         GC=F   GC=F\n",
      "Date                                                                 \n",
      "2010-04-13  1152.800049  1157.000000  1145.000000  1152.800049    278\n",
      "2010-04-14  1159.000000  1160.599976  1151.199951  1159.000000    162\n",
      "2010-04-15  1159.699951  1159.800049  1151.000000  1157.500000    179\n",
      "2010-04-16  1136.300049  1160.000000  1130.400024  1136.300049    483\n",
      "2010-04-19  1135.199951  1137.099976  1124.000000  1135.199951    145\n",
      "Warning: 'Adj Close' not found in gold data. Available columns: MultiIndex([( 'Close', 'GC=F'),\n",
      "            (  'High', 'GC=F'),\n",
      "            (   'Low', 'GC=F'),\n",
      "            (  'Open', 'GC=F'),\n",
      "            ('Volume', 'GC=F')],\n",
      "           names=['Price', 'Ticker'])\n"
     ]
    },
    {
     "name": "stderr",
     "output_type": "stream",
     "text": [
      "[*********************100%***********************]  1 of 1 completed"
     ]
    },
    {
     "name": "stdout",
     "output_type": "stream",
     "text": [
      "Downloading data for 2010-06-23 (2010-06-08 to 2010-07-08)\n",
      "Downloaded data for ^GSPC:\n",
      "Price             Close         High          Low         Open      Volume\n",
      "Ticker            ^GSPC        ^GSPC        ^GSPC        ^GSPC       ^GSPC\n",
      "Date                                                                      \n",
      "2010-06-08  1062.000000  1063.150024  1042.170044  1050.810059  6192750000\n",
      "2010-06-09  1055.689941  1077.739990  1052.250000  1062.750000  5983200000\n",
      "2010-06-10  1086.839966  1087.849976  1058.770020  1058.770020  5144780000\n",
      "2010-06-11  1091.599976  1092.250000  1077.119995  1082.650024  4059280000\n",
      "2010-06-14  1089.630005  1105.910034  1089.030029  1095.000000  4425830000\n",
      "Warning: 'Adj Close' not found for ^GSPC. Available columns: MultiIndex([( 'Close', '^GSPC'),\n",
      "            (  'High', '^GSPC'),\n",
      "            (   'Low', '^GSPC'),\n",
      "            (  'Open', '^GSPC'),\n",
      "            ('Volume', '^GSPC')],\n",
      "           names=['Price', 'Ticker'])\n"
     ]
    },
    {
     "name": "stderr",
     "output_type": "stream",
     "text": [
      "\n",
      "[*********************100%***********************]  1 of 1 completed\n",
      "[*********************100%***********************]  1 of 1 completed\n"
     ]
    },
    {
     "name": "stdout",
     "output_type": "stream",
     "text": [
      "Downloaded data for ^IXIC:\n",
      "Price             Close         High          Low         Open      Volume\n",
      "Ticker            ^IXIC        ^IXIC        ^IXIC        ^IXIC       ^IXIC\n",
      "Date                                                                      \n",
      "2010-06-08  2170.570068  2183.100098  2139.459961  2176.070068  2696580000\n",
      "2010-06-09  2158.850098  2208.649902  2152.669922  2184.780029  2325060000\n",
      "2010-06-10  2218.709961  2219.649902  2185.979980  2188.709961  2187840000\n",
      "2010-06-11  2243.600098  2243.600098  2196.909912  2199.399902  1877120000\n",
      "2010-06-14  2243.959961  2278.959961  2242.000000  2263.659912  1951910000\n",
      "Warning: 'Adj Close' not found for ^IXIC. Available columns: MultiIndex([( 'Close', '^IXIC'),\n",
      "            (  'High', '^IXIC'),\n",
      "            (   'Low', '^IXIC'),\n",
      "            (  'Open', '^IXIC'),\n",
      "            ('Volume', '^IXIC')],\n",
      "           names=['Price', 'Ticker'])\n",
      "Downloaded data for ^DJI:\n",
      "Price              Close          High           Low          Open     Volume\n",
      "Ticker              ^DJI          ^DJI          ^DJI          ^DJI       ^DJI\n",
      "Date                                                                         \n",
      "2010-06-08   9939.980469   9953.660156   9757.549805   9812.940430  259680000\n",
      "2010-06-09   9899.250000  10065.139648   9867.730469   9941.570312  222680000\n",
      "2010-06-10  10172.530273  10185.830078   9901.669922   9901.669922  221730000\n",
      "2010-06-11  10211.070312  10215.980469  10082.709961  10166.780273  187890000\n",
      "2010-06-14  10190.889648  10328.669922  10186.209961  10211.830078  177920000\n",
      "Warning: 'Adj Close' not found for ^DJI. Available columns: MultiIndex([( 'Close', '^DJI'),\n",
      "            (  'High', '^DJI'),\n",
      "            (   'Low', '^DJI'),\n",
      "            (  'Open', '^DJI'),\n",
      "            ('Volume', '^DJI')],\n",
      "           names=['Price', 'Ticker'])\n"
     ]
    },
    {
     "name": "stderr",
     "output_type": "stream",
     "text": [
      "[*********************100%***********************]  1 of 1 completed\n"
     ]
    },
    {
     "name": "stdout",
     "output_type": "stream",
     "text": [
      "Downloaded Gold Data:\n",
      "Price             Close         High          Low         Open Volume\n",
      "Ticker             GC=F         GC=F         GC=F         GC=F   GC=F\n",
      "Date                                                                 \n",
      "2010-06-08  1244.000000  1252.099976  1234.099976  1241.500000    763\n",
      "2010-06-09  1228.500000  1238.199951  1222.000000  1237.000000    446\n",
      "2010-06-10  1220.800049  1233.500000  1215.099976  1232.800049    488\n",
      "2010-06-11  1228.900024  1229.599976  1218.000000  1228.900024    481\n",
      "2010-06-14  1223.300049  1232.699951  1217.699951  1223.199951    989\n",
      "Warning: 'Adj Close' not found in gold data. Available columns: MultiIndex([( 'Close', 'GC=F'),\n",
      "            (  'High', 'GC=F'),\n",
      "            (   'Low', 'GC=F'),\n",
      "            (  'Open', 'GC=F'),\n",
      "            ('Volume', 'GC=F')],\n",
      "           names=['Price', 'Ticker'])\n"
     ]
    },
    {
     "name": "stderr",
     "output_type": "stream",
     "text": [
      "[*********************100%***********************]  1 of 1 completed"
     ]
    },
    {
     "name": "stdout",
     "output_type": "stream",
     "text": [
      "Downloading data for 2010-08-10 (2010-07-26 to 2010-08-25)\n",
      "Downloaded data for ^GSPC:\n",
      "Price             Close         High          Low         Open      Volume\n",
      "Ticker            ^GSPC        ^GSPC        ^GSPC        ^GSPC       ^GSPC\n",
      "Date                                                                      \n",
      "2010-07-26  1115.010010  1115.010010  1101.300049  1102.890015  4009650000\n",
      "2010-07-27  1113.839966  1120.949951  1109.780029  1117.359985  4725690000\n",
      "2010-07-28  1106.130005  1114.660034  1103.109985  1112.839966  4002390000\n",
      "2010-07-29  1101.530029  1115.900024  1092.819946  1108.069946  4612420000\n",
      "2010-07-30  1101.599976  1106.439941  1088.010010  1098.439941  4006450000\n",
      "Warning: 'Adj Close' not found for ^GSPC. Available columns: MultiIndex([( 'Close', '^GSPC'),\n",
      "            (  'High', '^GSPC'),\n",
      "            (   'Low', '^GSPC'),\n",
      "            (  'Open', '^GSPC'),\n",
      "            ('Volume', '^GSPC')],\n",
      "           names=['Price', 'Ticker'])\n"
     ]
    },
    {
     "name": "stderr",
     "output_type": "stream",
     "text": [
      "\n",
      "[*********************100%***********************]  1 of 1 completed\n",
      "[*********************100%***********************]  1 of 1 completed\n"
     ]
    },
    {
     "name": "stdout",
     "output_type": "stream",
     "text": [
      "Downloaded data for ^IXIC:\n",
      "Price             Close         High          Low         Open      Volume\n",
      "Ticker            ^IXIC        ^IXIC        ^IXIC        ^IXIC       ^IXIC\n",
      "Date                                                                      \n",
      "2010-07-26  2296.429932  2296.429932  2262.959961  2271.620117  2164280000\n",
      "2010-07-27  2288.250000  2307.600098  2280.719971  2306.620117  2065390000\n",
      "2010-07-28  2264.560059  2292.239990  2257.760010  2284.620117  1848520000\n",
      "2010-07-29  2251.689941  2282.939941  2228.520020  2279.070068  2324590000\n",
      "2010-07-30  2254.699951  2264.810059  2218.610107  2227.290039  2138610000\n",
      "Warning: 'Adj Close' not found for ^IXIC. Available columns: MultiIndex([( 'Close', '^IXIC'),\n",
      "            (  'High', '^IXIC'),\n",
      "            (   'Low', '^IXIC'),\n",
      "            (  'Open', '^IXIC'),\n",
      "            ('Volume', '^IXIC')],\n",
      "           names=['Price', 'Ticker'])\n",
      "Downloaded data for ^DJI:\n",
      "Price              Close          High           Low          Open     Volume\n",
      "Ticker              ^DJI          ^DJI          ^DJI          ^DJI       ^DJI\n",
      "Date                                                                         \n",
      "2010-07-26  10525.429688  10526.790039  10414.400391  10424.169922  178820000\n",
      "2010-07-27  10537.690430  10578.330078  10494.860352  10525.280273  180550000\n",
      "2010-07-28  10497.879883  10548.519531  10463.219727  10537.009766  162070000\n",
      "2010-07-29  10467.160156  10584.990234  10387.389648  10498.940430  202110000\n",
      "2010-07-30  10465.940430  10507.190430  10347.500000  10465.190430  208160000\n",
      "Warning: 'Adj Close' not found for ^DJI. Available columns: MultiIndex([( 'Close', '^DJI'),\n",
      "            (  'High', '^DJI'),\n",
      "            (   'Low', '^DJI'),\n",
      "            (  'Open', '^DJI'),\n",
      "            ('Volume', '^DJI')],\n",
      "           names=['Price', 'Ticker'])\n"
     ]
    },
    {
     "name": "stderr",
     "output_type": "stream",
     "text": [
      "[*********************100%***********************]  1 of 1 completed\n"
     ]
    },
    {
     "name": "stdout",
     "output_type": "stream",
     "text": [
      "Downloaded Gold Data:\n",
      "Price             Close         High          Low         Open  Volume\n",
      "Ticker             GC=F         GC=F         GC=F         GC=F    GC=F\n",
      "Date                                                                  \n",
      "2010-07-26  1183.000000  1183.000000  1183.000000  1183.000000      37\n",
      "2010-07-27  1158.000000  1158.000000  1158.000000  1158.000000      29\n",
      "2010-07-28  1160.400024  1160.400024  1160.400024  1160.400024  206828\n",
      "2010-07-29  1168.400024  1169.199951  1158.699951  1163.800049   54384\n",
      "2010-07-30  1181.699951  1183.099976  1166.000000  1168.199951    5466\n",
      "Warning: 'Adj Close' not found in gold data. Available columns: MultiIndex([( 'Close', 'GC=F'),\n",
      "            (  'High', 'GC=F'),\n",
      "            (   'Low', 'GC=F'),\n",
      "            (  'Open', 'GC=F'),\n",
      "            ('Volume', 'GC=F')],\n",
      "           names=['Price', 'Ticker'])\n"
     ]
    },
    {
     "name": "stderr",
     "output_type": "stream",
     "text": [
      "[*********************100%***********************]  1 of 1 completed"
     ]
    },
    {
     "name": "stdout",
     "output_type": "stream",
     "text": [
      "Downloading data for 2010-09-21 (2010-09-06 to 2010-10-06)\n",
      "Downloaded data for ^GSPC:\n",
      "Price             Close         High          Low         Open      Volume\n",
      "Ticker            ^GSPC        ^GSPC        ^GSPC        ^GSPC       ^GSPC\n",
      "Date                                                                      \n",
      "2010-09-07  1091.839966  1102.599976  1091.150024  1102.599976  3107380000\n",
      "2010-09-08  1098.869995  1103.260010  1092.359985  1092.359985  3224640000\n",
      "2010-09-09  1104.180054  1110.270020  1101.150024  1101.150024  3387770000\n",
      "2010-09-10  1109.550049  1110.880005  1103.920044  1104.569946  3061160000\n",
      "2010-09-13  1121.900024  1123.869995  1113.380005  1113.380005  4521050000\n",
      "Warning: 'Adj Close' not found for ^GSPC. Available columns: MultiIndex([( 'Close', '^GSPC'),\n",
      "            (  'High', '^GSPC'),\n",
      "            (   'Low', '^GSPC'),\n",
      "            (  'Open', '^GSPC'),\n",
      "            ('Volume', '^GSPC')],\n",
      "           names=['Price', 'Ticker'])\n"
     ]
    },
    {
     "name": "stderr",
     "output_type": "stream",
     "text": [
      "\n",
      "[*********************100%***********************]  1 of 1 completed\n",
      "[*********************100%***********************]  1 of 1 completed\n"
     ]
    },
    {
     "name": "stdout",
     "output_type": "stream",
     "text": [
      "Downloaded data for ^IXIC:\n",
      "Price             Close         High          Low         Open      Volume\n",
      "Ticker            ^IXIC        ^IXIC        ^IXIC        ^IXIC       ^IXIC\n",
      "Date                                                                      \n",
      "2010-09-07  2208.889893  2231.280029  2206.620117  2227.260010  1685240000\n",
      "2010-09-08  2228.870117  2237.419922  2215.899902  2216.070068  2018210000\n",
      "2010-09-09  2236.199951  2251.979980  2229.800049  2251.090088  1706650000\n",
      "2010-09-10  2242.479980  2246.600098  2229.120117  2239.080078  1692470000\n",
      "2010-09-13  2285.709961  2289.489990  2263.689941  2263.800049  1937630000\n",
      "Warning: 'Adj Close' not found for ^IXIC. Available columns: MultiIndex([( 'Close', '^IXIC'),\n",
      "            (  'High', '^IXIC'),\n",
      "            (   'Low', '^IXIC'),\n",
      "            (  'Open', '^IXIC'),\n",
      "            ('Volume', '^IXIC')],\n",
      "           names=['Price', 'Ticker'])\n",
      "Downloaded data for ^DJI:\n",
      "Price              Close          High           Low          Open     Volume\n",
      "Ticker              ^DJI          ^DJI          ^DJI          ^DJI       ^DJI\n",
      "Date                                                                         \n",
      "2010-09-07  10340.690430  10446.799805  10332.400391  10446.799805  149040000\n",
      "2010-09-08  10387.009766  10426.700195  10335.690430  10338.490234  166760000\n",
      "2010-09-09  10415.240234  10476.620117  10386.629883  10388.139648  163590000\n",
      "2010-09-10  10462.769531  10471.280273  10403.169922  10415.009766  140320000\n",
      "2010-09-13  10544.129883  10567.589844  10458.599609  10458.599609  190720000\n",
      "Warning: 'Adj Close' not found for ^DJI. Available columns: MultiIndex([( 'Close', '^DJI'),\n",
      "            (  'High', '^DJI'),\n",
      "            (   'Low', '^DJI'),\n",
      "            (  'Open', '^DJI'),\n",
      "            ('Volume', '^DJI')],\n",
      "           names=['Price', 'Ticker'])\n"
     ]
    },
    {
     "name": "stderr",
     "output_type": "stream",
     "text": [
      "[*********************100%***********************]  1 of 1 completed\n"
     ]
    },
    {
     "name": "stdout",
     "output_type": "stream",
     "text": [
      "Downloaded Gold Data:\n",
      "Price             Close         High          Low         Open Volume\n",
      "Ticker             GC=F         GC=F         GC=F         GC=F   GC=F\n",
      "Date                                                                 \n",
      "2010-09-07  1257.300049  1258.000000  1255.500000  1257.300049      7\n",
      "2010-09-08  1255.599976  1260.199951  1254.699951  1255.599976     27\n",
      "2010-09-09  1248.900024  1256.000000  1244.099976  1248.900024      9\n",
      "2010-09-10  1244.500000  1244.500000  1244.500000  1244.500000     20\n",
      "2010-09-13  1245.099976  1245.099976  1245.099976  1245.099976     18\n",
      "Warning: 'Adj Close' not found in gold data. Available columns: MultiIndex([( 'Close', 'GC=F'),\n",
      "            (  'High', 'GC=F'),\n",
      "            (   'Low', 'GC=F'),\n",
      "            (  'Open', 'GC=F'),\n",
      "            ('Volume', 'GC=F')],\n",
      "           names=['Price', 'Ticker'])\n"
     ]
    },
    {
     "name": "stderr",
     "output_type": "stream",
     "text": [
      "[*********************100%***********************]  1 of 1 completed"
     ]
    },
    {
     "name": "stdout",
     "output_type": "stream",
     "text": [
      "Downloading data for 2010-11-03 (2010-10-19 to 2010-11-18)\n",
      "Downloaded data for ^GSPC:\n",
      "Price             Close         High          Low         Open      Volume\n",
      "Ticker            ^GSPC        ^GSPC        ^GSPC        ^GSPC       ^GSPC\n",
      "Date                                                                      \n",
      "2010-10-19  1165.900024  1178.640015  1159.709961  1178.640015  5600120000\n",
      "2010-10-20  1178.170044  1182.939941  1166.739990  1166.739990  5027880000\n",
      "2010-10-21  1180.260010  1189.430054  1171.170044  1179.819946  4625470000\n",
      "2010-10-22  1183.079956  1183.930054  1178.989990  1180.520020  3177890000\n",
      "2010-10-25  1185.619995  1196.140015  1184.739990  1184.739990  4221380000\n",
      "Warning: 'Adj Close' not found for ^GSPC. Available columns: MultiIndex([( 'Close', '^GSPC'),\n",
      "            (  'High', '^GSPC'),\n",
      "            (   'Low', '^GSPC'),\n",
      "            (  'Open', '^GSPC'),\n",
      "            ('Volume', '^GSPC')],\n",
      "           names=['Price', 'Ticker'])\n"
     ]
    },
    {
     "name": "stderr",
     "output_type": "stream",
     "text": [
      "\n",
      "[*********************100%***********************]  1 of 1 completed\n",
      "[*********************100%***********************]  1 of 1 completed\n"
     ]
    },
    {
     "name": "stdout",
     "output_type": "stream",
     "text": [
      "Downloaded data for ^IXIC:\n",
      "Price             Close         High          Low         Open      Volume\n",
      "Ticker            ^IXIC        ^IXIC        ^IXIC        ^IXIC       ^IXIC\n",
      "Date                                                                      \n",
      "2010-10-19  2436.949951  2462.939941  2422.139893  2442.209961  2241840000\n",
      "2010-10-20  2457.389893  2469.719971  2441.070068  2443.199951  2016770000\n",
      "2010-10-21  2459.669922  2482.139893  2436.340088  2470.719971  2135480000\n",
      "2010-10-22  2479.389893  2479.389893  2459.429932  2461.600098  1648180000\n",
      "2010-10-25  2490.850098  2507.030029  2490.110107  2491.620117  1746320000\n",
      "Warning: 'Adj Close' not found for ^IXIC. Available columns: MultiIndex([( 'Close', '^IXIC'),\n",
      "            (  'High', '^IXIC'),\n",
      "            (   'Low', '^IXIC'),\n",
      "            (  'Open', '^IXIC'),\n",
      "            ('Volume', '^IXIC')],\n",
      "           names=['Price', 'Ticker'])\n",
      "Downloaded data for ^DJI:\n",
      "Price              Close          High           Low          Open     Volume\n",
      "Ticker              ^DJI          ^DJI          ^DJI          ^DJI       ^DJI\n",
      "Date                                                                         \n",
      "2010-10-19  10978.620117  11139.599609  10917.620117  11139.599609  247640000\n",
      "2010-10-20  11107.969727  11152.879883  10970.889648  10974.519531  220140000\n",
      "2010-10-21  11146.570312  11213.540039  11066.190430  11105.240234  178060000\n",
      "2010-10-22  11132.559570  11159.049805  11109.250000  11146.410156  104570000\n",
      "2010-10-25  11164.049805  11247.599609  11132.339844  11133.400391  168110000\n",
      "Warning: 'Adj Close' not found for ^DJI. Available columns: MultiIndex([( 'Close', '^DJI'),\n",
      "            (  'High', '^DJI'),\n",
      "            (   'Low', '^DJI'),\n",
      "            (  'Open', '^DJI'),\n",
      "            ('Volume', '^DJI')],\n",
      "           names=['Price', 'Ticker'])\n"
     ]
    },
    {
     "name": "stderr",
     "output_type": "stream",
     "text": [
      "[*********************100%***********************]  1 of 1 completed\n"
     ]
    },
    {
     "name": "stdout",
     "output_type": "stream",
     "text": [
      "Downloaded Gold Data:\n",
      "Price             Close         High          Low         Open Volume\n",
      "Ticker             GC=F         GC=F         GC=F         GC=F   GC=F\n",
      "Date                                                                 \n",
      "2010-10-19  1335.099976  1370.500000  1328.500000  1366.800049    301\n",
      "2010-10-20  1343.300049  1345.800049  1334.199951  1336.000000    148\n",
      "2010-10-21  1324.699951  1346.199951  1317.500000  1344.199951    102\n",
      "2010-10-22  1324.400024  1328.099976  1319.000000  1326.699951    113\n",
      "2010-10-25  1338.300049  1349.099976  1333.099976  1333.599976    194\n",
      "Warning: 'Adj Close' not found in gold data. Available columns: MultiIndex([( 'Close', 'GC=F'),\n",
      "            (  'High', 'GC=F'),\n",
      "            (   'Low', 'GC=F'),\n",
      "            (  'Open', 'GC=F'),\n",
      "            ('Volume', 'GC=F')],\n",
      "           names=['Price', 'Ticker'])\n"
     ]
    },
    {
     "name": "stderr",
     "output_type": "stream",
     "text": [
      "[*********************100%***********************]  1 of 1 completed"
     ]
    },
    {
     "name": "stdout",
     "output_type": "stream",
     "text": [
      "Downloading data for 2010-12-14 (2010-11-29 to 2010-12-29)\n",
      "Downloaded data for ^GSPC:\n",
      "Price             Close         High          Low         Open      Volume\n",
      "Ticker            ^GSPC        ^GSPC        ^GSPC        ^GSPC       ^GSPC\n",
      "Date                                                                      \n",
      "2010-11-29  1187.760010  1190.339966  1173.640015  1189.079956  3673450000\n",
      "2010-11-30  1180.550049  1187.400024  1174.140015  1182.959961  4284700000\n",
      "2010-12-01  1206.069946  1207.609985  1186.599976  1186.599976  4548110000\n",
      "2010-12-02  1221.530029  1221.890015  1206.810059  1206.810059  4970800000\n",
      "2010-12-03  1224.709961  1225.569946  1216.819946  1219.930054  3735780000\n",
      "Warning: 'Adj Close' not found for ^GSPC. Available columns: MultiIndex([( 'Close', '^GSPC'),\n",
      "            (  'High', '^GSPC'),\n",
      "            (   'Low', '^GSPC'),\n",
      "            (  'Open', '^GSPC'),\n",
      "            ('Volume', '^GSPC')],\n",
      "           names=['Price', 'Ticker'])\n"
     ]
    },
    {
     "name": "stderr",
     "output_type": "stream",
     "text": [
      "\n",
      "[*********************100%***********************]  1 of 1 completed\n",
      "[*********************100%***********************]  1 of 1 completed\n"
     ]
    },
    {
     "name": "stdout",
     "output_type": "stream",
     "text": [
      "Downloaded data for ^IXIC:\n",
      "Price             Close         High          Low         Open      Volume\n",
      "Ticker            ^IXIC        ^IXIC        ^IXIC        ^IXIC       ^IXIC\n",
      "Date                                                                      \n",
      "2010-11-29  2525.219971  2531.030029  2496.830078  2522.239990  1683260000\n",
      "2010-11-30  2498.229980  2510.709961  2488.610107  2497.120117  2317480000\n",
      "2010-12-01  2549.429932  2558.290039  2535.189941  2535.189941  2109940000\n",
      "2010-12-02  2579.350098  2580.590088  2551.820068  2553.679932  2038130000\n",
      "2010-12-03  2591.459961  2593.679932  2567.879883  2569.020020  1810400000\n",
      "Warning: 'Adj Close' not found for ^IXIC. Available columns: MultiIndex([( 'Close', '^IXIC'),\n",
      "            (  'High', '^IXIC'),\n",
      "            (   'Low', '^IXIC'),\n",
      "            (  'Open', '^IXIC'),\n",
      "            ('Volume', '^IXIC')],\n",
      "           names=['Price', 'Ticker'])\n",
      "Downloaded data for ^DJI:\n",
      "Price              Close          High           Low          Open     Volume\n",
      "Ticker              ^DJI          ^DJI          ^DJI          ^DJI       ^DJI\n",
      "Date                                                                         \n",
      "2010-11-29  11052.490234  11083.820312  10929.280273  11083.750000  151530000\n",
      "2010-11-30  11006.019531  11062.629883  10942.980469  11049.719727  233770000\n",
      "2010-12-01  11255.780273  11276.099609  11007.230469  11007.230469  202520000\n",
      "2010-12-02  11362.410156  11373.799805  11255.849609  11255.929688  212090000\n",
      "2010-12-03  11382.089844  11388.870117  11318.820312  11361.879883  149440000\n",
      "Warning: 'Adj Close' not found for ^DJI. Available columns: MultiIndex([( 'Close', '^DJI'),\n",
      "            (  'High', '^DJI'),\n",
      "            (   'Low', '^DJI'),\n",
      "            (  'Open', '^DJI'),\n",
      "            ('Volume', '^DJI')],\n",
      "           names=['Price', 'Ticker'])\n"
     ]
    },
    {
     "name": "stderr",
     "output_type": "stream",
     "text": [
      "[*********************100%***********************]  1 of 1 completed\n"
     ]
    },
    {
     "name": "stdout",
     "output_type": "stream",
     "text": [
      "Downloaded Gold Data:\n",
      "Price             Close         High          Low         Open Volume\n",
      "Ticker             GC=F         GC=F         GC=F         GC=F   GC=F\n",
      "Date                                                                 \n",
      "2010-11-29  1366.000000  1369.300049  1352.599976  1364.000000  94486\n",
      "2010-11-30  1385.000000  1390.099976  1362.800049  1366.699951  11370\n",
      "2010-12-01  1387.300049  1396.599976  1382.300049  1386.800049   4759\n",
      "2010-12-02  1388.500000  1398.599976  1383.300049  1387.599976   1550\n",
      "2010-12-03  1405.400024  1415.099976  1385.099976  1385.099976   2341\n",
      "Warning: 'Adj Close' not found in gold data. Available columns: MultiIndex([( 'Close', 'GC=F'),\n",
      "            (  'High', 'GC=F'),\n",
      "            (   'Low', 'GC=F'),\n",
      "            (  'Open', 'GC=F'),\n",
      "            ('Volume', 'GC=F')],\n",
      "           names=['Price', 'Ticker'])\n"
     ]
    },
    {
     "name": "stderr",
     "output_type": "stream",
     "text": [
      "[*********************100%***********************]  1 of 1 completed"
     ]
    },
    {
     "name": "stdout",
     "output_type": "stream",
     "text": [
      "Downloading data for 2011-01-26 (2011-01-11 to 2011-02-10)\n",
      "Downloaded data for ^GSPC:\n",
      "Price             Close         High          Low         Open      Volume\n",
      "Ticker            ^GSPC        ^GSPC        ^GSPC        ^GSPC       ^GSPC\n",
      "Date                                                                      \n",
      "2011-01-11  1274.479980  1277.250000  1269.619995  1272.579956  4050750000\n",
      "2011-01-12  1285.959961  1286.869995  1275.650024  1275.650024  4226940000\n",
      "2011-01-13  1283.760010  1286.699951  1280.469971  1285.780029  4310840000\n",
      "2011-01-14  1293.239990  1293.239990  1281.239990  1282.900024  4661590000\n",
      "2011-01-18  1295.020020  1296.060059  1290.160034  1293.219971  5284990000\n",
      "Warning: 'Adj Close' not found for ^GSPC. Available columns: MultiIndex([( 'Close', '^GSPC'),\n",
      "            (  'High', '^GSPC'),\n",
      "            (   'Low', '^GSPC'),\n",
      "            (  'Open', '^GSPC'),\n",
      "            ('Volume', '^GSPC')],\n",
      "           names=['Price', 'Ticker'])\n"
     ]
    },
    {
     "name": "stderr",
     "output_type": "stream",
     "text": [
      "\n",
      "[*********************100%***********************]  1 of 1 completed\n",
      "[*********************100%***********************]  1 of 1 completed\n"
     ]
    },
    {
     "name": "stdout",
     "output_type": "stream",
     "text": [
      "Downloaded data for ^IXIC:\n",
      "Price             Close         High          Low         Open      Volume\n",
      "Ticker            ^IXIC        ^IXIC        ^IXIC        ^IXIC       ^IXIC\n",
      "Date                                                                      \n",
      "2011-01-11  2716.830078  2722.750000  2706.580078  2719.600098  1893100000\n",
      "2011-01-12  2737.330078  2737.330078  2722.320068  2731.449951  1873960000\n",
      "2011-01-13  2735.290039  2742.429932  2727.139893  2734.929932  1923900000\n",
      "2011-01-14  2755.300049  2755.300049  2729.620117  2732.479980  2020210000\n",
      "2011-01-18  2765.850098  2766.169922  2744.260010  2744.800049  2020190000\n",
      "Warning: 'Adj Close' not found for ^IXIC. Available columns: MultiIndex([( 'Close', '^IXIC'),\n",
      "            (  'High', '^IXIC'),\n",
      "            (   'Low', '^IXIC'),\n",
      "            (  'Open', '^IXIC'),\n",
      "            ('Volume', '^IXIC')],\n",
      "           names=['Price', 'Ticker'])\n",
      "Downloaded data for ^DJI:\n",
      "Price              Close          High           Low          Open     Volume\n",
      "Ticker              ^DJI          ^DJI          ^DJI          ^DJI       ^DJI\n",
      "Date                                                                         \n",
      "2011-01-11  11671.879883  11704.120117  11635.480469  11638.509766  157440000\n",
      "2011-01-12  11755.440430  11782.230469  11673.620117  11673.620117  144960000\n",
      "2011-01-13  11731.900391  11757.250000  11700.530273  11753.700195  161660000\n",
      "2011-01-14  11787.379883  11794.150391  11698.830078  11732.129883  200770000\n",
      "2011-01-18  11837.929688  11858.780273  11777.990234  11783.820312  203390000\n",
      "Warning: 'Adj Close' not found for ^DJI. Available columns: MultiIndex([( 'Close', '^DJI'),\n",
      "            (  'High', '^DJI'),\n",
      "            (   'Low', '^DJI'),\n",
      "            (  'Open', '^DJI'),\n",
      "            ('Volume', '^DJI')],\n",
      "           names=['Price', 'Ticker'])\n"
     ]
    },
    {
     "name": "stderr",
     "output_type": "stream",
     "text": [
      "[*********************100%***********************]  1 of 1 completed\n"
     ]
    },
    {
     "name": "stdout",
     "output_type": "stream",
     "text": [
      "Downloaded Gold Data:\n",
      "Price             Close    High          Low         Open Volume\n",
      "Ticker             GC=F    GC=F         GC=F         GC=F   GC=F\n",
      "Date                                                            \n",
      "2011-01-11  1384.000000  1384.5  1373.900024  1375.400024     13\n",
      "2011-01-12  1385.699951  1385.5  1378.000000  1382.599976    204\n",
      "2011-01-13  1386.900024  1392.5  1371.400024  1386.099976     66\n",
      "2011-01-14  1360.400024  1376.0  1356.699951  1375.000000    252\n",
      "2011-01-18  1368.099976  1371.0  1359.199951  1365.099976    106\n",
      "Warning: 'Adj Close' not found in gold data. Available columns: MultiIndex([( 'Close', 'GC=F'),\n",
      "            (  'High', 'GC=F'),\n",
      "            (   'Low', 'GC=F'),\n",
      "            (  'Open', 'GC=F'),\n",
      "            ('Volume', 'GC=F')],\n",
      "           names=['Price', 'Ticker'])\n"
     ]
    },
    {
     "name": "stderr",
     "output_type": "stream",
     "text": [
      "[*********************100%***********************]  1 of 1 completed"
     ]
    },
    {
     "name": "stdout",
     "output_type": "stream",
     "text": [
      "Downloading data for 2011-03-15 (2011-02-28 to 2011-03-30)\n",
      "Downloaded data for ^GSPC:\n",
      "Price             Close         High          Low         Open      Volume\n",
      "Ticker            ^GSPC        ^GSPC        ^GSPC        ^GSPC       ^GSPC\n",
      "Date                                                                      \n",
      "2011-02-28  1327.219971  1329.380005  1320.550049  1321.609985  1252850000\n",
      "2011-03-01  1306.329956  1332.089966  1306.140015  1328.640015  1180420000\n",
      "2011-03-02  1308.439941  1314.189941  1302.579956  1305.469971  1025000000\n",
      "2011-03-03  1330.969971  1332.280029  1312.369995  1312.369995  4340470000\n",
      "2011-03-04  1321.150024  1331.079956  1312.589966  1330.729980  4223740000\n",
      "Warning: 'Adj Close' not found for ^GSPC. Available columns: MultiIndex([( 'Close', '^GSPC'),\n",
      "            (  'High', '^GSPC'),\n",
      "            (   'Low', '^GSPC'),\n",
      "            (  'Open', '^GSPC'),\n",
      "            ('Volume', '^GSPC')],\n",
      "           names=['Price', 'Ticker'])\n"
     ]
    },
    {
     "name": "stderr",
     "output_type": "stream",
     "text": [
      "\n",
      "[*********************100%***********************]  1 of 1 completed\n",
      "[*********************100%***********************]  1 of 1 completed\n"
     ]
    },
    {
     "name": "stdout",
     "output_type": "stream",
     "text": [
      "Downloaded data for ^IXIC:\n",
      "Price             Close         High          Low         Open      Volume\n",
      "Ticker            ^IXIC        ^IXIC        ^IXIC        ^IXIC       ^IXIC\n",
      "Date                                                                      \n",
      "2011-02-28  2782.270020  2798.429932  2767.610107  2791.280029  2009500000\n",
      "2011-03-01  2737.409912  2791.229980  2730.719971  2791.080078  2212860000\n",
      "2011-03-02  2748.070068  2763.949951  2734.080078  2735.050049  1986900000\n",
      "2011-03-03  2798.739990  2802.320068  2774.479980  2774.479980  1990380000\n",
      "2011-03-04  2784.669922  2798.070068  2768.120117  2797.639893  1897900000\n",
      "Warning: 'Adj Close' not found for ^IXIC. Available columns: MultiIndex([( 'Close', '^IXIC'),\n",
      "            (  'High', '^IXIC'),\n",
      "            (   'Low', '^IXIC'),\n",
      "            (  'Open', '^IXIC'),\n",
      "            ('Volume', '^IXIC')],\n",
      "           names=['Price', 'Ticker'])\n",
      "Downloaded data for ^DJI:\n",
      "Price              Close          High           Low          Open     Volume\n",
      "Ticker              ^DJI          ^DJI          ^DJI          ^DJI       ^DJI\n",
      "Date                                                                         \n",
      "2011-02-28  12226.339844  12235.040039  12130.150391  12130.450195  199560000\n",
      "2011-03-01  12058.019531  12261.379883  12054.990234  12226.490234  183240000\n",
      "2011-03-02  12066.799805  12115.120117  12018.629883  12057.339844  147270000\n",
      "2011-03-03  12258.200195  12283.099609  12068.009766  12068.009766  157840000\n",
      "2011-03-04  12169.879883  12271.370117  12079.509766  12258.879883  166700000\n",
      "Warning: 'Adj Close' not found for ^DJI. Available columns: MultiIndex([( 'Close', '^DJI'),\n",
      "            (  'High', '^DJI'),\n",
      "            (   'Low', '^DJI'),\n",
      "            (  'Open', '^DJI'),\n",
      "            ('Volume', '^DJI')],\n",
      "           names=['Price', 'Ticker'])\n"
     ]
    },
    {
     "name": "stderr",
     "output_type": "stream",
     "text": [
      "[*********************100%***********************]  1 of 1 completed\n"
     ]
    },
    {
     "name": "stdout",
     "output_type": "stream",
     "text": [
      "Downloaded Gold Data:\n",
      "Price             Close         High          Low         Open Volume\n",
      "Ticker             GC=F         GC=F         GC=F         GC=F   GC=F\n",
      "Date                                                                 \n",
      "2011-02-28  1409.300049  1415.699951  1407.699951  1410.699951    205\n",
      "2011-03-01  1430.699951  1434.400024  1415.300049  1415.300049    116\n",
      "2011-03-02  1437.199951  1440.500000  1428.800049  1432.500000   1600\n",
      "2011-03-03  1416.000000  1432.300049  1415.900024  1432.300049    244\n",
      "2011-03-04  1428.199951  1429.800049  1416.800049  1418.900024     60\n",
      "Warning: 'Adj Close' not found in gold data. Available columns: MultiIndex([( 'Close', 'GC=F'),\n",
      "            (  'High', 'GC=F'),\n",
      "            (   'Low', 'GC=F'),\n",
      "            (  'Open', 'GC=F'),\n",
      "            ('Volume', 'GC=F')],\n",
      "           names=['Price', 'Ticker'])\n"
     ]
    },
    {
     "name": "stderr",
     "output_type": "stream",
     "text": [
      "[*********************100%***********************]  1 of 1 completed"
     ]
    },
    {
     "name": "stdout",
     "output_type": "stream",
     "text": [
      "Downloading data for 2011-04-27 (2011-04-12 to 2011-05-12)\n",
      "Downloaded data for ^GSPC:\n",
      "Price             Close         High          Low         Open      Volume\n",
      "Ticker            ^GSPC        ^GSPC        ^GSPC        ^GSPC       ^GSPC\n",
      "Date                                                                      \n",
      "2011-04-12  1314.160034  1321.959961  1309.510010  1321.959961  4275490000\n",
      "2011-04-13  1314.410034  1321.349976  1309.189941  1314.030029  3850860000\n",
      "2011-04-14  1314.520020  1316.790039  1302.420044  1311.130005  3872630000\n",
      "2011-04-15  1319.680054  1322.880005  1313.680054  1314.540039  4223740000\n",
      "2011-04-18  1305.140015  1313.349976  1294.699951  1313.349976  4223740000\n",
      "Warning: 'Adj Close' not found for ^GSPC. Available columns: MultiIndex([( 'Close', '^GSPC'),\n",
      "            (  'High', '^GSPC'),\n",
      "            (   'Low', '^GSPC'),\n",
      "            (  'Open', '^GSPC'),\n",
      "            ('Volume', '^GSPC')],\n",
      "           names=['Price', 'Ticker'])\n"
     ]
    },
    {
     "name": "stderr",
     "output_type": "stream",
     "text": [
      "\n",
      "[*********************100%***********************]  1 of 1 completed\n",
      "[*********************100%***********************]  1 of 1 completed\n"
     ]
    },
    {
     "name": "stdout",
     "output_type": "stream",
     "text": [
      "Downloaded data for ^IXIC:\n",
      "Price             Close         High          Low         Open      Volume\n",
      "Ticker            ^IXIC        ^IXIC        ^IXIC        ^IXIC       ^IXIC\n",
      "Date                                                                      \n",
      "2011-04-12  2744.790039  2760.620117  2737.070068  2755.889893  1818610000\n",
      "2011-04-13  2761.520020  2772.050049  2744.850098  2762.689941  1744940000\n",
      "2011-04-14  2760.219971  2762.179932  2733.679932  2743.120117  1717650000\n",
      "2011-04-15  2764.649902  2769.290039  2743.750000  2752.870117  1785050000\n",
      "2011-04-18  2735.379883  2737.459961  2706.500000  2731.219971  1786230000\n",
      "Warning: 'Adj Close' not found for ^IXIC. Available columns: MultiIndex([( 'Close', '^IXIC'),\n",
      "            (  'High', '^IXIC'),\n",
      "            (   'Low', '^IXIC'),\n",
      "            (  'Open', '^IXIC'),\n",
      "            ('Volume', '^IXIC')],\n",
      "           names=['Price', 'Ticker'])\n",
      "Downloaded data for ^DJI:\n",
      "Price              Close          High           Low          Open     Volume\n",
      "Ticker              ^DJI          ^DJI          ^DJI          ^DJI       ^DJI\n",
      "Date                                                                         \n",
      "2011-04-12  12263.580078  12381.190430  12233.000000  12381.190430  137260000\n",
      "2011-04-13  12270.990234  12335.099609  12224.450195  12263.650391  118950000\n",
      "2011-04-14  12285.150391  12305.580078  12163.860352  12270.240234  140670000\n",
      "2011-04-15  12341.830078  12369.269531  12272.580078  12285.450195  234710000\n",
      "2011-04-18  12201.589844  12339.790039  12093.889648  12339.709961  190220000\n",
      "Warning: 'Adj Close' not found for ^DJI. Available columns: MultiIndex([( 'Close', '^DJI'),\n",
      "            (  'High', '^DJI'),\n",
      "            (   'Low', '^DJI'),\n",
      "            (  'Open', '^DJI'),\n",
      "            ('Volume', '^DJI')],\n",
      "           names=['Price', 'Ticker'])\n"
     ]
    },
    {
     "name": "stderr",
     "output_type": "stream",
     "text": [
      "[*********************100%***********************]  1 of 1 completed\n"
     ]
    },
    {
     "name": "stdout",
     "output_type": "stream",
     "text": [
      "Downloaded Gold Data:\n",
      "Price             Close         High          Low         Open Volume\n",
      "Ticker             GC=F         GC=F         GC=F         GC=F   GC=F\n",
      "Date                                                                 \n",
      "2011-04-12  1452.900024  1467.199951  1444.400024  1461.800049    345\n",
      "2011-04-13  1454.900024  1462.000000  1454.000000  1455.000000    197\n",
      "2011-04-14  1471.699951  1476.000000  1452.699951  1456.800049    535\n",
      "2011-04-15  1485.300049  1487.500000  1473.199951  1477.599976    293\n",
      "2011-04-18  1492.300049  1497.300049  1477.500000  1486.300049    650\n",
      "Warning: 'Adj Close' not found in gold data. Available columns: MultiIndex([( 'Close', 'GC=F'),\n",
      "            (  'High', 'GC=F'),\n",
      "            (   'Low', 'GC=F'),\n",
      "            (  'Open', 'GC=F'),\n",
      "            ('Volume', 'GC=F')],\n",
      "           names=['Price', 'Ticker'])\n"
     ]
    },
    {
     "name": "stderr",
     "output_type": "stream",
     "text": [
      "[*********************100%***********************]  1 of 1 completed"
     ]
    },
    {
     "name": "stdout",
     "output_type": "stream",
     "text": [
      "Downloading data for 2011-06-22 (2011-06-07 to 2011-07-07)\n",
      "Downloaded data for ^GSPC:\n",
      "Price             Close         High          Low         Open      Volume\n",
      "Ticker            ^GSPC        ^GSPC        ^GSPC        ^GSPC       ^GSPC\n",
      "Date                                                                      \n",
      "2011-06-07  1284.939941  1296.219971  1284.739990  1286.310059  3846250000\n",
      "2011-06-08  1279.560059  1287.040039  1277.420044  1284.630005  3970810000\n",
      "2011-06-09  1289.000000  1294.540039  1279.630005  1279.630005  3332510000\n",
      "2011-06-10  1270.979980  1288.599976  1268.280029  1288.599976  3846250000\n",
      "2011-06-13  1271.829956  1277.040039  1265.640015  1271.310059  4132520000\n",
      "Warning: 'Adj Close' not found for ^GSPC. Available columns: MultiIndex([( 'Close', '^GSPC'),\n",
      "            (  'High', '^GSPC'),\n",
      "            (   'Low', '^GSPC'),\n",
      "            (  'Open', '^GSPC'),\n",
      "            ('Volume', '^GSPC')],\n",
      "           names=['Price', 'Ticker'])\n"
     ]
    },
    {
     "name": "stderr",
     "output_type": "stream",
     "text": [
      "\n",
      "[*********************100%***********************]  1 of 1 completed\n",
      "[*********************100%***********************]  1 of 1 completed\n"
     ]
    },
    {
     "name": "stdout",
     "output_type": "stream",
     "text": [
      "Downloaded data for ^IXIC:\n",
      "Price             Close         High          Low         Open      Volume\n",
      "Ticker            ^IXIC        ^IXIC        ^IXIC        ^IXIC       ^IXIC\n",
      "Date                                                                      \n",
      "2011-06-07  2701.560059  2723.320068  2701.169922  2712.790039  1847300000\n",
      "2011-06-08  2675.379883  2698.080078  2671.090088  2693.689941  2089320000\n",
      "2011-06-09  2684.870117  2696.689941  2670.020020  2678.520020  1704960000\n",
      "2011-06-10  2643.729980  2676.719971  2641.639893  2675.100098  1972000000\n",
      "2011-06-13  2639.689941  2657.770020  2629.610107  2649.300049  1847050000\n",
      "Warning: 'Adj Close' not found for ^IXIC. Available columns: MultiIndex([( 'Close', '^IXIC'),\n",
      "            (  'High', '^IXIC'),\n",
      "            (   'Low', '^IXIC'),\n",
      "            (  'Open', '^IXIC'),\n",
      "            ('Volume', '^IXIC')],\n",
      "           names=['Price', 'Ticker'])\n",
      "Downloaded data for ^DJI:\n",
      "Price              Close          High           Low          Open     Volume\n",
      "Ticker              ^DJI          ^DJI          ^DJI          ^DJI       ^DJI\n",
      "Date                                                                         \n",
      "2011-06-07  12070.809570  12178.889648  12066.610352  12090.179688  162610000\n",
      "2011-06-08  12048.940430  12098.360352  12024.259766  12066.269531  156870000\n",
      "2011-06-09  12124.360352  12183.120117  12049.089844  12049.469727  149700000\n",
      "2011-06-10  11951.910156  12124.849609  11937.419922  12124.169922  178310000\n",
      "2011-06-13  11952.969727  12011.660156  11917.780273  11945.330078  153370000\n",
      "Warning: 'Adj Close' not found for ^DJI. Available columns: MultiIndex([( 'Close', '^DJI'),\n",
      "            (  'High', '^DJI'),\n",
      "            (   'Low', '^DJI'),\n",
      "            (  'Open', '^DJI'),\n",
      "            ('Volume', '^DJI')],\n",
      "           names=['Price', 'Ticker'])\n"
     ]
    },
    {
     "name": "stderr",
     "output_type": "stream",
     "text": [
      "[*********************100%***********************]  1 of 1 completed\n"
     ]
    },
    {
     "name": "stdout",
     "output_type": "stream",
     "text": [
      "Downloaded Gold Data:\n",
      "Price             Close         High          Low         Open Volume\n",
      "Ticker             GC=F         GC=F         GC=F         GC=F   GC=F\n",
      "Date                                                                 \n",
      "2011-06-07  1543.300049  1549.900024  1537.199951  1545.000000   2530\n",
      "2011-06-08  1538.099976  1544.199951  1531.300049  1544.199951    489\n",
      "2011-06-09  1542.099976  1548.800049  1534.400024  1536.099976    288\n",
      "2011-06-10  1528.599976  1543.900024  1526.400024  1543.699951    632\n",
      "2011-06-13  1515.000000  1533.000000  1511.300049  1528.099976    851\n",
      "Warning: 'Adj Close' not found in gold data. Available columns: MultiIndex([( 'Close', 'GC=F'),\n",
      "            (  'High', 'GC=F'),\n",
      "            (   'Low', 'GC=F'),\n",
      "            (  'Open', 'GC=F'),\n",
      "            ('Volume', 'GC=F')],\n",
      "           names=['Price', 'Ticker'])\n"
     ]
    },
    {
     "name": "stderr",
     "output_type": "stream",
     "text": [
      "[*********************100%***********************]  1 of 1 completed"
     ]
    },
    {
     "name": "stdout",
     "output_type": "stream",
     "text": [
      "Downloading data for 2011-08-09 (2011-07-25 to 2011-08-24)\n",
      "Downloaded data for ^GSPC:\n",
      "Price             Close         High          Low         Open      Volume\n",
      "Ticker            ^GSPC        ^GSPC        ^GSPC        ^GSPC       ^GSPC\n",
      "Date                                                                      \n",
      "2011-07-25  1337.430054  1344.319946  1331.089966  1344.319946  3536890000\n",
      "2011-07-26  1331.939941  1338.510010  1329.589966  1337.390015  4007050000\n",
      "2011-07-27  1304.890015  1331.910034  1303.489990  1331.910034  3479040000\n",
      "2011-07-28  1300.670044  1316.319946  1299.160034  1304.839966  4951800000\n",
      "2011-07-29  1292.280029  1304.160034  1282.859985  1300.119995  5061190000\n",
      "Warning: 'Adj Close' not found for ^GSPC. Available columns: MultiIndex([( 'Close', '^GSPC'),\n",
      "            (  'High', '^GSPC'),\n",
      "            (   'Low', '^GSPC'),\n",
      "            (  'Open', '^GSPC'),\n",
      "            ('Volume', '^GSPC')],\n",
      "           names=['Price', 'Ticker'])\n"
     ]
    },
    {
     "name": "stderr",
     "output_type": "stream",
     "text": [
      "\n",
      "[*********************100%***********************]  1 of 1 completed\n",
      "[*********************100%***********************]  1 of 1 completed\n"
     ]
    },
    {
     "name": "stdout",
     "output_type": "stream",
     "text": [
      "Downloaded data for ^IXIC:\n",
      "Price             Close         High          Low         Open      Volume\n",
      "Ticker            ^IXIC        ^IXIC        ^IXIC        ^IXIC       ^IXIC\n",
      "Date                                                                      \n",
      "2011-07-25  2842.800049  2859.399902  2828.909912  2832.110107  1613240000\n",
      "2011-07-26  2839.959961  2851.719971  2832.270020  2842.739990  1739980000\n",
      "2011-07-27  2764.790039  2823.860107  2761.000000  2823.620117  2367470000\n",
      "2011-07-28  2766.250000  2800.110107  2757.850098  2765.610107  2067020000\n",
      "2011-07-29  2756.379883  2780.580078  2724.989990  2736.669922  2301210000\n",
      "Warning: 'Adj Close' not found for ^IXIC. Available columns: MultiIndex([( 'Close', '^IXIC'),\n",
      "            (  'High', '^IXIC'),\n",
      "            (   'Low', '^IXIC'),\n",
      "            (  'Open', '^IXIC'),\n",
      "            ('Volume', '^IXIC')],\n",
      "           names=['Price', 'Ticker'])\n",
      "Downloaded data for ^DJI:\n",
      "Price              Close          High           Low          Open     Volume\n",
      "Ticker              ^DJI          ^DJI          ^DJI          ^DJI       ^DJI\n",
      "Date                                                                         \n",
      "2011-07-25  12592.799805  12679.950195  12536.190430  12679.719727  128760000\n",
      "2011-07-26  12501.299805  12593.400391  12489.040039  12592.120117  145140000\n",
      "2011-07-27  12302.549805  12498.650391  12289.690430  12498.419922  182770000\n",
      "2011-07-28  12240.110352  12384.900391  12226.830078  12301.719727  148710000\n",
      "2011-07-29  12143.240234  12243.070312  12083.450195  12239.360352  230910000\n",
      "Warning: 'Adj Close' not found for ^DJI. Available columns: MultiIndex([( 'Close', '^DJI'),\n",
      "            (  'High', '^DJI'),\n",
      "            (   'Low', '^DJI'),\n",
      "            (  'Open', '^DJI'),\n",
      "            ('Volume', '^DJI')],\n",
      "           names=['Price', 'Ticker'])\n",
      "Error downloading USD/EUR: Thank you for using Alpha Vantage! Our standard API rate limit is 25 requests per day. Please subscribe to any of the premium plans at https://www.alphavantage.co/premium/ to instantly remove all daily rate limits.\n",
      "Error downloading USD/JPY: Thank you for using Alpha Vantage! Our standard API rate limit is 25 requests per day. Please subscribe to any of the premium plans at https://www.alphavantage.co/premium/ to instantly remove all daily rate limits.\n"
     ]
    },
    {
     "name": "stderr",
     "output_type": "stream",
     "text": [
      "[*********************100%***********************]  1 of 1 completed\n"
     ]
    },
    {
     "name": "stdout",
     "output_type": "stream",
     "text": [
      "Downloaded Gold Data:\n",
      "Price             Close         High          Low         Open  Volume\n",
      "Ticker             GC=F         GC=F         GC=F         GC=F    GC=F\n",
      "Date                                                                  \n",
      "2011-07-25  1612.000000  1619.400024  1610.000000  1610.000000      67\n",
      "2011-07-26  1616.599976  1618.500000  1609.800049  1609.800049      28\n",
      "2011-07-27  1615.000000  1619.699951  1617.000000  1619.699951  232220\n",
      "2011-07-28  1613.400024  1620.599976  1602.800049  1614.199951   70263\n",
      "2011-07-29  1628.300049  1634.900024  1610.599976  1617.099976    6761\n",
      "Warning: 'Adj Close' not found in gold data. Available columns: MultiIndex([( 'Close', 'GC=F'),\n",
      "            (  'High', 'GC=F'),\n",
      "            (   'Low', 'GC=F'),\n",
      "            (  'Open', 'GC=F'),\n",
      "            ('Volume', 'GC=F')],\n",
      "           names=['Price', 'Ticker'])\n"
     ]
    },
    {
     "name": "stderr",
     "output_type": "stream",
     "text": [
      "[*********************100%***********************]  1 of 1 completed"
     ]
    },
    {
     "name": "stdout",
     "output_type": "stream",
     "text": [
      "Downloading data for 2011-09-21 (2011-09-06 to 2011-10-06)\n"
     ]
    },
    {
     "name": "stderr",
     "output_type": "stream",
     "text": [
      "\n",
      "[*********************100%***********************]  1 of 1 completed\n"
     ]
    },
    {
     "name": "stdout",
     "output_type": "stream",
     "text": [
      "Downloaded data for ^GSPC:\n",
      "Price             Close         High          Low         Open      Volume\n",
      "Ticker            ^GSPC        ^GSPC        ^GSPC        ^GSPC       ^GSPC\n",
      "Date                                                                      \n",
      "2011-09-06  1165.239990  1173.969971  1140.130005  1173.969971  5103980000\n",
      "2011-09-07  1198.619995  1198.619995  1165.849976  1165.849976  4441040000\n",
      "2011-09-08  1185.900024  1204.400024  1183.339966  1197.979980  4465170000\n",
      "2011-09-09  1154.229980  1185.369995  1148.369995  1185.369995  4586370000\n",
      "2011-09-12  1162.270020  1162.520020  1136.069946  1153.500000  5168550000\n",
      "Warning: 'Adj Close' not found for ^GSPC. Available columns: MultiIndex([( 'Close', '^GSPC'),\n",
      "            (  'High', '^GSPC'),\n",
      "            (   'Low', '^GSPC'),\n",
      "            (  'Open', '^GSPC'),\n",
      "            ('Volume', '^GSPC')],\n",
      "           names=['Price', 'Ticker'])\n",
      "Downloaded data for ^IXIC:\n",
      "Price             Close         High          Low         Open      Volume\n",
      "Ticker            ^IXIC        ^IXIC        ^IXIC        ^IXIC       ^IXIC\n",
      "Date                                                                      \n",
      "2011-09-06  2473.830078  2477.770020  2414.310059  2417.610107  1737170000\n",
      "2011-09-07  2548.939941  2548.939941  2507.520020  2511.500000  1791480000\n",
      "2011-09-08  2529.139893  2568.449951  2520.800049  2533.810059  1979990000\n",
      "2011-09-09  2467.989990  2518.399902  2452.929932  2508.120117  2054190000\n",
      "2011-09-12  2495.090088  2495.360107  2438.399902  2442.860107  1980350000\n",
      "Warning: 'Adj Close' not found for ^IXIC. Available columns: MultiIndex([( 'Close', '^IXIC'),\n",
      "            (  'High', '^IXIC'),\n",
      "            (   'Low', '^IXIC'),\n",
      "            (  'Open', '^IXIC'),\n",
      "            ('Volume', '^IXIC')],\n",
      "           names=['Price', 'Ticker'])\n"
     ]
    },
    {
     "name": "stderr",
     "output_type": "stream",
     "text": [
      "[*********************100%***********************]  1 of 1 completed\n"
     ]
    },
    {
     "name": "stdout",
     "output_type": "stream",
     "text": [
      "Downloaded data for ^DJI:\n",
      "Price              Close          High           Low          Open     Volume\n",
      "Ticker              ^DJI          ^DJI          ^DJI          ^DJI       ^DJI\n",
      "Date                                                                         \n",
      "2011-09-06  11139.299805  11237.459961  10932.530273  11237.309570  217420000\n",
      "2011-09-07  11414.860352  11414.860352  11137.629883  11137.629883  166320000\n",
      "2011-09-08  11295.809570  11477.299805  11283.740234  11414.860352  173040000\n",
      "2011-09-09  10992.129883  11294.830078  10935.639648  11294.599609  228170000\n",
      "2011-09-12  11061.120117  11062.030273  10824.759766  10990.009766  197160000\n",
      "Warning: 'Adj Close' not found for ^DJI. Available columns: MultiIndex([( 'Close', '^DJI'),\n",
      "            (  'High', '^DJI'),\n",
      "            (   'Low', '^DJI'),\n",
      "            (  'Open', '^DJI'),\n",
      "            ('Volume', '^DJI')],\n",
      "           names=['Price', 'Ticker'])\n",
      "Error downloading USD/EUR: Thank you for using Alpha Vantage! Our standard API rate limit is 25 requests per day. Please subscribe to any of the premium plans at https://www.alphavantage.co/premium/ to instantly remove all daily rate limits.\n",
      "Error downloading USD/JPY: Thank you for using Alpha Vantage! Our standard API rate limit is 25 requests per day. Please subscribe to any of the premium plans at https://www.alphavantage.co/premium/ to instantly remove all daily rate limits.\n"
     ]
    },
    {
     "name": "stderr",
     "output_type": "stream",
     "text": [
      "[*********************100%***********************]  1 of 1 completed\n"
     ]
    },
    {
     "name": "stdout",
     "output_type": "stream",
     "text": [
      "Downloaded Gold Data:\n",
      "Price             Close         High          Low         Open Volume\n",
      "Ticker             GC=F         GC=F         GC=F         GC=F   GC=F\n",
      "Date                                                                 \n",
      "2011-09-06  1869.900024  1911.599976  1864.000000  1886.300049    536\n",
      "2011-09-07  1814.199951  1873.699951  1792.800049  1868.900024    470\n",
      "2011-09-08  1854.400024  1870.000000  1835.000000  1839.300049    142\n",
      "2011-09-09  1856.400024  1881.300049  1830.000000  1858.099976    188\n",
      "2011-09-12  1809.900024  1852.400024  1806.000000  1852.400024    245\n",
      "Warning: 'Adj Close' not found in gold data. Available columns: MultiIndex([( 'Close', 'GC=F'),\n",
      "            (  'High', 'GC=F'),\n",
      "            (   'Low', 'GC=F'),\n",
      "            (  'Open', 'GC=F'),\n",
      "            ('Volume', 'GC=F')],\n",
      "           names=['Price', 'Ticker'])\n"
     ]
    },
    {
     "name": "stderr",
     "output_type": "stream",
     "text": [
      "[*********************100%***********************]  1 of 1 completed"
     ]
    },
    {
     "name": "stdout",
     "output_type": "stream",
     "text": [
      "Downloading data for 2011-11-02 (2011-10-18 to 2011-11-17)\n",
      "Downloaded data for ^GSPC:\n",
      "Price             Close         High          Low         Open      Volume\n",
      "Ticker            ^GSPC        ^GSPC        ^GSPC        ^GSPC       ^GSPC\n",
      "Date                                                                      \n",
      "2011-10-18  1225.380005  1233.099976  1191.479980  1200.750000  4840170000\n",
      "2011-10-19  1209.880005  1229.640015  1206.310059  1223.459961  4846390000\n",
      "2011-10-20  1215.390015  1219.530029  1197.339966  1209.920044  4870290000\n",
      "2011-10-21  1238.250000  1239.030029  1215.390015  1215.390015  4980770000\n",
      "2011-10-24  1254.189941  1256.550049  1238.719971  1238.719971  4309380000\n",
      "Warning: 'Adj Close' not found for ^GSPC. Available columns: MultiIndex([( 'Close', '^GSPC'),\n",
      "            (  'High', '^GSPC'),\n",
      "            (   'Low', '^GSPC'),\n",
      "            (  'Open', '^GSPC'),\n",
      "            ('Volume', '^GSPC')],\n",
      "           names=['Price', 'Ticker'])\n"
     ]
    },
    {
     "name": "stderr",
     "output_type": "stream",
     "text": [
      "\n",
      "[*********************100%***********************]  1 of 1 completed\n",
      "[*********************100%***********************]  1 of 1 completed\n"
     ]
    },
    {
     "name": "stdout",
     "output_type": "stream",
     "text": [
      "Downloaded data for ^IXIC:\n",
      "Price             Close         High          Low         Open      Volume\n",
      "Ticker            ^IXIC        ^IXIC        ^IXIC        ^IXIC       ^IXIC\n",
      "Date                                                                      \n",
      "2011-10-18  2657.429932  2667.570068  2586.310059  2614.050049  1931690000\n",
      "2011-10-19  2604.040039  2651.879883  2597.770020  2642.889893  1980180000\n",
      "2011-10-20  2598.620117  2606.389893  2557.169922  2605.419922  2040180000\n",
      "2011-10-21  2637.459961  2646.919922  2611.110107  2630.300049  2019950000\n",
      "2011-10-24  2699.439941  2703.070068  2643.939941  2644.830078  1884450000\n",
      "Warning: 'Adj Close' not found for ^IXIC. Available columns: MultiIndex([( 'Close', '^IXIC'),\n",
      "            (  'High', '^IXIC'),\n",
      "            (   'Low', '^IXIC'),\n",
      "            (  'Open', '^IXIC'),\n",
      "            ('Volume', '^IXIC')],\n",
      "           names=['Price', 'Ticker'])\n",
      "Downloaded data for ^DJI:\n",
      "Price              Close          High           Low          Open     Volume\n",
      "Ticker              ^DJI          ^DJI          ^DJI          ^DJI       ^DJI\n",
      "Date                                                                         \n",
      "2011-10-18  11577.049805  11652.740234  11296.120117  11396.169922  201410000\n",
      "2011-10-19  11504.620117  11633.700195  11469.169922  11577.540039  169580000\n",
      "2011-10-20  11541.780273  11581.250000  11391.139648  11502.129883  166100000\n",
      "2011-10-21  11808.790039  11812.459961  11542.839844  11543.219727  264000000\n",
      "2011-10-24  11913.620117  11940.750000  11805.769531  11807.959961  161870000\n",
      "Warning: 'Adj Close' not found for ^DJI. Available columns: MultiIndex([( 'Close', '^DJI'),\n",
      "            (  'High', '^DJI'),\n",
      "            (   'Low', '^DJI'),\n",
      "            (  'Open', '^DJI'),\n",
      "            ('Volume', '^DJI')],\n",
      "           names=['Price', 'Ticker'])\n",
      "Error downloading USD/EUR: Thank you for using Alpha Vantage! Our standard API rate limit is 25 requests per day. Please subscribe to any of the premium plans at https://www.alphavantage.co/premium/ to instantly remove all daily rate limits.\n",
      "Error downloading USD/JPY: Thank you for using Alpha Vantage! Our standard API rate limit is 25 requests per day. Please subscribe to any of the premium plans at https://www.alphavantage.co/premium/ to instantly remove all daily rate limits.\n"
     ]
    },
    {
     "name": "stderr",
     "output_type": "stream",
     "text": [
      "[*********************100%***********************]  1 of 1 completed\n"
     ]
    },
    {
     "name": "stdout",
     "output_type": "stream",
     "text": [
      "Downloaded Gold Data:\n",
      "Price             Close         High          Low         Open Volume\n",
      "Ticker             GC=F         GC=F         GC=F         GC=F   GC=F\n",
      "Date                                                                 \n",
      "2011-10-18  1651.699951  1666.000000  1627.500000  1666.000000     85\n",
      "2011-10-19  1646.000000  1659.300049  1641.300049  1659.300049     22\n",
      "2011-10-20  1611.900024  1643.199951  1608.699951  1643.199951     92\n",
      "2011-10-21  1635.099976  1647.400024  1626.099976  1626.099976     32\n",
      "2011-10-24  1651.500000  1657.800049  1646.199951  1646.199951    313\n",
      "Warning: 'Adj Close' not found in gold data. Available columns: MultiIndex([( 'Close', 'GC=F'),\n",
      "            (  'High', 'GC=F'),\n",
      "            (   'Low', 'GC=F'),\n",
      "            (  'Open', 'GC=F'),\n",
      "            ('Volume', 'GC=F')],\n",
      "           names=['Price', 'Ticker'])\n"
     ]
    },
    {
     "name": "stderr",
     "output_type": "stream",
     "text": [
      "[*********************100%***********************]  1 of 1 completed"
     ]
    },
    {
     "name": "stdout",
     "output_type": "stream",
     "text": [
      "Downloading data for 2011-12-13 (2011-11-28 to 2011-12-28)\n",
      "Downloaded data for ^GSPC:\n",
      "Price             Close         High          Low         Open      Volume\n",
      "Ticker            ^GSPC        ^GSPC        ^GSPC        ^GSPC       ^GSPC\n",
      "Date                                                                      \n",
      "2011-11-28  1192.550049  1197.349976  1158.670044  1158.670044  3920750000\n",
      "2011-11-29  1195.189941  1203.670044  1191.800049  1192.560059  3992650000\n",
      "2011-11-30  1246.959961  1247.109985  1196.719971  1196.719971  5801910000\n",
      "2011-12-01  1244.579956  1251.089966  1239.729980  1246.910034  3818680000\n",
      "2011-12-02  1244.280029  1260.079956  1243.349976  1246.030029  4144310000\n",
      "Warning: 'Adj Close' not found for ^GSPC. Available columns: MultiIndex([( 'Close', '^GSPC'),\n",
      "            (  'High', '^GSPC'),\n",
      "            (   'Low', '^GSPC'),\n",
      "            (  'Open', '^GSPC'),\n",
      "            ('Volume', '^GSPC')],\n",
      "           names=['Price', 'Ticker'])\n"
     ]
    },
    {
     "name": "stderr",
     "output_type": "stream",
     "text": [
      "\n",
      "[*********************100%***********************]  1 of 1 completed\n",
      "[*********************100%***********************]  1 of 1 completed\n"
     ]
    },
    {
     "name": "stdout",
     "output_type": "stream",
     "text": [
      "Downloaded data for ^IXIC:\n",
      "Price             Close         High          Low         Open      Volume\n",
      "Ticker            ^IXIC        ^IXIC        ^IXIC        ^IXIC       ^IXIC\n",
      "Date                                                                      \n",
      "2011-11-28  2527.340088  2531.320068  2507.719971  2509.629883  1626060000\n",
      "2011-11-29  2515.510010  2542.459961  2508.270020  2529.110107  1623550000\n",
      "2011-11-30  2620.340088  2620.340088  2582.489990  2586.389893  2440960000\n",
      "2011-12-01  2626.199951  2636.080078  2611.479980  2615.669922  1826860000\n",
      "2011-12-02  2626.929932  2659.229980  2625.070068  2650.800049  1662730000\n",
      "Warning: 'Adj Close' not found for ^IXIC. Available columns: MultiIndex([( 'Close', '^IXIC'),\n",
      "            (  'High', '^IXIC'),\n",
      "            (   'Low', '^IXIC'),\n",
      "            (  'Open', '^IXIC'),\n",
      "            ('Volume', '^IXIC')],\n",
      "           names=['Price', 'Ticker'])\n",
      "Downloaded data for ^DJI:\n",
      "Price              Close          High           Low          Open     Volume\n",
      "Ticker              ^DJI          ^DJI          ^DJI          ^DJI       ^DJI\n",
      "Date                                                                         \n",
      "2011-11-28  11523.009766  11562.099609  11232.160156  11232.469727  204950000\n",
      "2011-11-29  11555.629883  11624.009766  11517.040039  11523.009766  156950000\n",
      "2011-11-30  12045.679688  12045.679688  11559.269531  11559.269531  286790000\n",
      "2011-12-01  12020.030273  12062.639648  11974.620117  12046.209961  143700000\n",
      "2011-12-02  12019.419922  12146.679688  12007.120117  12022.370117  150110000\n",
      "Warning: 'Adj Close' not found for ^DJI. Available columns: MultiIndex([( 'Close', '^DJI'),\n",
      "            (  'High', '^DJI'),\n",
      "            (   'Low', '^DJI'),\n",
      "            (  'Open', '^DJI'),\n",
      "            ('Volume', '^DJI')],\n",
      "           names=['Price', 'Ticker'])\n",
      "Error downloading USD/EUR: Thank you for using Alpha Vantage! Our standard API rate limit is 25 requests per day. Please subscribe to any of the premium plans at https://www.alphavantage.co/premium/ to instantly remove all daily rate limits.\n",
      "Error downloading USD/JPY: Thank you for using Alpha Vantage! Our standard API rate limit is 25 requests per day. Please subscribe to any of the premium plans at https://www.alphavantage.co/premium/ to instantly remove all daily rate limits.\n"
     ]
    },
    {
     "name": "stderr",
     "output_type": "stream",
     "text": [
      "[*********************100%***********************]  1 of 1 completed\n"
     ]
    },
    {
     "name": "stdout",
     "output_type": "stream",
     "text": [
      "Downloaded Gold Data:\n",
      "Price             Close         High          Low         Open  Volume\n",
      "Ticker             GC=F         GC=F         GC=F         GC=F    GC=F\n",
      "Date                                                                  \n",
      "2011-11-28  1710.800049  1710.800049  1710.800049  1710.800049  175525\n",
      "2011-11-29  1713.400024  1718.400024  1704.000000  1711.300049   64786\n",
      "2011-11-30  1745.500000  1749.199951  1699.900024  1714.000000   15463\n",
      "2011-12-01  1735.300049  1753.300049  1734.500000  1747.000000    1350\n",
      "2011-12-02  1747.000000  1762.900024  1741.599976  1744.800049    1067\n",
      "Warning: 'Adj Close' not found in gold data. Available columns: MultiIndex([( 'Close', 'GC=F'),\n",
      "            (  'High', 'GC=F'),\n",
      "            (   'Low', 'GC=F'),\n",
      "            (  'Open', 'GC=F'),\n",
      "            ('Volume', 'GC=F')],\n",
      "           names=['Price', 'Ticker'])\n"
     ]
    },
    {
     "name": "stderr",
     "output_type": "stream",
     "text": [
      "[*********************100%***********************]  1 of 1 completed"
     ]
    },
    {
     "name": "stdout",
     "output_type": "stream",
     "text": [
      "Downloading data for 2012-01-25 (2012-01-10 to 2012-02-09)\n",
      "Downloaded data for ^GSPC:\n",
      "Price             Close         High          Low         Open      Volume\n",
      "Ticker            ^GSPC        ^GSPC        ^GSPC        ^GSPC       ^GSPC\n",
      "Date                                                                      \n",
      "2012-01-10  1292.079956  1296.459961  1280.770020  1280.770020  4221960000\n",
      "2012-01-11  1292.479980  1293.800049  1285.410034  1292.020020  3968120000\n",
      "2012-01-12  1295.500000  1296.819946  1285.770020  1292.479980  4019890000\n",
      "2012-01-13  1289.089966  1294.819946  1277.579956  1294.819946  3692370000\n",
      "2012-01-17  1293.670044  1303.000000  1290.219971  1290.219971  4010490000\n",
      "Warning: 'Adj Close' not found for ^GSPC. Available columns: MultiIndex([( 'Close', '^GSPC'),\n",
      "            (  'High', '^GSPC'),\n",
      "            (   'Low', '^GSPC'),\n",
      "            (  'Open', '^GSPC'),\n",
      "            ('Volume', '^GSPC')],\n",
      "           names=['Price', 'Ticker'])\n"
     ]
    },
    {
     "name": "stderr",
     "output_type": "stream",
     "text": [
      "\n",
      "[*********************100%***********************]  1 of 1 completed\n",
      "[*********************100%***********************]  1 of 1 completed\n"
     ]
    },
    {
     "name": "stdout",
     "output_type": "stream",
     "text": [
      "Downloaded data for ^IXIC:\n",
      "Price             Close         High          Low         Open      Volume\n",
      "Ticker            ^IXIC        ^IXIC        ^IXIC        ^IXIC       ^IXIC\n",
      "Date                                                                      \n",
      "2012-01-10  2702.500000  2712.500000  2694.330078  2704.419922  1809500000\n",
      "2012-01-11  2710.760010  2714.290039  2690.729980  2695.770020  1699660000\n",
      "2012-01-12  2724.699951  2726.429932  2697.320068  2716.870117  1669550000\n",
      "2012-01-13  2710.669922  2712.929932  2689.580078  2707.409912  1655960000\n",
      "2012-01-17  2728.080078  2742.729980  2721.030029  2736.340088  1664210000\n",
      "Warning: 'Adj Close' not found for ^IXIC. Available columns: MultiIndex([( 'Close', '^IXIC'),\n",
      "            (  'High', '^IXIC'),\n",
      "            (   'Low', '^IXIC'),\n",
      "            (  'Open', '^IXIC'),\n",
      "            ('Volume', '^IXIC')],\n",
      "           names=['Price', 'Ticker'])\n",
      "Downloaded data for ^DJI:\n",
      "Price              Close          High           Low          Open     Volume\n",
      "Ticker              ^DJI          ^DJI          ^DJI          ^DJI       ^DJI\n",
      "Date                                                                         \n",
      "2012-01-10  12462.469727  12514.690430  12394.509766  12394.509766  141230000\n",
      "2012-01-11  12449.450195  12462.580078  12399.009766  12459.519531  130260000\n",
      "2012-01-12  12471.019531  12483.700195  12385.080078  12449.910156  128230000\n",
      "2012-01-13  12422.059570  12470.120117  12311.790039  12469.959961  161470000\n",
      "2012-01-17  12482.070312  12573.650391  12423.120117  12423.120117  148670000\n",
      "Warning: 'Adj Close' not found for ^DJI. Available columns: MultiIndex([( 'Close', '^DJI'),\n",
      "            (  'High', '^DJI'),\n",
      "            (   'Low', '^DJI'),\n",
      "            (  'Open', '^DJI'),\n",
      "            ('Volume', '^DJI')],\n",
      "           names=['Price', 'Ticker'])\n",
      "Error downloading USD/EUR: Thank you for using Alpha Vantage! Our standard API rate limit is 25 requests per day. Please subscribe to any of the premium plans at https://www.alphavantage.co/premium/ to instantly remove all daily rate limits.\n",
      "Error downloading USD/JPY: Thank you for using Alpha Vantage! Our standard API rate limit is 25 requests per day. Please subscribe to any of the premium plans at https://www.alphavantage.co/premium/ to instantly remove all daily rate limits.\n"
     ]
    },
    {
     "name": "stderr",
     "output_type": "stream",
     "text": [
      "[*********************100%***********************]  1 of 1 completed\n"
     ]
    },
    {
     "name": "stdout",
     "output_type": "stream",
     "text": [
      "Downloaded Gold Data:\n",
      "Price             Close         High          Low         Open Volume\n",
      "Ticker             GC=F         GC=F         GC=F         GC=F   GC=F\n",
      "Date                                                                 \n",
      "2012-01-10  1631.000000  1638.000000  1619.900024  1619.900024     47\n",
      "2012-01-11  1639.199951  1645.400024  1633.800049  1634.800049     65\n",
      "2012-01-12  1647.300049  1656.099976  1645.199951  1645.199951     84\n",
      "2012-01-13  1630.400024  1643.400024  1630.400024  1638.900024    368\n",
      "2012-01-17  1655.199951  1657.800049  1642.099976  1643.699951     16\n",
      "Warning: 'Adj Close' not found in gold data. Available columns: MultiIndex([( 'Close', 'GC=F'),\n",
      "            (  'High', 'GC=F'),\n",
      "            (   'Low', 'GC=F'),\n",
      "            (  'Open', 'GC=F'),\n",
      "            ('Volume', 'GC=F')],\n",
      "           names=['Price', 'Ticker'])\n"
     ]
    },
    {
     "name": "stderr",
     "output_type": "stream",
     "text": [
      "[*********************100%***********************]  1 of 1 completed"
     ]
    },
    {
     "name": "stdout",
     "output_type": "stream",
     "text": [
      "Downloading data for 2012-03-13 (2012-02-27 to 2012-03-28)\n",
      "Downloaded data for ^GSPC:\n",
      "Price             Close         High          Low         Open      Volume\n",
      "Ticker            ^GSPC        ^GSPC        ^GSPC        ^GSPC       ^GSPC\n",
      "Date                                                                      \n",
      "2012-02-27  1367.589966  1371.939941  1354.920044  1365.199951  3648890000\n",
      "2012-02-28  1372.180054  1373.089966  1365.969971  1367.560059  3579120000\n",
      "2012-02-29  1365.680054  1378.040039  1363.810059  1372.199951  4482370000\n",
      "2012-03-01  1374.089966  1376.170044  1365.900024  1365.900024  3919240000\n",
      "2012-03-02  1369.630005  1374.530029  1366.420044  1374.089966  3283490000\n",
      "Warning: 'Adj Close' not found for ^GSPC. Available columns: MultiIndex([( 'Close', '^GSPC'),\n",
      "            (  'High', '^GSPC'),\n",
      "            (   'Low', '^GSPC'),\n",
      "            (  'Open', '^GSPC'),\n",
      "            ('Volume', '^GSPC')],\n",
      "           names=['Price', 'Ticker'])\n"
     ]
    },
    {
     "name": "stderr",
     "output_type": "stream",
     "text": [
      "\n",
      "[*********************100%***********************]  1 of 1 completed\n",
      "[*********************100%***********************]  1 of 1 completed\n"
     ]
    },
    {
     "name": "stdout",
     "output_type": "stream",
     "text": [
      "Downloaded data for ^IXIC:\n",
      "Price             Close         High          Low         Open      Volume\n",
      "Ticker            ^IXIC        ^IXIC        ^IXIC        ^IXIC       ^IXIC\n",
      "Date                                                                      \n",
      "2012-02-27  2966.159912  2976.080078  2933.300049  2945.870117  1763650000\n",
      "2012-02-28  2986.760010  2988.590088  2966.610107  2969.250000  1812490000\n",
      "2012-02-29  2966.889893  3000.110107  2961.770020  2991.669922  2170190000\n",
      "2012-03-01  2988.969971  2996.370117  2974.590088  2979.110107  1903690000\n",
      "2012-03-02  2976.189941  2995.969971  2968.000000  2986.080078  1755130000\n",
      "Warning: 'Adj Close' not found for ^IXIC. Available columns: MultiIndex([( 'Close', '^IXIC'),\n",
      "            (  'High', '^IXIC'),\n",
      "            (   'Low', '^IXIC'),\n",
      "            (  'Open', '^IXIC'),\n",
      "            ('Volume', '^IXIC')],\n",
      "           names=['Price', 'Ticker'])\n",
      "Downloaded data for ^DJI:\n",
      "Price              Close          High           Low          Open     Volume\n",
      "Ticker              ^DJI          ^DJI          ^DJI          ^DJI       ^DJI\n",
      "Date                                                                         \n",
      "2012-02-27  12981.509766  13027.519531  12882.589844  12981.129883  143530000\n",
      "2012-02-28  13005.120117  13021.509766  12952.820312  12976.740234  114490000\n",
      "2012-02-29  12952.070312  13055.750000  12929.660156  13005.419922  182460000\n",
      "2012-03-01  12980.299805  13032.669922  12943.059570  12952.290039  139670000\n",
      "2012-03-02  12977.570312  12997.509766  12927.769531  12980.750000   93900000\n",
      "Warning: 'Adj Close' not found for ^DJI. Available columns: MultiIndex([( 'Close', '^DJI'),\n",
      "            (  'High', '^DJI'),\n",
      "            (   'Low', '^DJI'),\n",
      "            (  'Open', '^DJI'),\n",
      "            ('Volume', '^DJI')],\n",
      "           names=['Price', 'Ticker'])\n",
      "Error downloading USD/EUR: Thank you for using Alpha Vantage! Our standard API rate limit is 25 requests per day. Please subscribe to any of the premium plans at https://www.alphavantage.co/premium/ to instantly remove all daily rate limits.\n",
      "Error downloading USD/JPY: Thank you for using Alpha Vantage! Our standard API rate limit is 25 requests per day. Please subscribe to any of the premium plans at https://www.alphavantage.co/premium/ to instantly remove all daily rate limits.\n"
     ]
    },
    {
     "name": "stderr",
     "output_type": "stream",
     "text": [
      "[*********************100%***********************]  1 of 1 completed\n"
     ]
    },
    {
     "name": "stdout",
     "output_type": "stream",
     "text": [
      "Downloaded Gold Data:\n",
      "Price             Close         High          Low         Open Volume\n",
      "Ticker             GC=F         GC=F         GC=F         GC=F   GC=F\n",
      "Date                                                                 \n",
      "2012-02-27  1773.599976  1775.599976  1768.099976  1773.599976    841\n",
      "2012-02-28  1787.000000  1789.400024  1767.900024  1767.900024    306\n",
      "2012-02-29  1709.900024  1790.400024  1669.000000  1789.900024    359\n",
      "2012-03-01  1721.099976  1724.599976  1698.599976  1698.599976    214\n",
      "2012-03-02  1708.800049  1723.000000  1705.199951  1723.000000    135\n",
      "Warning: 'Adj Close' not found in gold data. Available columns: MultiIndex([( 'Close', 'GC=F'),\n",
      "            (  'High', 'GC=F'),\n",
      "            (   'Low', 'GC=F'),\n",
      "            (  'Open', 'GC=F'),\n",
      "            ('Volume', 'GC=F')],\n",
      "           names=['Price', 'Ticker'])\n"
     ]
    },
    {
     "name": "stderr",
     "output_type": "stream",
     "text": [
      "[*********************100%***********************]  1 of 1 completed"
     ]
    },
    {
     "name": "stdout",
     "output_type": "stream",
     "text": [
      "Downloading data for 2012-04-25 (2012-04-10 to 2012-05-10)\n",
      "Downloaded data for ^GSPC:\n",
      "Price             Close         High          Low         Open      Volume\n",
      "Ticker            ^GSPC        ^GSPC        ^GSPC        ^GSPC       ^GSPC\n",
      "Date                                                                      \n",
      "2012-04-10  1358.589966  1383.010010  1357.380005  1382.180054  4631730000\n",
      "2012-04-11  1368.709961  1374.709961  1358.979980  1358.979980  3743040000\n",
      "2012-04-12  1387.569946  1388.130005  1368.770020  1368.770020  3618280000\n",
      "2012-04-13  1370.260010  1387.609985  1369.849976  1387.609985  3631160000\n",
      "2012-04-16  1369.569946  1379.660034  1365.380005  1370.270020  3574780000\n",
      "Warning: 'Adj Close' not found for ^GSPC. Available columns: MultiIndex([( 'Close', '^GSPC'),\n",
      "            (  'High', '^GSPC'),\n",
      "            (   'Low', '^GSPC'),\n",
      "            (  'Open', '^GSPC'),\n",
      "            ('Volume', '^GSPC')],\n",
      "           names=['Price', 'Ticker'])\n"
     ]
    },
    {
     "name": "stderr",
     "output_type": "stream",
     "text": [
      "\n",
      "[*********************100%***********************]  1 of 1 completed\n",
      "[*********************100%***********************]  1 of 1 completed\n"
     ]
    },
    {
     "name": "stdout",
     "output_type": "stream",
     "text": [
      "Downloaded data for ^IXIC:\n",
      "Price             Close         High          Low         Open      Volume\n",
      "Ticker            ^IXIC        ^IXIC        ^IXIC        ^IXIC       ^IXIC\n",
      "Date                                                                      \n",
      "2012-04-10  2991.219971  3055.199951  2987.000000  3044.669922  1953600000\n",
      "2012-04-11  3016.459961  3030.510010  3008.750000  3020.149902  1540890000\n",
      "2012-04-12  3055.550049  3059.260010  3020.439941  3023.110107  1480340000\n",
      "2012-04-13  3011.330078  3045.419922  3010.770020  3045.080078  1483850000\n",
      "2012-04-16  2988.399902  3027.570068  2975.870117  3027.570068  1594320000\n",
      "Warning: 'Adj Close' not found for ^IXIC. Available columns: MultiIndex([( 'Close', '^IXIC'),\n",
      "            (  'High', '^IXIC'),\n",
      "            (   'Low', '^IXIC'),\n",
      "            (  'Open', '^IXIC'),\n",
      "            ('Volume', '^IXIC')],\n",
      "           names=['Price', 'Ticker'])\n",
      "Downloaded data for ^DJI:\n",
      "Price              Close          High           Low          Open     Volume\n",
      "Ticker              ^DJI          ^DJI          ^DJI          ^DJI       ^DJI\n",
      "Date                                                                         \n",
      "2012-04-10  12715.929688  12929.589844  12710.559570  12929.440430  159290000\n",
      "2012-04-11  12805.389648  12844.820312  12716.919922  12716.919922  125210000\n",
      "2012-04-12  12986.580078  12986.959961  12806.299805  12806.450195  119780000\n",
      "2012-04-13  12849.589844  12986.349609  12845.280273  12986.200195  140990000\n",
      "2012-04-16  12921.410156  12986.769531  12850.799805  12850.879883  120990000\n",
      "Warning: 'Adj Close' not found for ^DJI. Available columns: MultiIndex([( 'Close', '^DJI'),\n",
      "            (  'High', '^DJI'),\n",
      "            (   'Low', '^DJI'),\n",
      "            (  'Open', '^DJI'),\n",
      "            ('Volume', '^DJI')],\n",
      "           names=['Price', 'Ticker'])\n",
      "Error downloading USD/EUR: Thank you for using Alpha Vantage! Our standard API rate limit is 25 requests per day. Please subscribe to any of the premium plans at https://www.alphavantage.co/premium/ to instantly remove all daily rate limits.\n",
      "Error downloading USD/JPY: Thank you for using Alpha Vantage! Our standard API rate limit is 25 requests per day. Please subscribe to any of the premium plans at https://www.alphavantage.co/premium/ to instantly remove all daily rate limits.\n"
     ]
    },
    {
     "name": "stderr",
     "output_type": "stream",
     "text": [
      "[*********************100%***********************]  1 of 1 completed\n"
     ]
    },
    {
     "name": "stdout",
     "output_type": "stream",
     "text": [
      "Downloaded Gold Data:\n",
      "Price             Close         High          Low         Open Volume\n",
      "Ticker             GC=F         GC=F         GC=F         GC=F   GC=F\n",
      "Date                                                                 \n",
      "2012-04-10  1659.500000  1661.699951  1636.199951  1649.000000    350\n",
      "2012-04-11  1659.000000  1659.699951  1654.699951  1654.800049    426\n",
      "2012-04-12  1679.500000  1680.099976  1650.000000  1660.000000   1309\n",
      "2012-04-13  1659.099976  1674.800049  1650.000000  1673.300049    220\n",
      "2012-04-16  1648.699951  1656.800049  1641.199951  1650.800049    717\n",
      "Warning: 'Adj Close' not found in gold data. Available columns: MultiIndex([( 'Close', 'GC=F'),\n",
      "            (  'High', 'GC=F'),\n",
      "            (   'Low', 'GC=F'),\n",
      "            (  'Open', 'GC=F'),\n",
      "            ('Volume', 'GC=F')],\n",
      "           names=['Price', 'Ticker'])\n"
     ]
    },
    {
     "name": "stderr",
     "output_type": "stream",
     "text": [
      "[*********************100%***********************]  1 of 1 completed"
     ]
    },
    {
     "name": "stdout",
     "output_type": "stream",
     "text": [
      "Downloading data for 2012-06-20 (2012-06-05 to 2012-07-05)\n",
      "Downloaded data for ^GSPC:\n",
      "Price             Close         High          Low         Open      Volume\n",
      "Ticker            ^GSPC        ^GSPC        ^GSPC        ^GSPC       ^GSPC\n",
      "Date                                                                      \n",
      "2012-06-05  1285.500000  1287.619995  1274.160034  1277.819946  3403230000\n",
      "2012-06-06  1315.130005  1315.130005  1285.609985  1285.609985  4268360000\n",
      "2012-06-07  1314.989990  1329.050049  1312.680054  1316.150024  4258140000\n",
      "2012-06-08  1325.660034  1325.810059  1307.770020  1314.989990  3497190000\n",
      "2012-06-11  1308.930054  1335.520020  1307.729980  1325.719971  3537530000\n",
      "Warning: 'Adj Close' not found for ^GSPC. Available columns: MultiIndex([( 'Close', '^GSPC'),\n",
      "            (  'High', '^GSPC'),\n",
      "            (   'Low', '^GSPC'),\n",
      "            (  'Open', '^GSPC'),\n",
      "            ('Volume', '^GSPC')],\n",
      "           names=['Price', 'Ticker'])\n"
     ]
    },
    {
     "name": "stderr",
     "output_type": "stream",
     "text": [
      "\n",
      "[*********************100%***********************]  1 of 1 completed\n",
      "[*********************100%***********************]  1 of 1 completed\n"
     ]
    },
    {
     "name": "stdout",
     "output_type": "stream",
     "text": [
      "Downloaded data for ^IXIC:\n",
      "Price             Close         High          Low         Open      Volume\n",
      "Ticker            ^IXIC        ^IXIC        ^IXIC        ^IXIC       ^IXIC\n",
      "Date                                                                      \n",
      "2012-06-05  2778.110107  2781.969971  2749.340088  2749.350098  1625600000\n",
      "2012-06-06  2844.719971  2844.719971  2796.229980  2796.229980  1761050000\n",
      "2012-06-07  2831.020020  2873.590088  2827.820068  2872.050049  1655370000\n",
      "2012-06-08  2858.419922  2860.939941  2814.800049  2823.820068  1390260000\n",
      "2012-06-11  2809.729980  2882.959961  2806.899902  2882.489990  1480220000\n",
      "Warning: 'Adj Close' not found for ^IXIC. Available columns: MultiIndex([( 'Close', '^IXIC'),\n",
      "            (  'High', '^IXIC'),\n",
      "            (   'Low', '^IXIC'),\n",
      "            (  'Open', '^IXIC'),\n",
      "            ('Volume', '^IXIC')],\n",
      "           names=['Price', 'Ticker'])\n",
      "Downloaded data for ^DJI:\n",
      "Price              Close          High           Low          Open     Volume\n",
      "Ticker              ^DJI          ^DJI          ^DJI          ^DJI       ^DJI\n",
      "Date                                                                         \n",
      "2012-06-05  12127.950195  12147.549805  12072.169922  12101.080078  108970000\n",
      "2012-06-06  12414.790039  12414.790039  12125.000000  12125.000000  140110000\n",
      "2012-06-07  12460.959961  12555.259766  12416.530273  12416.530273  131150000\n",
      "2012-06-08  12554.200195  12554.200195  12398.440430  12460.809570  111810000\n",
      "2012-06-11  12411.230469  12650.469727  12398.480469  12553.809570  121060000\n",
      "Warning: 'Adj Close' not found for ^DJI. Available columns: MultiIndex([( 'Close', '^DJI'),\n",
      "            (  'High', '^DJI'),\n",
      "            (   'Low', '^DJI'),\n",
      "            (  'Open', '^DJI'),\n",
      "            ('Volume', '^DJI')],\n",
      "           names=['Price', 'Ticker'])\n",
      "Error downloading USD/EUR: Thank you for using Alpha Vantage! Our standard API rate limit is 25 requests per day. Please subscribe to any of the premium plans at https://www.alphavantage.co/premium/ to instantly remove all daily rate limits.\n",
      "Error downloading USD/JPY: Thank you for using Alpha Vantage! Our standard API rate limit is 25 requests per day. Please subscribe to any of the premium plans at https://www.alphavantage.co/premium/ to instantly remove all daily rate limits.\n"
     ]
    },
    {
     "name": "stderr",
     "output_type": "stream",
     "text": [
      "[*********************100%***********************]  1 of 1 completed\n"
     ]
    },
    {
     "name": "stdout",
     "output_type": "stream",
     "text": [
      "Downloaded Gold Data:\n",
      "Price             Close         High          Low         Open Volume\n",
      "Ticker             GC=F         GC=F         GC=F         GC=F   GC=F\n",
      "Date                                                                 \n",
      "2012-06-05  1615.199951  1622.699951  1612.900024  1619.300049    604\n",
      "2012-06-06  1632.800049  1639.699951  1616.500000  1619.699951    419\n",
      "2012-06-07  1586.599976  1627.199951  1581.900024  1622.599976   1200\n",
      "2012-06-08  1590.099976  1593.900024  1566.500000  1589.900024    157\n",
      "2012-06-11  1595.500000  1608.000000  1583.000000  1608.000000    129\n",
      "Warning: 'Adj Close' not found in gold data. Available columns: MultiIndex([( 'Close', 'GC=F'),\n",
      "            (  'High', 'GC=F'),\n",
      "            (   'Low', 'GC=F'),\n",
      "            (  'Open', 'GC=F'),\n",
      "            ('Volume', 'GC=F')],\n",
      "           names=['Price', 'Ticker'])\n"
     ]
    },
    {
     "name": "stderr",
     "output_type": "stream",
     "text": [
      "[*********************100%***********************]  1 of 1 completed"
     ]
    },
    {
     "name": "stdout",
     "output_type": "stream",
     "text": [
      "Downloading data for 2012-08-01 (2012-07-17 to 2012-08-16)\n",
      "Downloaded data for ^GSPC:\n",
      "Price             Close         High          Low         Open      Volume\n",
      "Ticker            ^GSPC        ^GSPC        ^GSPC        ^GSPC       ^GSPC\n",
      "Date                                                                      \n",
      "2012-07-17  1363.670044  1365.359985  1345.069946  1353.680054  3566680000\n",
      "2012-07-18  1372.780029  1375.260010  1358.959961  1363.579956  3642630000\n",
      "2012-07-19  1376.510010  1380.390015  1371.209961  1373.010010  4043360000\n",
      "2012-07-20  1362.660034  1376.510010  1362.189941  1376.510010  3925020000\n",
      "2012-07-23  1350.520020  1362.339966  1337.560059  1362.339966  3717180000\n",
      "Warning: 'Adj Close' not found for ^GSPC. Available columns: MultiIndex([( 'Close', '^GSPC'),\n",
      "            (  'High', '^GSPC'),\n",
      "            (   'Low', '^GSPC'),\n",
      "            (  'Open', '^GSPC'),\n",
      "            ('Volume', '^GSPC')],\n",
      "           names=['Price', 'Ticker'])\n"
     ]
    },
    {
     "name": "stderr",
     "output_type": "stream",
     "text": [
      "\n",
      "[*********************100%***********************]  1 of 1 completed\n",
      "[*********************100%***********************]  1 of 1 completed\n"
     ]
    },
    {
     "name": "stdout",
     "output_type": "stream",
     "text": [
      "Downloaded data for ^IXIC:\n",
      "Price             Close         High          Low         Open      Volume\n",
      "Ticker            ^IXIC        ^IXIC        ^IXIC        ^IXIC       ^IXIC\n",
      "Date                                                                      \n",
      "2012-07-17  2910.040039  2916.610107  2871.649902  2911.459961  1774160000\n",
      "2012-07-18  2942.600098  2951.300049  2902.949951  2904.239990  1817040000\n",
      "2012-07-19  2965.899902  2976.219971  2952.419922  2961.709961  1735920000\n",
      "2012-07-20  2925.300049  2957.020020  2925.300049  2957.020020  1810420000\n",
      "2012-07-23  2890.149902  2898.050049  2852.879883  2877.510010  1607140000\n",
      "Warning: 'Adj Close' not found for ^IXIC. Available columns: MultiIndex([( 'Close', '^IXIC'),\n",
      "            (  'High', '^IXIC'),\n",
      "            (   'Low', '^IXIC'),\n",
      "            (  'Open', '^IXIC'),\n",
      "            ('Volume', '^IXIC')],\n",
      "           names=['Price', 'Ticker'])\n",
      "Downloaded data for ^DJI:\n",
      "Price              Close          High           Low          Open     Volume\n",
      "Ticker              ^DJI          ^DJI          ^DJI          ^DJI       ^DJI\n",
      "Date                                                                         \n",
      "2012-07-17  12805.540039  12829.230469  12645.099609  12728.730469  119620000\n",
      "2012-07-18  12908.700195  12921.940430  12754.610352  12796.980469  130070000\n",
      "2012-07-19  12943.360352  12977.570312  12889.929688  12909.610352  139480000\n",
      "2012-07-20  12822.570312  12942.830078  12810.349609  12942.679688  210770000\n",
      "2012-07-23  12721.459961  12820.450195  12583.410156  12820.450195  137760000\n",
      "Warning: 'Adj Close' not found for ^DJI. Available columns: MultiIndex([( 'Close', '^DJI'),\n",
      "            (  'High', '^DJI'),\n",
      "            (   'Low', '^DJI'),\n",
      "            (  'Open', '^DJI'),\n",
      "            ('Volume', '^DJI')],\n",
      "           names=['Price', 'Ticker'])\n",
      "Error downloading USD/EUR: Thank you for using Alpha Vantage! Our standard API rate limit is 25 requests per day. Please subscribe to any of the premium plans at https://www.alphavantage.co/premium/ to instantly remove all daily rate limits.\n",
      "Error downloading USD/JPY: Thank you for using Alpha Vantage! Our standard API rate limit is 25 requests per day. Please subscribe to any of the premium plans at https://www.alphavantage.co/premium/ to instantly remove all daily rate limits.\n"
     ]
    },
    {
     "name": "stderr",
     "output_type": "stream",
     "text": [
      "[*********************100%***********************]  1 of 1 completed\n"
     ]
    },
    {
     "name": "stdout",
     "output_type": "stream",
     "text": [
      "Downloaded Gold Data:\n",
      "Price             Close         High          Low         Open Volume\n",
      "Ticker             GC=F         GC=F         GC=F         GC=F   GC=F\n",
      "Date                                                                 \n",
      "2012-07-17  1589.099976  1596.000000  1576.300049  1596.000000     27\n",
      "2012-07-18  1570.400024  1583.699951  1569.900024  1581.199951     30\n",
      "2012-07-19  1580.099976  1586.900024  1578.400024  1580.000000     60\n",
      "2012-07-20  1582.500000  1584.400024  1576.099976  1583.900024      5\n",
      "2012-07-23  1577.099976  1577.099976  1569.800049  1571.699951      4\n",
      "Warning: 'Adj Close' not found in gold data. Available columns: MultiIndex([( 'Close', 'GC=F'),\n",
      "            (  'High', 'GC=F'),\n",
      "            (   'Low', 'GC=F'),\n",
      "            (  'Open', 'GC=F'),\n",
      "            ('Volume', 'GC=F')],\n",
      "           names=['Price', 'Ticker'])\n"
     ]
    },
    {
     "name": "stderr",
     "output_type": "stream",
     "text": [
      "[*********************100%***********************]  1 of 1 completed"
     ]
    },
    {
     "name": "stdout",
     "output_type": "stream",
     "text": [
      "Downloading data for 2012-09-13 (2012-08-29 to 2012-09-28)\n",
      "Downloaded data for ^GSPC:\n",
      "Price             Close         High          Low         Open      Volume\n",
      "Ticker            ^GSPC        ^GSPC        ^GSPC        ^GSPC       ^GSPC\n",
      "Date                                                                      \n",
      "2012-08-29  1410.489990  1413.949951  1406.569946  1409.319946  2571220000\n",
      "2012-08-30  1399.479980  1410.079956  1397.010010  1410.079956  2530280000\n",
      "2012-08-31  1406.579956  1413.089966  1398.959961  1400.069946  2938250000\n",
      "2012-09-04  1404.939941  1409.310059  1396.560059  1406.540039  3200310000\n",
      "2012-09-05  1403.439941  1408.810059  1401.250000  1404.939941  3389110000\n",
      "Warning: 'Adj Close' not found for ^GSPC. Available columns: MultiIndex([( 'Close', '^GSPC'),\n",
      "            (  'High', '^GSPC'),\n",
      "            (   'Low', '^GSPC'),\n",
      "            (  'Open', '^GSPC'),\n",
      "            ('Volume', '^GSPC')],\n",
      "           names=['Price', 'Ticker'])\n"
     ]
    },
    {
     "name": "stderr",
     "output_type": "stream",
     "text": [
      "\n",
      "[*********************100%***********************]  1 of 1 completed\n",
      "[*********************100%***********************]  1 of 1 completed\n"
     ]
    },
    {
     "name": "stdout",
     "output_type": "stream",
     "text": [
      "Downloaded data for ^IXIC:\n",
      "Price             Close         High          Low         Open      Volume\n",
      "Ticker            ^IXIC        ^IXIC        ^IXIC        ^IXIC       ^IXIC\n",
      "Date                                                                      \n",
      "2012-08-29  3081.189941  3087.239990  3067.620117  3078.050049  1282900000\n",
      "2012-08-30  3048.709961  3067.540039  3045.919922  3066.729980  1216640000\n",
      "2012-08-31  3066.959961  3078.520020  3040.590088  3069.639893  1394760000\n",
      "2012-09-04  3075.060059  3082.260010  3040.239990  3063.250000  1505960000\n",
      "2012-09-05  3069.270020  3082.750000  3062.540039  3072.580078  1495030000\n",
      "Warning: 'Adj Close' not found for ^IXIC. Available columns: MultiIndex([( 'Close', '^IXIC'),\n",
      "            (  'High', '^IXIC'),\n",
      "            (   'Low', '^IXIC'),\n",
      "            (  'Open', '^IXIC'),\n",
      "            ('Volume', '^IXIC')],\n",
      "           names=['Price', 'Ticker'])\n",
      "Downloaded data for ^DJI:\n",
      "Price              Close          High           Low          Open     Volume\n",
      "Ticker              ^DJI          ^DJI          ^DJI          ^DJI       ^DJI\n",
      "Date                                                                         \n",
      "2012-08-29  13107.480469  13144.809570  13081.269531  13103.459961   91530000\n",
      "2012-08-30  13000.709961  13101.370117  12978.910156  13101.290039   89980000\n",
      "2012-08-31  13090.839844  13151.870117  13002.639648  13002.719727  119780000\n",
      "2012-09-04  13035.940430  13092.389648  12977.089844  13092.150391  103920000\n",
      "2012-09-05  13047.480469  13095.910156  13018.740234  13036.089844   92550000\n",
      "Warning: 'Adj Close' not found for ^DJI. Available columns: MultiIndex([( 'Close', '^DJI'),\n",
      "            (  'High', '^DJI'),\n",
      "            (   'Low', '^DJI'),\n",
      "            (  'Open', '^DJI'),\n",
      "            ('Volume', '^DJI')],\n",
      "           names=['Price', 'Ticker'])\n",
      "Error downloading USD/EUR: Thank you for using Alpha Vantage! Our standard API rate limit is 25 requests per day. Please subscribe to any of the premium plans at https://www.alphavantage.co/premium/ to instantly remove all daily rate limits.\n",
      "Error downloading USD/JPY: Thank you for using Alpha Vantage! Our standard API rate limit is 25 requests per day. Please subscribe to any of the premium plans at https://www.alphavantage.co/premium/ to instantly remove all daily rate limits.\n"
     ]
    },
    {
     "name": "stderr",
     "output_type": "stream",
     "text": [
      "[*********************100%***********************]  1 of 1 completed\n"
     ]
    },
    {
     "name": "stdout",
     "output_type": "stream",
     "text": [
      "Downloaded Gold Data:\n",
      "Price             Close         High          Low         Open Volume\n",
      "Ticker             GC=F         GC=F         GC=F         GC=F   GC=F\n",
      "Date                                                                 \n",
      "2012-08-29  1659.800049  1667.300049  1659.800049  1667.199951    403\n",
      "2012-08-30  1653.500000  1662.000000  1650.699951  1655.400024    418\n",
      "2012-08-31  1684.599976  1690.000000  1646.199951  1658.599976     58\n",
      "2012-09-04  1692.900024  1698.000000  1687.699951  1689.099976     43\n",
      "2012-09-05  1690.800049  1693.300049  1690.400024  1690.400024     82\n",
      "Warning: 'Adj Close' not found in gold data. Available columns: MultiIndex([( 'Close', 'GC=F'),\n",
      "            (  'High', 'GC=F'),\n",
      "            (   'Low', 'GC=F'),\n",
      "            (  'Open', 'GC=F'),\n",
      "            ('Volume', 'GC=F')],\n",
      "           names=['Price', 'Ticker'])\n"
     ]
    },
    {
     "name": "stderr",
     "output_type": "stream",
     "text": [
      "[*********************100%***********************]  1 of 1 completed"
     ]
    },
    {
     "name": "stdout",
     "output_type": "stream",
     "text": [
      "Downloading data for 2012-10-24 (2012-10-09 to 2012-11-08)\n",
      "Downloaded data for ^GSPC:\n",
      "Price             Close         High          Low         Open      Volume\n",
      "Ticker            ^GSPC        ^GSPC        ^GSPC        ^GSPC       ^GSPC\n",
      "Date                                                                      \n",
      "2012-10-09  1441.479980  1455.900024  1441.180054  1455.900024  3216320000\n",
      "2012-10-10  1432.560059  1442.520020  1430.640015  1441.479980  3225060000\n",
      "2012-10-11  1432.839966  1443.900024  1432.819946  1432.819946  3672540000\n",
      "2012-10-12  1428.589966  1438.430054  1425.530029  1432.839966  3134750000\n",
      "2012-10-15  1440.130005  1441.310059  1427.239990  1428.750000  3483810000\n",
      "Warning: 'Adj Close' not found for ^GSPC. Available columns: MultiIndex([( 'Close', '^GSPC'),\n",
      "            (  'High', '^GSPC'),\n",
      "            (   'Low', '^GSPC'),\n",
      "            (  'Open', '^GSPC'),\n",
      "            ('Volume', '^GSPC')],\n",
      "           names=['Price', 'Ticker'])\n"
     ]
    },
    {
     "name": "stderr",
     "output_type": "stream",
     "text": [
      "\n",
      "[*********************100%***********************]  1 of 1 completed\n",
      "[*********************100%***********************]  1 of 1 completed\n"
     ]
    },
    {
     "name": "stdout",
     "output_type": "stream",
     "text": [
      "Downloaded data for ^IXIC:\n",
      "Price             Close         High          Low         Open      Volume\n",
      "Ticker            ^IXIC        ^IXIC        ^IXIC        ^IXIC       ^IXIC\n",
      "Date                                                                      \n",
      "2012-10-09  3065.020020  3108.010010  3062.520020  3108.010010  1645740000\n",
      "2012-10-10  3051.780029  3071.570068  3046.780029  3066.250000  1788970000\n",
      "2012-10-11  3049.409912  3078.080078  3047.139893  3075.889893  1595020000\n",
      "2012-10-12  3044.110107  3061.770020  3039.580078  3049.080078  1524840000\n",
      "2012-10-15  3064.179932  3066.310059  3037.270020  3053.209961  1563440000\n",
      "Warning: 'Adj Close' not found for ^IXIC. Available columns: MultiIndex([( 'Close', '^IXIC'),\n",
      "            (  'High', '^IXIC'),\n",
      "            (   'Low', '^IXIC'),\n",
      "            (  'Open', '^IXIC'),\n",
      "            ('Volume', '^IXIC')],\n",
      "           names=['Price', 'Ticker'])\n",
      "Downloaded data for ^DJI:\n",
      "Price              Close          High           Low          Open     Volume\n",
      "Ticker              ^DJI          ^DJI          ^DJI          ^DJI       ^DJI\n",
      "Date                                                                         \n",
      "2012-10-09  13473.530273  13592.330078  13473.309570  13582.879883  103630000\n",
      "2012-10-10  13344.969727  13478.830078  13327.620117  13473.530273  101120000\n",
      "2012-10-11  13326.389648  13428.490234  13326.120117  13346.280273   86630000\n",
      "2012-10-12  13328.849609  13401.320312  13296.429688  13325.620117  113740000\n",
      "2012-10-15  13424.230469  13437.660156  13325.929688  13329.540039  114880000\n",
      "Warning: 'Adj Close' not found for ^DJI. Available columns: MultiIndex([( 'Close', '^DJI'),\n",
      "            (  'High', '^DJI'),\n",
      "            (   'Low', '^DJI'),\n",
      "            (  'Open', '^DJI'),\n",
      "            ('Volume', '^DJI')],\n",
      "           names=['Price', 'Ticker'])\n",
      "Error downloading USD/EUR: Thank you for using Alpha Vantage! Our standard API rate limit is 25 requests per day. Please subscribe to any of the premium plans at https://www.alphavantage.co/premium/ to instantly remove all daily rate limits.\n",
      "Error downloading USD/JPY: Thank you for using Alpha Vantage! Our standard API rate limit is 25 requests per day. Please subscribe to any of the premium plans at https://www.alphavantage.co/premium/ to instantly remove all daily rate limits.\n"
     ]
    },
    {
     "name": "stderr",
     "output_type": "stream",
     "text": [
      "[*********************100%***********************]  1 of 1 completed\n"
     ]
    },
    {
     "name": "stdout",
     "output_type": "stream",
     "text": [
      "Downloaded Gold Data:\n",
      "Price             Close         High          Low         Open Volume\n",
      "Ticker             GC=F         GC=F         GC=F         GC=F   GC=F\n",
      "Date                                                                 \n",
      "2012-10-09  1763.000000  1776.699951  1762.300049  1776.699951     24\n",
      "2012-10-10  1763.199951  1764.199951  1758.099976  1762.400024     29\n",
      "2012-10-11  1768.800049  1771.000000  1761.599976  1761.599976     30\n",
      "2012-10-12  1758.000000  1769.500000  1753.599976  1769.500000     84\n",
      "2012-10-15  1736.000000  1750.000000  1729.900024  1750.000000    108\n",
      "Warning: 'Adj Close' not found in gold data. Available columns: MultiIndex([( 'Close', 'GC=F'),\n",
      "            (  'High', 'GC=F'),\n",
      "            (   'Low', 'GC=F'),\n",
      "            (  'Open', 'GC=F'),\n",
      "            ('Volume', 'GC=F')],\n",
      "           names=['Price', 'Ticker'])\n"
     ]
    },
    {
     "name": "stderr",
     "output_type": "stream",
     "text": [
      "[*********************100%***********************]  1 of 1 completed"
     ]
    },
    {
     "name": "stdout",
     "output_type": "stream",
     "text": [
      "Downloading data for 2012-12-12 (2012-11-27 to 2012-12-27)\n",
      "Downloaded data for ^GSPC:\n",
      "Price             Close         High          Low         Open      Volume\n",
      "Ticker            ^GSPC        ^GSPC        ^GSPC        ^GSPC       ^GSPC\n",
      "Date                                                                      \n",
      "2012-11-27  1398.939941  1409.010010  1398.030029  1406.290039  3323120000\n",
      "2012-11-28  1409.930054  1410.310059  1385.430054  1398.770020  3359250000\n",
      "2012-11-29  1415.949951  1419.699951  1409.040039  1409.959961  3356850000\n",
      "2012-11-30  1416.180054  1418.859985  1411.630005  1415.949951  3966000000\n",
      "2012-12-03  1409.459961  1423.729980  1408.459961  1416.339966  3074280000\n",
      "Warning: 'Adj Close' not found for ^GSPC. Available columns: MultiIndex([( 'Close', '^GSPC'),\n",
      "            (  'High', '^GSPC'),\n",
      "            (   'Low', '^GSPC'),\n",
      "            (  'Open', '^GSPC'),\n",
      "            ('Volume', '^GSPC')],\n",
      "           names=['Price', 'Ticker'])\n"
     ]
    },
    {
     "name": "stderr",
     "output_type": "stream",
     "text": [
      "\n",
      "[*********************100%***********************]  1 of 1 completed\n",
      "[*********************100%***********************]  1 of 1 completed\n"
     ]
    },
    {
     "name": "stdout",
     "output_type": "stream",
     "text": [
      "Downloaded data for ^IXIC:\n",
      "Price             Close         High          Low         Open      Volume\n",
      "Ticker            ^IXIC        ^IXIC        ^IXIC        ^IXIC       ^IXIC\n",
      "Date                                                                      \n",
      "2012-11-27  2967.790039  2985.320068  2965.129883  2974.560059  1763320000\n",
      "2012-11-28  2991.780029  2992.169922  2935.879883  2952.020020  1725550000\n",
      "2012-11-29  3012.030029  3017.179932  2996.300049  3005.409912  1758440000\n",
      "2012-11-30  3010.239990  3014.250000  2999.719971  3013.250000  2194240000\n",
      "2012-12-03  3002.199951  3030.280029  2999.570068  3029.209961  1667330000\n",
      "Warning: 'Adj Close' not found for ^IXIC. Available columns: MultiIndex([( 'Close', '^IXIC'),\n",
      "            (  'High', '^IXIC'),\n",
      "            (   'Low', '^IXIC'),\n",
      "            (  'Open', '^IXIC'),\n",
      "            ('Volume', '^IXIC')],\n",
      "           names=['Price', 'Ticker'])\n",
      "Downloaded data for ^DJI:\n",
      "Price              Close          High           Low          Open     Volume\n",
      "Ticker              ^DJI          ^DJI          ^DJI          ^DJI       ^DJI\n",
      "Date                                                                         \n",
      "2012-11-27  12878.129883  12980.190430  12868.259766  12963.379883  117900000\n",
      "2012-11-28  12985.110352  12989.099609  12765.320312  12875.559570  131000000\n",
      "2012-11-29  13021.820312  13062.559570  12961.919922  12977.349609  113620000\n",
      "2012-11-30  13025.580078  13053.740234  12988.679688  13022.049805  171070000\n",
      "2012-12-03  12965.599609  13087.320312  12959.419922  13027.730469  112900000\n",
      "Warning: 'Adj Close' not found for ^DJI. Available columns: MultiIndex([( 'Close', '^DJI'),\n",
      "            (  'High', '^DJI'),\n",
      "            (   'Low', '^DJI'),\n",
      "            (  'Open', '^DJI'),\n",
      "            ('Volume', '^DJI')],\n",
      "           names=['Price', 'Ticker'])\n",
      "Error downloading USD/EUR: Thank you for using Alpha Vantage! Our standard API rate limit is 25 requests per day. Please subscribe to any of the premium plans at https://www.alphavantage.co/premium/ to instantly remove all daily rate limits.\n",
      "Error downloading USD/JPY: Thank you for using Alpha Vantage! Our standard API rate limit is 25 requests per day. Please subscribe to any of the premium plans at https://www.alphavantage.co/premium/ to instantly remove all daily rate limits.\n"
     ]
    },
    {
     "name": "stderr",
     "output_type": "stream",
     "text": [
      "[*********************100%***********************]  1 of 1 completed\n"
     ]
    },
    {
     "name": "stdout",
     "output_type": "stream",
     "text": [
      "Downloaded Gold Data:\n",
      "Price             Close         High          Low         Open  Volume\n",
      "Ticker             GC=F         GC=F         GC=F         GC=F    GC=F\n",
      "Date                                                                  \n",
      "2012-11-27  1742.199951  1746.400024  1742.199951  1746.400024       7\n",
      "2012-11-28  1716.500000  1739.800049  1716.500000  1739.800049  276136\n",
      "2012-11-29  1727.199951  1729.000000  1717.699951  1719.599976   65599\n",
      "2012-11-30  1710.900024  1731.199951  1708.400024  1725.199951    3690\n",
      "2012-12-03  1719.599976  1721.900024  1714.500000  1714.900024    1238\n",
      "Warning: 'Adj Close' not found in gold data. Available columns: MultiIndex([( 'Close', 'GC=F'),\n",
      "            (  'High', 'GC=F'),\n",
      "            (   'Low', 'GC=F'),\n",
      "            (  'Open', 'GC=F'),\n",
      "            ('Volume', 'GC=F')],\n",
      "           names=['Price', 'Ticker'])\n"
     ]
    },
    {
     "name": "stderr",
     "output_type": "stream",
     "text": [
      "[*********************100%***********************]  1 of 1 completed"
     ]
    },
    {
     "name": "stdout",
     "output_type": "stream",
     "text": [
      "Downloading data for 2013-01-30 (2013-01-15 to 2013-02-14)\n",
      "Downloaded data for ^GSPC:\n",
      "Price             Close         High          Low         Open      Volume\n",
      "Ticker            ^GSPC        ^GSPC        ^GSPC        ^GSPC       ^GSPC\n",
      "Date                                                                      \n",
      "2013-01-15  1472.339966  1473.310059  1463.760010  1470.670044  3135350000\n",
      "2013-01-16  1472.630005  1473.959961  1467.599976  1472.329956  3384080000\n",
      "2013-01-17  1480.939941  1485.160034  1472.630005  1472.630005  3706710000\n",
      "2013-01-18  1485.979980  1485.979980  1475.810059  1480.949951  3795740000\n",
      "2013-01-22  1492.560059  1492.560059  1481.160034  1485.979980  3570950000\n",
      "Warning: 'Adj Close' not found for ^GSPC. Available columns: MultiIndex([( 'Close', '^GSPC'),\n",
      "            (  'High', '^GSPC'),\n",
      "            (   'Low', '^GSPC'),\n",
      "            (  'Open', '^GSPC'),\n",
      "            ('Volume', '^GSPC')],\n",
      "           names=['Price', 'Ticker'])\n"
     ]
    },
    {
     "name": "stderr",
     "output_type": "stream",
     "text": [
      "\n",
      "[*********************100%***********************]  1 of 1 completed\n",
      "[*********************100%***********************]  1 of 1 completed\n"
     ]
    },
    {
     "name": "stdout",
     "output_type": "stream",
     "text": [
      "Downloaded data for ^IXIC:\n",
      "Price             Close         High          Low         Open      Volume\n",
      "Ticker            ^IXIC        ^IXIC        ^IXIC        ^IXIC       ^IXIC\n",
      "Date                                                                      \n",
      "2013-01-15  3110.780029  3112.290039  3093.320068  3101.060059  1852870000\n",
      "2013-01-16  3117.540039  3124.649902  3106.790039  3110.719971  1692380000\n",
      "2013-01-17  3136.000000  3144.050049  3125.790039  3130.489990  1766510000\n",
      "2013-01-18  3134.709961  3134.729980  3119.199951  3127.909912  1860070000\n",
      "2013-01-22  3143.179932  3143.179932  3121.540039  3135.629883  1790730000\n",
      "Warning: 'Adj Close' not found for ^IXIC. Available columns: MultiIndex([( 'Close', '^IXIC'),\n",
      "            (  'High', '^IXIC'),\n",
      "            (   'Low', '^IXIC'),\n",
      "            (  'Open', '^IXIC'),\n",
      "            ('Volume', '^IXIC')],\n",
      "           names=['Price', 'Ticker'])\n",
      "Downloaded data for ^DJI:\n",
      "Price              Close          High           Low          Open     Volume\n",
      "Ticker              ^DJI          ^DJI          ^DJI          ^DJI       ^DJI\n",
      "Date                                                                         \n",
      "2013-01-15  13534.889648  13546.370117  13445.799805  13507.320312  102280000\n",
      "2013-01-16  13511.230469  13534.889648  13468.959961  13534.889648  118540000\n",
      "2013-01-17  13596.019531  13633.889648  13510.240234  13511.230469  183900000\n",
      "2013-01-18  13649.700195  13649.929688  13571.860352  13596.019531  260900000\n",
      "2013-01-22  13712.209961  13712.209961  13622.959961  13649.700195  144300000\n",
      "Warning: 'Adj Close' not found for ^DJI. Available columns: MultiIndex([( 'Close', '^DJI'),\n",
      "            (  'High', '^DJI'),\n",
      "            (   'Low', '^DJI'),\n",
      "            (  'Open', '^DJI'),\n",
      "            ('Volume', '^DJI')],\n",
      "           names=['Price', 'Ticker'])\n",
      "Error downloading USD/EUR: Thank you for using Alpha Vantage! Our standard API rate limit is 25 requests per day. Please subscribe to any of the premium plans at https://www.alphavantage.co/premium/ to instantly remove all daily rate limits.\n",
      "Error downloading USD/JPY: Thank you for using Alpha Vantage! Our standard API rate limit is 25 requests per day. Please subscribe to any of the premium plans at https://www.alphavantage.co/premium/ to instantly remove all daily rate limits.\n"
     ]
    },
    {
     "name": "stderr",
     "output_type": "stream",
     "text": [
      "[*********************100%***********************]  1 of 1 completed\n"
     ]
    },
    {
     "name": "stdout",
     "output_type": "stream",
     "text": [
      "Downloaded Gold Data:\n",
      "Price             Close         High          Low         Open Volume\n",
      "Ticker             GC=F         GC=F         GC=F         GC=F   GC=F\n",
      "Date                                                                 \n",
      "2013-01-15  1683.400024  1684.300049  1671.599976  1671.599976     20\n",
      "2013-01-16  1682.699951  1682.699951  1674.400024  1674.400024     11\n",
      "2013-01-17  1690.400024  1694.599976  1671.000000  1676.400024     81\n",
      "2013-01-18  1686.599976  1692.000000  1686.599976  1687.400024     14\n",
      "2013-01-22  1692.800049  1694.699951  1687.800049  1690.300049     15\n",
      "Warning: 'Adj Close' not found in gold data. Available columns: MultiIndex([( 'Close', 'GC=F'),\n",
      "            (  'High', 'GC=F'),\n",
      "            (   'Low', 'GC=F'),\n",
      "            (  'Open', 'GC=F'),\n",
      "            ('Volume', 'GC=F')],\n",
      "           names=['Price', 'Ticker'])\n"
     ]
    },
    {
     "name": "stderr",
     "output_type": "stream",
     "text": [
      "[*********************100%***********************]  1 of 1 completed"
     ]
    },
    {
     "name": "stdout",
     "output_type": "stream",
     "text": [
      "Downloading data for 2013-03-20 (2013-03-05 to 2013-04-04)\n",
      "Downloaded data for ^GSPC:\n",
      "Price             Close         High          Low         Open      Volume\n",
      "Ticker            ^GSPC        ^GSPC        ^GSPC        ^GSPC       ^GSPC\n",
      "Date                                                                      \n",
      "2013-03-05  1539.790039  1543.469971  1525.199951  1525.199951  3610690000\n",
      "2013-03-06  1541.459961  1545.250000  1538.109985  1539.790039  3676890000\n",
      "2013-03-07  1544.260010  1545.780029  1541.459961  1541.459961  3634710000\n",
      "2013-03-08  1551.180054  1552.479980  1542.939941  1544.260010  3652260000\n",
      "2013-03-11  1556.219971  1556.270020  1547.359985  1551.150024  3091080000\n",
      "Warning: 'Adj Close' not found for ^GSPC. Available columns: MultiIndex([( 'Close', '^GSPC'),\n",
      "            (  'High', '^GSPC'),\n",
      "            (   'Low', '^GSPC'),\n",
      "            (  'Open', '^GSPC'),\n",
      "            ('Volume', '^GSPC')],\n",
      "           names=['Price', 'Ticker'])\n"
     ]
    },
    {
     "name": "stderr",
     "output_type": "stream",
     "text": [
      "\n",
      "[*********************100%***********************]  1 of 1 completed\n",
      "[*********************100%***********************]  1 of 1 completed\n"
     ]
    },
    {
     "name": "stdout",
     "output_type": "stream",
     "text": [
      "Downloaded data for ^IXIC:\n",
      "Price             Close         High          Low         Open      Volume\n",
      "Ticker            ^IXIC        ^IXIC        ^IXIC        ^IXIC       ^IXIC\n",
      "Date                                                                      \n",
      "2013-03-05  3224.129883  3227.310059  3200.270020  3200.379883  1891510000\n",
      "2013-03-06  3222.370117  3233.439941  3217.669922  3233.310059  1764020000\n",
      "2013-03-07  3232.090088  3235.100098  3221.469971  3224.500000  1675640000\n",
      "2013-03-08  3244.370117  3248.699951  3227.889893  3245.850098  1611700000\n",
      "2013-03-11  3252.870117  3252.870117  3233.669922  3237.739990  1628500000\n",
      "Warning: 'Adj Close' not found for ^IXIC. Available columns: MultiIndex([( 'Close', '^IXIC'),\n",
      "            (  'High', '^IXIC'),\n",
      "            (   'Low', '^IXIC'),\n",
      "            (  'Open', '^IXIC'),\n",
      "            ('Volume', '^IXIC')],\n",
      "           names=['Price', 'Ticker'])\n",
      "Downloaded data for ^DJI:\n",
      "Price              Close          High           Low          Open     Volume\n",
      "Ticker              ^DJI          ^DJI          ^DJI          ^DJI       ^DJI\n",
      "Date                                                                         \n",
      "2013-03-05  14253.769531  14286.370117  14127.820312  14127.820312  112100000\n",
      "2013-03-06  14296.240234  14320.650391  14253.000000  14253.769531  116510000\n",
      "2013-03-07  14329.490234  14354.690430  14296.240234  14296.240234  117080000\n",
      "2013-03-08  14397.070312  14413.169922  14329.490234  14329.490234  115630000\n",
      "2013-03-11  14447.290039  14448.059570  14373.320312  14397.070312   94880000\n",
      "Warning: 'Adj Close' not found for ^DJI. Available columns: MultiIndex([( 'Close', '^DJI'),\n",
      "            (  'High', '^DJI'),\n",
      "            (   'Low', '^DJI'),\n",
      "            (  'Open', '^DJI'),\n",
      "            ('Volume', '^DJI')],\n",
      "           names=['Price', 'Ticker'])\n",
      "Error downloading USD/EUR: Thank you for using Alpha Vantage! Our standard API rate limit is 25 requests per day. Please subscribe to any of the premium plans at https://www.alphavantage.co/premium/ to instantly remove all daily rate limits.\n",
      "Error downloading USD/JPY: Thank you for using Alpha Vantage! Our standard API rate limit is 25 requests per day. Please subscribe to any of the premium plans at https://www.alphavantage.co/premium/ to instantly remove all daily rate limits.\n"
     ]
    },
    {
     "name": "stderr",
     "output_type": "stream",
     "text": [
      "[*********************100%***********************]  1 of 1 completed\n"
     ]
    },
    {
     "name": "stdout",
     "output_type": "stream",
     "text": [
      "Downloaded Gold Data:\n",
      "Price             Close         High          Low         Open Volume\n",
      "Ticker             GC=F         GC=F         GC=F         GC=F   GC=F\n",
      "Date                                                                 \n",
      "2013-03-05  1574.599976  1585.500000  1571.400024  1577.599976     65\n",
      "2013-03-06  1574.599976  1582.599976  1566.800049  1577.599976    106\n",
      "2013-03-07  1574.800049  1583.500000  1573.900024  1580.000000     52\n",
      "2013-03-08  1576.599976  1581.199951  1561.800049  1578.599976     68\n",
      "2013-03-11  1577.800049  1579.699951  1576.000000  1576.000000   1115\n",
      "Warning: 'Adj Close' not found in gold data. Available columns: MultiIndex([( 'Close', 'GC=F'),\n",
      "            (  'High', 'GC=F'),\n",
      "            (   'Low', 'GC=F'),\n",
      "            (  'Open', 'GC=F'),\n",
      "            ('Volume', 'GC=F')],\n",
      "           names=['Price', 'Ticker'])\n"
     ]
    },
    {
     "name": "stderr",
     "output_type": "stream",
     "text": [
      "[*********************100%***********************]  1 of 1 completed"
     ]
    },
    {
     "name": "stdout",
     "output_type": "stream",
     "text": [
      "Downloading data for 2013-05-01 (2013-04-16 to 2013-05-16)\n",
      "Downloaded data for ^GSPC:\n",
      "Price             Close         High          Low         Open      Volume\n",
      "Ticker            ^GSPC        ^GSPC        ^GSPC        ^GSPC       ^GSPC\n",
      "Date                                                                      \n",
      "2013-04-16  1574.569946  1575.349976  1552.359985  1552.359985  3654700000\n",
      "2013-04-17  1552.010010  1574.569946  1543.689941  1574.569946  4250310000\n",
      "2013-04-18  1541.609985  1554.380005  1536.030029  1552.030029  3890800000\n",
      "2013-04-19  1555.250000  1555.890015  1539.400024  1541.609985  3569870000\n",
      "2013-04-22  1562.500000  1565.550049  1548.189941  1555.250000  2979880000\n",
      "Warning: 'Adj Close' not found for ^GSPC. Available columns: MultiIndex([( 'Close', '^GSPC'),\n",
      "            (  'High', '^GSPC'),\n",
      "            (   'Low', '^GSPC'),\n",
      "            (  'Open', '^GSPC'),\n",
      "            ('Volume', '^GSPC')],\n",
      "           names=['Price', 'Ticker'])\n"
     ]
    },
    {
     "name": "stderr",
     "output_type": "stream",
     "text": [
      "\n",
      "[*********************100%***********************]  1 of 1 completed\n",
      "[*********************100%***********************]  1 of 1 completed\n"
     ]
    },
    {
     "name": "stdout",
     "output_type": "stream",
     "text": [
      "Downloaded data for ^IXIC:\n",
      "Price             Close         High          Low         Open      Volume\n",
      "Ticker            ^IXIC        ^IXIC        ^IXIC        ^IXIC       ^IXIC\n",
      "Date                                                                      \n",
      "2013-04-16  3264.629883  3265.840088  3231.449951  3239.050049  1515400000\n",
      "2013-04-17  3204.669922  3236.979980  3186.080078  3236.250000  1902730000\n",
      "2013-04-18  3166.360107  3212.969971  3154.959961  3212.239990  1766000000\n",
      "2013-04-19  3206.060059  3210.030029  3168.330078  3169.320068  1738850000\n",
      "2013-04-22  3233.550049  3241.159912  3198.739990  3217.399902  1628340000\n",
      "Warning: 'Adj Close' not found for ^IXIC. Available columns: MultiIndex([( 'Close', '^IXIC'),\n",
      "            (  'High', '^IXIC'),\n",
      "            (   'Low', '^IXIC'),\n",
      "            (  'Open', '^IXIC'),\n",
      "            ('Volume', '^IXIC')],\n",
      "           names=['Price', 'Ticker'])\n",
      "Downloaded data for ^DJI:\n",
      "Price              Close          High           Low          Open     Volume\n",
      "Ticker              ^DJI          ^DJI          ^DJI          ^DJI       ^DJI\n",
      "Date                                                                         \n",
      "2013-04-16  14756.780273  14761.730469  14599.200195  14599.200195  126320000\n",
      "2013-04-17  14618.589844  14756.780273  14560.809570  14756.780273  168010000\n",
      "2013-04-18  14537.139648  14650.259766  14495.290039  14618.589844  158050000\n",
      "2013-04-19  14547.509766  14553.730469  14444.030273  14537.139648  207200000\n",
      "2013-04-22  14567.169922  14588.830078  14457.599609  14547.509766  146890000\n",
      "Warning: 'Adj Close' not found for ^DJI. Available columns: MultiIndex([( 'Close', '^DJI'),\n",
      "            (  'High', '^DJI'),\n",
      "            (   'Low', '^DJI'),\n",
      "            (  'Open', '^DJI'),\n",
      "            ('Volume', '^DJI')],\n",
      "           names=['Price', 'Ticker'])\n",
      "Error downloading USD/EUR: Thank you for using Alpha Vantage! Our standard API rate limit is 25 requests per day. Please subscribe to any of the premium plans at https://www.alphavantage.co/premium/ to instantly remove all daily rate limits.\n",
      "Error downloading USD/JPY: Thank you for using Alpha Vantage! Our standard API rate limit is 25 requests per day. Please subscribe to any of the premium plans at https://www.alphavantage.co/premium/ to instantly remove all daily rate limits.\n"
     ]
    },
    {
     "name": "stderr",
     "output_type": "stream",
     "text": [
      "[*********************100%***********************]  1 of 1 completed\n"
     ]
    },
    {
     "name": "stdout",
     "output_type": "stream",
     "text": [
      "Downloaded Gold Data:\n",
      "Price             Close         High          Low         Open Volume\n",
      "Ticker             GC=F         GC=F         GC=F         GC=F   GC=F\n",
      "Date                                                                 \n",
      "2013-04-16  1386.800049  1401.000000  1323.000000  1358.000000    619\n",
      "2013-04-17  1382.199951  1394.199951  1370.199951  1373.199951     92\n",
      "2013-04-18  1392.000000  1396.400024  1347.500000  1347.500000     57\n",
      "2013-04-19  1395.300049  1420.300049  1395.099976  1419.300049    241\n",
      "2013-04-22  1421.000000  1434.900024  1406.800049  1406.800049     70\n",
      "Warning: 'Adj Close' not found in gold data. Available columns: MultiIndex([( 'Close', 'GC=F'),\n",
      "            (  'High', 'GC=F'),\n",
      "            (   'Low', 'GC=F'),\n",
      "            (  'Open', 'GC=F'),\n",
      "            ('Volume', 'GC=F')],\n",
      "           names=['Price', 'Ticker'])\n"
     ]
    },
    {
     "name": "stderr",
     "output_type": "stream",
     "text": [
      "[*********************100%***********************]  1 of 1 completed"
     ]
    },
    {
     "name": "stdout",
     "output_type": "stream",
     "text": [
      "Downloading data for 2013-06-19 (2013-06-04 to 2013-07-04)\n",
      "Downloaded data for ^GSPC:\n",
      "Price             Close         High          Low         Open      Volume\n",
      "Ticker            ^GSPC        ^GSPC        ^GSPC        ^GSPC       ^GSPC\n",
      "Date                                                                      \n",
      "2013-06-04  1631.380005  1646.530029  1623.619995  1640.729980  3653840000\n",
      "2013-06-05  1608.900024  1629.310059  1607.089966  1629.050049  3632350000\n",
      "2013-06-06  1622.560059  1622.560059  1598.229980  1609.290039  3547380000\n",
      "2013-06-07  1643.380005  1644.400024  1625.270020  1625.270020  3371990000\n",
      "2013-06-10  1642.810059  1648.689941  1639.260010  1644.670044  2978730000\n",
      "Warning: 'Adj Close' not found for ^GSPC. Available columns: MultiIndex([( 'Close', '^GSPC'),\n",
      "            (  'High', '^GSPC'),\n",
      "            (   'Low', '^GSPC'),\n",
      "            (  'Open', '^GSPC'),\n",
      "            ('Volume', '^GSPC')],\n",
      "           names=['Price', 'Ticker'])\n"
     ]
    },
    {
     "name": "stderr",
     "output_type": "stream",
     "text": [
      "\n",
      "[*********************100%***********************]  1 of 1 completed\n",
      "[*********************100%***********************]  1 of 1 completed\n"
     ]
    },
    {
     "name": "stdout",
     "output_type": "stream",
     "text": [
      "Downloaded data for ^IXIC:\n",
      "Price             Close         High          Low         Open      Volume\n",
      "Ticker            ^IXIC        ^IXIC        ^IXIC        ^IXIC       ^IXIC\n",
      "Date                                                                      \n",
      "2013-06-04  3445.260010  3482.750000  3430.020020  3467.020020  1871640000\n",
      "2013-06-05  3401.479980  3446.149902  3397.909912  3432.850098  1813890000\n",
      "2013-06-06  3424.050049  3424.050049  3378.239990  3404.409912  1802700000\n",
      "2013-06-07  3469.219971  3471.729980  3429.429932  3437.840088  1646810000\n",
      "2013-06-10  3473.770020  3484.810059  3465.540039  3475.679932  1556520000\n",
      "Warning: 'Adj Close' not found for ^IXIC. Available columns: MultiIndex([( 'Close', '^IXIC'),\n",
      "            (  'High', '^IXIC'),\n",
      "            (   'Low', '^IXIC'),\n",
      "            (  'Open', '^IXIC'),\n",
      "            ('Volume', '^IXIC')],\n",
      "           names=['Price', 'Ticker'])\n",
      "Downloaded data for ^DJI:\n",
      "Price              Close          High           Low          Open     Volume\n",
      "Ticker              ^DJI          ^DJI          ^DJI          ^DJI       ^DJI\n",
      "Date                                                                         \n",
      "2013-06-04  15177.540039  15304.980469  15100.780273  15255.219727  134280000\n",
      "2013-06-05  14960.589844  15168.629883  14945.570312  15168.099609  141400000\n",
      "2013-06-06  15040.620117  15040.620117  14844.219727  14955.450195  140410000\n",
      "2013-06-07  15248.120117  15255.580078  15044.459961  15044.459961  137380000\n",
      "2013-06-10  15238.589844  15300.639648  15211.250000  15247.809570   94250000\n",
      "Warning: 'Adj Close' not found for ^DJI. Available columns: MultiIndex([( 'Close', '^DJI'),\n",
      "            (  'High', '^DJI'),\n",
      "            (   'Low', '^DJI'),\n",
      "            (  'Open', '^DJI'),\n",
      "            ('Volume', '^DJI')],\n",
      "           names=['Price', 'Ticker'])\n",
      "Error downloading USD/EUR: Thank you for using Alpha Vantage! Our standard API rate limit is 25 requests per day. Please subscribe to any of the premium plans at https://www.alphavantage.co/premium/ to instantly remove all daily rate limits.\n",
      "Error downloading USD/JPY: Thank you for using Alpha Vantage! Our standard API rate limit is 25 requests per day. Please subscribe to any of the premium plans at https://www.alphavantage.co/premium/ to instantly remove all daily rate limits.\n"
     ]
    },
    {
     "name": "stderr",
     "output_type": "stream",
     "text": [
      "[*********************100%***********************]  1 of 1 completed\n"
     ]
    },
    {
     "name": "stdout",
     "output_type": "stream",
     "text": [
      "Downloaded Gold Data:\n",
      "Price             Close         High          Low         Open Volume\n",
      "Ticker             GC=F         GC=F         GC=F         GC=F   GC=F\n",
      "Date                                                                 \n",
      "2013-06-04  1397.099976  1413.699951  1389.000000  1410.900024    930\n",
      "2013-06-05  1398.400024  1410.000000  1395.599976  1397.500000   1687\n",
      "2013-06-06  1415.699951  1422.699951  1391.599976  1401.699951    782\n",
      "2013-06-07  1383.000000  1416.099976  1377.900024  1411.500000   1163\n",
      "2013-06-10  1386.199951  1386.900024  1375.599976  1378.800049    367\n",
      "Warning: 'Adj Close' not found in gold data. Available columns: MultiIndex([( 'Close', 'GC=F'),\n",
      "            (  'High', 'GC=F'),\n",
      "            (   'Low', 'GC=F'),\n",
      "            (  'Open', 'GC=F'),\n",
      "            ('Volume', 'GC=F')],\n",
      "           names=['Price', 'Ticker'])\n"
     ]
    },
    {
     "name": "stderr",
     "output_type": "stream",
     "text": [
      "[*********************100%***********************]  1 of 1 completed"
     ]
    },
    {
     "name": "stdout",
     "output_type": "stream",
     "text": [
      "Downloading data for 2013-07-31 (2013-07-16 to 2013-08-15)\n",
      "Downloaded data for ^GSPC:\n",
      "Price             Close         High          Low         Open      Volume\n",
      "Ticker            ^GSPC        ^GSPC        ^GSPC        ^GSPC       ^GSPC\n",
      "Date                                                                      \n",
      "2013-07-16  1676.260010  1683.729980  1671.839966  1682.699951  3081710000\n",
      "2013-07-17  1680.910034  1684.750000  1677.910034  1677.910034  3153440000\n",
      "2013-07-18  1689.369995  1693.119995  1681.050049  1681.050049  3452370000\n",
      "2013-07-19  1692.089966  1692.089966  1684.079956  1686.150024  3302580000\n",
      "2013-07-22  1695.530029  1697.609985  1690.670044  1694.410034  2779130000\n",
      "Warning: 'Adj Close' not found for ^GSPC. Available columns: MultiIndex([( 'Close', '^GSPC'),\n",
      "            (  'High', '^GSPC'),\n",
      "            (   'Low', '^GSPC'),\n",
      "            (  'Open', '^GSPC'),\n",
      "            ('Volume', '^GSPC')],\n",
      "           names=['Price', 'Ticker'])\n"
     ]
    },
    {
     "name": "stderr",
     "output_type": "stream",
     "text": [
      "\n",
      "[*********************100%***********************]  1 of 1 completed\n",
      "[*********************100%***********************]  1 of 1 completed\n"
     ]
    },
    {
     "name": "stdout",
     "output_type": "stream",
     "text": [
      "Downloaded data for ^IXIC:\n",
      "Price             Close         High          Low         Open      Volume\n",
      "Ticker            ^IXIC        ^IXIC        ^IXIC        ^IXIC       ^IXIC\n",
      "Date                                                                      \n",
      "2013-07-16  3598.500000  3611.350098  3589.649902  3611.000000  1590540000\n",
      "2013-07-17  3610.000000  3615.790039  3600.689941  3608.129883  1564340000\n",
      "2013-07-18  3611.280029  3624.540039  3607.090088  3610.030029  1719390000\n",
      "2013-07-19  3587.610107  3589.050049  3578.570068  3581.899902  1785460000\n",
      "2013-07-22  3600.389893  3601.919922  3587.459961  3599.870117  1507010000\n",
      "Warning: 'Adj Close' not found for ^IXIC. Available columns: MultiIndex([( 'Close', '^IXIC'),\n",
      "            (  'High', '^IXIC'),\n",
      "            (   'Low', '^IXIC'),\n",
      "            (  'Open', '^IXIC'),\n",
      "            ('Volume', '^IXIC')],\n",
      "           names=['Price', 'Ticker'])\n",
      "Downloaded data for ^DJI:\n",
      "Price              Close          High           Low          Open     Volume\n",
      "Ticker              ^DJI          ^DJI          ^DJI          ^DJI       ^DJI\n",
      "Date                                                                         \n",
      "2013-07-16  15451.849609  15498.160156  15415.709961  15485.030273  105970000\n",
      "2013-07-17  15470.519531  15502.000000  15438.120117  15456.919922  126240000\n",
      "2013-07-18  15548.540039  15589.400391  15465.910156  15465.910156  136270000\n",
      "2013-07-19  15543.740234  15544.549805  15491.959961  15524.269531  229260000\n",
      "2013-07-22  15545.549805  15576.209961  15516.200195  15543.969727  180920000\n",
      "Warning: 'Adj Close' not found for ^DJI. Available columns: MultiIndex([( 'Close', '^DJI'),\n",
      "            (  'High', '^DJI'),\n",
      "            (   'Low', '^DJI'),\n",
      "            (  'Open', '^DJI'),\n",
      "            ('Volume', '^DJI')],\n",
      "           names=['Price', 'Ticker'])\n",
      "Error downloading USD/EUR: Thank you for using Alpha Vantage! Our standard API rate limit is 25 requests per day. Please subscribe to any of the premium plans at https://www.alphavantage.co/premium/ to instantly remove all daily rate limits.\n",
      "Error downloading USD/JPY: Thank you for using Alpha Vantage! Our standard API rate limit is 25 requests per day. Please subscribe to any of the premium plans at https://www.alphavantage.co/premium/ to instantly remove all daily rate limits.\n"
     ]
    },
    {
     "name": "stderr",
     "output_type": "stream",
     "text": [
      "[*********************100%***********************]  1 of 1 completed\n"
     ]
    },
    {
     "name": "stdout",
     "output_type": "stream",
     "text": [
      "Downloaded Gold Data:\n",
      "Price             Close         High          Low         Open Volume\n",
      "Ticker             GC=F         GC=F         GC=F         GC=F   GC=F\n",
      "Date                                                                 \n",
      "2013-07-16  1290.800049  1291.400024  1279.400024  1279.400024     13\n",
      "2013-07-17  1277.900024  1294.400024  1272.900024  1286.199951     11\n",
      "2013-07-18  1284.599976  1286.400024  1275.199951  1275.300049     26\n",
      "2013-07-19  1293.300049  1293.300049  1290.000000  1291.699951      9\n",
      "2013-07-22  1336.400024  1336.400024  1317.000000  1317.000000     18\n",
      "Warning: 'Adj Close' not found in gold data. Available columns: MultiIndex([( 'Close', 'GC=F'),\n",
      "            (  'High', 'GC=F'),\n",
      "            (   'Low', 'GC=F'),\n",
      "            (  'Open', 'GC=F'),\n",
      "            ('Volume', 'GC=F')],\n",
      "           names=['Price', 'Ticker'])\n"
     ]
    },
    {
     "name": "stderr",
     "output_type": "stream",
     "text": [
      "[*********************100%***********************]  1 of 1 completed"
     ]
    },
    {
     "name": "stdout",
     "output_type": "stream",
     "text": [
      "Downloading data for 2013-09-18 (2013-09-03 to 2013-10-03)\n",
      "Downloaded data for ^GSPC:\n",
      "Price             Close         High          Low         Open      Volume\n",
      "Ticker            ^GSPC        ^GSPC        ^GSPC        ^GSPC       ^GSPC\n",
      "Date                                                                      \n",
      "2013-09-03  1639.770020  1651.349976  1633.410034  1635.949951  3731610000\n",
      "2013-09-04  1653.079956  1655.719971  1637.410034  1640.719971  3312150000\n",
      "2013-09-05  1655.079956  1659.170044  1653.069946  1653.280029  2957110000\n",
      "2013-09-06  1655.170044  1664.829956  1640.619995  1657.439941  3123880000\n",
      "2013-09-09  1671.709961  1672.400024  1656.849976  1656.849976  3102780000\n",
      "Warning: 'Adj Close' not found for ^GSPC. Available columns: MultiIndex([( 'Close', '^GSPC'),\n",
      "            (  'High', '^GSPC'),\n",
      "            (   'Low', '^GSPC'),\n",
      "            (  'Open', '^GSPC'),\n",
      "            ('Volume', '^GSPC')],\n",
      "           names=['Price', 'Ticker'])\n"
     ]
    },
    {
     "name": "stderr",
     "output_type": "stream",
     "text": [
      "\n",
      "[*********************100%***********************]  1 of 1 completed\n",
      "[*********************100%***********************]  1 of 1 completed\n"
     ]
    },
    {
     "name": "stdout",
     "output_type": "stream",
     "text": [
      "Downloaded data for ^IXIC:\n",
      "Price             Close         High          Low         Open      Volume\n",
      "Ticker            ^IXIC        ^IXIC        ^IXIC        ^IXIC       ^IXIC\n",
      "Date                                                                      \n",
      "2013-09-03  3612.610107  3637.060059  3593.620117  3622.639893  1628810000\n",
      "2013-09-04  3649.040039  3651.780029  3612.219971  3619.050049  1855980000\n",
      "2013-09-05  3658.780029  3665.010010  3651.169922  3652.439941  1550180000\n",
      "2013-09-06  3660.010010  3677.070068  3618.770020  3672.820068  1647310000\n",
      "2013-09-09  3706.179932  3708.419922  3675.120117  3675.120117  1664290000\n",
      "Warning: 'Adj Close' not found for ^IXIC. Available columns: MultiIndex([( 'Close', '^IXIC'),\n",
      "            (  'High', '^IXIC'),\n",
      "            (   'Low', '^IXIC'),\n",
      "            (  'Open', '^IXIC'),\n",
      "            ('Volume', '^IXIC')],\n",
      "           names=['Price', 'Ticker'])\n",
      "Downloaded data for ^DJI:\n",
      "Price              Close          High           Low          Open     Volume\n",
      "Ticker              ^DJI          ^DJI          ^DJI          ^DJI       ^DJI\n",
      "Date                                                                         \n",
      "2013-09-03  14833.959961  14933.349609  14777.480469  14801.549805  142530000\n",
      "2013-09-04  14930.870117  14956.740234  14799.089844  14832.419922  122150000\n",
      "2013-09-05  14937.480469  14987.469727  14923.269531  14929.490234  101010000\n",
      "2013-09-06  14922.500000  15009.839844  14789.400391  14941.549805  108410000\n",
      "2013-09-09  15063.120117  15088.410156  14927.190430  14927.190430   90660000\n",
      "Warning: 'Adj Close' not found for ^DJI. Available columns: MultiIndex([( 'Close', '^DJI'),\n",
      "            (  'High', '^DJI'),\n",
      "            (   'Low', '^DJI'),\n",
      "            (  'Open', '^DJI'),\n",
      "            ('Volume', '^DJI')],\n",
      "           names=['Price', 'Ticker'])\n",
      "Error downloading USD/EUR: Thank you for using Alpha Vantage! Our standard API rate limit is 25 requests per day. Please subscribe to any of the premium plans at https://www.alphavantage.co/premium/ to instantly remove all daily rate limits.\n",
      "Error downloading USD/JPY: Thank you for using Alpha Vantage! Our standard API rate limit is 25 requests per day. Please subscribe to any of the premium plans at https://www.alphavantage.co/premium/ to instantly remove all daily rate limits.\n"
     ]
    },
    {
     "name": "stderr",
     "output_type": "stream",
     "text": [
      "[*********************100%***********************]  1 of 1 completed\n"
     ]
    },
    {
     "name": "stdout",
     "output_type": "stream",
     "text": [
      "Downloaded Gold Data:\n",
      "Price             Close         High          Low         Open Volume\n",
      "Ticker             GC=F         GC=F         GC=F         GC=F   GC=F\n",
      "Date                                                                 \n",
      "2013-09-03  1412.000000  1414.400024  1382.300049  1393.000000    139\n",
      "2013-09-04  1389.900024  1413.000000  1387.099976  1413.000000    104\n",
      "2013-09-05  1373.099976  1397.500000  1367.099976  1393.500000     37\n",
      "2013-09-06  1386.699951  1390.099976  1368.900024  1371.000000     52\n",
      "2013-09-09  1386.800049  1389.800049  1386.500000  1389.800049     44\n",
      "Warning: 'Adj Close' not found in gold data. Available columns: MultiIndex([( 'Close', 'GC=F'),\n",
      "            (  'High', 'GC=F'),\n",
      "            (   'Low', 'GC=F'),\n",
      "            (  'Open', 'GC=F'),\n",
      "            ('Volume', 'GC=F')],\n",
      "           names=['Price', 'Ticker'])\n"
     ]
    },
    {
     "name": "stderr",
     "output_type": "stream",
     "text": [
      "[*********************100%***********************]  1 of 1 completed"
     ]
    },
    {
     "name": "stdout",
     "output_type": "stream",
     "text": [
      "Downloading data for 2013-10-30 (2013-10-15 to 2013-11-14)\n",
      "Downloaded data for ^GSPC:\n",
      "Price             Close         High          Low         Open      Volume\n",
      "Ticker            ^GSPC        ^GSPC        ^GSPC        ^GSPC       ^GSPC\n",
      "Date                                                                      \n",
      "2013-10-15  1698.060059  1711.569946  1695.930054  1709.170044  3327740000\n",
      "2013-10-16  1721.540039  1721.760010  1700.489990  1700.489990  3486180000\n",
      "2013-10-17  1733.150024  1733.449951  1714.119995  1720.170044  3453590000\n",
      "2013-10-18  1744.500000  1745.310059  1735.739990  1736.719971  3664890000\n",
      "2013-10-21  1744.660034  1747.790039  1740.670044  1745.199951  3052710000\n",
      "Warning: 'Adj Close' not found for ^GSPC. Available columns: MultiIndex([( 'Close', '^GSPC'),\n",
      "            (  'High', '^GSPC'),\n",
      "            (   'Low', '^GSPC'),\n",
      "            (  'Open', '^GSPC'),\n",
      "            ('Volume', '^GSPC')],\n",
      "           names=['Price', 'Ticker'])\n"
     ]
    },
    {
     "name": "stderr",
     "output_type": "stream",
     "text": [
      "\n",
      "[*********************100%***********************]  1 of 1 completed\n",
      "[*********************100%***********************]  1 of 1 completed\n"
     ]
    },
    {
     "name": "stdout",
     "output_type": "stream",
     "text": [
      "Downloaded data for ^IXIC:\n",
      "Price             Close         High          Low         Open      Volume\n",
      "Ticker            ^IXIC        ^IXIC        ^IXIC        ^IXIC       ^IXIC\n",
      "Date                                                                      \n",
      "2013-10-15  3794.010010  3824.439941  3789.679932  3810.719971  1745560000\n",
      "2013-10-16  3839.429932  3840.479980  3814.149902  3815.000000  1744000000\n",
      "2013-10-17  3863.149902  3863.489990  3821.429932  3822.850098  1975140000\n",
      "2013-10-18  3914.280029  3914.929932  3882.060059  3893.360107  1943090000\n",
      "2013-10-21  3920.050049  3931.449951  3909.909912  3922.649902  1674470000\n",
      "Warning: 'Adj Close' not found for ^IXIC. Available columns: MultiIndex([( 'Close', '^IXIC'),\n",
      "            (  'High', '^IXIC'),\n",
      "            (   'Low', '^IXIC'),\n",
      "            (  'Open', '^IXIC'),\n",
      "            ('Volume', '^IXIC')],\n",
      "           names=['Price', 'Ticker'])\n",
      "Downloaded data for ^DJI:\n",
      "Price              Close          High           Low          Open     Volume\n",
      "Ticker              ^DJI          ^DJI          ^DJI          ^DJI       ^DJI\n",
      "Date                                                                         \n",
      "2013-10-15  15168.009766  15301.910156  15161.330078  15300.299805   91440000\n",
      "2013-10-16  15373.830078  15374.150391  15170.700195  15170.700195   92850000\n",
      "2013-10-17  15371.650391  15376.110352  15229.019531  15369.459961  108490000\n",
      "2013-10-18  15399.650391  15412.969727  15321.809570  15371.709961  156660000\n",
      "2013-10-21  15392.200195  15410.179688  15362.660156  15401.320312   93660000\n",
      "Warning: 'Adj Close' not found for ^DJI. Available columns: MultiIndex([( 'Close', '^DJI'),\n",
      "            (  'High', '^DJI'),\n",
      "            (   'Low', '^DJI'),\n",
      "            (  'Open', '^DJI'),\n",
      "            ('Volume', '^DJI')],\n",
      "           names=['Price', 'Ticker'])\n",
      "Error downloading USD/EUR: Thank you for using Alpha Vantage! Our standard API rate limit is 25 requests per day. Please subscribe to any of the premium plans at https://www.alphavantage.co/premium/ to instantly remove all daily rate limits.\n",
      "Error downloading USD/JPY: Thank you for using Alpha Vantage! Our standard API rate limit is 25 requests per day. Please subscribe to any of the premium plans at https://www.alphavantage.co/premium/ to instantly remove all daily rate limits.\n"
     ]
    },
    {
     "name": "stderr",
     "output_type": "stream",
     "text": [
      "[*********************100%***********************]  1 of 1 completed\n"
     ]
    },
    {
     "name": "stdout",
     "output_type": "stream",
     "text": [
      "Downloaded Gold Data:\n",
      "Price             Close         High          Low         Open Volume\n",
      "Ticker             GC=F         GC=F         GC=F         GC=F   GC=F\n",
      "Date                                                                 \n",
      "2013-10-15  1273.000000  1283.599976  1254.099976  1270.500000    208\n",
      "2013-10-16  1282.000000  1284.000000  1269.199951  1282.800049     86\n",
      "2013-10-17  1322.699951  1322.699951  1307.000000  1307.000000     72\n",
      "2013-10-18  1314.400024  1326.000000  1312.599976  1318.800049     65\n",
      "2013-10-21  1315.699951  1317.699951  1315.699951  1316.800049     23\n",
      "Warning: 'Adj Close' not found in gold data. Available columns: MultiIndex([( 'Close', 'GC=F'),\n",
      "            (  'High', 'GC=F'),\n",
      "            (   'Low', 'GC=F'),\n",
      "            (  'Open', 'GC=F'),\n",
      "            ('Volume', 'GC=F')],\n",
      "           names=['Price', 'Ticker'])\n"
     ]
    },
    {
     "name": "stderr",
     "output_type": "stream",
     "text": [
      "[*********************100%***********************]  1 of 1 completed"
     ]
    },
    {
     "name": "stdout",
     "output_type": "stream",
     "text": [
      "Downloading data for 2013-12-18 (2013-12-03 to 2014-01-02)\n",
      "Downloaded data for ^GSPC:\n",
      "Price             Close         High          Low         Open      Volume\n",
      "Ticker            ^GSPC        ^GSPC        ^GSPC        ^GSPC       ^GSPC\n",
      "Date                                                                      \n",
      "2013-12-03  1795.150024  1800.099976  1787.849976  1800.099976  3475680000\n",
      "2013-12-04  1792.810059  1799.800049  1779.089966  1793.150024  3610540000\n",
      "2013-12-05  1785.030029  1792.819946  1783.380005  1792.819946  3336880000\n",
      "2013-12-06  1805.089966  1806.040039  1788.359985  1788.359985  3150030000\n",
      "2013-12-09  1808.369995  1811.520020  1806.209961  1806.209961  3129500000\n",
      "Warning: 'Adj Close' not found for ^GSPC. Available columns: MultiIndex([( 'Close', '^GSPC'),\n",
      "            (  'High', '^GSPC'),\n",
      "            (   'Low', '^GSPC'),\n",
      "            (  'Open', '^GSPC'),\n",
      "            ('Volume', '^GSPC')],\n",
      "           names=['Price', 'Ticker'])\n"
     ]
    },
    {
     "name": "stderr",
     "output_type": "stream",
     "text": [
      "\n",
      "[*********************100%***********************]  1 of 1 completed\n",
      "[*********************100%***********************]  1 of 1 completed\n"
     ]
    },
    {
     "name": "stdout",
     "output_type": "stream",
     "text": [
      "Downloaded data for ^IXIC:\n",
      "Price             Close         High          Low         Open      Volume\n",
      "Ticker            ^IXIC        ^IXIC        ^IXIC        ^IXIC       ^IXIC\n",
      "Date                                                                      \n",
      "2013-12-03  4037.199951  4050.080078  4022.120117  4038.989990  1875010000\n",
      "2013-12-04  4038.000000  4051.739990  4004.760010  4020.330078  1886970000\n",
      "2013-12-05  4033.169922  4043.709961  4025.260010  4037.989990  1880950000\n",
      "2013-12-06  4062.520020  4069.860107  4042.350098  4069.860107  1727130000\n",
      "2013-12-09  4068.750000  4081.780029  4063.500000  4073.750000  1717120000\n",
      "Warning: 'Adj Close' not found for ^IXIC. Available columns: MultiIndex([( 'Close', '^IXIC'),\n",
      "            (  'High', '^IXIC'),\n",
      "            (   'Low', '^IXIC'),\n",
      "            (  'Open', '^IXIC'),\n",
      "            ('Volume', '^IXIC')],\n",
      "           names=['Price', 'Ticker'])\n",
      "Downloaded data for ^DJI:\n",
      "Price              Close          High           Low          Open     Volume\n",
      "Ticker              ^DJI          ^DJI          ^DJI          ^DJI       ^DJI\n",
      "Date                                                                         \n",
      "2013-12-03  15914.620117  16004.719727  15859.679688  16004.719727  103910000\n",
      "2013-12-04  15889.769531  15960.360352  15791.290039  15910.509766  111180000\n",
      "2013-12-05  15821.509766  15896.190430  15809.370117  15886.500000  128080000\n",
      "2013-12-06  16020.200195  16022.349609  15825.549805  15825.549805   98260000\n",
      "2013-12-09  16025.530273  16058.400391  16015.290039  16019.490234   91810000\n",
      "Warning: 'Adj Close' not found for ^DJI. Available columns: MultiIndex([( 'Close', '^DJI'),\n",
      "            (  'High', '^DJI'),\n",
      "            (   'Low', '^DJI'),\n",
      "            (  'Open', '^DJI'),\n",
      "            ('Volume', '^DJI')],\n",
      "           names=['Price', 'Ticker'])\n",
      "Error downloading USD/EUR: Thank you for using Alpha Vantage! Our standard API rate limit is 25 requests per day. Please subscribe to any of the premium plans at https://www.alphavantage.co/premium/ to instantly remove all daily rate limits.\n",
      "Error downloading USD/JPY: Thank you for using Alpha Vantage! Our standard API rate limit is 25 requests per day. Please subscribe to any of the premium plans at https://www.alphavantage.co/premium/ to instantly remove all daily rate limits.\n"
     ]
    },
    {
     "name": "stderr",
     "output_type": "stream",
     "text": [
      "[*********************100%***********************]  1 of 1 completed\n"
     ]
    },
    {
     "name": "stdout",
     "output_type": "stream",
     "text": [
      "Downloaded Gold Data:\n",
      "Price             Close         High          Low         Open Volume\n",
      "Ticker             GC=F         GC=F         GC=F         GC=F   GC=F\n",
      "Date                                                                 \n",
      "2013-12-03  1221.699951  1225.699951  1215.599976  1219.199951   1932\n",
      "2013-12-04  1248.199951  1250.400024  1212.900024  1225.099976   1823\n",
      "2013-12-05  1233.199951  1241.500000  1218.599976  1240.000000    446\n",
      "2013-12-06  1230.300049  1242.000000  1213.000000  1228.699951   1032\n",
      "2013-12-09  1235.300049  1243.199951  1229.000000  1230.199951    352\n",
      "Warning: 'Adj Close' not found in gold data. Available columns: MultiIndex([( 'Close', 'GC=F'),\n",
      "            (  'High', 'GC=F'),\n",
      "            (   'Low', 'GC=F'),\n",
      "            (  'Open', 'GC=F'),\n",
      "            ('Volume', 'GC=F')],\n",
      "           names=['Price', 'Ticker'])\n"
     ]
    },
    {
     "name": "stderr",
     "output_type": "stream",
     "text": [
      "[*********************100%***********************]  1 of 1 completed"
     ]
    },
    {
     "name": "stdout",
     "output_type": "stream",
     "text": [
      "Downloading data for 2014-01-29 (2014-01-14 to 2014-02-13)\n",
      "Downloaded data for ^GSPC:\n",
      "Price             Close         High          Low         Open      Volume\n",
      "Ticker            ^GSPC        ^GSPC        ^GSPC        ^GSPC       ^GSPC\n",
      "Date                                                                      \n",
      "2014-01-14  1838.880005  1839.260010  1821.359985  1821.359985  3353270000\n",
      "2014-01-15  1848.380005  1850.839966  1840.520020  1840.520020  3777800000\n",
      "2014-01-16  1845.890015  1847.989990  1840.300049  1847.989990  3491310000\n",
      "2014-01-17  1838.699951  1846.040039  1835.229980  1844.229980  3626120000\n",
      "2014-01-21  1843.800049  1849.310059  1832.380005  1841.050049  3782470000\n",
      "Warning: 'Adj Close' not found for ^GSPC. Available columns: MultiIndex([( 'Close', '^GSPC'),\n",
      "            (  'High', '^GSPC'),\n",
      "            (   'Low', '^GSPC'),\n",
      "            (  'Open', '^GSPC'),\n",
      "            ('Volume', '^GSPC')],\n",
      "           names=['Price', 'Ticker'])\n"
     ]
    },
    {
     "name": "stderr",
     "output_type": "stream",
     "text": [
      "\n",
      "[*********************100%***********************]  1 of 1 completed\n",
      "[*********************100%***********************]  1 of 1 completed\n"
     ]
    },
    {
     "name": "stdout",
     "output_type": "stream",
     "text": [
      "Downloaded data for ^IXIC:\n",
      "Price             Close         High          Low         Open      Volume\n",
      "Ticker            ^IXIC        ^IXIC        ^IXIC        ^IXIC       ^IXIC\n",
      "Date                                                                      \n",
      "2014-01-14  4183.020020  4183.839844  4125.810059  4129.600098  2034180000\n",
      "2014-01-15  4214.879883  4218.790039  4195.979980  4196.529785  2101870000\n",
      "2014-01-16  4218.689941  4219.279785  4204.160156  4209.589844  2005850000\n",
      "2014-01-17  4197.580078  4217.240234  4187.310059  4207.819824  2150370000\n",
      "2014-01-21  4225.759766  4227.930176  4193.169922  4222.979980  2034030000\n",
      "Warning: 'Adj Close' not found for ^IXIC. Available columns: MultiIndex([( 'Close', '^IXIC'),\n",
      "            (  'High', '^IXIC'),\n",
      "            (   'Low', '^IXIC'),\n",
      "            (  'Open', '^IXIC'),\n",
      "            ('Volume', '^IXIC')],\n",
      "           names=['Price', 'Ticker'])\n",
      "Downloaded data for ^DJI:\n",
      "Price              Close          High           Low          Open     Volume\n",
      "Ticker              ^DJI          ^DJI          ^DJI          ^DJI       ^DJI\n",
      "Date                                                                         \n",
      "2014-01-14  16373.860352  16373.919922  16260.830078  16261.990234   98610000\n",
      "2014-01-15  16481.939453  16505.279297  16376.780273  16378.030273  101130000\n",
      "2014-01-16  16417.009766  16477.699219  16375.559570  16477.699219   87370000\n",
      "2014-01-17  16458.560547  16495.259766  16378.799805  16408.019531  184970000\n",
      "2014-01-21  16414.439453  16520.599609  16316.250000  16459.269531  111570000\n",
      "Warning: 'Adj Close' not found for ^DJI. Available columns: MultiIndex([( 'Close', '^DJI'),\n",
      "            (  'High', '^DJI'),\n",
      "            (   'Low', '^DJI'),\n",
      "            (  'Open', '^DJI'),\n",
      "            ('Volume', '^DJI')],\n",
      "           names=['Price', 'Ticker'])\n",
      "Error downloading USD/EUR: Thank you for using Alpha Vantage! Our standard API rate limit is 25 requests per day. Please subscribe to any of the premium plans at https://www.alphavantage.co/premium/ to instantly remove all daily rate limits.\n",
      "Error downloading USD/JPY: Thank you for using Alpha Vantage! Our standard API rate limit is 25 requests per day. Please subscribe to any of the premium plans at https://www.alphavantage.co/premium/ to instantly remove all daily rate limits.\n"
     ]
    },
    {
     "name": "stderr",
     "output_type": "stream",
     "text": [
      "[*********************100%***********************]  1 of 1 completed\n"
     ]
    },
    {
     "name": "stdout",
     "output_type": "stream",
     "text": [
      "Downloaded Gold Data:\n",
      "Price             Close         High          Low         Open Volume\n",
      "Ticker             GC=F         GC=F         GC=F         GC=F   GC=F\n",
      "Date                                                                 \n",
      "2014-01-14  1245.199951  1251.300049  1242.000000  1251.000000     37\n",
      "2014-01-15  1238.099976  1243.199951  1238.099976  1243.099976     68\n",
      "2014-01-16  1240.000000  1242.800049  1239.000000  1239.300049     48\n",
      "2014-01-17  1251.699951  1254.300049  1239.699951  1239.699951    101\n",
      "2014-01-21  1242.300049  1257.500000  1240.000000  1256.400024    224\n",
      "Warning: 'Adj Close' not found in gold data. Available columns: MultiIndex([( 'Close', 'GC=F'),\n",
      "            (  'High', 'GC=F'),\n",
      "            (   'Low', 'GC=F'),\n",
      "            (  'Open', 'GC=F'),\n",
      "            ('Volume', 'GC=F')],\n",
      "           names=['Price', 'Ticker'])\n"
     ]
    },
    {
     "name": "stderr",
     "output_type": "stream",
     "text": [
      "[*********************100%***********************]  1 of 1 completed"
     ]
    },
    {
     "name": "stdout",
     "output_type": "stream",
     "text": [
      "Downloading data for 2014-03-19 (2014-03-04 to 2014-04-03)\n",
      "Downloaded data for ^GSPC:\n",
      "Price             Close         High          Low         Open      Volume\n",
      "Ticker            ^GSPC        ^GSPC        ^GSPC        ^GSPC       ^GSPC\n",
      "Date                                                                      \n",
      "2014-03-04  1873.910034  1876.229980  1849.229980  1849.229980  3765770000\n",
      "2014-03-05  1873.810059  1876.530029  1871.109985  1874.050049  3392990000\n",
      "2014-03-06  1877.030029  1881.939941  1874.180054  1874.180054  3360450000\n",
      "2014-03-07  1878.040039  1883.569946  1870.560059  1878.520020  3564740000\n",
      "2014-03-10  1877.170044  1877.869995  1867.040039  1877.859985  3021350000\n",
      "Warning: 'Adj Close' not found for ^GSPC. Available columns: MultiIndex([( 'Close', '^GSPC'),\n",
      "            (  'High', '^GSPC'),\n",
      "            (   'Low', '^GSPC'),\n",
      "            (  'Open', '^GSPC'),\n",
      "            ('Volume', '^GSPC')],\n",
      "           names=['Price', 'Ticker'])\n"
     ]
    },
    {
     "name": "stderr",
     "output_type": "stream",
     "text": [
      "\n",
      "[*********************100%***********************]  1 of 1 completed\n",
      "[*********************100%***********************]  1 of 1 completed\n"
     ]
    },
    {
     "name": "stdout",
     "output_type": "stream",
     "text": [
      "Downloaded data for ^IXIC:\n",
      "Price             Close         High          Low         Open      Volume\n",
      "Ticker            ^IXIC        ^IXIC        ^IXIC        ^IXIC       ^IXIC\n",
      "Date                                                                      \n",
      "2014-03-04  4351.970215  4357.209961  4327.540039  4327.850098  2477850000\n",
      "2014-03-05  4357.970215  4362.500000  4344.149902  4352.759766  2215980000\n",
      "2014-03-06  4352.129883  4371.709961  4341.000000  4368.810059  2136260000\n",
      "2014-03-07  4336.220215  4371.390137  4319.149902  4370.979980  2175560000\n",
      "2014-03-10  4334.450195  4339.930176  4307.839844  4332.620117  2111610000\n",
      "Warning: 'Adj Close' not found for ^IXIC. Available columns: MultiIndex([( 'Close', '^IXIC'),\n",
      "            (  'High', '^IXIC'),\n",
      "            (   'Low', '^IXIC'),\n",
      "            (  'Open', '^IXIC'),\n",
      "            ('Volume', '^IXIC')],\n",
      "           names=['Price', 'Ticker'])\n",
      "Downloaded data for ^DJI:\n",
      "Price              Close          High           Low          Open    Volume\n",
      "Ticker              ^DJI          ^DJI          ^DJI          ^DJI      ^DJI\n",
      "Date                                                                        \n",
      "2014-03-04  16395.880859  16419.490234  16169.320312  16169.320312  96120000\n",
      "2014-03-05  16360.179688  16406.550781  16343.959961  16395.880859  73980000\n",
      "2014-03-06  16421.890625  16450.169922  16360.559570  16360.559570  75900000\n",
      "2014-03-07  16452.720703  16505.699219  16398.859375  16424.529297  80690000\n",
      "2014-03-10  16418.679688  16453.099609  16334.200195  16453.099609  68210000\n",
      "Warning: 'Adj Close' not found for ^DJI. Available columns: MultiIndex([( 'Close', '^DJI'),\n",
      "            (  'High', '^DJI'),\n",
      "            (   'Low', '^DJI'),\n",
      "            (  'Open', '^DJI'),\n",
      "            ('Volume', '^DJI')],\n",
      "           names=['Price', 'Ticker'])\n",
      "Error downloading USD/EUR: Thank you for using Alpha Vantage! Our standard API rate limit is 25 requests per day. Please subscribe to any of the premium plans at https://www.alphavantage.co/premium/ to instantly remove all daily rate limits.\n",
      "Error downloading USD/JPY: Thank you for using Alpha Vantage! Our standard API rate limit is 25 requests per day. Please subscribe to any of the premium plans at https://www.alphavantage.co/premium/ to instantly remove all daily rate limits.\n"
     ]
    },
    {
     "name": "stderr",
     "output_type": "stream",
     "text": [
      "[*********************100%***********************]  1 of 1 completed\n"
     ]
    },
    {
     "name": "stdout",
     "output_type": "stream",
     "text": [
      "Downloaded Gold Data:\n",
      "Price             Close         High          Low         Open Volume\n",
      "Ticker             GC=F         GC=F         GC=F         GC=F   GC=F\n",
      "Date                                                                 \n",
      "2014-03-04  1337.800049  1350.400024  1332.199951  1350.400024     80\n",
      "2014-03-05  1340.199951  1341.000000  1334.800049  1334.800049     32\n",
      "2014-03-06  1351.699951  1351.699951  1333.300049  1338.000000     59\n",
      "2014-03-07  1338.099976  1352.699951  1329.199951  1349.500000     97\n",
      "2014-03-10  1341.400024  1344.699951  1330.500000  1336.000000     97\n",
      "Warning: 'Adj Close' not found in gold data. Available columns: MultiIndex([( 'Close', 'GC=F'),\n",
      "            (  'High', 'GC=F'),\n",
      "            (   'Low', 'GC=F'),\n",
      "            (  'Open', 'GC=F'),\n",
      "            ('Volume', 'GC=F')],\n",
      "           names=['Price', 'Ticker'])\n"
     ]
    },
    {
     "name": "stderr",
     "output_type": "stream",
     "text": [
      "[*********************100%***********************]  1 of 1 completed"
     ]
    },
    {
     "name": "stdout",
     "output_type": "stream",
     "text": [
      "Downloading data for 2014-04-30 (2014-04-15 to 2014-05-15)\n",
      "Downloaded data for ^GSPC:\n",
      "Price             Close         High          Low         Open      Volume\n",
      "Ticker            ^GSPC        ^GSPC        ^GSPC        ^GSPC       ^GSPC\n",
      "Date                                                                      \n",
      "2014-04-15  1842.979980  1844.020020  1816.290039  1831.449951  3736440000\n",
      "2014-04-16  1862.310059  1862.310059  1846.010010  1846.010010  3155080000\n",
      "2014-04-17  1864.849976  1869.630005  1856.719971  1861.729980  3341430000\n",
      "2014-04-21  1871.890015  1871.890015  1863.180054  1865.790039  2642500000\n",
      "2014-04-22  1879.550049  1884.890015  1872.569946  1872.569946  3215440000\n",
      "Warning: 'Adj Close' not found for ^GSPC. Available columns: MultiIndex([( 'Close', '^GSPC'),\n",
      "            (  'High', '^GSPC'),\n",
      "            (   'Low', '^GSPC'),\n",
      "            (  'Open', '^GSPC'),\n",
      "            ('Volume', '^GSPC')],\n",
      "           names=['Price', 'Ticker'])\n"
     ]
    },
    {
     "name": "stderr",
     "output_type": "stream",
     "text": [
      "\n",
      "[*********************100%***********************]  1 of 1 completed\n",
      "[*********************100%***********************]  1 of 1 completed\n"
     ]
    },
    {
     "name": "stdout",
     "output_type": "stream",
     "text": [
      "Downloaded data for ^IXIC:\n",
      "Price             Close         High          Low         Open      Volume\n",
      "Ticker            ^IXIC        ^IXIC        ^IXIC        ^IXIC       ^IXIC\n",
      "Date                                                                      \n",
      "2014-04-15  4034.159912  4054.800049  3946.030029  4032.629883  2413110000\n",
      "2014-04-16  4086.229980  4086.280029  4038.810059  4066.820068  1863110000\n",
      "2014-04-17  4095.520020  4110.459961  4064.699951  4080.300049  1954720000\n",
      "2014-04-21  4121.549805  4121.549805  4081.909912  4105.370117  1544440000\n",
      "2014-04-22  4161.459961  4170.720215  4131.609863  4132.060059  1875930000\n",
      "Warning: 'Adj Close' not found for ^IXIC. Available columns: MultiIndex([( 'Close', '^IXIC'),\n",
      "            (  'High', '^IXIC'),\n",
      "            (   'Low', '^IXIC'),\n",
      "            (  'Open', '^IXIC'),\n",
      "            ('Volume', '^IXIC')],\n",
      "           names=['Price', 'Ticker'])\n",
      "Downloaded data for ^DJI:\n",
      "Price              Close          High           Low          Open     Volume\n",
      "Ticker              ^DJI          ^DJI          ^DJI          ^DJI       ^DJI\n",
      "Date                                                                         \n",
      "2014-04-15  16262.559570  16272.950195  16063.200195  16173.490234   97850000\n",
      "2014-04-16  16424.849609  16424.849609  16266.230469  16266.230469   94650000\n",
      "2014-04-17  16408.539062  16460.490234  16368.139648  16424.140625  136190000\n",
      "2014-04-21  16449.250000  16459.779297  16402.080078  16408.919922   79500000\n",
      "2014-04-22  16514.369141  16565.710938  16449.380859  16449.380859   84830000\n",
      "Warning: 'Adj Close' not found for ^DJI. Available columns: MultiIndex([( 'Close', '^DJI'),\n",
      "            (  'High', '^DJI'),\n",
      "            (   'Low', '^DJI'),\n",
      "            (  'Open', '^DJI'),\n",
      "            ('Volume', '^DJI')],\n",
      "           names=['Price', 'Ticker'])\n",
      "Error downloading USD/EUR: Thank you for using Alpha Vantage! Our standard API rate limit is 25 requests per day. Please subscribe to any of the premium plans at https://www.alphavantage.co/premium/ to instantly remove all daily rate limits.\n",
      "Error downloading USD/JPY: Thank you for using Alpha Vantage! Our standard API rate limit is 25 requests per day. Please subscribe to any of the premium plans at https://www.alphavantage.co/premium/ to instantly remove all daily rate limits.\n"
     ]
    },
    {
     "name": "stderr",
     "output_type": "stream",
     "text": [
      "[*********************100%***********************]  1 of 1 completed\n"
     ]
    },
    {
     "name": "stdout",
     "output_type": "stream",
     "text": [
      "Downloaded Gold Data:\n",
      "Price             Close         High          Low         Open Volume\n",
      "Ticker             GC=F         GC=F         GC=F         GC=F   GC=F\n",
      "Date                                                                 \n",
      "2014-04-15  1300.000000  1322.699951  1291.500000  1322.699951    238\n",
      "2014-04-16  1303.099976  1303.500000  1295.000000  1302.699951    177\n",
      "2014-04-17  1293.400024  1303.000000  1292.500000  1300.099976    124\n",
      "2014-04-21  1288.000000  1299.199951  1283.800049  1290.000000    100\n",
      "2014-04-22  1280.599976  1291.599976  1276.000000  1289.199951    100\n",
      "Warning: 'Adj Close' not found in gold data. Available columns: MultiIndex([( 'Close', 'GC=F'),\n",
      "            (  'High', 'GC=F'),\n",
      "            (   'Low', 'GC=F'),\n",
      "            (  'Open', 'GC=F'),\n",
      "            ('Volume', 'GC=F')],\n",
      "           names=['Price', 'Ticker'])\n"
     ]
    },
    {
     "name": "stderr",
     "output_type": "stream",
     "text": [
      "[*********************100%***********************]  1 of 1 completed"
     ]
    },
    {
     "name": "stdout",
     "output_type": "stream",
     "text": [
      "Downloading data for 2014-06-18 (2014-06-03 to 2014-07-03)\n",
      "Downloaded data for ^GSPC:\n",
      "Price             Close         High          Low         Open      Volume\n",
      "Ticker            ^GSPC        ^GSPC        ^GSPC        ^GSPC       ^GSPC\n",
      "Date                                                                      \n",
      "2014-06-03  1924.239990  1925.069946  1918.790039  1923.069946  2867180000\n",
      "2014-06-04  1927.880005  1928.630005  1918.599976  1923.060059  2793920000\n",
      "2014-06-05  1940.459961  1941.739990  1922.930054  1928.520020  3113270000\n",
      "2014-06-06  1949.439941  1949.439941  1942.410034  1942.410034  2864300000\n",
      "2014-06-09  1951.270020  1955.550049  1947.160034  1948.969971  2812180000\n",
      "Warning: 'Adj Close' not found for ^GSPC. Available columns: MultiIndex([( 'Close', '^GSPC'),\n",
      "            (  'High', '^GSPC'),\n",
      "            (   'Low', '^GSPC'),\n",
      "            (  'Open', '^GSPC'),\n",
      "            ('Volume', '^GSPC')],\n",
      "           names=['Price', 'Ticker'])\n"
     ]
    },
    {
     "name": "stderr",
     "output_type": "stream",
     "text": [
      "\n",
      "[*********************100%***********************]  1 of 1 completed\n",
      "[*********************100%***********************]  1 of 1 completed\n"
     ]
    },
    {
     "name": "stdout",
     "output_type": "stream",
     "text": [
      "Downloaded data for ^IXIC:\n",
      "Price             Close         High          Low         Open      Volume\n",
      "Ticker            ^IXIC        ^IXIC        ^IXIC        ^IXIC       ^IXIC\n",
      "Date                                                                      \n",
      "2014-06-03  4234.080078  4240.350098  4215.799805  4222.040039  1718640000\n",
      "2014-06-04  4251.640137  4256.189941  4216.229980  4222.209961  1610090000\n",
      "2014-06-05  4296.229980  4299.500000  4241.680176  4259.120117  1926750000\n",
      "2014-06-06  4321.399902  4322.509766  4305.740234  4312.759766  1616650000\n",
      "2014-06-09  4336.240234  4346.740234  4320.279785  4324.350098  1783060000\n",
      "Warning: 'Adj Close' not found for ^IXIC. Available columns: MultiIndex([( 'Close', '^IXIC'),\n",
      "            (  'High', '^IXIC'),\n",
      "            (   'Low', '^IXIC'),\n",
      "            (  'Open', '^IXIC'),\n",
      "            ('Volume', '^IXIC')],\n",
      "           names=['Price', 'Ticker'])\n",
      "Downloaded data for ^DJI:\n",
      "Price              Close          High           Low          Open    Volume\n",
      "Ticker              ^DJI          ^DJI          ^DJI          ^DJI      ^DJI\n",
      "Date                                                                        \n",
      "2014-06-03  16722.339844  16736.699219  16690.009766  16736.699219  67830000\n",
      "2014-06-04  16737.529297  16742.910156  16673.650391  16720.000000  65570000\n",
      "2014-06-05  16836.109375  16845.810547  16709.949219  16739.140625  70460000\n",
      "2014-06-06  16924.279297  16924.279297  16839.640625  16839.640625  80530000\n",
      "2014-06-09  16943.099609  16970.169922  16912.919922  16926.080078  67130000\n",
      "Warning: 'Adj Close' not found for ^DJI. Available columns: MultiIndex([( 'Close', '^DJI'),\n",
      "            (  'High', '^DJI'),\n",
      "            (   'Low', '^DJI'),\n",
      "            (  'Open', '^DJI'),\n",
      "            ('Volume', '^DJI')],\n",
      "           names=['Price', 'Ticker'])\n",
      "Error downloading USD/EUR: Thank you for using Alpha Vantage! Our standard API rate limit is 25 requests per day. Please subscribe to any of the premium plans at https://www.alphavantage.co/premium/ to instantly remove all daily rate limits.\n",
      "Error downloading USD/JPY: Thank you for using Alpha Vantage! Our standard API rate limit is 25 requests per day. Please subscribe to any of the premium plans at https://www.alphavantage.co/premium/ to instantly remove all daily rate limits.\n"
     ]
    },
    {
     "name": "stderr",
     "output_type": "stream",
     "text": [
      "[*********************100%***********************]  1 of 1 completed\n"
     ]
    },
    {
     "name": "stdout",
     "output_type": "stream",
     "text": [
      "Downloaded Gold Data:\n",
      "Price             Close         High          Low         Open Volume\n",
      "Ticker             GC=F         GC=F         GC=F         GC=F   GC=F\n",
      "Date                                                                 \n",
      "2014-06-03  1244.300049  1247.500000  1240.500000  1244.099976    654\n",
      "2014-06-04  1244.000000  1248.800049  1242.699951  1245.099976    604\n",
      "2014-06-05  1253.000000  1256.599976  1241.199951  1244.000000   1317\n",
      "2014-06-06  1252.099976  1256.599976  1246.300049  1253.400024    381\n",
      "2014-06-09  1253.500000  1256.099976  1252.599976  1252.699951     97\n",
      "Warning: 'Adj Close' not found in gold data. Available columns: MultiIndex([( 'Close', 'GC=F'),\n",
      "            (  'High', 'GC=F'),\n",
      "            (   'Low', 'GC=F'),\n",
      "            (  'Open', 'GC=F'),\n",
      "            ('Volume', 'GC=F')],\n",
      "           names=['Price', 'Ticker'])\n"
     ]
    },
    {
     "name": "stderr",
     "output_type": "stream",
     "text": [
      "[*********************100%***********************]  1 of 1 completed"
     ]
    },
    {
     "name": "stdout",
     "output_type": "stream",
     "text": [
      "Downloading data for 2014-07-30 (2014-07-15 to 2014-08-14)\n",
      "Downloaded data for ^GSPC:\n",
      "Price             Close         High          Low         Open      Volume\n",
      "Ticker            ^GSPC        ^GSPC        ^GSPC        ^GSPC       ^GSPC\n",
      "Date                                                                      \n",
      "2014-07-15  1973.280029  1982.520020  1965.339966  1977.359985  3328740000\n",
      "2014-07-16  1981.569946  1983.939941  1975.670044  1976.349976  3390950000\n",
      "2014-07-17  1958.119995  1981.800049  1955.589966  1979.750000  3381680000\n",
      "2014-07-18  1978.219971  1979.910034  1960.819946  1961.540039  3106060000\n",
      "2014-07-21  1973.630005  1976.930054  1965.770020  1976.930054  2611160000\n",
      "Warning: 'Adj Close' not found for ^GSPC. Available columns: MultiIndex([( 'Close', '^GSPC'),\n",
      "            (  'High', '^GSPC'),\n",
      "            (   'Low', '^GSPC'),\n",
      "            (  'Open', '^GSPC'),\n",
      "            ('Volume', '^GSPC')],\n",
      "           names=['Price', 'Ticker'])\n"
     ]
    },
    {
     "name": "stderr",
     "output_type": "stream",
     "text": [
      "\n",
      "[*********************100%***********************]  1 of 1 completed\n",
      "[*********************100%***********************]  1 of 1 completed\n"
     ]
    },
    {
     "name": "stdout",
     "output_type": "stream",
     "text": [
      "Downloaded data for ^IXIC:\n",
      "Price             Close         High          Low         Open      Volume\n",
      "Ticker            ^IXIC        ^IXIC        ^IXIC        ^IXIC       ^IXIC\n",
      "Date                                                                      \n",
      "2014-07-15  4416.390137  4451.930176  4389.700195  4444.910156  1772030000\n",
      "2014-07-16  4425.970215  4448.870117  4419.709961  4446.169922  2059340000\n",
      "2014-07-17  4363.450195  4425.379883  4352.229980  4411.520020  2055240000\n",
      "2014-07-18  4432.149902  4434.439941  4378.220215  4379.939941  1823580000\n",
      "2014-07-21  4424.700195  4432.419922  4404.509766  4421.200195  1557820000\n",
      "Warning: 'Adj Close' not found for ^IXIC. Available columns: MultiIndex([( 'Close', '^IXIC'),\n",
      "            (  'High', '^IXIC'),\n",
      "            (   'Low', '^IXIC'),\n",
      "            (  'Open', '^IXIC'),\n",
      "            ('Volume', '^IXIC')],\n",
      "           names=['Price', 'Ticker'])\n",
      "Downloaded data for ^DJI:\n",
      "Price              Close          High           Low          Open     Volume\n",
      "Ticker              ^DJI          ^DJI          ^DJI          ^DJI       ^DJI\n",
      "Date                                                                         \n",
      "2014-07-15  17060.679688  17120.339844  17006.390625  17055.029297  101730000\n",
      "2014-07-16  17138.199219  17139.349609  17061.910156  17061.910156  111500000\n",
      "2014-07-17  16976.810547  17151.560547  16966.189453  17133.449219   99240000\n",
      "2014-07-18  17100.179688  17113.509766  16977.519531  16978.160156  112530000\n",
      "2014-07-21  17051.730469  17095.109375  16974.339844  17095.109375   67590000\n",
      "Warning: 'Adj Close' not found for ^DJI. Available columns: MultiIndex([( 'Close', '^DJI'),\n",
      "            (  'High', '^DJI'),\n",
      "            (   'Low', '^DJI'),\n",
      "            (  'Open', '^DJI'),\n",
      "            ('Volume', '^DJI')],\n",
      "           names=['Price', 'Ticker'])\n",
      "Error downloading USD/EUR: Thank you for using Alpha Vantage! Our standard API rate limit is 25 requests per day. Please subscribe to any of the premium plans at https://www.alphavantage.co/premium/ to instantly remove all daily rate limits.\n",
      "Error downloading USD/JPY: Thank you for using Alpha Vantage! Our standard API rate limit is 25 requests per day. Please subscribe to any of the premium plans at https://www.alphavantage.co/premium/ to instantly remove all daily rate limits.\n"
     ]
    },
    {
     "name": "stderr",
     "output_type": "stream",
     "text": [
      "[*********************100%***********************]  1 of 1 completed\n"
     ]
    },
    {
     "name": "stdout",
     "output_type": "stream",
     "text": [
      "Downloaded Gold Data:\n",
      "Price             Close         High          Low         Open Volume\n",
      "Ticker             GC=F         GC=F         GC=F         GC=F   GC=F\n",
      "Date                                                                 \n",
      "2014-07-15  1296.900024  1311.900024  1294.099976  1307.400024    368\n",
      "2014-07-16  1299.599976  1303.099976  1296.900024  1298.400024     34\n",
      "2014-07-17  1316.699951  1323.800049  1303.099976  1303.099976     16\n",
      "2014-07-18  1309.199951  1322.699951  1306.199951  1322.699951     27\n",
      "2014-07-21  1313.699951  1315.500000  1311.000000  1311.000000     18\n",
      "Warning: 'Adj Close' not found in gold data. Available columns: MultiIndex([( 'Close', 'GC=F'),\n",
      "            (  'High', 'GC=F'),\n",
      "            (   'Low', 'GC=F'),\n",
      "            (  'Open', 'GC=F'),\n",
      "            ('Volume', 'GC=F')],\n",
      "           names=['Price', 'Ticker'])\n"
     ]
    },
    {
     "name": "stderr",
     "output_type": "stream",
     "text": [
      "[*********************100%***********************]  1 of 1 completed"
     ]
    },
    {
     "name": "stdout",
     "output_type": "stream",
     "text": [
      "Downloading data for 2014-09-17 (2014-09-02 to 2014-10-02)\n",
      "Downloaded data for ^GSPC:\n",
      "Price             Close         High          Low         Open      Volume\n",
      "Ticker            ^GSPC        ^GSPC        ^GSPC        ^GSPC       ^GSPC\n",
      "Date                                                                      \n",
      "2014-09-02  2002.280029  2006.119995  1994.849976  2004.069946  2819980000\n",
      "2014-09-03  2000.719971  2009.280029  1998.140015  2003.569946  2809980000\n",
      "2014-09-04  1997.650024  2011.170044  1992.540039  2001.670044  3072410000\n",
      "2014-09-05  2007.709961  2007.709961  1990.099976  1998.000000  2818300000\n",
      "2014-09-08  2001.540039  2007.170044  1995.599976  2007.170044  2789090000\n",
      "Warning: 'Adj Close' not found for ^GSPC. Available columns: MultiIndex([( 'Close', '^GSPC'),\n",
      "            (  'High', '^GSPC'),\n",
      "            (   'Low', '^GSPC'),\n",
      "            (  'Open', '^GSPC'),\n",
      "            ('Volume', '^GSPC')],\n",
      "           names=['Price', 'Ticker'])\n"
     ]
    },
    {
     "name": "stderr",
     "output_type": "stream",
     "text": [
      "\n",
      "[*********************100%***********************]  1 of 1 completed\n",
      "[*********************100%***********************]  1 of 1 completed\n"
     ]
    },
    {
     "name": "stdout",
     "output_type": "stream",
     "text": [
      "Downloaded data for ^IXIC:\n",
      "Price             Close         High          Low         Open      Volume\n",
      "Ticker            ^IXIC        ^IXIC        ^IXIC        ^IXIC       ^IXIC\n",
      "Date                                                                      \n",
      "2014-09-02  4598.189941  4598.640137  4576.810059  4592.419922  1859080000\n",
      "2014-09-03  4572.560059  4610.140137  4565.379883  4610.140137  1897450000\n",
      "2014-09-04  4562.290039  4603.149902  4553.310059  4581.520020  1728700000\n",
      "2014-09-05  4582.899902  4583.000000  4542.740234  4560.629883  1641830000\n",
      "2014-09-08  4592.290039  4600.399902  4570.229980  4579.060059  1670210000\n",
      "Warning: 'Adj Close' not found for ^IXIC. Available columns: MultiIndex([( 'Close', '^IXIC'),\n",
      "            (  'High', '^IXIC'),\n",
      "            (   'Low', '^IXIC'),\n",
      "            (  'Open', '^IXIC'),\n",
      "            ('Volume', '^IXIC')],\n",
      "           names=['Price', 'Ticker'])\n",
      "Downloaded data for ^DJI:\n",
      "Price              Close          High           Low          Open    Volume\n",
      "Ticker              ^DJI          ^DJI          ^DJI          ^DJI      ^DJI\n",
      "Date                                                                        \n",
      "2014-09-02  17067.560547  17113.509766  17009.070312  17097.419922  64820000\n",
      "2014-09-03  17078.279297  17151.890625  17060.210938  17067.240234  62770000\n",
      "2014-09-04  17069.580078  17161.550781  17030.119141  17083.609375  68120000\n",
      "2014-09-05  17137.359375  17137.359375  17009.619141  17065.890625  76630000\n",
      "2014-09-08  17111.419922  17137.880859  17079.169922  17131.710938  65640000\n",
      "Warning: 'Adj Close' not found for ^DJI. Available columns: MultiIndex([( 'Close', '^DJI'),\n",
      "            (  'High', '^DJI'),\n",
      "            (   'Low', '^DJI'),\n",
      "            (  'Open', '^DJI'),\n",
      "            ('Volume', '^DJI')],\n",
      "           names=['Price', 'Ticker'])\n",
      "Error downloading USD/EUR: Thank you for using Alpha Vantage! Our standard API rate limit is 25 requests per day. Please subscribe to any of the premium plans at https://www.alphavantage.co/premium/ to instantly remove all daily rate limits.\n",
      "Error downloading USD/JPY: Thank you for using Alpha Vantage! Our standard API rate limit is 25 requests per day. Please subscribe to any of the premium plans at https://www.alphavantage.co/premium/ to instantly remove all daily rate limits.\n"
     ]
    },
    {
     "name": "stderr",
     "output_type": "stream",
     "text": [
      "[*********************100%***********************]  1 of 1 completed\n"
     ]
    },
    {
     "name": "stdout",
     "output_type": "stream",
     "text": [
      "Downloaded Gold Data:\n",
      "Price             Close         High          Low         Open Volume\n",
      "Ticker             GC=F         GC=F         GC=F         GC=F   GC=F\n",
      "Date                                                                 \n",
      "2014-09-02  1263.699951  1286.400024  1262.500000  1284.500000    280\n",
      "2014-09-03  1268.900024  1271.099976  1263.099976  1266.300049    279\n",
      "2014-09-04  1265.099976  1272.699951  1260.400024  1268.699951    290\n",
      "2014-09-05  1265.800049  1268.099976  1263.199951  1263.199951    123\n",
      "2014-09-08  1252.699951  1268.400024  1252.699951  1268.400024      2\n",
      "Warning: 'Adj Close' not found in gold data. Available columns: MultiIndex([( 'Close', 'GC=F'),\n",
      "            (  'High', 'GC=F'),\n",
      "            (   'Low', 'GC=F'),\n",
      "            (  'Open', 'GC=F'),\n",
      "            ('Volume', 'GC=F')],\n",
      "           names=['Price', 'Ticker'])\n"
     ]
    },
    {
     "name": "stderr",
     "output_type": "stream",
     "text": [
      "[*********************100%***********************]  1 of 1 completed"
     ]
    },
    {
     "name": "stdout",
     "output_type": "stream",
     "text": [
      "Downloading data for 2014-10-29 (2014-10-14 to 2014-11-13)\n",
      "Downloaded data for ^GSPC:\n",
      "Price             Close         High          Low         Open      Volume\n",
      "Ticker            ^GSPC        ^GSPC        ^GSPC        ^GSPC       ^GSPC\n",
      "Date                                                                      \n",
      "2014-10-14  1877.699951  1898.709961  1871.790039  1877.109985  4812010000\n",
      "2014-10-15  1862.489990  1874.180054  1820.660034  1874.180054  6090800000\n",
      "2014-10-16  1862.760010  1876.010010  1835.020020  1855.949951  5073150000\n",
      "2014-10-17  1886.760010  1898.160034  1864.910034  1864.910034  4482120000\n",
      "2014-10-20  1904.010010  1905.030029  1882.300049  1885.619995  3331210000\n",
      "Warning: 'Adj Close' not found for ^GSPC. Available columns: MultiIndex([( 'Close', '^GSPC'),\n",
      "            (  'High', '^GSPC'),\n",
      "            (   'Low', '^GSPC'),\n",
      "            (  'Open', '^GSPC'),\n",
      "            ('Volume', '^GSPC')],\n",
      "           names=['Price', 'Ticker'])\n"
     ]
    },
    {
     "name": "stderr",
     "output_type": "stream",
     "text": [
      "\n",
      "[*********************100%***********************]  1 of 1 completed\n",
      "[*********************100%***********************]  1 of 1 completed\n"
     ]
    },
    {
     "name": "stdout",
     "output_type": "stream",
     "text": [
      "Downloaded data for ^IXIC:\n",
      "Price             Close         High          Low         Open      Volume\n",
      "Ticker            ^IXIC        ^IXIC        ^IXIC        ^IXIC       ^IXIC\n",
      "Date                                                                      \n",
      "2014-10-14  4227.169922  4281.339844  4212.819824  4246.229980  2496120000\n",
      "2014-10-15  4215.319824  4231.540039  4116.600098  4154.100098  3058740000\n",
      "2014-10-16  4217.390137  4246.009766  4131.649902  4133.250000  2591940000\n",
      "2014-10-17  4258.439941  4296.109863  4241.669922  4275.089844  2260070000\n",
      "2014-10-20  4316.069824  4316.870117  4248.220215  4254.160156  1717370000\n",
      "Warning: 'Adj Close' not found for ^IXIC. Available columns: MultiIndex([( 'Close', '^IXIC'),\n",
      "            (  'High', '^IXIC'),\n",
      "            (   'Low', '^IXIC'),\n",
      "            (  'Open', '^IXIC'),\n",
      "            ('Volume', '^IXIC')],\n",
      "           names=['Price', 'Ticker'])\n",
      "Downloaded data for ^DJI:\n",
      "Price              Close          High           Low          Open     Volume\n",
      "Ticker              ^DJI          ^DJI          ^DJI          ^DJI       ^DJI\n",
      "Date                                                                         \n",
      "2014-10-14  16315.190430  16463.669922  16273.639648  16321.900391  110410000\n",
      "2014-10-15  16141.740234  16313.299805  15855.120117  16313.299805  160380000\n",
      "2014-10-16  16117.240234  16211.120117  15935.219727  16137.139648  131670000\n",
      "2014-10-17  16380.410156  16427.380859  16118.389648  16118.389648  137910000\n",
      "2014-10-20  16399.669922  16401.630859  16260.540039  16373.150391   94320000\n",
      "Warning: 'Adj Close' not found for ^DJI. Available columns: MultiIndex([( 'Close', '^DJI'),\n",
      "            (  'High', '^DJI'),\n",
      "            (   'Low', '^DJI'),\n",
      "            (  'Open', '^DJI'),\n",
      "            ('Volume', '^DJI')],\n",
      "           names=['Price', 'Ticker'])\n",
      "Error downloading USD/EUR: Thank you for using Alpha Vantage! Our standard API rate limit is 25 requests per day. Please subscribe to any of the premium plans at https://www.alphavantage.co/premium/ to instantly remove all daily rate limits.\n",
      "Error downloading USD/JPY: Thank you for using Alpha Vantage! Our standard API rate limit is 25 requests per day. Please subscribe to any of the premium plans at https://www.alphavantage.co/premium/ to instantly remove all daily rate limits.\n"
     ]
    },
    {
     "name": "stderr",
     "output_type": "stream",
     "text": [
      "[*********************100%***********************]  1 of 1 completed\n"
     ]
    },
    {
     "name": "stdout",
     "output_type": "stream",
     "text": [
      "Downloaded Gold Data:\n",
      "Price             Close         High          Low         Open Volume\n",
      "Ticker             GC=F         GC=F         GC=F         GC=F   GC=F\n",
      "Date                                                                 \n",
      "2014-10-14  1233.599976  1235.900024  1233.599976  1235.900024     73\n",
      "2014-10-15  1244.099976  1247.000000  1243.699951  1243.699951    250\n",
      "2014-10-16  1240.500000  1243.000000  1236.699951  1242.099976      6\n",
      "2014-10-17  1238.300049  1238.300049  1232.599976  1237.400024    356\n",
      "2014-10-20  1244.000000  1244.000000  1235.400024  1237.300049    105\n",
      "Warning: 'Adj Close' not found in gold data. Available columns: MultiIndex([( 'Close', 'GC=F'),\n",
      "            (  'High', 'GC=F'),\n",
      "            (   'Low', 'GC=F'),\n",
      "            (  'Open', 'GC=F'),\n",
      "            ('Volume', 'GC=F')],\n",
      "           names=['Price', 'Ticker'])\n"
     ]
    },
    {
     "name": "stderr",
     "output_type": "stream",
     "text": [
      "[*********************100%***********************]  1 of 1 completed"
     ]
    },
    {
     "name": "stdout",
     "output_type": "stream",
     "text": [
      "Downloading data for 2014-12-17 (2014-12-02 to 2015-01-01)\n",
      "Downloaded data for ^GSPC:\n",
      "Price             Close         High          Low         Open      Volume\n",
      "Ticker            ^GSPC        ^GSPC        ^GSPC        ^GSPC       ^GSPC\n",
      "Date                                                                      \n",
      "2014-12-02  2066.550049  2068.770020  2053.770020  2053.770020  3686650000\n",
      "2014-12-03  2074.330078  2076.280029  2066.649902  2067.449951  3612680000\n",
      "2014-12-04  2071.919922  2077.340088  2062.340088  2073.639893  3408340000\n",
      "2014-12-05  2075.370117  2079.469971  2070.810059  2072.780029  3419620000\n",
      "2014-12-08  2060.310059  2075.780029  2054.270020  2074.840088  3800990000\n",
      "Warning: 'Adj Close' not found for ^GSPC. Available columns: MultiIndex([( 'Close', '^GSPC'),\n",
      "            (  'High', '^GSPC'),\n",
      "            (   'Low', '^GSPC'),\n",
      "            (  'Open', '^GSPC'),\n",
      "            ('Volume', '^GSPC')],\n",
      "           names=['Price', 'Ticker'])\n"
     ]
    },
    {
     "name": "stderr",
     "output_type": "stream",
     "text": [
      "\n",
      "[*********************100%***********************]  1 of 1 completed\n",
      "[*********************100%***********************]  1 of 1 completed\n"
     ]
    },
    {
     "name": "stdout",
     "output_type": "stream",
     "text": [
      "Downloaded data for ^IXIC:\n",
      "Price             Close         High          Low         Open      Volume\n",
      "Ticker            ^IXIC        ^IXIC        ^IXIC        ^IXIC       ^IXIC\n",
      "Date                                                                      \n",
      "2014-12-02  4755.810059  4761.629883  4729.759766  4732.970215  1839170000\n",
      "2014-12-03  4774.470215  4781.370117  4745.140137  4761.310059  1734510000\n",
      "2014-12-04  4769.439941  4785.410156  4753.709961  4772.000000  1724090000\n",
      "2014-12-05  4780.759766  4788.979980  4769.640137  4776.580078  1767100000\n",
      "2014-12-08  4740.689941  4793.240234  4722.910156  4769.759766  1966770000\n",
      "Warning: 'Adj Close' not found for ^IXIC. Available columns: MultiIndex([( 'Close', '^IXIC'),\n",
      "            (  'High', '^IXIC'),\n",
      "            (   'Low', '^IXIC'),\n",
      "            (  'Open', '^IXIC'),\n",
      "            ('Volume', '^IXIC')],\n",
      "           names=['Price', 'Ticker'])\n",
      "Downloaded data for ^DJI:\n",
      "Price              Close          High           Low          Open    Volume\n",
      "Ticker              ^DJI          ^DJI          ^DJI          ^DJI      ^DJI\n",
      "Date                                                                        \n",
      "2014-12-02  17879.550781  17897.050781  17778.849609  17778.849609  81970000\n",
      "2014-12-03  17912.619141  17924.150391  17855.589844  17880.900391  99400000\n",
      "2014-12-04  17900.099609  17937.960938  17814.810547  17910.019531  76270000\n",
      "2014-12-05  17958.789062  17991.189453  17903.050781  17903.050781  79110000\n",
      "2014-12-08  17852.480469  17960.560547  17804.279297  17954.939453  88680000\n",
      "Warning: 'Adj Close' not found for ^DJI. Available columns: MultiIndex([( 'Close', '^DJI'),\n",
      "            (  'High', '^DJI'),\n",
      "            (   'Low', '^DJI'),\n",
      "            (  'Open', '^DJI'),\n",
      "            ('Volume', '^DJI')],\n",
      "           names=['Price', 'Ticker'])\n",
      "Error downloading USD/EUR: Thank you for using Alpha Vantage! Our standard API rate limit is 25 requests per day. Please subscribe to any of the premium plans at https://www.alphavantage.co/premium/ to instantly remove all daily rate limits.\n",
      "Error downloading USD/JPY: Thank you for using Alpha Vantage! Our standard API rate limit is 25 requests per day. Please subscribe to any of the premium plans at https://www.alphavantage.co/premium/ to instantly remove all daily rate limits.\n"
     ]
    },
    {
     "name": "stderr",
     "output_type": "stream",
     "text": [
      "[*********************100%***********************]  1 of 1 completed\n"
     ]
    },
    {
     "name": "stdout",
     "output_type": "stream",
     "text": [
      "Downloaded Gold Data:\n",
      "Price             Close         High          Low         Open Volume\n",
      "Ticker             GC=F         GC=F         GC=F         GC=F   GC=F\n",
      "Date                                                                 \n",
      "2014-12-02  1199.199951  1212.300049  1191.300049  1212.300049   1236\n",
      "2014-12-03  1208.500000  1213.699951  1196.099976  1198.099976    440\n",
      "2014-12-04  1207.500000  1213.000000  1201.599976  1208.199951    358\n",
      "2014-12-05  1190.099976  1206.000000  1186.699951  1203.099976    560\n",
      "2014-12-08  1194.699951  1207.000000  1187.199951  1190.599976    183\n",
      "Warning: 'Adj Close' not found in gold data. Available columns: MultiIndex([( 'Close', 'GC=F'),\n",
      "            (  'High', 'GC=F'),\n",
      "            (   'Low', 'GC=F'),\n",
      "            (  'Open', 'GC=F'),\n",
      "            ('Volume', 'GC=F')],\n",
      "           names=['Price', 'Ticker'])\n"
     ]
    },
    {
     "name": "stderr",
     "output_type": "stream",
     "text": [
      "[*********************100%***********************]  1 of 1 completed"
     ]
    },
    {
     "name": "stdout",
     "output_type": "stream",
     "text": [
      "Downloading data for 2015-01-28 (2015-01-13 to 2015-02-12)\n",
      "Downloaded data for ^GSPC:\n",
      "Price             Close         High          Low         Open      Volume\n",
      "Ticker            ^GSPC        ^GSPC        ^GSPC        ^GSPC       ^GSPC\n",
      "Date                                                                      \n",
      "2015-01-13  2023.030029  2056.929932  2008.250000  2031.579956  4107300000\n",
      "2015-01-14  2011.270020  2018.400024  1988.439941  2018.400024  4378680000\n",
      "2015-01-15  1992.670044  2021.349976  1991.469971  2013.750000  4276720000\n",
      "2015-01-16  2019.420044  2020.459961  1988.119995  1992.250000  4056410000\n",
      "2015-01-20  2022.550049  2028.939941  2004.489990  2020.760010  3944340000\n",
      "Warning: 'Adj Close' not found for ^GSPC. Available columns: MultiIndex([( 'Close', '^GSPC'),\n",
      "            (  'High', '^GSPC'),\n",
      "            (   'Low', '^GSPC'),\n",
      "            (  'Open', '^GSPC'),\n",
      "            ('Volume', '^GSPC')],\n",
      "           names=['Price', 'Ticker'])\n"
     ]
    },
    {
     "name": "stderr",
     "output_type": "stream",
     "text": [
      "\n",
      "[*********************100%***********************]  1 of 1 completed\n",
      "[*********************100%***********************]  1 of 1 completed\n"
     ]
    },
    {
     "name": "stdout",
     "output_type": "stream",
     "text": [
      "Downloaded data for ^IXIC:\n",
      "Price             Close         High          Low         Open      Volume\n",
      "Ticker            ^IXIC        ^IXIC        ^IXIC        ^IXIC       ^IXIC\n",
      "Date                                                                      \n",
      "2015-01-13  4661.500000  4751.339844  4624.279785  4708.740234  2162180000\n",
      "2015-01-14  4639.319824  4655.370117  4595.979980  4610.759766  2073810000\n",
      "2015-01-15  4570.819824  4663.959961  4567.390137  4657.459961  1976260000\n",
      "2015-01-16  4634.379883  4635.819824  4563.109863  4566.379883  1970520000\n",
      "2015-01-20  4654.850098  4665.649902  4601.100098  4655.839844  1835040000\n",
      "Warning: 'Adj Close' not found for ^IXIC. Available columns: MultiIndex([( 'Close', '^IXIC'),\n",
      "            (  'High', '^IXIC'),\n",
      "            (   'Low', '^IXIC'),\n",
      "            (  'Open', '^IXIC'),\n",
      "            ('Volume', '^IXIC')],\n",
      "           names=['Price', 'Ticker'])\n",
      "Downloaded data for ^DJI:\n",
      "Price              Close          High           Low          Open     Volume\n",
      "Ticker              ^DJI          ^DJI          ^DJI          ^DJI       ^DJI\n",
      "Date                                                                         \n",
      "2015-01-13  17613.679688  17923.009766  17498.230469  17645.019531   99360000\n",
      "2015-01-14  17427.089844  17609.060547  17264.900391  17609.060547  109180000\n",
      "2015-01-15  17320.710938  17517.410156  17298.039062  17436.300781   94520000\n",
      "2015-01-16  17511.570312  17528.369141  17243.550781  17320.000000  140480000\n",
      "2015-01-20  17515.230469  17588.699219  17346.730469  17516.960938  119600000\n",
      "Warning: 'Adj Close' not found for ^DJI. Available columns: MultiIndex([( 'Close', '^DJI'),\n",
      "            (  'High', '^DJI'),\n",
      "            (   'Low', '^DJI'),\n",
      "            (  'Open', '^DJI'),\n",
      "            ('Volume', '^DJI')],\n",
      "           names=['Price', 'Ticker'])\n",
      "Error downloading USD/EUR: Thank you for using Alpha Vantage! Our standard API rate limit is 25 requests per day. Please subscribe to any of the premium plans at https://www.alphavantage.co/premium/ to instantly remove all daily rate limits.\n",
      "Error downloading USD/JPY: Thank you for using Alpha Vantage! Our standard API rate limit is 25 requests per day. Please subscribe to any of the premium plans at https://www.alphavantage.co/premium/ to instantly remove all daily rate limits.\n"
     ]
    },
    {
     "name": "stderr",
     "output_type": "stream",
     "text": [
      "[*********************100%***********************]  1 of 1 completed\n"
     ]
    },
    {
     "name": "stdout",
     "output_type": "stream",
     "text": [
      "Downloaded Gold Data:\n",
      "Price             Close         High          Low         Open Volume\n",
      "Ticker             GC=F         GC=F         GC=F         GC=F   GC=F\n",
      "Date                                                                 \n",
      "2015-01-13  1234.300049  1239.300049  1230.300049  1239.199951     20\n",
      "2015-01-14  1234.400024  1243.800049  1225.599976  1229.599976     21\n",
      "2015-01-15  1264.699951  1265.000000  1227.300049  1231.500000    130\n",
      "2015-01-16  1276.900024  1279.699951  1256.099976  1256.099976     44\n",
      "2015-01-20  1294.199951  1297.300049  1273.800049  1278.900024    157\n",
      "Warning: 'Adj Close' not found in gold data. Available columns: MultiIndex([( 'Close', 'GC=F'),\n",
      "            (  'High', 'GC=F'),\n",
      "            (   'Low', 'GC=F'),\n",
      "            (  'Open', 'GC=F'),\n",
      "            ('Volume', 'GC=F')],\n",
      "           names=['Price', 'Ticker'])\n"
     ]
    },
    {
     "name": "stderr",
     "output_type": "stream",
     "text": [
      "[*********************100%***********************]  1 of 1 completed"
     ]
    },
    {
     "name": "stdout",
     "output_type": "stream",
     "text": [
      "Downloading data for 2015-03-18 (2015-03-03 to 2015-04-02)\n",
      "Downloaded data for ^GSPC:\n",
      "Price             Close         High          Low         Open      Volume\n",
      "Ticker            ^GSPC        ^GSPC        ^GSPC        ^GSPC       ^GSPC\n",
      "Date                                                                      \n",
      "2015-03-03  2107.780029  2115.760010  2098.260010  2115.760010  3262300000\n",
      "2015-03-04  2098.530029  2107.719971  2094.489990  2107.719971  3421110000\n",
      "2015-03-05  2101.040039  2104.250000  2095.219971  2098.540039  3103030000\n",
      "2015-03-06  2071.260010  2100.909912  2067.270020  2100.909912  3853570000\n",
      "2015-03-09  2079.429932  2083.489990  2072.209961  2072.250000  3349090000\n",
      "Warning: 'Adj Close' not found for ^GSPC. Available columns: MultiIndex([( 'Close', '^GSPC'),\n",
      "            (  'High', '^GSPC'),\n",
      "            (   'Low', '^GSPC'),\n",
      "            (  'Open', '^GSPC'),\n",
      "            ('Volume', '^GSPC')],\n",
      "           names=['Price', 'Ticker'])\n"
     ]
    },
    {
     "name": "stderr",
     "output_type": "stream",
     "text": [
      "\n",
      "[*********************100%***********************]  1 of 1 completed\n",
      "[*********************100%***********************]  1 of 1 completed\n"
     ]
    },
    {
     "name": "stdout",
     "output_type": "stream",
     "text": [
      "Downloaded data for ^IXIC:\n",
      "Price             Close         High          Low         Open      Volume\n",
      "Ticker            ^IXIC        ^IXIC        ^IXIC        ^IXIC       ^IXIC\n",
      "Date                                                                      \n",
      "2015-03-03  4979.899902  4996.660156  4956.069824  4990.700195  2018900000\n",
      "2015-03-04  4967.140137  4973.319824  4938.899902  4961.240234  1824830000\n",
      "2015-03-05  4982.810059  4993.520020  4963.100098  4979.950195  1724200000\n",
      "2015-03-06  4927.370117  4982.930176  4918.629883  4967.240234  1918220000\n",
      "2015-03-09  4942.439941  4950.470215  4920.819824  4936.080078  1696510000\n",
      "Warning: 'Adj Close' not found for ^IXIC. Available columns: MultiIndex([( 'Close', '^IXIC'),\n",
      "            (  'High', '^IXIC'),\n",
      "            (   'Low', '^IXIC'),\n",
      "            (  'Open', '^IXIC'),\n",
      "            ('Volume', '^IXIC')],\n",
      "           names=['Price', 'Ticker'])\n",
      "Downloaded data for ^DJI:\n",
      "Price              Close          High           Low          Open     Volume\n",
      "Ticker              ^DJI          ^DJI          ^DJI          ^DJI       ^DJI\n",
      "Date                                                                         \n",
      "2015-03-03  18203.369141  18281.949219  18136.880859  18281.949219   83830000\n",
      "2015-03-04  18096.900391  18203.369141  18029.500000  18203.369141   80900000\n",
      "2015-03-05  18135.720703  18160.349609  18087.650391  18096.900391   75840000\n",
      "2015-03-06  17856.779297  18135.720703  17825.150391  18135.720703  113350000\n",
      "2015-03-09  17995.720703  18031.039062  17856.560547  17856.560547   85820000\n",
      "Warning: 'Adj Close' not found for ^DJI. Available columns: MultiIndex([( 'Close', '^DJI'),\n",
      "            (  'High', '^DJI'),\n",
      "            (   'Low', '^DJI'),\n",
      "            (  'Open', '^DJI'),\n",
      "            ('Volume', '^DJI')],\n",
      "           names=['Price', 'Ticker'])\n",
      "Error downloading USD/EUR: Thank you for using Alpha Vantage! Our standard API rate limit is 25 requests per day. Please subscribe to any of the premium plans at https://www.alphavantage.co/premium/ to instantly remove all daily rate limits.\n",
      "Error downloading USD/JPY: Thank you for using Alpha Vantage! Our standard API rate limit is 25 requests per day. Please subscribe to any of the premium plans at https://www.alphavantage.co/premium/ to instantly remove all daily rate limits.\n"
     ]
    },
    {
     "name": "stderr",
     "output_type": "stream",
     "text": [
      "[*********************100%***********************]  1 of 1 completed\n"
     ]
    },
    {
     "name": "stdout",
     "output_type": "stream",
     "text": [
      "Downloaded Gold Data:\n",
      "Price             Close         High          Low         Open Volume\n",
      "Ticker             GC=F         GC=F         GC=F         GC=F   GC=F\n",
      "Date                                                                 \n",
      "2015-03-03  1204.000000  1212.000000  1195.000000  1201.500000     51\n",
      "2015-03-04  1200.599976  1206.900024  1198.000000  1204.800049     27\n",
      "2015-03-05  1195.900024  1205.400024  1195.900024  1201.699951     29\n",
      "2015-03-06  1164.099976  1195.699951  1163.699951  1195.000000    168\n",
      "2015-03-09  1166.400024  1174.199951  1166.300049  1169.400024     45\n",
      "Warning: 'Adj Close' not found in gold data. Available columns: MultiIndex([( 'Close', 'GC=F'),\n",
      "            (  'High', 'GC=F'),\n",
      "            (   'Low', 'GC=F'),\n",
      "            (  'Open', 'GC=F'),\n",
      "            ('Volume', 'GC=F')],\n",
      "           names=['Price', 'Ticker'])\n"
     ]
    },
    {
     "name": "stderr",
     "output_type": "stream",
     "text": [
      "[*********************100%***********************]  1 of 1 completed"
     ]
    },
    {
     "name": "stdout",
     "output_type": "stream",
     "text": [
      "Downloading data for 2015-04-29 (2015-04-14 to 2015-05-14)\n",
      "Downloaded data for ^GSPC:\n",
      "Price             Close         High          Low         Open      Volume\n",
      "Ticker            ^GSPC        ^GSPC        ^GSPC        ^GSPC       ^GSPC\n",
      "Date                                                                      \n",
      "2015-04-14  2095.840088  2098.620117  2083.239990  2092.280029  3301270000\n",
      "2015-04-15  2106.629883  2111.909912  2097.820068  2097.820068  4013760000\n",
      "2015-04-16  2104.989990  2111.300049  2100.020020  2105.959961  3434120000\n",
      "2015-04-17  2081.179932  2102.580078  2072.370117  2102.580078  3627600000\n",
      "2015-04-20  2100.399902  2103.939941  2084.110107  2084.110107  3000160000\n",
      "Warning: 'Adj Close' not found for ^GSPC. Available columns: MultiIndex([( 'Close', '^GSPC'),\n",
      "            (  'High', '^GSPC'),\n",
      "            (   'Low', '^GSPC'),\n",
      "            (  'Open', '^GSPC'),\n",
      "            ('Volume', '^GSPC')],\n",
      "           names=['Price', 'Ticker'])\n"
     ]
    },
    {
     "name": "stderr",
     "output_type": "stream",
     "text": [
      "\n",
      "[*********************100%***********************]  1 of 1 completed\n",
      "[*********************100%***********************]  1 of 1 completed\n"
     ]
    },
    {
     "name": "stdout",
     "output_type": "stream",
     "text": [
      "Downloaded data for ^IXIC:\n",
      "Price             Close         High          Low         Open      Volume\n",
      "Ticker            ^IXIC        ^IXIC        ^IXIC        ^IXIC       ^IXIC\n",
      "Date                                                                      \n",
      "2015-04-14  4977.290039  4996.819824  4952.009766  4988.819824  1571360000\n",
      "2015-04-15  5011.020020  5021.189941  4989.240234  4992.620117  1795530000\n",
      "2015-04-16  5007.790039  5016.000000  4996.000000  4999.359863  1662850000\n",
      "2015-04-17  4931.810059  4974.089844  4912.330078  4966.109863  1985190000\n",
      "2015-04-20  4994.600098  5000.200195  4952.680176  4958.069824  1646340000\n",
      "Warning: 'Adj Close' not found for ^IXIC. Available columns: MultiIndex([( 'Close', '^IXIC'),\n",
      "            (  'High', '^IXIC'),\n",
      "            (   'Low', '^IXIC'),\n",
      "            (  'Open', '^IXIC'),\n",
      "            ('Volume', '^IXIC')],\n",
      "           names=['Price', 'Ticker'])\n",
      "Downloaded data for ^DJI:\n",
      "Price              Close          High           Low          Open     Volume\n",
      "Ticker              ^DJI          ^DJI          ^DJI          ^DJI       ^DJI\n",
      "Date                                                                         \n",
      "2015-04-14  18036.699219  18075.599609  17905.480469  17979.109375   82830000\n",
      "2015-04-15  18112.609375  18160.519531  18045.710938  18045.710938  113610000\n",
      "2015-04-16  18105.769531  18169.259766  18063.859375  18106.269531   89520000\n",
      "2015-04-17  17826.300781  18102.560547  17748.529297  18102.560547  138860000\n",
      "2015-04-20  18034.929688  18092.220703  17841.179688  17841.179688  103160000\n",
      "Warning: 'Adj Close' not found for ^DJI. Available columns: MultiIndex([( 'Close', '^DJI'),\n",
      "            (  'High', '^DJI'),\n",
      "            (   'Low', '^DJI'),\n",
      "            (  'Open', '^DJI'),\n",
      "            ('Volume', '^DJI')],\n",
      "           names=['Price', 'Ticker'])\n",
      "Error downloading USD/EUR: Thank you for using Alpha Vantage! Our standard API rate limit is 25 requests per day. Please subscribe to any of the premium plans at https://www.alphavantage.co/premium/ to instantly remove all daily rate limits.\n",
      "Error downloading USD/JPY: Thank you for using Alpha Vantage! Our standard API rate limit is 25 requests per day. Please subscribe to any of the premium plans at https://www.alphavantage.co/premium/ to instantly remove all daily rate limits.\n"
     ]
    },
    {
     "name": "stderr",
     "output_type": "stream",
     "text": [
      "[*********************100%***********************]  1 of 1 completed\n"
     ]
    },
    {
     "name": "stdout",
     "output_type": "stream",
     "text": [
      "Downloaded Gold Data:\n",
      "Price             Close         High          Low         Open Volume\n",
      "Ticker             GC=F         GC=F         GC=F         GC=F   GC=F\n",
      "Date                                                                 \n",
      "2015-04-14  1192.800049  1200.599976  1184.099976  1198.800049    546\n",
      "2015-04-15  1201.500000  1203.099976  1188.599976  1194.599976    196\n",
      "2015-04-16  1198.000000  1208.500000  1194.599976  1204.300049    199\n",
      "2015-04-17  1202.900024  1206.000000  1200.199951  1200.199951     21\n",
      "2015-04-20  1193.500000  1206.900024  1191.000000  1205.699951     67\n",
      "Warning: 'Adj Close' not found in gold data. Available columns: MultiIndex([( 'Close', 'GC=F'),\n",
      "            (  'High', 'GC=F'),\n",
      "            (   'Low', 'GC=F'),\n",
      "            (  'Open', 'GC=F'),\n",
      "            ('Volume', 'GC=F')],\n",
      "           names=['Price', 'Ticker'])\n"
     ]
    },
    {
     "name": "stderr",
     "output_type": "stream",
     "text": [
      "[*********************100%***********************]  1 of 1 completed"
     ]
    },
    {
     "name": "stdout",
     "output_type": "stream",
     "text": [
      "Downloading data for 2015-06-17 (2015-06-02 to 2015-07-02)\n",
      "Downloaded data for ^GSPC:\n",
      "Price             Close         High          Low         Open      Volume\n",
      "Ticker            ^GSPC        ^GSPC        ^GSPC        ^GSPC       ^GSPC\n",
      "Date                                                                      \n",
      "2015-06-02  2109.600098  2117.590088  2099.139893  2110.409912  3049350000\n",
      "2015-06-03  2114.070068  2121.919922  2109.610107  2110.639893  3099980000\n",
      "2015-06-04  2095.840088  2112.889893  2093.229980  2112.350098  3200050000\n",
      "2015-06-05  2092.830078  2100.989990  2085.669922  2095.090088  3243690000\n",
      "2015-06-08  2079.280029  2093.010010  2079.110107  2092.340088  2917150000\n",
      "Warning: 'Adj Close' not found for ^GSPC. Available columns: MultiIndex([( 'Close', '^GSPC'),\n",
      "            (  'High', '^GSPC'),\n",
      "            (   'Low', '^GSPC'),\n",
      "            (  'Open', '^GSPC'),\n",
      "            ('Volume', '^GSPC')],\n",
      "           names=['Price', 'Ticker'])\n"
     ]
    },
    {
     "name": "stderr",
     "output_type": "stream",
     "text": [
      "\n",
      "[*********************100%***********************]  1 of 1 completed\n",
      "[*********************100%***********************]  1 of 1 completed\n"
     ]
    },
    {
     "name": "stdout",
     "output_type": "stream",
     "text": [
      "Downloaded data for ^IXIC:\n",
      "Price             Close         High          Low         Open      Volume\n",
      "Ticker            ^IXIC        ^IXIC        ^IXIC        ^IXIC       ^IXIC\n",
      "Date                                                                      \n",
      "2015-06-02  5076.520020  5100.020020  5047.350098  5063.470215  1729750000\n",
      "2015-06-03  5099.229980  5114.600098  5084.990234  5098.479980  1852680000\n",
      "2015-06-04  5059.120117  5101.109863  5046.290039  5078.220215  1813960000\n",
      "2015-06-05  5068.459961  5074.979980  5025.520020  5057.040039  1842890000\n",
      "2015-06-08  5021.629883  5069.000000  5014.060059  5066.649902  1712210000\n",
      "Warning: 'Adj Close' not found for ^IXIC. Available columns: MultiIndex([( 'Close', '^IXIC'),\n",
      "            (  'High', '^IXIC'),\n",
      "            (   'Low', '^IXIC'),\n",
      "            (  'Open', '^IXIC'),\n",
      "            ('Volume', '^IXIC')],\n",
      "           names=['Price', 'Ticker'])\n",
      "Downloaded data for ^DJI:\n",
      "Price              Close          High           Low          Open    Volume\n",
      "Ticker              ^DJI          ^DJI          ^DJI          ^DJI      ^DJI\n",
      "Date                                                                        \n",
      "2015-06-02  18011.939453  18091.869141  17925.330078  18033.330078  77550000\n",
      "2015-06-03  18076.269531  18168.089844  18010.419922  18018.419922  73120000\n",
      "2015-06-04  17905.580078  18087.150391  17876.949219  18072.470703  93470000\n",
      "2015-06-05  17849.460938  17940.779297  17822.900391  17905.380859  89140000\n",
      "2015-06-08  17766.550781  17852.349609  17760.609375  17849.460938  86300000\n",
      "Warning: 'Adj Close' not found for ^DJI. Available columns: MultiIndex([( 'Close', '^DJI'),\n",
      "            (  'High', '^DJI'),\n",
      "            (   'Low', '^DJI'),\n",
      "            (  'Open', '^DJI'),\n",
      "            ('Volume', '^DJI')],\n",
      "           names=['Price', 'Ticker'])\n",
      "Error downloading USD/EUR: Thank you for using Alpha Vantage! Our standard API rate limit is 25 requests per day. Please subscribe to any of the premium plans at https://www.alphavantage.co/premium/ to instantly remove all daily rate limits.\n",
      "Error downloading USD/JPY: Thank you for using Alpha Vantage! Our standard API rate limit is 25 requests per day. Please subscribe to any of the premium plans at https://www.alphavantage.co/premium/ to instantly remove all daily rate limits.\n"
     ]
    },
    {
     "name": "stderr",
     "output_type": "stream",
     "text": [
      "[*********************100%***********************]  1 of 1 completed\n"
     ]
    },
    {
     "name": "stdout",
     "output_type": "stream",
     "text": [
      "Downloaded Gold Data:\n",
      "Price             Close         High          Low         Open Volume\n",
      "Ticker             GC=F         GC=F         GC=F         GC=F   GC=F\n",
      "Date                                                                 \n",
      "2015-06-02  1194.099976  1194.300049  1186.000000  1189.000000   1003\n",
      "2015-06-03  1184.699951  1193.900024  1179.099976  1193.900024    630\n",
      "2015-06-04  1174.900024  1185.300049  1173.000000  1184.900024    447\n",
      "2015-06-05  1167.800049  1177.300049  1164.000000  1176.400024    390\n",
      "2015-06-08  1173.199951  1176.099976  1169.099976  1169.500000    173\n",
      "Warning: 'Adj Close' not found in gold data. Available columns: MultiIndex([( 'Close', 'GC=F'),\n",
      "            (  'High', 'GC=F'),\n",
      "            (   'Low', 'GC=F'),\n",
      "            (  'Open', 'GC=F'),\n",
      "            ('Volume', 'GC=F')],\n",
      "           names=['Price', 'Ticker'])\n"
     ]
    },
    {
     "name": "stderr",
     "output_type": "stream",
     "text": [
      "[*********************100%***********************]  1 of 1 completed"
     ]
    },
    {
     "name": "stdout",
     "output_type": "stream",
     "text": [
      "Downloading data for 2015-07-29 (2015-07-14 to 2015-08-13)\n",
      "Downloaded data for ^GSPC:\n",
      "Price             Close         High          Low         Open      Volume\n",
      "Ticker            ^GSPC        ^GSPC        ^GSPC        ^GSPC       ^GSPC\n",
      "Date                                                                      \n",
      "2015-07-14  2108.949951  2111.979980  2098.179932  2099.719971  3002120000\n",
      "2015-07-15  2107.399902  2114.139893  2102.489990  2109.010010  3261810000\n",
      "2015-07-16  2124.290039  2124.419922  2110.550049  2110.550049  3227080000\n",
      "2015-07-17  2126.639893  2128.909912  2119.879883  2126.800049  3362750000\n",
      "2015-07-20  2128.280029  2132.820068  2123.659912  2126.850098  3245870000\n",
      "Warning: 'Adj Close' not found for ^GSPC. Available columns: MultiIndex([( 'Close', '^GSPC'),\n",
      "            (  'High', '^GSPC'),\n",
      "            (   'Low', '^GSPC'),\n",
      "            (  'Open', '^GSPC'),\n",
      "            ('Volume', '^GSPC')],\n",
      "           names=['Price', 'Ticker'])\n"
     ]
    },
    {
     "name": "stderr",
     "output_type": "stream",
     "text": [
      "\n",
      "[*********************100%***********************]  1 of 1 completed\n",
      "[*********************100%***********************]  1 of 1 completed\n"
     ]
    },
    {
     "name": "stdout",
     "output_type": "stream",
     "text": [
      "Downloaded data for ^IXIC:\n",
      "Price             Close         High          Low         Open      Volume\n",
      "Ticker            ^IXIC        ^IXIC        ^IXIC        ^IXIC       ^IXIC\n",
      "Date                                                                      \n",
      "2015-07-14  5104.890137  5116.520020  5075.120117  5077.120117  1682660000\n",
      "2015-07-15  5098.939941  5125.319824  5088.120117  5111.109863  1691350000\n",
      "2015-07-16  5163.180176  5163.180176  5128.560059  5138.180176  1823530000\n",
      "2015-07-17  5210.140137  5210.160156  5183.229980  5196.109863  1854450000\n",
      "2015-07-20  5218.859863  5231.939941  5201.490234  5223.180176  1814180000\n",
      "Warning: 'Adj Close' not found for ^IXIC. Available columns: MultiIndex([( 'Close', '^IXIC'),\n",
      "            (  'High', '^IXIC'),\n",
      "            (   'Low', '^IXIC'),\n",
      "            (  'Open', '^IXIC'),\n",
      "            ('Volume', '^IXIC')],\n",
      "           names=['Price', 'Ticker'])\n",
      "Downloaded data for ^DJI:\n",
      "Price              Close          High           Low          Open     Volume\n",
      "Ticker              ^DJI          ^DJI          ^DJI          ^DJI       ^DJI\n",
      "Date                                                                         \n",
      "2015-07-14  18053.580078  18072.820312  17956.169922  17974.609375   76740000\n",
      "2015-07-15  18050.169922  18090.390625  18010.150391  18053.380859   80460000\n",
      "2015-07-16  18120.250000  18131.609375  18065.330078  18078.160156   85030000\n",
      "2015-07-17  18086.449219  18121.119141  18032.060547  18117.580078  106510000\n",
      "2015-07-20  18100.410156  18137.119141  18064.500000  18085.910156   75060000\n",
      "Warning: 'Adj Close' not found for ^DJI. Available columns: MultiIndex([( 'Close', '^DJI'),\n",
      "            (  'High', '^DJI'),\n",
      "            (   'Low', '^DJI'),\n",
      "            (  'Open', '^DJI'),\n",
      "            ('Volume', '^DJI')],\n",
      "           names=['Price', 'Ticker'])\n",
      "Error downloading USD/EUR: Thank you for using Alpha Vantage! Our standard API rate limit is 25 requests per day. Please subscribe to any of the premium plans at https://www.alphavantage.co/premium/ to instantly remove all daily rate limits.\n",
      "Error downloading USD/JPY: Thank you for using Alpha Vantage! Our standard API rate limit is 25 requests per day. Please subscribe to any of the premium plans at https://www.alphavantage.co/premium/ to instantly remove all daily rate limits.\n"
     ]
    },
    {
     "name": "stderr",
     "output_type": "stream",
     "text": [
      "[*********************100%***********************]  1 of 1 completed\n"
     ]
    },
    {
     "name": "stdout",
     "output_type": "stream",
     "text": [
      "Downloaded Gold Data:\n",
      "Price             Close         High          Low         Open Volume\n",
      "Ticker             GC=F         GC=F         GC=F         GC=F   GC=F\n",
      "Date                                                                 \n",
      "2015-07-14  1153.300049  1157.199951  1153.000000  1157.199951     39\n",
      "2015-07-15  1147.199951  1154.000000  1144.800049  1154.000000     15\n",
      "2015-07-16  1143.800049  1146.199951  1142.900024  1146.199951     14\n",
      "2015-07-17  1131.800049  1144.000000  1130.199951  1144.000000    120\n",
      "2015-07-20  1106.699951  1130.699951  1095.099976  1130.400024    189\n",
      "Warning: 'Adj Close' not found in gold data. Available columns: MultiIndex([( 'Close', 'GC=F'),\n",
      "            (  'High', 'GC=F'),\n",
      "            (   'Low', 'GC=F'),\n",
      "            (  'Open', 'GC=F'),\n",
      "            ('Volume', 'GC=F')],\n",
      "           names=['Price', 'Ticker'])\n"
     ]
    },
    {
     "name": "stderr",
     "output_type": "stream",
     "text": [
      "[*********************100%***********************]  1 of 1 completed"
     ]
    },
    {
     "name": "stdout",
     "output_type": "stream",
     "text": [
      "Downloading data for 2015-09-17 (2015-09-02 to 2015-10-02)\n",
      "Downloaded data for ^GSPC:\n",
      "Price             Close         High          Low         Open      Volume\n",
      "Ticker            ^GSPC        ^GSPC        ^GSPC        ^GSPC       ^GSPC\n",
      "Date                                                                      \n",
      "2015-09-02  1948.859985  1948.910034  1916.520020  1916.520020  3742620000\n",
      "2015-09-03  1951.130005  1975.010010  1944.719971  1950.790039  3520700000\n",
      "2015-09-04  1921.219971  1947.760010  1911.209961  1947.760010  3167090000\n",
      "2015-09-08  1969.410034  1970.420044  1927.300049  1927.300049  3548650000\n",
      "2015-09-09  1942.040039  1988.630005  1937.880005  1971.449951  3652120000\n",
      "Warning: 'Adj Close' not found for ^GSPC. Available columns: MultiIndex([( 'Close', '^GSPC'),\n",
      "            (  'High', '^GSPC'),\n",
      "            (   'Low', '^GSPC'),\n",
      "            (  'Open', '^GSPC'),\n",
      "            ('Volume', '^GSPC')],\n",
      "           names=['Price', 'Ticker'])\n"
     ]
    },
    {
     "name": "stderr",
     "output_type": "stream",
     "text": [
      "\n",
      "[*********************100%***********************]  1 of 1 completed\n",
      "[*********************100%***********************]  1 of 1 completed\n"
     ]
    },
    {
     "name": "stdout",
     "output_type": "stream",
     "text": [
      "Downloaded data for ^IXIC:\n",
      "Price             Close         High          Low         Open      Volume\n",
      "Ticker            ^IXIC        ^IXIC        ^IXIC        ^IXIC       ^IXIC\n",
      "Date                                                                      \n",
      "2015-09-02  4749.979980  4749.979980  4659.410156  4704.419922  1929080000\n",
      "2015-09-03  4733.500000  4800.180176  4721.910156  4763.100098  1803320000\n",
      "2015-09-04  4683.919922  4712.669922  4657.819824  4670.350098  1574720000\n",
      "2015-09-08  4811.930176  4815.040039  4754.890137  4769.720215  1765600000\n",
      "2015-09-09  4756.529785  4862.879883  4746.729980  4856.270020  1963750000\n",
      "Warning: 'Adj Close' not found for ^IXIC. Available columns: MultiIndex([( 'Close', '^IXIC'),\n",
      "            (  'High', '^IXIC'),\n",
      "            (   'Low', '^IXIC'),\n",
      "            (  'Open', '^IXIC'),\n",
      "            ('Volume', '^IXIC')],\n",
      "           names=['Price', 'Ticker'])\n",
      "Downloaded data for ^DJI:\n",
      "Price              Close          High           Low          Open     Volume\n",
      "Ticker              ^DJI          ^DJI          ^DJI          ^DJI       ^DJI\n",
      "Date                                                                         \n",
      "2015-09-02  16351.379883  16352.580078  16058.349609  16058.349609  133480000\n",
      "2015-09-03  16374.759766  16550.070312  16317.309570  16364.339844  109730000\n",
      "2015-09-04  16102.379883  16371.759766  16026.610352  16371.759766  127270000\n",
      "2015-09-08  16492.679688  16503.410156  16109.929688  16109.929688  123870000\n",
      "2015-09-09  16253.570312  16664.650391  16220.099609  16505.039062  118790000\n",
      "Warning: 'Adj Close' not found for ^DJI. Available columns: MultiIndex([( 'Close', '^DJI'),\n",
      "            (  'High', '^DJI'),\n",
      "            (   'Low', '^DJI'),\n",
      "            (  'Open', '^DJI'),\n",
      "            ('Volume', '^DJI')],\n",
      "           names=['Price', 'Ticker'])\n",
      "Error downloading USD/EUR: Thank you for using Alpha Vantage! Our standard API rate limit is 25 requests per day. Please subscribe to any of the premium plans at https://www.alphavantage.co/premium/ to instantly remove all daily rate limits.\n",
      "Error downloading USD/JPY: Thank you for using Alpha Vantage! Our standard API rate limit is 25 requests per day. Please subscribe to any of the premium plans at https://www.alphavantage.co/premium/ to instantly remove all daily rate limits.\n"
     ]
    },
    {
     "name": "stderr",
     "output_type": "stream",
     "text": [
      "[*********************100%***********************]  1 of 1 completed\n"
     ]
    },
    {
     "name": "stdout",
     "output_type": "stream",
     "text": [
      "Downloaded Gold Data:\n",
      "Price             Close         High          Low         Open Volume\n",
      "Ticker             GC=F         GC=F         GC=F         GC=F   GC=F\n",
      "Date                                                                 \n",
      "2015-09-02  1132.500000  1140.400024  1130.800049  1137.300049    201\n",
      "2015-09-03  1123.699951  1132.900024  1120.300049  1130.300049    122\n",
      "2015-09-04  1120.599976  1125.199951  1116.199951  1123.400024     51\n",
      "2015-09-08  1120.400024  1124.300049  1116.400024  1119.800049    138\n",
      "2015-09-09  1102.199951  1123.500000  1102.099976  1123.500000    150\n",
      "Warning: 'Adj Close' not found in gold data. Available columns: MultiIndex([( 'Close', 'GC=F'),\n",
      "            (  'High', 'GC=F'),\n",
      "            (   'Low', 'GC=F'),\n",
      "            (  'Open', 'GC=F'),\n",
      "            ('Volume', 'GC=F')],\n",
      "           names=['Price', 'Ticker'])\n"
     ]
    },
    {
     "name": "stderr",
     "output_type": "stream",
     "text": [
      "[*********************100%***********************]  1 of 1 completed"
     ]
    },
    {
     "name": "stdout",
     "output_type": "stream",
     "text": [
      "Downloading data for 2015-10-28 (2015-10-13 to 2015-11-12)\n",
      "Downloaded data for ^GSPC:\n",
      "Price             Close         High          Low         Open      Volume\n",
      "Ticker            ^GSPC        ^GSPC        ^GSPC        ^GSPC       ^GSPC\n",
      "Date                                                                      \n",
      "2015-10-13  2003.689941  2022.339966  2001.780029  2015.000000  3401920000\n",
      "2015-10-14  1994.239990  2009.560059  1990.729980  2003.660034  3644590000\n",
      "2015-10-15  2023.859985  2024.150024  1996.469971  1996.469971  3746290000\n",
      "2015-10-16  2033.109985  2033.540039  2020.459961  2024.369995  3595430000\n",
      "2015-10-19  2033.660034  2034.449951  2022.310059  2031.729980  3287320000\n",
      "Warning: 'Adj Close' not found for ^GSPC. Available columns: MultiIndex([( 'Close', '^GSPC'),\n",
      "            (  'High', '^GSPC'),\n",
      "            (   'Low', '^GSPC'),\n",
      "            (  'Open', '^GSPC'),\n",
      "            ('Volume', '^GSPC')],\n",
      "           names=['Price', 'Ticker'])\n"
     ]
    },
    {
     "name": "stderr",
     "output_type": "stream",
     "text": [
      "\n",
      "[*********************100%***********************]  1 of 1 completed\n",
      "[*********************100%***********************]  1 of 1 completed\n"
     ]
    },
    {
     "name": "stdout",
     "output_type": "stream",
     "text": [
      "Downloaded data for ^IXIC:\n",
      "Price             Close         High          Low         Open      Volume\n",
      "Ticker            ^IXIC        ^IXIC        ^IXIC        ^IXIC       ^IXIC\n",
      "Date                                                                      \n",
      "2015-10-13  4796.609863  4858.279785  4793.919922  4809.240234  1565060000\n",
      "2015-10-14  4782.850098  4820.089844  4771.620117  4801.350098  1902460000\n",
      "2015-10-15  4870.100098  4870.100098  4795.290039  4799.430176  1942900000\n",
      "2015-10-16  4886.689941  4886.950195  4851.279785  4872.359863  1855290000\n",
      "2015-10-19  4905.470215  4915.490234  4865.830078  4873.540039  1619920000\n",
      "Warning: 'Adj Close' not found for ^IXIC. Available columns: MultiIndex([( 'Close', '^IXIC'),\n",
      "            (  'High', '^IXIC'),\n",
      "            (   'Low', '^IXIC'),\n",
      "            (  'Open', '^IXIC'),\n",
      "            ('Volume', '^IXIC')],\n",
      "           names=['Price', 'Ticker'])\n",
      "Downloaded data for ^DJI:\n",
      "Price              Close          High           Low          Open     Volume\n",
      "Ticker              ^DJI          ^DJI          ^DJI          ^DJI       ^DJI\n",
      "Date                                                                         \n",
      "2015-10-13  17081.890625  17172.810547  17034.449219  17113.550781   99400000\n",
      "2015-10-14  16924.750000  17111.380859  16887.669922  17079.080078  120110000\n",
      "2015-10-15  17141.750000  17144.419922  16933.570312  16944.859375  122960000\n",
      "2015-10-16  17215.970703  17220.019531  17107.349609  17141.750000  145880000\n",
      "2015-10-19  17230.539062  17235.949219  17129.189453  17209.429688  118430000\n",
      "Warning: 'Adj Close' not found for ^DJI. Available columns: MultiIndex([( 'Close', '^DJI'),\n",
      "            (  'High', '^DJI'),\n",
      "            (   'Low', '^DJI'),\n",
      "            (  'Open', '^DJI'),\n",
      "            ('Volume', '^DJI')],\n",
      "           names=['Price', 'Ticker'])\n",
      "Error downloading USD/EUR: Thank you for using Alpha Vantage! Our standard API rate limit is 25 requests per day. Please subscribe to any of the premium plans at https://www.alphavantage.co/premium/ to instantly remove all daily rate limits.\n",
      "Error downloading USD/JPY: Thank you for using Alpha Vantage! Our standard API rate limit is 25 requests per day. Please subscribe to any of the premium plans at https://www.alphavantage.co/premium/ to instantly remove all daily rate limits.\n"
     ]
    },
    {
     "name": "stderr",
     "output_type": "stream",
     "text": [
      "[*********************100%***********************]  1 of 1 completed\n"
     ]
    },
    {
     "name": "stdout",
     "output_type": "stream",
     "text": [
      "Downloaded Gold Data:\n",
      "Price             Close         High          Low         Open Volume\n",
      "Ticker             GC=F         GC=F         GC=F         GC=F   GC=F\n",
      "Date                                                                 \n",
      "2015-10-13  1165.800049  1166.199951  1154.900024  1163.500000    132\n",
      "2015-10-14  1180.099976  1189.000000  1167.300049  1172.400024    143\n",
      "2015-10-15  1187.900024  1188.300049  1177.800049  1184.199951    143\n",
      "2015-10-16  1183.599976  1184.099976  1176.199951  1182.500000    243\n",
      "2015-10-19  1173.300049  1177.800049  1169.300049  1176.500000     62\n",
      "Warning: 'Adj Close' not found in gold data. Available columns: MultiIndex([( 'Close', 'GC=F'),\n",
      "            (  'High', 'GC=F'),\n",
      "            (   'Low', 'GC=F'),\n",
      "            (  'Open', 'GC=F'),\n",
      "            ('Volume', 'GC=F')],\n",
      "           names=['Price', 'Ticker'])\n"
     ]
    },
    {
     "name": "stderr",
     "output_type": "stream",
     "text": [
      "[*********************100%***********************]  1 of 1 completed"
     ]
    },
    {
     "name": "stdout",
     "output_type": "stream",
     "text": [
      "Downloading data for 2015-12-16 (2015-12-01 to 2015-12-31)\n",
      "Downloaded data for ^GSPC:\n",
      "Price             Close         High          Low         Open      Volume\n",
      "Ticker            ^GSPC        ^GSPC        ^GSPC        ^GSPC       ^GSPC\n",
      "Date                                                                      \n",
      "2015-12-01  2102.629883  2103.370117  2082.929932  2082.929932  3712120000\n",
      "2015-12-02  2079.510010  2104.270020  2077.110107  2101.709961  3950640000\n",
      "2015-12-03  2049.620117  2085.000000  2042.349976  2080.709961  4306490000\n",
      "2015-12-04  2091.689941  2093.840088  2051.239990  2051.239990  4214910000\n",
      "2015-12-07  2077.070068  2090.419922  2066.780029  2090.419922  4043820000\n",
      "Warning: 'Adj Close' not found for ^GSPC. Available columns: MultiIndex([( 'Close', '^GSPC'),\n",
      "            (  'High', '^GSPC'),\n",
      "            (   'Low', '^GSPC'),\n",
      "            (  'Open', '^GSPC'),\n",
      "            ('Volume', '^GSPC')],\n",
      "           names=['Price', 'Ticker'])\n"
     ]
    },
    {
     "name": "stderr",
     "output_type": "stream",
     "text": [
      "\n",
      "[*********************100%***********************]  1 of 1 completed\n",
      "[*********************100%***********************]  1 of 1 completed\n"
     ]
    },
    {
     "name": "stdout",
     "output_type": "stream",
     "text": [
      "Downloaded data for ^IXIC:\n",
      "Price             Close         High          Low         Open      Volume\n",
      "Ticker            ^IXIC        ^IXIC        ^IXIC        ^IXIC       ^IXIC\n",
      "Date                                                                      \n",
      "2015-12-01  5156.310059  5156.310059  5120.169922  5129.640137  2035570000\n",
      "2015-12-02  5123.220215  5176.770020  5117.149902  5158.819824  2060340000\n",
      "2015-12-03  5037.529785  5144.600098  5011.720215  5143.160156  2088100000\n",
      "2015-12-04  5142.270020  5147.000000  5043.490234  5050.930176  1897490000\n",
      "2015-12-07  5101.810059  5139.779785  5082.229980  5139.459961  1952690000\n",
      "Warning: 'Adj Close' not found for ^IXIC. Available columns: MultiIndex([( 'Close', '^IXIC'),\n",
      "            (  'High', '^IXIC'),\n",
      "            (   'Low', '^IXIC'),\n",
      "            (  'Open', '^IXIC'),\n",
      "            ('Volume', '^IXIC')],\n",
      "           names=['Price', 'Ticker'])\n",
      "Downloaded data for ^DJI:\n",
      "Price              Close          High           Low          Open     Volume\n",
      "Ticker              ^DJI          ^DJI          ^DJI          ^DJI       ^DJI\n",
      "Date                                                                         \n",
      "2015-12-01  17888.349609  17895.500000  17719.720703  17719.720703  103880000\n",
      "2015-12-02  17729.679688  17901.580078  17708.199219  17883.140625  102860000\n",
      "2015-12-03  17477.669922  17780.589844  17425.560547  17741.570312  126990000\n",
      "2015-12-04  17847.630859  17866.470703  17482.679688  17482.679688  137650000\n",
      "2015-12-07  17730.509766  17845.490234  17639.250000  17845.490234   99670000\n",
      "Warning: 'Adj Close' not found for ^DJI. Available columns: MultiIndex([( 'Close', '^DJI'),\n",
      "            (  'High', '^DJI'),\n",
      "            (   'Low', '^DJI'),\n",
      "            (  'Open', '^DJI'),\n",
      "            ('Volume', '^DJI')],\n",
      "           names=['Price', 'Ticker'])\n",
      "Error downloading USD/EUR: Thank you for using Alpha Vantage! Our standard API rate limit is 25 requests per day. Please subscribe to any of the premium plans at https://www.alphavantage.co/premium/ to instantly remove all daily rate limits.\n",
      "Error downloading USD/JPY: Thank you for using Alpha Vantage! Our standard API rate limit is 25 requests per day. Please subscribe to any of the premium plans at https://www.alphavantage.co/premium/ to instantly remove all daily rate limits.\n"
     ]
    },
    {
     "name": "stderr",
     "output_type": "stream",
     "text": [
      "[*********************100%***********************]  1 of 1 completed\n"
     ]
    },
    {
     "name": "stdout",
     "output_type": "stream",
     "text": [
      "Downloaded Gold Data:\n",
      "Price             Close         High          Low         Open Volume\n",
      "Ticker             GC=F         GC=F         GC=F         GC=F   GC=F\n",
      "Date                                                                 \n",
      "2015-12-01  1063.800049  1074.599976  1063.400024  1064.599976   3441\n",
      "2015-12-02  1054.199951  1069.500000  1049.599976  1068.699951    503\n",
      "2015-12-03  1061.699951  1064.599976  1046.199951  1054.400024   1161\n",
      "2015-12-04  1084.500000  1088.800049  1058.699951  1063.000000    889\n",
      "2015-12-07  1076.400024  1086.500000  1067.400024  1084.900024    656\n",
      "Warning: 'Adj Close' not found in gold data. Available columns: MultiIndex([( 'Close', 'GC=F'),\n",
      "            (  'High', 'GC=F'),\n",
      "            (   'Low', 'GC=F'),\n",
      "            (  'Open', 'GC=F'),\n",
      "            ('Volume', 'GC=F')],\n",
      "           names=['Price', 'Ticker'])\n"
     ]
    },
    {
     "name": "stderr",
     "output_type": "stream",
     "text": [
      "[*********************100%***********************]  1 of 1 completed"
     ]
    },
    {
     "name": "stdout",
     "output_type": "stream",
     "text": [
      "Downloading data for 2016-01-27 (2016-01-12 to 2016-02-11)\n",
      "Downloaded data for ^GSPC:\n",
      "Price             Close         High          Low         Open      Volume\n",
      "Ticker            ^GSPC        ^GSPC        ^GSPC        ^GSPC       ^GSPC\n",
      "Date                                                                      \n",
      "2016-01-12  1938.680054  1947.380005  1914.349976  1927.829956  4887260000\n",
      "2016-01-13  1890.280029  1950.329956  1886.410034  1940.339966  5087030000\n",
      "2016-01-14  1921.839966  1934.469971  1878.930054  1891.680054  5241110000\n",
      "2016-01-15  1880.329956  1916.680054  1857.829956  1916.680054  5468460000\n",
      "2016-01-19  1881.329956  1901.439941  1864.599976  1888.660034  4928350000\n",
      "Warning: 'Adj Close' not found for ^GSPC. Available columns: MultiIndex([( 'Close', '^GSPC'),\n",
      "            (  'High', '^GSPC'),\n",
      "            (   'Low', '^GSPC'),\n",
      "            (  'Open', '^GSPC'),\n",
      "            ('Volume', '^GSPC')],\n",
      "           names=['Price', 'Ticker'])\n"
     ]
    },
    {
     "name": "stderr",
     "output_type": "stream",
     "text": [
      "\n",
      "[*********************100%***********************]  1 of 1 completed\n",
      "[*********************100%***********************]  1 of 1 completed\n"
     ]
    },
    {
     "name": "stdout",
     "output_type": "stream",
     "text": [
      "Downloaded data for ^IXIC:\n",
      "Price             Close         High          Low         Open      Volume\n",
      "Ticker            ^IXIC        ^IXIC        ^IXIC        ^IXIC       ^IXIC\n",
      "Date                                                                      \n",
      "2016-01-12  4685.919922  4714.799805  4618.029785  4681.540039  2147470000\n",
      "2016-01-13  4526.060059  4713.979980  4517.560059  4706.020020  2533200000\n",
      "2016-01-14  4615.000000  4650.549805  4470.589844  4545.370117  2565560000\n",
      "2016-01-15  4488.419922  4520.450195  4419.410156  4464.370117  2818630000\n",
      "2016-01-19  4476.950195  4550.569824  4430.770020  4548.049805  2394550000\n",
      "Warning: 'Adj Close' not found for ^IXIC. Available columns: MultiIndex([( 'Close', '^IXIC'),\n",
      "            (  'High', '^IXIC'),\n",
      "            (   'Low', '^IXIC'),\n",
      "            (  'Open', '^IXIC'),\n",
      "            ('Volume', '^IXIC')],\n",
      "           names=['Price', 'Ticker'])\n",
      "Downloaded data for ^DJI:\n",
      "Price              Close          High           Low          Open     Volume\n",
      "Ticker              ^DJI          ^DJI          ^DJI          ^DJI       ^DJI\n",
      "Date                                                                         \n",
      "2016-01-12  16516.220703  16591.349609  16322.070312  16419.109375  117480000\n",
      "2016-01-13  16151.410156  16593.509766  16123.200195  16526.630859  153530000\n",
      "2016-01-14  16379.049805  16482.050781  16075.120117  16159.009766  158830000\n",
      "2016-01-15  15988.080078  16354.330078  15842.110352  16354.330078  239210000\n",
      "2016-01-19  16016.019531  16171.959961  15900.250000  16009.450195  144360000\n",
      "Warning: 'Adj Close' not found for ^DJI. Available columns: MultiIndex([( 'Close', '^DJI'),\n",
      "            (  'High', '^DJI'),\n",
      "            (   'Low', '^DJI'),\n",
      "            (  'Open', '^DJI'),\n",
      "            ('Volume', '^DJI')],\n",
      "           names=['Price', 'Ticker'])\n",
      "Error downloading USD/EUR: Thank you for using Alpha Vantage! Our standard API rate limit is 25 requests per day. Please subscribe to any of the premium plans at https://www.alphavantage.co/premium/ to instantly remove all daily rate limits.\n",
      "Error downloading USD/JPY: Thank you for using Alpha Vantage! Our standard API rate limit is 25 requests per day. Please subscribe to any of the premium plans at https://www.alphavantage.co/premium/ to instantly remove all daily rate limits.\n"
     ]
    },
    {
     "name": "stderr",
     "output_type": "stream",
     "text": [
      "[*********************100%***********************]  1 of 1 completed\n"
     ]
    },
    {
     "name": "stdout",
     "output_type": "stream",
     "text": [
      "Downloaded Gold Data:\n",
      "Price             Close         High          Low         Open Volume\n",
      "Ticker             GC=F         GC=F         GC=F         GC=F   GC=F\n",
      "Date                                                                 \n",
      "2016-01-12  1085.599976  1098.500000  1084.000000  1093.800049     87\n",
      "2016-01-13  1087.500000  1093.900024  1081.500000  1081.500000     50\n",
      "2016-01-14  1073.900024  1091.500000  1073.699951  1091.500000     59\n",
      "2016-01-15  1091.500000  1095.800049  1081.800049  1085.000000     44\n",
      "2016-01-19  1089.900024  1094.400024  1084.900024  1089.800049     17\n",
      "Warning: 'Adj Close' not found in gold data. Available columns: MultiIndex([( 'Close', 'GC=F'),\n",
      "            (  'High', 'GC=F'),\n",
      "            (   'Low', 'GC=F'),\n",
      "            (  'Open', 'GC=F'),\n",
      "            ('Volume', 'GC=F')],\n",
      "           names=['Price', 'Ticker'])\n"
     ]
    },
    {
     "name": "stderr",
     "output_type": "stream",
     "text": [
      "[*********************100%***********************]  1 of 1 completed"
     ]
    },
    {
     "name": "stdout",
     "output_type": "stream",
     "text": [
      "Downloading data for 2016-03-16 (2016-03-01 to 2016-03-31)\n",
      "Downloaded data for ^GSPC:\n",
      "Price             Close         High          Low         Open      Volume\n",
      "Ticker            ^GSPC        ^GSPC        ^GSPC        ^GSPC       ^GSPC\n",
      "Date                                                                      \n",
      "2016-03-01  1978.349976  1978.349976  1937.089966  1937.089966  4819750000\n",
      "2016-03-02  1986.449951  1986.510010  1968.800049  1976.599976  4666610000\n",
      "2016-03-03  1993.400024  1993.689941  1977.369995  1985.599976  5081700000\n",
      "2016-03-04  1999.989990  2009.130005  1986.770020  1994.010010  6049930000\n",
      "2016-03-07  2001.760010  2006.119995  1989.380005  1996.109985  4968180000\n",
      "Warning: 'Adj Close' not found for ^GSPC. Available columns: MultiIndex([( 'Close', '^GSPC'),\n",
      "            (  'High', '^GSPC'),\n",
      "            (   'Low', '^GSPC'),\n",
      "            (  'Open', '^GSPC'),\n",
      "            ('Volume', '^GSPC')],\n",
      "           names=['Price', 'Ticker'])\n"
     ]
    },
    {
     "name": "stderr",
     "output_type": "stream",
     "text": [
      "\n",
      "[*********************100%***********************]  1 of 1 completed\n",
      "[*********************100%***********************]  1 of 1 completed\n"
     ]
    },
    {
     "name": "stdout",
     "output_type": "stream",
     "text": [
      "Downloaded data for ^IXIC:\n",
      "Price             Close         High          Low         Open      Volume\n",
      "Ticker            ^IXIC        ^IXIC        ^IXIC        ^IXIC       ^IXIC\n",
      "Date                                                                      \n",
      "2016-03-01  4689.600098  4689.600098  4581.750000  4596.009766  2080150000\n",
      "2016-03-02  4703.419922  4703.580078  4665.930176  4683.799805  1912510000\n",
      "2016-03-03  4707.419922  4707.720215  4674.459961  4698.379883  1936290000\n",
      "2016-03-04  4717.020020  4746.649902  4687.939941  4715.759766  2171230000\n",
      "2016-03-07  4708.250000  4731.189941  4674.819824  4690.879883  2084390000\n",
      "Warning: 'Adj Close' not found for ^IXIC. Available columns: MultiIndex([( 'Close', '^IXIC'),\n",
      "            (  'High', '^IXIC'),\n",
      "            (   'Low', '^IXIC'),\n",
      "            (  'Open', '^IXIC'),\n",
      "            ('Volume', '^IXIC')],\n",
      "           names=['Price', 'Ticker'])\n",
      "Downloaded data for ^DJI:\n",
      "Price              Close          High           Low          Open     Volume\n",
      "Ticker              ^DJI          ^DJI          ^DJI          ^DJI       ^DJI\n",
      "Date                                                                         \n",
      "2016-03-01  16865.080078  16865.560547  16545.669922  16545.669922  105050000\n",
      "2016-03-02  16899.320312  16900.169922  16766.320312  16851.169922  104470000\n",
      "2016-03-03  16943.900391  16944.310547  16820.730469  16896.169922   91110000\n",
      "2016-03-04  17006.769531  17062.380859  16898.839844  16945.000000  106910000\n",
      "2016-03-07  17073.949219  17099.250000  16940.480469  16991.289062  100290000\n",
      "Warning: 'Adj Close' not found for ^DJI. Available columns: MultiIndex([( 'Close', '^DJI'),\n",
      "            (  'High', '^DJI'),\n",
      "            (   'Low', '^DJI'),\n",
      "            (  'Open', '^DJI'),\n",
      "            ('Volume', '^DJI')],\n",
      "           names=['Price', 'Ticker'])\n",
      "Error downloading USD/EUR: Thank you for using Alpha Vantage! Our standard API rate limit is 25 requests per day. Please subscribe to any of the premium plans at https://www.alphavantage.co/premium/ to instantly remove all daily rate limits.\n",
      "Error downloading USD/JPY: Thank you for using Alpha Vantage! Our standard API rate limit is 25 requests per day. Please subscribe to any of the premium plans at https://www.alphavantage.co/premium/ to instantly remove all daily rate limits.\n"
     ]
    },
    {
     "name": "stderr",
     "output_type": "stream",
     "text": [
      "[*********************100%***********************]  1 of 1 completed\n"
     ]
    },
    {
     "name": "stdout",
     "output_type": "stream",
     "text": [
      "Downloaded Gold Data:\n",
      "Price             Close         High          Low         Open Volume\n",
      "Ticker             GC=F         GC=F         GC=F         GC=F   GC=F\n",
      "Date                                                                 \n",
      "2016-03-01  1230.300049  1248.400024  1229.000000  1240.500000    477\n",
      "2016-03-02  1241.099976  1242.599976  1226.000000  1232.800049    267\n",
      "2016-03-03  1257.400024  1267.900024  1238.000000  1238.400024    123\n",
      "2016-03-04  1269.900024  1279.900024  1250.900024  1263.000000    268\n",
      "2016-03-07  1263.199951  1272.300049  1259.699951  1259.800049     67\n",
      "Warning: 'Adj Close' not found in gold data. Available columns: MultiIndex([( 'Close', 'GC=F'),\n",
      "            (  'High', 'GC=F'),\n",
      "            (   'Low', 'GC=F'),\n",
      "            (  'Open', 'GC=F'),\n",
      "            ('Volume', 'GC=F')],\n",
      "           names=['Price', 'Ticker'])\n"
     ]
    },
    {
     "name": "stderr",
     "output_type": "stream",
     "text": [
      "[*********************100%***********************]  1 of 1 completed"
     ]
    },
    {
     "name": "stdout",
     "output_type": "stream",
     "text": [
      "Downloading data for 2016-04-27 (2016-04-12 to 2016-05-12)\n",
      "Downloaded data for ^GSPC:\n",
      "Price             Close         High          Low         Open      Volume\n",
      "Ticker            ^GSPC        ^GSPC        ^GSPC        ^GSPC       ^GSPC\n",
      "Date                                                                      \n",
      "2016-04-12  2061.719971  2065.050049  2039.739990  2043.719971  4239740000\n",
      "2016-04-13  2082.419922  2083.179932  2065.919922  2065.919922  4191830000\n",
      "2016-04-14  2082.780029  2087.840088  2078.129883  2082.889893  3765870000\n",
      "2016-04-15  2080.729980  2083.219971  2076.310059  2083.100098  3701450000\n",
      "2016-04-18  2094.340088  2094.659912  2073.649902  2078.830078  3316880000\n",
      "Warning: 'Adj Close' not found for ^GSPC. Available columns: MultiIndex([( 'Close', '^GSPC'),\n",
      "            (  'High', '^GSPC'),\n",
      "            (   'Low', '^GSPC'),\n",
      "            (  'Open', '^GSPC'),\n",
      "            ('Volume', '^GSPC')],\n",
      "           names=['Price', 'Ticker'])\n"
     ]
    },
    {
     "name": "stderr",
     "output_type": "stream",
     "text": [
      "\n",
      "[*********************100%***********************]  1 of 1 completed\n",
      "[*********************100%***********************]  1 of 1 completed\n"
     ]
    },
    {
     "name": "stdout",
     "output_type": "stream",
     "text": [
      "Downloaded data for ^IXIC:\n",
      "Price             Close         High          Low         Open      Volume\n",
      "Ticker            ^IXIC        ^IXIC        ^IXIC        ^IXIC       ^IXIC\n",
      "Date                                                                      \n",
      "2016-04-12  4872.089844  4879.600098  4808.910156  4838.819824  1759280000\n",
      "2016-04-13  4947.419922  4951.910156  4903.600098  4904.790039  1936450000\n",
      "2016-04-14  4945.890137  4961.299805  4931.810059  4947.620117  1645810000\n",
      "2016-04-15  4938.220215  4950.430176  4925.459961  4938.830078  1684790000\n",
      "2016-04-18  4960.020020  4960.790039  4915.629883  4919.359863  1672260000\n",
      "Warning: 'Adj Close' not found for ^IXIC. Available columns: MultiIndex([( 'Close', '^IXIC'),\n",
      "            (  'High', '^IXIC'),\n",
      "            (   'Low', '^IXIC'),\n",
      "            (  'Open', '^IXIC'),\n",
      "            ('Volume', '^IXIC')],\n",
      "           names=['Price', 'Ticker'])\n",
      "Downloaded data for ^DJI:\n",
      "Price              Close          High           Low          Open     Volume\n",
      "Ticker              ^DJI          ^DJI          ^DJI          ^DJI       ^DJI\n",
      "Date                                                                         \n",
      "2016-04-12  17721.250000  17744.429688  17553.570312  17571.339844   81020000\n",
      "2016-04-13  17908.279297  17918.349609  17741.660156  17741.660156   91710000\n",
      "2016-04-14  17926.429688  17962.140625  17885.439453  17912.250000   84510000\n",
      "2016-04-15  17897.460938  17937.650391  17867.410156  17925.949219  118160000\n",
      "2016-04-18  18004.160156  18009.529297  17848.220703  17890.199219   89390000\n",
      "Warning: 'Adj Close' not found for ^DJI. Available columns: MultiIndex([( 'Close', '^DJI'),\n",
      "            (  'High', '^DJI'),\n",
      "            (   'Low', '^DJI'),\n",
      "            (  'Open', '^DJI'),\n",
      "            ('Volume', '^DJI')],\n",
      "           names=['Price', 'Ticker'])\n",
      "Error downloading USD/EUR: Thank you for using Alpha Vantage! Our standard API rate limit is 25 requests per day. Please subscribe to any of the premium plans at https://www.alphavantage.co/premium/ to instantly remove all daily rate limits.\n",
      "Error downloading USD/JPY: Thank you for using Alpha Vantage! Our standard API rate limit is 25 requests per day. Please subscribe to any of the premium plans at https://www.alphavantage.co/premium/ to instantly remove all daily rate limits.\n"
     ]
    },
    {
     "name": "stderr",
     "output_type": "stream",
     "text": [
      "[*********************100%***********************]  1 of 1 completed\n"
     ]
    },
    {
     "name": "stdout",
     "output_type": "stream",
     "text": [
      "Downloaded Gold Data:\n",
      "Price             Close         High          Low         Open Volume\n",
      "Ticker             GC=F         GC=F         GC=F         GC=F   GC=F\n",
      "Date                                                                 \n",
      "2016-04-12  1259.400024  1261.699951  1253.699951  1260.000000    185\n",
      "2016-04-13  1246.800049  1256.900024  1241.300049  1256.500000    203\n",
      "2016-04-14  1225.000000  1243.699951  1224.500000  1231.400024    264\n",
      "2016-04-15  1233.099976  1235.000000  1225.699951  1225.699951     97\n",
      "2016-04-18  1233.599976  1241.099976  1232.199951  1238.699951    304\n",
      "Warning: 'Adj Close' not found in gold data. Available columns: MultiIndex([( 'Close', 'GC=F'),\n",
      "            (  'High', 'GC=F'),\n",
      "            (   'Low', 'GC=F'),\n",
      "            (  'Open', 'GC=F'),\n",
      "            ('Volume', 'GC=F')],\n",
      "           names=['Price', 'Ticker'])\n"
     ]
    },
    {
     "name": "stderr",
     "output_type": "stream",
     "text": [
      "[*********************100%***********************]  1 of 1 completed"
     ]
    },
    {
     "name": "stdout",
     "output_type": "stream",
     "text": [
      "Downloading data for 2016-06-15 (2016-05-31 to 2016-06-30)\n",
      "Downloaded data for ^GSPC:\n",
      "Price             Close         High          Low         Open      Volume\n",
      "Ticker            ^GSPC        ^GSPC        ^GSPC        ^GSPC       ^GSPC\n",
      "Date                                                                      \n",
      "2016-05-31  2096.949951  2103.479980  2088.659912  2100.129883  4514410000\n",
      "2016-06-01  2099.330078  2100.969971  2085.100098  2093.939941  3525170000\n",
      "2016-06-02  2105.260010  2105.260010  2088.590088  2097.709961  3632720000\n",
      "2016-06-03  2099.129883  2104.070068  2085.360107  2104.070068  3627780000\n",
      "2016-06-06  2109.409912  2113.360107  2100.830078  2100.830078  3442020000\n",
      "Warning: 'Adj Close' not found for ^GSPC. Available columns: MultiIndex([( 'Close', '^GSPC'),\n",
      "            (  'High', '^GSPC'),\n",
      "            (   'Low', '^GSPC'),\n",
      "            (  'Open', '^GSPC'),\n",
      "            ('Volume', '^GSPC')],\n",
      "           names=['Price', 'Ticker'])\n"
     ]
    },
    {
     "name": "stderr",
     "output_type": "stream",
     "text": [
      "\n",
      "[*********************100%***********************]  1 of 1 completed\n",
      "[*********************100%***********************]  1 of 1 completed\n"
     ]
    },
    {
     "name": "stdout",
     "output_type": "stream",
     "text": [
      "Downloaded data for ^IXIC:\n",
      "Price             Close         High          Low         Open      Volume\n",
      "Ticker            ^IXIC        ^IXIC        ^IXIC        ^IXIC       ^IXIC\n",
      "Date                                                                      \n",
      "2016-05-31  4948.049805  4951.450195  4923.029785  4938.479980  2285350000\n",
      "2016-06-01  4952.250000  4958.979980  4923.200195  4928.970215  1797090000\n",
      "2016-06-02  4971.359863  4971.359863  4924.229980  4941.250000  1729050000\n",
      "2016-06-03  4942.520020  4958.649902  4909.209961  4958.100098  1697840000\n",
      "2016-06-06  4968.709961  4980.140137  4944.870117  4950.459961  1663840000\n",
      "Warning: 'Adj Close' not found for ^IXIC. Available columns: MultiIndex([( 'Close', '^IXIC'),\n",
      "            (  'High', '^IXIC'),\n",
      "            (   'Low', '^IXIC'),\n",
      "            (  'Open', '^IXIC'),\n",
      "            ('Volume', '^IXIC')],\n",
      "           names=['Price', 'Ticker'])\n",
      "Downloaded data for ^DJI:\n",
      "Price              Close          High           Low          Open     Volume\n",
      "Ticker              ^DJI          ^DJI          ^DJI          ^DJI       ^DJI\n",
      "Date                                                                         \n",
      "2016-05-31  17787.199219  17899.240234  17724.029297  17891.500000  147390000\n",
      "2016-06-01  17789.669922  17809.179688  17664.789062  17754.550781   78530000\n",
      "2016-06-02  17838.560547  17838.560547  17703.550781  17789.050781   75560000\n",
      "2016-06-03  17807.060547  17833.169922  17689.679688  17799.800781   82270000\n",
      "2016-06-06  17920.330078  17949.679688  17822.810547  17825.689453   71870000\n",
      "Warning: 'Adj Close' not found for ^DJI. Available columns: MultiIndex([( 'Close', '^DJI'),\n",
      "            (  'High', '^DJI'),\n",
      "            (   'Low', '^DJI'),\n",
      "            (  'Open', '^DJI'),\n",
      "            ('Volume', '^DJI')],\n",
      "           names=['Price', 'Ticker'])\n",
      "Error downloading USD/EUR: Thank you for using Alpha Vantage! Our standard API rate limit is 25 requests per day. Please subscribe to any of the premium plans at https://www.alphavantage.co/premium/ to instantly remove all daily rate limits.\n",
      "Error downloading USD/JPY: Thank you for using Alpha Vantage! Our standard API rate limit is 25 requests per day. Please subscribe to any of the premium plans at https://www.alphavantage.co/premium/ to instantly remove all daily rate limits.\n"
     ]
    },
    {
     "name": "stderr",
     "output_type": "stream",
     "text": [
      "[*********************100%***********************]  1 of 1 completed\n"
     ]
    },
    {
     "name": "stdout",
     "output_type": "stream",
     "text": [
      "Downloaded Gold Data:\n",
      "Price             Close         High          Low         Open Volume\n",
      "Ticker             GC=F         GC=F         GC=F         GC=F   GC=F\n",
      "Date                                                                 \n",
      "2016-05-31  1214.800049  1217.599976  1199.000000  1212.500000   6432\n",
      "2016-06-01  1211.900024  1219.800049  1205.400024  1215.699951   2717\n",
      "2016-06-02  1209.800049  1217.000000  1209.599976  1212.400024   1627\n",
      "2016-06-03  1240.099976  1244.500000  1206.400024  1209.099976   1622\n",
      "2016-06-06  1244.599976  1247.300049  1240.000000  1244.400024   1135\n",
      "Warning: 'Adj Close' not found in gold data. Available columns: MultiIndex([( 'Close', 'GC=F'),\n",
      "            (  'High', 'GC=F'),\n",
      "            (   'Low', 'GC=F'),\n",
      "            (  'Open', 'GC=F'),\n",
      "            ('Volume', 'GC=F')],\n",
      "           names=['Price', 'Ticker'])\n"
     ]
    },
    {
     "name": "stderr",
     "output_type": "stream",
     "text": [
      "[*********************100%***********************]  1 of 1 completed"
     ]
    },
    {
     "name": "stdout",
     "output_type": "stream",
     "text": [
      "Downloading data for 2016-07-27 (2016-07-12 to 2016-08-11)\n",
      "Downloaded data for ^GSPC:\n",
      "Price             Close         High          Low         Open      Volume\n",
      "Ticker            ^GSPC        ^GSPC        ^GSPC        ^GSPC       ^GSPC\n",
      "Date                                                                      \n",
      "2016-07-12  2152.139893  2155.399902  2139.500000  2139.500000  4097820000\n",
      "2016-07-13  2152.429932  2156.449951  2146.209961  2153.810059  3502320000\n",
      "2016-07-14  2163.750000  2168.989990  2157.879883  2157.879883  3465610000\n",
      "2016-07-15  2161.739990  2169.050049  2155.790039  2165.129883  3122600000\n",
      "2016-07-18  2166.889893  2168.350098  2159.629883  2162.040039  3009310000\n",
      "Warning: 'Adj Close' not found for ^GSPC. Available columns: MultiIndex([( 'Close', '^GSPC'),\n",
      "            (  'High', '^GSPC'),\n",
      "            (   'Low', '^GSPC'),\n",
      "            (  'Open', '^GSPC'),\n",
      "            ('Volume', '^GSPC')],\n",
      "           names=['Price', 'Ticker'])\n"
     ]
    },
    {
     "name": "stderr",
     "output_type": "stream",
     "text": [
      "\n",
      "[*********************100%***********************]  1 of 1 completed\n",
      "[*********************100%***********************]  1 of 1 completed\n"
     ]
    },
    {
     "name": "stdout",
     "output_type": "stream",
     "text": [
      "Downloaded data for ^IXIC:\n",
      "Price             Close         High          Low         Open      Volume\n",
      "Ticker            ^IXIC        ^IXIC        ^IXIC        ^IXIC       ^IXIC\n",
      "Date                                                                      \n",
      "2016-07-12  5022.819824  5032.100098  5009.680176  5017.990234  1866280000\n",
      "2016-07-13  5005.729980  5036.379883  5002.819824  5036.319824  1650820000\n",
      "2016-07-14  5034.060059  5045.180176  5025.149902  5041.950195  1641170000\n",
      "2016-07-15  5029.589844  5044.810059  5018.520020  5041.189941  1610300000\n",
      "2016-07-18  5055.779785  5063.529785  5030.129883  5034.990234  1585570000\n",
      "Warning: 'Adj Close' not found for ^IXIC. Available columns: MultiIndex([( 'Close', '^IXIC'),\n",
      "            (  'High', '^IXIC'),\n",
      "            (   'Low', '^IXIC'),\n",
      "            (  'Open', '^IXIC'),\n",
      "            ('Volume', '^IXIC')],\n",
      "           names=['Price', 'Ticker'])\n",
      "Downloaded data for ^DJI:\n",
      "Price              Close          High           Low          Open     Volume\n",
      "Ticker              ^DJI          ^DJI          ^DJI          ^DJI       ^DJI\n",
      "Date                                                                         \n",
      "2016-07-12  18347.669922  18371.949219  18259.119141  18259.119141   90170000\n",
      "2016-07-13  18372.119141  18390.160156  18315.759766  18356.779297   80920000\n",
      "2016-07-14  18506.410156  18537.570312  18414.300781  18414.300781   87050000\n",
      "2016-07-15  18516.550781  18557.429688  18471.619141  18508.880859  123690000\n",
      "2016-07-18  18533.050781  18556.130859  18489.839844  18521.550781   75540000\n",
      "Warning: 'Adj Close' not found for ^DJI. Available columns: MultiIndex([( 'Close', '^DJI'),\n",
      "            (  'High', '^DJI'),\n",
      "            (   'Low', '^DJI'),\n",
      "            (  'Open', '^DJI'),\n",
      "            ('Volume', '^DJI')],\n",
      "           names=['Price', 'Ticker'])\n",
      "Error downloading USD/EUR: Thank you for using Alpha Vantage! Our standard API rate limit is 25 requests per day. Please subscribe to any of the premium plans at https://www.alphavantage.co/premium/ to instantly remove all daily rate limits.\n",
      "Error downloading USD/JPY: Thank you for using Alpha Vantage! Our standard API rate limit is 25 requests per day. Please subscribe to any of the premium plans at https://www.alphavantage.co/premium/ to instantly remove all daily rate limits.\n"
     ]
    },
    {
     "name": "stderr",
     "output_type": "stream",
     "text": [
      "[*********************100%***********************]  1 of 1 completed\n"
     ]
    },
    {
     "name": "stdout",
     "output_type": "stream",
     "text": [
      "Downloaded Gold Data:\n",
      "Price             Close         High          Low         Open Volume\n",
      "Ticker             GC=F         GC=F         GC=F         GC=F   GC=F\n",
      "Date                                                                 \n",
      "2016-07-12  1334.099976  1356.000000  1330.300049  1353.599976    252\n",
      "2016-07-13  1342.400024  1342.400024  1336.699951  1341.500000      7\n",
      "2016-07-14  1331.300049  1341.400024  1322.699951  1341.400024     20\n",
      "2016-07-15  1326.500000  1333.699951  1322.900024  1333.699951     52\n",
      "2016-07-18  1328.400024  1335.000000  1326.199951  1327.500000     54\n",
      "Warning: 'Adj Close' not found in gold data. Available columns: MultiIndex([( 'Close', 'GC=F'),\n",
      "            (  'High', 'GC=F'),\n",
      "            (   'Low', 'GC=F'),\n",
      "            (  'Open', 'GC=F'),\n",
      "            ('Volume', 'GC=F')],\n",
      "           names=['Price', 'Ticker'])\n"
     ]
    },
    {
     "name": "stderr",
     "output_type": "stream",
     "text": [
      "[*********************100%***********************]  1 of 1 completed"
     ]
    },
    {
     "name": "stdout",
     "output_type": "stream",
     "text": [
      "Downloading data for 2016-09-21 (2016-09-06 to 2016-10-06)\n",
      "Downloaded data for ^GSPC:\n",
      "Price             Close         High          Low         Open      Volume\n",
      "Ticker            ^GSPC        ^GSPC        ^GSPC        ^GSPC       ^GSPC\n",
      "Date                                                                      \n",
      "2016-09-06  2186.479980  2186.570068  2175.100098  2181.610107  3447650000\n",
      "2016-09-07  2186.159912  2187.870117  2179.070068  2185.169922  3319420000\n",
      "2016-09-08  2181.300049  2184.939941  2177.489990  2182.760010  3727840000\n",
      "2016-09-09  2127.810059  2169.080078  2127.810059  2169.080078  4233960000\n",
      "2016-09-12  2159.040039  2163.300049  2119.120117  2120.860107  4010480000\n",
      "Warning: 'Adj Close' not found for ^GSPC. Available columns: MultiIndex([( 'Close', '^GSPC'),\n",
      "            (  'High', '^GSPC'),\n",
      "            (   'Low', '^GSPC'),\n",
      "            (  'Open', '^GSPC'),\n",
      "            ('Volume', '^GSPC')],\n",
      "           names=['Price', 'Ticker'])\n"
     ]
    },
    {
     "name": "stderr",
     "output_type": "stream",
     "text": [
      "\n",
      "[*********************100%***********************]  1 of 1 completed\n",
      "[*********************100%***********************]  1 of 1 completed\n"
     ]
    },
    {
     "name": "stdout",
     "output_type": "stream",
     "text": [
      "Downloaded data for ^IXIC:\n",
      "Price             Close         High          Low         Open      Volume\n",
      "Ticker            ^IXIC        ^IXIC        ^IXIC        ^IXIC       ^IXIC\n",
      "Date                                                                      \n",
      "2016-09-06  5275.910156  5275.910156  5244.000000  5260.000000  1777940000\n",
      "2016-09-07  5283.930176  5287.609863  5261.919922  5274.229980  1878460000\n",
      "2016-09-08  5259.479980  5271.009766  5248.410156  5269.959961  1839790000\n",
      "2016-09-09  5125.910156  5225.930176  5125.910156  5217.950195  2208690000\n",
      "2016-09-12  5211.890137  5217.879883  5097.799805  5098.029785  2007610000\n",
      "Warning: 'Adj Close' not found for ^IXIC. Available columns: MultiIndex([( 'Close', '^IXIC'),\n",
      "            (  'High', '^IXIC'),\n",
      "            (   'Low', '^IXIC'),\n",
      "            (  'Open', '^IXIC'),\n",
      "            ('Volume', '^IXIC')],\n",
      "           names=['Price', 'Ticker'])\n",
      "Downloaded data for ^DJI:\n",
      "Price              Close          High           Low          Open     Volume\n",
      "Ticker              ^DJI          ^DJI          ^DJI          ^DJI       ^DJI\n",
      "Date                                                                         \n",
      "2016-09-06  18538.119141  18551.539062  18450.320312  18493.400391   83710000\n",
      "2016-09-07  18526.140625  18536.890625  18474.769531  18527.710938   67570000\n",
      "2016-09-08  18479.910156  18506.240234  18446.689453  18486.689453   79060000\n",
      "2016-09-09  18085.449219  18404.169922  18085.449219  18404.169922  120670000\n",
      "2016-09-12  18325.070312  18358.689453  17994.839844  18028.949219  103260000\n",
      "Warning: 'Adj Close' not found for ^DJI. Available columns: MultiIndex([( 'Close', '^DJI'),\n",
      "            (  'High', '^DJI'),\n",
      "            (   'Low', '^DJI'),\n",
      "            (  'Open', '^DJI'),\n",
      "            ('Volume', '^DJI')],\n",
      "           names=['Price', 'Ticker'])\n",
      "Error downloading USD/EUR: Thank you for using Alpha Vantage! Our standard API rate limit is 25 requests per day. Please subscribe to any of the premium plans at https://www.alphavantage.co/premium/ to instantly remove all daily rate limits.\n",
      "Error downloading USD/JPY: Thank you for using Alpha Vantage! Our standard API rate limit is 25 requests per day. Please subscribe to any of the premium plans at https://www.alphavantage.co/premium/ to instantly remove all daily rate limits.\n"
     ]
    },
    {
     "name": "stderr",
     "output_type": "stream",
     "text": [
      "[*********************100%***********************]  1 of 1 completed\n"
     ]
    },
    {
     "name": "stdout",
     "output_type": "stream",
     "text": [
      "Downloaded Gold Data:\n",
      "Price             Close         High          Low         Open Volume\n",
      "Ticker             GC=F         GC=F         GC=F         GC=F   GC=F\n",
      "Date                                                                 \n",
      "2016-09-06  1349.400024  1349.400024  1323.199951  1323.300049     46\n",
      "2016-09-07  1344.300049  1350.500000  1343.900024  1348.400024     14\n",
      "2016-09-08  1336.800049  1345.400024  1335.699951  1344.800049     30\n",
      "2016-09-09  1330.099976  1338.500000  1328.000000  1338.500000     35\n",
      "2016-09-12  1321.000000  1329.300049  1319.900024  1327.000000    177\n",
      "Warning: 'Adj Close' not found in gold data. Available columns: MultiIndex([( 'Close', 'GC=F'),\n",
      "            (  'High', 'GC=F'),\n",
      "            (   'Low', 'GC=F'),\n",
      "            (  'Open', 'GC=F'),\n",
      "            ('Volume', 'GC=F')],\n",
      "           names=['Price', 'Ticker'])\n"
     ]
    },
    {
     "name": "stderr",
     "output_type": "stream",
     "text": [
      "[*********************100%***********************]  1 of 1 completed"
     ]
    },
    {
     "name": "stdout",
     "output_type": "stream",
     "text": [
      "Downloading data for 2016-11-02 (2016-10-18 to 2016-11-17)\n",
      "Downloaded data for ^GSPC:\n",
      "Price             Close         High          Low         Open      Volume\n",
      "Ticker            ^GSPC        ^GSPC        ^GSPC        ^GSPC       ^GSPC\n",
      "Date                                                                      \n",
      "2016-10-18  2139.600098  2144.379883  2135.489990  2138.310059  3172940000\n",
      "2016-10-19  2144.290039  2148.439941  2138.149902  2140.810059  3364990000\n",
      "2016-10-20  2141.340088  2147.179932  2133.439941  2142.510010  3339320000\n",
      "2016-10-21  2141.159912  2142.629883  2130.090088  2139.429932  3456390000\n",
      "2016-10-24  2151.330078  2154.790039  2146.909912  2148.500000  3359950000\n",
      "Warning: 'Adj Close' not found for ^GSPC. Available columns: MultiIndex([( 'Close', '^GSPC'),\n",
      "            (  'High', '^GSPC'),\n",
      "            (   'Low', '^GSPC'),\n",
      "            (  'Open', '^GSPC'),\n",
      "            ('Volume', '^GSPC')],\n",
      "           names=['Price', 'Ticker'])\n"
     ]
    },
    {
     "name": "stderr",
     "output_type": "stream",
     "text": [
      "\n",
      "[*********************100%***********************]  1 of 1 completed\n",
      "[*********************100%***********************]  1 of 1 completed\n"
     ]
    },
    {
     "name": "stdout",
     "output_type": "stream",
     "text": [
      "Downloaded data for ^IXIC:\n",
      "Price             Close         High          Low         Open      Volume\n",
      "Ticker            ^IXIC        ^IXIC        ^IXIC        ^IXIC       ^IXIC\n",
      "Date                                                                      \n",
      "2016-10-18  5243.839844  5264.270020  5239.439941  5255.319824  1476970000\n",
      "2016-10-19  5246.410156  5253.830078  5234.250000  5240.330078  1548910000\n",
      "2016-10-20  5241.830078  5252.100098  5216.049805  5238.200195  1745270000\n",
      "2016-10-21  5257.399902  5259.129883  5225.759766  5238.649902  1651490000\n",
      "2016-10-24  5309.830078  5311.500000  5289.229980  5290.310059  1533370000\n",
      "Warning: 'Adj Close' not found for ^IXIC. Available columns: MultiIndex([( 'Close', '^IXIC'),\n",
      "            (  'High', '^IXIC'),\n",
      "            (   'Low', '^IXIC'),\n",
      "            (  'Open', '^IXIC'),\n",
      "            ('Volume', '^IXIC')],\n",
      "           names=['Price', 'Ticker'])\n",
      "Downloaded data for ^DJI:\n",
      "Price              Close          High           Low          Open     Volume\n",
      "Ticker              ^DJI          ^DJI          ^DJI          ^DJI       ^DJI\n",
      "Date                                                                         \n",
      "2016-10-18  18161.939453  18225.800781  18129.449219  18145.060547   74600000\n",
      "2016-10-19  18202.619141  18252.199219  18169.250000  18178.210938   88040000\n",
      "2016-10-20  18162.349609  18249.050781  18129.070312  18161.869141   88830000\n",
      "2016-10-21  18145.710938  18168.759766  18049.769531  18152.630859  117810000\n",
      "2016-10-24  18223.029297  18275.039062  18191.179688  18197.140625   88540000\n",
      "Warning: 'Adj Close' not found for ^DJI. Available columns: MultiIndex([( 'Close', '^DJI'),\n",
      "            (  'High', '^DJI'),\n",
      "            (   'Low', '^DJI'),\n",
      "            (  'Open', '^DJI'),\n",
      "            ('Volume', '^DJI')],\n",
      "           names=['Price', 'Ticker'])\n",
      "Error downloading USD/EUR: Thank you for using Alpha Vantage! Our standard API rate limit is 25 requests per day. Please subscribe to any of the premium plans at https://www.alphavantage.co/premium/ to instantly remove all daily rate limits.\n",
      "Error downloading USD/JPY: Thank you for using Alpha Vantage! Our standard API rate limit is 25 requests per day. Please subscribe to any of the premium plans at https://www.alphavantage.co/premium/ to instantly remove all daily rate limits.\n"
     ]
    },
    {
     "name": "stderr",
     "output_type": "stream",
     "text": [
      "[*********************100%***********************]  1 of 1 completed\n"
     ]
    },
    {
     "name": "stdout",
     "output_type": "stream",
     "text": [
      "Downloaded Gold Data:\n",
      "Price             Close         High          Low         Open Volume\n",
      "Ticker             GC=F         GC=F         GC=F         GC=F   GC=F\n",
      "Date                                                                 \n",
      "2016-10-18  1260.800049  1261.699951  1260.800049  1260.900024     11\n",
      "2016-10-19  1267.900024  1271.500000  1262.900024  1262.900024    219\n",
      "2016-10-20  1265.599976  1270.500000  1265.500000  1270.000000    415\n",
      "2016-10-21  1265.900024  1265.900024  1265.900024  1265.900024    224\n",
      "2016-10-24  1262.000000  1269.199951  1261.800049  1269.199951     42\n",
      "Warning: 'Adj Close' not found in gold data. Available columns: MultiIndex([( 'Close', 'GC=F'),\n",
      "            (  'High', 'GC=F'),\n",
      "            (   'Low', 'GC=F'),\n",
      "            (  'Open', 'GC=F'),\n",
      "            ('Volume', 'GC=F')],\n",
      "           names=['Price', 'Ticker'])\n"
     ]
    },
    {
     "name": "stderr",
     "output_type": "stream",
     "text": [
      "[*********************100%***********************]  1 of 1 completed"
     ]
    },
    {
     "name": "stdout",
     "output_type": "stream",
     "text": [
      "Downloading data for 2016-12-14 (2016-11-29 to 2016-12-29)\n",
      "Downloaded data for ^GSPC:\n",
      "Price             Close         High          Low         Open      Volume\n",
      "Ticker            ^GSPC        ^GSPC        ^GSPC        ^GSPC       ^GSPC\n",
      "Date                                                                      \n",
      "2016-11-29  2204.659912  2210.459961  2198.149902  2200.760010  3709190000\n",
      "2016-11-30  2198.810059  2214.100098  2198.810059  2204.969971  5538400000\n",
      "2016-12-01  2191.080078  2202.600098  2187.439941  2200.169922  5067470000\n",
      "2016-12-02  2191.949951  2197.949951  2188.370117  2191.120117  3782370000\n",
      "2016-12-05  2204.709961  2209.419922  2199.969971  2200.649902  3898530000\n",
      "Warning: 'Adj Close' not found for ^GSPC. Available columns: MultiIndex([( 'Close', '^GSPC'),\n",
      "            (  'High', '^GSPC'),\n",
      "            (   'Low', '^GSPC'),\n",
      "            (  'Open', '^GSPC'),\n",
      "            ('Volume', '^GSPC')],\n",
      "           names=['Price', 'Ticker'])\n"
     ]
    },
    {
     "name": "stderr",
     "output_type": "stream",
     "text": [
      "\n",
      "[*********************100%***********************]  1 of 1 completed\n",
      "[*********************100%***********************]  1 of 1 completed\n"
     ]
    },
    {
     "name": "stdout",
     "output_type": "stream",
     "text": [
      "Downloaded data for ^IXIC:\n",
      "Price             Close         High          Low         Open      Volume\n",
      "Ticker            ^IXIC        ^IXIC        ^IXIC        ^IXIC       ^IXIC\n",
      "Date                                                                      \n",
      "2016-11-29  5379.919922  5403.859863  5360.560059  5370.979980  1791760000\n",
      "2016-11-30  5323.680176  5393.149902  5323.680176  5391.350098  2056060000\n",
      "2016-12-01  5251.109863  5326.339844  5238.209961  5323.879883  2269790000\n",
      "2016-12-02  5255.649902  5274.540039  5239.270020  5249.020020  1851030000\n",
      "2016-12-05  5308.890137  5321.089844  5269.569824  5283.580078  1800570000\n",
      "Warning: 'Adj Close' not found for ^IXIC. Available columns: MultiIndex([( 'Close', '^IXIC'),\n",
      "            (  'High', '^IXIC'),\n",
      "            (   'Low', '^IXIC'),\n",
      "            (  'Open', '^IXIC'),\n",
      "            ('Volume', '^IXIC')],\n",
      "           names=['Price', 'Ticker'])\n",
      "Downloaded data for ^DJI:\n",
      "Price              Close          High           Low          Open     Volume\n",
      "Ticker              ^DJI          ^DJI          ^DJI          ^DJI       ^DJI\n",
      "Date                                                                         \n",
      "2016-11-29  19121.599609  19144.400391  19062.220703  19064.070312   81510000\n",
      "2016-11-30  19123.580078  19225.289062  19123.380859  19135.640625  164570000\n",
      "2016-12-01  19191.929688  19214.300781  19138.789062  19149.199219  108800000\n",
      "2016-12-02  19170.419922  19196.140625  19141.179688  19161.250000   84920000\n",
      "2016-12-05  19216.240234  19274.849609  19186.730469  19244.349609  317800000\n",
      "Warning: 'Adj Close' not found for ^DJI. Available columns: MultiIndex([( 'Close', '^DJI'),\n",
      "            (  'High', '^DJI'),\n",
      "            (   'Low', '^DJI'),\n",
      "            (  'Open', '^DJI'),\n",
      "            ('Volume', '^DJI')],\n",
      "           names=['Price', 'Ticker'])\n",
      "Error downloading USD/EUR: Thank you for using Alpha Vantage! Our standard API rate limit is 25 requests per day. Please subscribe to any of the premium plans at https://www.alphavantage.co/premium/ to instantly remove all daily rate limits.\n",
      "Error downloading USD/JPY: Thank you for using Alpha Vantage! Our standard API rate limit is 25 requests per day. Please subscribe to any of the premium plans at https://www.alphavantage.co/premium/ to instantly remove all daily rate limits.\n"
     ]
    },
    {
     "name": "stderr",
     "output_type": "stream",
     "text": [
      "[*********************100%***********************]  1 of 1 completed\n"
     ]
    },
    {
     "name": "stdout",
     "output_type": "stream",
     "text": [
      "Downloaded Gold Data:\n",
      "Price             Close         High          Low         Open Volume\n",
      "Ticker             GC=F         GC=F         GC=F         GC=F   GC=F\n",
      "Date                                                                 \n",
      "2016-11-29  1187.900024  1194.800049  1179.400024  1193.199951  42124\n",
      "2016-11-30  1170.800049  1193.300049  1167.900024  1187.099976   7158\n",
      "2016-12-01  1166.900024  1174.599976  1160.000000  1172.699951   1588\n",
      "2016-12-02  1175.099976  1177.300049  1166.400024  1172.300049   1521\n",
      "2016-12-05  1174.000000  1186.699951  1157.000000  1181.800049    358\n",
      "Warning: 'Adj Close' not found in gold data. Available columns: MultiIndex([( 'Close', 'GC=F'),\n",
      "            (  'High', 'GC=F'),\n",
      "            (   'Low', 'GC=F'),\n",
      "            (  'Open', 'GC=F'),\n",
      "            ('Volume', 'GC=F')],\n",
      "           names=['Price', 'Ticker'])\n"
     ]
    },
    {
     "name": "stderr",
     "output_type": "stream",
     "text": [
      "[*********************100%***********************]  1 of 1 completed"
     ]
    },
    {
     "name": "stdout",
     "output_type": "stream",
     "text": [
      "Downloading data for 2017-02-01 (2017-01-17 to 2017-02-16)\n",
      "Downloaded data for ^GSPC:\n",
      "Price             Close         High          Low         Open      Volume\n",
      "Ticker            ^GSPC        ^GSPC        ^GSPC        ^GSPC       ^GSPC\n",
      "Date                                                                      \n",
      "2017-01-17  2267.889893  2272.080078  2262.810059  2269.139893  3586950000\n",
      "2017-01-18  2271.889893  2272.010010  2263.350098  2269.139893  3317670000\n",
      "2017-01-19  2263.689941  2274.330078  2258.409912  2271.899902  3168390000\n",
      "2017-01-20  2271.310059  2276.959961  2265.010010  2269.959961  3536850000\n",
      "2017-01-23  2265.199951  2271.780029  2257.020020  2267.780029  3155240000\n",
      "Warning: 'Adj Close' not found for ^GSPC. Available columns: MultiIndex([( 'Close', '^GSPC'),\n",
      "            (  'High', '^GSPC'),\n",
      "            (   'Low', '^GSPC'),\n",
      "            (  'Open', '^GSPC'),\n",
      "            ('Volume', '^GSPC')],\n",
      "           names=['Price', 'Ticker'])\n"
     ]
    },
    {
     "name": "stderr",
     "output_type": "stream",
     "text": [
      "\n",
      "[*********************100%***********************]  1 of 1 completed\n",
      "[*********************100%***********************]  1 of 1 completed\n"
     ]
    },
    {
     "name": "stdout",
     "output_type": "stream",
     "text": [
      "Downloaded data for ^IXIC:\n",
      "Price             Close         High          Low         Open      Volume\n",
      "Ticker            ^IXIC        ^IXIC        ^IXIC        ^IXIC       ^IXIC\n",
      "Date                                                                      \n",
      "2017-01-17  5538.729980  5557.049805  5527.220215  5555.160156  1759440000\n",
      "2017-01-18  5555.649902  5555.979980  5534.770020  5546.939941  1686260000\n",
      "2017-01-19  5540.080078  5571.529785  5528.370117  5560.609863  1809900000\n",
      "2017-01-20  5555.330078  5574.350098  5542.229980  5556.870117  1750340000\n",
      "2017-01-23  5552.939941  5564.140137  5522.689941  5546.640137  1652370000\n",
      "Warning: 'Adj Close' not found for ^IXIC. Available columns: MultiIndex([( 'Close', '^IXIC'),\n",
      "            (  'High', '^IXIC'),\n",
      "            (   'Low', '^IXIC'),\n",
      "            (  'Open', '^IXIC'),\n",
      "            ('Volume', '^IXIC')],\n",
      "           names=['Price', 'Ticker'])\n",
      "Downloaded data for ^DJI:\n",
      "Price              Close          High           Low          Open     Volume\n",
      "Ticker              ^DJI          ^DJI          ^DJI          ^DJI       ^DJI\n",
      "Date                                                                         \n",
      "2017-01-17  19826.769531  19882.990234  19775.349609  19848.820312  341900000\n",
      "2017-01-18  19804.720703  19828.199219  19739.000000  19822.730469  279760000\n",
      "2017-01-19  19732.400391  19824.140625  19677.939453  19813.550781  301750000\n",
      "2017-01-20  19827.250000  19843.939453  19759.140625  19795.060547  435260000\n",
      "2017-01-23  19799.849609  19833.980469  19732.359375  19794.789062  326690000\n",
      "Warning: 'Adj Close' not found for ^DJI. Available columns: MultiIndex([( 'Close', '^DJI'),\n",
      "            (  'High', '^DJI'),\n",
      "            (   'Low', '^DJI'),\n",
      "            (  'Open', '^DJI'),\n",
      "            ('Volume', '^DJI')],\n",
      "           names=['Price', 'Ticker'])\n",
      "Error downloading USD/EUR: Thank you for using Alpha Vantage! Our standard API rate limit is 25 requests per day. Please subscribe to any of the premium plans at https://www.alphavantage.co/premium/ to instantly remove all daily rate limits.\n",
      "Error downloading USD/JPY: Thank you for using Alpha Vantage! Our standard API rate limit is 25 requests per day. Please subscribe to any of the premium plans at https://www.alphavantage.co/premium/ to instantly remove all daily rate limits.\n"
     ]
    },
    {
     "name": "stderr",
     "output_type": "stream",
     "text": [
      "[*********************100%***********************]  1 of 1 completed\n"
     ]
    },
    {
     "name": "stdout",
     "output_type": "stream",
     "text": [
      "Downloaded Gold Data:\n",
      "Price             Close         High          Low         Open Volume\n",
      "Ticker             GC=F         GC=F         GC=F         GC=F   GC=F\n",
      "Date                                                                 \n",
      "2017-01-17  1212.000000  1214.599976  1200.800049  1205.500000     79\n",
      "2017-01-18  1211.300049  1214.699951  1203.099976  1213.599976    114\n",
      "2017-01-19  1200.900024  1204.000000  1195.800049  1200.500000     26\n",
      "2017-01-20  1204.300049  1212.099976  1202.800049  1202.800049     38\n",
      "2017-01-23  1215.000000  1215.000000  1210.000000  1212.000000     16\n",
      "Warning: 'Adj Close' not found in gold data. Available columns: MultiIndex([( 'Close', 'GC=F'),\n",
      "            (  'High', 'GC=F'),\n",
      "            (   'Low', 'GC=F'),\n",
      "            (  'Open', 'GC=F'),\n",
      "            ('Volume', 'GC=F')],\n",
      "           names=['Price', 'Ticker'])\n"
     ]
    },
    {
     "name": "stderr",
     "output_type": "stream",
     "text": [
      "[*********************100%***********************]  1 of 1 completed"
     ]
    },
    {
     "name": "stdout",
     "output_type": "stream",
     "text": [
      "Downloading data for 2017-03-15 (2017-02-28 to 2017-03-30)\n",
      "Downloaded data for ^GSPC:\n",
      "Price             Close         High          Low         Open      Volume\n",
      "Ticker            ^GSPC        ^GSPC        ^GSPC        ^GSPC       ^GSPC\n",
      "Date                                                                      \n",
      "2017-02-28  2363.639893  2367.790039  2358.959961  2366.080078  4212460000\n",
      "2017-03-01  2395.959961  2400.979980  2380.129883  2380.129883  4347630000\n",
      "2017-03-02  2381.919922  2394.750000  2380.169922  2394.750000  3824030000\n",
      "2017-03-03  2383.120117  2383.889893  2375.389893  2380.919922  3556670000\n",
      "2017-03-06  2375.310059  2378.800049  2367.979980  2375.229980  3251800000\n",
      "Warning: 'Adj Close' not found for ^GSPC. Available columns: MultiIndex([( 'Close', '^GSPC'),\n",
      "            (  'High', '^GSPC'),\n",
      "            (   'Low', '^GSPC'),\n",
      "            (  'Open', '^GSPC'),\n",
      "            ('Volume', '^GSPC')],\n",
      "           names=['Price', 'Ticker'])\n"
     ]
    },
    {
     "name": "stderr",
     "output_type": "stream",
     "text": [
      "\n",
      "[*********************100%***********************]  1 of 1 completed\n",
      "[*********************100%***********************]  1 of 1 completed\n"
     ]
    },
    {
     "name": "stdout",
     "output_type": "stream",
     "text": [
      "Downloaded data for ^IXIC:\n",
      "Price             Close         High          Low         Open      Volume\n",
      "Ticker            ^IXIC        ^IXIC        ^IXIC        ^IXIC       ^IXIC\n",
      "Date                                                                      \n",
      "2017-02-28  5825.439941  5855.069824  5817.220215  5852.790039  2303390000\n",
      "2017-03-01  5904.029785  5911.790039  5865.790039  5874.859863  2220350000\n",
      "2017-03-02  5861.220215  5897.009766  5856.299805  5897.009766  2043610000\n",
      "2017-03-03  5870.750000  5870.750000  5841.470215  5854.270020  1853600000\n",
      "2017-03-06  5849.180176  5857.740234  5827.459961  5846.419922  1774040000\n",
      "Warning: 'Adj Close' not found for ^IXIC. Available columns: MultiIndex([( 'Close', '^IXIC'),\n",
      "            (  'High', '^IXIC'),\n",
      "            (   'Low', '^IXIC'),\n",
      "            (  'Open', '^IXIC'),\n",
      "            ('Volume', '^IXIC')],\n",
      "           names=['Price', 'Ticker'])\n",
      "Downloaded data for ^DJI:\n",
      "Price              Close          High           Low          Open     Volume\n",
      "Ticker              ^DJI          ^DJI          ^DJI          ^DJI       ^DJI\n",
      "Date                                                                         \n",
      "2017-02-28  20812.240234  20841.240234  20781.210938  20833.880859  339210000\n",
      "2017-03-01  21115.550781  21169.109375  20957.289062  20957.289062  392820000\n",
      "2017-03-02  21002.970703  21129.199219  20996.609375  21128.910156  319910000\n",
      "2017-03-03  21005.710938  21039.960938  20953.859375  21008.750000  254420000\n",
      "2017-03-06  20954.339844  20986.429688  20912.109375  20955.710938  266620000\n",
      "Warning: 'Adj Close' not found for ^DJI. Available columns: MultiIndex([( 'Close', '^DJI'),\n",
      "            (  'High', '^DJI'),\n",
      "            (   'Low', '^DJI'),\n",
      "            (  'Open', '^DJI'),\n",
      "            ('Volume', '^DJI')],\n",
      "           names=['Price', 'Ticker'])\n",
      "Error downloading USD/EUR: Thank you for using Alpha Vantage! Our standard API rate limit is 25 requests per day. Please subscribe to any of the premium plans at https://www.alphavantage.co/premium/ to instantly remove all daily rate limits.\n",
      "Error downloading USD/JPY: Thank you for using Alpha Vantage! Our standard API rate limit is 25 requests per day. Please subscribe to any of the premium plans at https://www.alphavantage.co/premium/ to instantly remove all daily rate limits.\n"
     ]
    },
    {
     "name": "stderr",
     "output_type": "stream",
     "text": [
      "[*********************100%***********************]  1 of 1 completed\n"
     ]
    },
    {
     "name": "stdout",
     "output_type": "stream",
     "text": [
      "Downloaded Gold Data:\n",
      "Price             Close         High          Low         Open Volume\n",
      "Ticker             GC=F         GC=F         GC=F         GC=F   GC=F\n",
      "Date                                                                 \n",
      "2017-02-28  1252.599976  1257.300049  1247.199951  1253.599976    721\n",
      "2017-03-01  1248.900024  1248.900024  1236.900024  1247.800049    138\n",
      "2017-03-02  1231.900024  1247.599976  1230.699951  1247.199951     79\n",
      "2017-03-03  1225.500000  1235.199951  1222.900024  1231.699951    121\n",
      "2017-03-06  1224.500000  1235.199951  1224.500000  1235.199951     29\n",
      "Warning: 'Adj Close' not found in gold data. Available columns: MultiIndex([( 'Close', 'GC=F'),\n",
      "            (  'High', 'GC=F'),\n",
      "            (   'Low', 'GC=F'),\n",
      "            (  'Open', 'GC=F'),\n",
      "            ('Volume', 'GC=F')],\n",
      "           names=['Price', 'Ticker'])\n"
     ]
    },
    {
     "name": "stderr",
     "output_type": "stream",
     "text": [
      "[*********************100%***********************]  1 of 1 completed"
     ]
    },
    {
     "name": "stdout",
     "output_type": "stream",
     "text": [
      "Downloading data for 2017-05-03 (2017-04-18 to 2017-05-18)\n",
      "Downloaded data for ^GSPC:\n",
      "Price             Close         High          Low         Open      Volume\n",
      "Ticker            ^GSPC        ^GSPC        ^GSPC        ^GSPC       ^GSPC\n",
      "Date                                                                      \n",
      "2017-04-18  2342.189941  2348.350098  2334.540039  2342.530029  3272210000\n",
      "2017-04-19  2338.169922  2352.629883  2335.050049  2346.790039  3521160000\n",
      "2017-04-20  2355.840088  2361.370117  2340.909912  2342.689941  3648990000\n",
      "2017-04-21  2348.689941  2356.179932  2344.510010  2354.739990  3524160000\n",
      "2017-04-24  2374.149902  2376.979980  2369.189941  2370.330078  3711170000\n",
      "Warning: 'Adj Close' not found for ^GSPC. Available columns: MultiIndex([( 'Close', '^GSPC'),\n",
      "            (  'High', '^GSPC'),\n",
      "            (   'Low', '^GSPC'),\n",
      "            (  'Open', '^GSPC'),\n",
      "            ('Volume', '^GSPC')],\n",
      "           names=['Price', 'Ticker'])\n"
     ]
    },
    {
     "name": "stderr",
     "output_type": "stream",
     "text": [
      "\n",
      "[*********************100%***********************]  1 of 1 completed\n",
      "[*********************100%***********************]  1 of 1 completed\n"
     ]
    },
    {
     "name": "stdout",
     "output_type": "stream",
     "text": [
      "Downloaded data for ^IXIC:\n",
      "Price             Close         High          Low         Open      Volume\n",
      "Ticker            ^IXIC        ^IXIC        ^IXIC        ^IXIC       ^IXIC\n",
      "Date                                                                      \n",
      "2017-04-18  5849.470215  5860.040039  5828.569824  5838.589844  1610230000\n",
      "2017-04-19  5863.029785  5894.680176  5856.339844  5874.430176  1754240000\n",
      "2017-04-20  5916.779785  5926.229980  5880.200195  5887.870117  1751490000\n",
      "2017-04-21  5910.520020  5919.229980  5899.430176  5919.020020  1736420000\n",
      "2017-04-24  5983.819824  5989.919922  5970.250000  5979.959961  1842880000\n",
      "Warning: 'Adj Close' not found for ^IXIC. Available columns: MultiIndex([( 'Close', '^IXIC'),\n",
      "            (  'High', '^IXIC'),\n",
      "            (   'Low', '^IXIC'),\n",
      "            (  'Open', '^IXIC'),\n",
      "            ('Volume', '^IXIC')],\n",
      "           names=['Price', 'Ticker'])\n",
      "Downloaded data for ^DJI:\n",
      "Price              Close          High           Low          Open     Volume\n",
      "Ticker              ^DJI          ^DJI          ^DJI          ^DJI       ^DJI\n",
      "Date                                                                         \n",
      "2017-04-18  20523.279297  20600.119141  20462.279297  20561.390625  263180000\n",
      "2017-04-19  20404.490234  20546.689453  20379.550781  20503.519531  294790000\n",
      "2017-04-20  20578.710938  20629.779297  20406.679688  20406.679688  312440000\n",
      "2017-04-21  20547.759766  20601.400391  20505.330078  20578.099609  369600000\n",
      "2017-04-24  20763.890625  20792.199219  20723.589844  20723.589844  342400000\n",
      "Warning: 'Adj Close' not found for ^DJI. Available columns: MultiIndex([( 'Close', '^DJI'),\n",
      "            (  'High', '^DJI'),\n",
      "            (   'Low', '^DJI'),\n",
      "            (  'Open', '^DJI'),\n",
      "            ('Volume', '^DJI')],\n",
      "           names=['Price', 'Ticker'])\n",
      "Error downloading USD/EUR: Thank you for using Alpha Vantage! Our standard API rate limit is 25 requests per day. Please subscribe to any of the premium plans at https://www.alphavantage.co/premium/ to instantly remove all daily rate limits.\n",
      "Error downloading USD/JPY: Thank you for using Alpha Vantage! Our standard API rate limit is 25 requests per day. Please subscribe to any of the premium plans at https://www.alphavantage.co/premium/ to instantly remove all daily rate limits.\n"
     ]
    },
    {
     "name": "stderr",
     "output_type": "stream",
     "text": [
      "[*********************100%***********************]  1 of 1 completed\n"
     ]
    },
    {
     "name": "stdout",
     "output_type": "stream",
     "text": [
      "Downloaded Gold Data:\n",
      "Price             Close         High          Low         Open Volume\n",
      "Ticker             GC=F         GC=F         GC=F         GC=F   GC=F\n",
      "Date                                                                 \n",
      "2017-04-18  1291.699951  1291.699951  1278.599976  1283.900024    394\n",
      "2017-04-19  1281.400024  1288.000000  1274.000000  1288.000000    194\n",
      "2017-04-20  1281.900024  1281.900024  1276.199951  1279.699951    127\n",
      "2017-04-21  1287.400024  1287.400024  1279.199951  1279.800049    474\n",
      "2017-04-24  1275.800049  1276.400024  1265.000000  1275.000000    605\n",
      "Warning: 'Adj Close' not found in gold data. Available columns: MultiIndex([( 'Close', 'GC=F'),\n",
      "            (  'High', 'GC=F'),\n",
      "            (   'Low', 'GC=F'),\n",
      "            (  'Open', 'GC=F'),\n",
      "            ('Volume', 'GC=F')],\n",
      "           names=['Price', 'Ticker'])\n"
     ]
    },
    {
     "name": "stderr",
     "output_type": "stream",
     "text": [
      "[*********************100%***********************]  1 of 1 completed"
     ]
    },
    {
     "name": "stdout",
     "output_type": "stream",
     "text": [
      "Downloading data for 2017-06-14 (2017-05-30 to 2017-06-29)\n",
      "Downloaded data for ^GSPC:\n",
      "Price             Close         High          Low         Open      Volume\n",
      "Ticker            ^GSPC        ^GSPC        ^GSPC        ^GSPC       ^GSPC\n",
      "Date                                                                      \n",
      "2017-05-30  2412.909912  2415.260010  2409.429932  2411.669922  3205860000\n",
      "2017-05-31  2411.800049  2415.989990  2403.590088  2415.629883  4518040000\n",
      "2017-06-01  2430.060059  2430.060059  2413.540039  2415.649902  3860620000\n",
      "2017-06-02  2439.070068  2440.229980  2427.709961  2431.280029  3465500000\n",
      "2017-06-05  2436.100098  2439.550049  2434.320068  2437.830078  2916720000\n",
      "Warning: 'Adj Close' not found for ^GSPC. Available columns: MultiIndex([( 'Close', '^GSPC'),\n",
      "            (  'High', '^GSPC'),\n",
      "            (   'Low', '^GSPC'),\n",
      "            (  'Open', '^GSPC'),\n",
      "            ('Volume', '^GSPC')],\n",
      "           names=['Price', 'Ticker'])\n"
     ]
    },
    {
     "name": "stderr",
     "output_type": "stream",
     "text": [
      "\n",
      "[*********************100%***********************]  1 of 1 completed\n",
      "[*********************100%***********************]  1 of 1 completed\n"
     ]
    },
    {
     "name": "stdout",
     "output_type": "stream",
     "text": [
      "Downloaded data for ^IXIC:\n",
      "Price             Close         High          Low         Open      Volume\n",
      "Ticker            ^IXIC        ^IXIC        ^IXIC        ^IXIC       ^IXIC\n",
      "Date                                                                      \n",
      "2017-05-30  6203.189941  6217.129883  6200.410156  6204.180176  1690930000\n",
      "2017-05-31  6198.520020  6221.990234  6164.069824  6221.629883  2212130000\n",
      "2017-06-01  6246.830078  6247.069824  6200.450195  6215.910156  1946000000\n",
      "2017-06-02  6305.799805  6308.759766  6253.770020  6261.589844  1825450000\n",
      "2017-06-05  6295.680176  6310.620117  6292.149902  6305.470215  1742160000\n",
      "Warning: 'Adj Close' not found for ^IXIC. Available columns: MultiIndex([( 'Close', '^IXIC'),\n",
      "            (  'High', '^IXIC'),\n",
      "            (   'Low', '^IXIC'),\n",
      "            (  'Open', '^IXIC'),\n",
      "            ('Volume', '^IXIC')],\n",
      "           names=['Price', 'Ticker'])\n",
      "Downloaded data for ^DJI:\n",
      "Price              Close          High           Low          Open     Volume\n",
      "Ticker              ^DJI          ^DJI          ^DJI          ^DJI       ^DJI\n",
      "Date                                                                         \n",
      "2017-05-30  21029.470703  21063.619141  21009.599609  21045.490234  242810000\n",
      "2017-05-31  21008.650391  21051.699219  20942.570312  21048.460938  371580000\n",
      "2017-06-01  21144.179688  21144.179688  20994.220703  21030.550781  276730000\n",
      "2017-06-02  21206.289062  21225.039062  21129.560547  21142.089844  329700000\n",
      "2017-06-05  21184.039062  21224.410156  21168.689453  21195.029297  269790000\n",
      "Warning: 'Adj Close' not found for ^DJI. Available columns: MultiIndex([( 'Close', '^DJI'),\n",
      "            (  'High', '^DJI'),\n",
      "            (   'Low', '^DJI'),\n",
      "            (  'Open', '^DJI'),\n",
      "            ('Volume', '^DJI')],\n",
      "           names=['Price', 'Ticker'])\n",
      "Error downloading USD/EUR: Thank you for using Alpha Vantage! Our standard API rate limit is 25 requests per day. Please subscribe to any of the premium plans at https://www.alphavantage.co/premium/ to instantly remove all daily rate limits.\n",
      "Error downloading USD/JPY: Thank you for using Alpha Vantage! Our standard API rate limit is 25 requests per day. Please subscribe to any of the premium plans at https://www.alphavantage.co/premium/ to instantly remove all daily rate limits.\n"
     ]
    },
    {
     "name": "stderr",
     "output_type": "stream",
     "text": [
      "[*********************100%***********************]  1 of 1 completed\n"
     ]
    },
    {
     "name": "stdout",
     "output_type": "stream",
     "text": [
      "Downloaded Gold Data:\n",
      "Price             Close         High          Low         Open  Volume\n",
      "Ticker             GC=F         GC=F         GC=F         GC=F    GC=F\n",
      "Date                                                                  \n",
      "2017-05-30  1262.099976  1270.000000  1258.400024  1267.400024  129819\n",
      "2017-05-31  1272.000000  1273.199951  1258.500000  1262.400024    2712\n",
      "2017-06-01  1267.000000  1269.199951  1260.800049  1268.000000     825\n",
      "2017-06-02  1276.800049  1279.000000  1259.000000  1265.199951    1732\n",
      "2017-06-05  1279.300049  1282.000000  1277.000000  1279.199951     433\n",
      "Warning: 'Adj Close' not found in gold data. Available columns: MultiIndex([( 'Close', 'GC=F'),\n",
      "            (  'High', 'GC=F'),\n",
      "            (   'Low', 'GC=F'),\n",
      "            (  'Open', 'GC=F'),\n",
      "            ('Volume', 'GC=F')],\n",
      "           names=['Price', 'Ticker'])\n"
     ]
    },
    {
     "name": "stderr",
     "output_type": "stream",
     "text": [
      "[*********************100%***********************]  1 of 1 completed"
     ]
    },
    {
     "name": "stdout",
     "output_type": "stream",
     "text": [
      "Downloading data for 2017-07-26 (2017-07-11 to 2017-08-10)\n",
      "Downloaded data for ^GSPC:\n",
      "Price             Close         High          Low         Open      Volume\n",
      "Ticker            ^GSPC        ^GSPC        ^GSPC        ^GSPC       ^GSPC\n",
      "Date                                                                      \n",
      "2017-07-11  2425.530029  2429.300049  2412.790039  2427.350098  3108800000\n",
      "2017-07-12  2443.250000  2445.760010  2435.750000  2435.750000  3176900000\n",
      "2017-07-13  2447.830078  2449.320068  2441.689941  2444.989990  3068510000\n",
      "2017-07-14  2459.270020  2463.540039  2446.689941  2449.159912  2738460000\n",
      "2017-07-17  2459.139893  2462.820068  2457.159912  2459.500000  2800580000\n",
      "Warning: 'Adj Close' not found for ^GSPC. Available columns: MultiIndex([( 'Close', '^GSPC'),\n",
      "            (  'High', '^GSPC'),\n",
      "            (   'Low', '^GSPC'),\n",
      "            (  'Open', '^GSPC'),\n",
      "            ('Volume', '^GSPC')],\n",
      "           names=['Price', 'Ticker'])\n"
     ]
    },
    {
     "name": "stderr",
     "output_type": "stream",
     "text": [
      "\n",
      "[*********************100%***********************]  1 of 1 completed\n",
      "[*********************100%***********************]  1 of 1 completed\n"
     ]
    },
    {
     "name": "stdout",
     "output_type": "stream",
     "text": [
      "Downloaded data for ^IXIC:\n",
      "Price             Close         High          Low         Open      Volume\n",
      "Ticker            ^IXIC        ^IXIC        ^IXIC        ^IXIC       ^IXIC\n",
      "Date                                                                      \n",
      "2017-07-11  6193.299805  6200.580078  6149.870117  6171.250000  1812560000\n",
      "2017-07-12  6261.169922  6265.640137  6236.819824  6238.899902  1827740000\n",
      "2017-07-13  6274.439941  6281.450195  6251.259766  6269.100098  1806160000\n",
      "2017-07-14  6312.470215  6321.759766  6278.700195  6289.080078  1615440000\n",
      "2017-07-17  6314.430176  6330.970215  6307.339844  6320.350098  1563390000\n",
      "Warning: 'Adj Close' not found for ^IXIC. Available columns: MultiIndex([( 'Close', '^IXIC'),\n",
      "            (  'High', '^IXIC'),\n",
      "            (   'Low', '^IXIC'),\n",
      "            (  'Open', '^IXIC'),\n",
      "            ('Volume', '^IXIC')],\n",
      "           names=['Price', 'Ticker'])\n",
      "Downloaded data for ^DJI:\n",
      "Price              Close          High           Low          Open     Volume\n",
      "Ticker              ^DJI          ^DJI          ^DJI          ^DJI       ^DJI\n",
      "Date                                                                         \n",
      "2017-07-11  21409.070312  21441.619141  21279.300781  21410.169922  247570000\n",
      "2017-07-12  21532.140625  21580.789062  21467.929688  21467.929688  267870000\n",
      "2017-07-13  21553.089844  21568.720703  21512.359375  21537.189453  232270000\n",
      "2017-07-14  21637.740234  21681.529297  21521.720703  21532.769531  235590000\n",
      "2017-07-17  21629.720703  21661.810547  21617.660156  21633.970703  244780000\n",
      "Warning: 'Adj Close' not found for ^DJI. Available columns: MultiIndex([( 'Close', '^DJI'),\n",
      "            (  'High', '^DJI'),\n",
      "            (   'Low', '^DJI'),\n",
      "            (  'Open', '^DJI'),\n",
      "            ('Volume', '^DJI')],\n",
      "           names=['Price', 'Ticker'])\n",
      "Error downloading USD/EUR: Thank you for using Alpha Vantage! Our standard API rate limit is 25 requests per day. Please subscribe to any of the premium plans at https://www.alphavantage.co/premium/ to instantly remove all daily rate limits.\n",
      "Error downloading USD/JPY: Thank you for using Alpha Vantage! Our standard API rate limit is 25 requests per day. Please subscribe to any of the premium plans at https://www.alphavantage.co/premium/ to instantly remove all daily rate limits.\n"
     ]
    },
    {
     "name": "stderr",
     "output_type": "stream",
     "text": [
      "[*********************100%***********************]  1 of 1 completed\n"
     ]
    },
    {
     "name": "stdout",
     "output_type": "stream",
     "text": [
      "Downloaded Gold Data:\n",
      "Price             Close         High          Low         Open Volume\n",
      "Ticker             GC=F         GC=F         GC=F         GC=F   GC=F\n",
      "Date                                                                 \n",
      "2017-07-11  1213.599976  1214.900024  1208.699951  1208.699951     12\n",
      "2017-07-12  1218.099976  1219.400024  1217.900024  1218.300049      7\n",
      "2017-07-13  1216.300049  1221.400024  1216.300049  1221.400024      7\n",
      "2017-07-14  1226.599976  1227.500000  1214.800049  1214.900024     23\n",
      "2017-07-17  1232.800049  1233.400024  1229.900024  1229.900024      7\n",
      "Warning: 'Adj Close' not found in gold data. Available columns: MultiIndex([( 'Close', 'GC=F'),\n",
      "            (  'High', 'GC=F'),\n",
      "            (   'Low', 'GC=F'),\n",
      "            (  'Open', 'GC=F'),\n",
      "            ('Volume', 'GC=F')],\n",
      "           names=['Price', 'Ticker'])\n"
     ]
    },
    {
     "name": "stderr",
     "output_type": "stream",
     "text": [
      "[*********************100%***********************]  1 of 1 completed"
     ]
    },
    {
     "name": "stdout",
     "output_type": "stream",
     "text": [
      "Downloading data for 2017-09-20 (2017-09-05 to 2017-10-05)\n",
      "Downloaded data for ^GSPC:\n",
      "Price             Close         High          Low         Open      Volume\n",
      "Ticker            ^GSPC        ^GSPC        ^GSPC        ^GSPC       ^GSPC\n",
      "Date                                                                      \n",
      "2017-09-05  2457.850098  2471.969971  2446.550049  2470.350098  3502190000\n",
      "2017-09-06  2465.540039  2469.639893  2459.199951  2463.830078  3400200000\n",
      "2017-09-07  2465.100098  2468.620117  2460.290039  2468.060059  3365780000\n",
      "2017-09-08  2461.429932  2467.110107  2459.399902  2462.250000  3308360000\n",
      "2017-09-11  2488.110107  2488.949951  2474.520020  2474.520020  3293460000\n",
      "Warning: 'Adj Close' not found for ^GSPC. Available columns: MultiIndex([( 'Close', '^GSPC'),\n",
      "            (  'High', '^GSPC'),\n",
      "            (   'Low', '^GSPC'),\n",
      "            (  'Open', '^GSPC'),\n",
      "            ('Volume', '^GSPC')],\n",
      "           names=['Price', 'Ticker'])\n"
     ]
    },
    {
     "name": "stderr",
     "output_type": "stream",
     "text": [
      "\n",
      "[*********************100%***********************]  1 of 1 completed\n",
      "[*********************100%***********************]  1 of 1 completed\n"
     ]
    },
    {
     "name": "stdout",
     "output_type": "stream",
     "text": [
      "Downloaded data for ^IXIC:\n",
      "Price             Close         High          Low         Open      Volume\n",
      "Ticker            ^IXIC        ^IXIC        ^IXIC        ^IXIC       ^IXIC\n",
      "Date                                                                      \n",
      "2017-09-05  6375.569824  6426.509766  6334.589844  6414.819824  1889620000\n",
      "2017-09-06  6393.310059  6407.399902  6356.200195  6394.350098  1902720000\n",
      "2017-09-07  6397.870117  6413.069824  6379.810059  6402.939941  2000910000\n",
      "2017-09-08  6360.189941  6391.410156  6354.959961  6389.649902  1786070000\n",
      "2017-09-11  6432.259766  6439.109863  6410.709961  6411.180176  1819310000\n",
      "Warning: 'Adj Close' not found for ^IXIC. Available columns: MultiIndex([( 'Close', '^IXIC'),\n",
      "            (  'High', '^IXIC'),\n",
      "            (   'Low', '^IXIC'),\n",
      "            (  'Open', '^IXIC'),\n",
      "            ('Volume', '^IXIC')],\n",
      "           names=['Price', 'Ticker'])\n",
      "Downloaded data for ^DJI:\n",
      "Price              Close          High           Low          Open     Volume\n",
      "Ticker              ^DJI          ^DJI          ^DJI          ^DJI       ^DJI\n",
      "Date                                                                         \n",
      "2017-09-05  21753.310547  21921.089844  21709.630859  21912.369141  332840000\n",
      "2017-09-06  21807.640625  21849.240234  21794.070312  21815.759766  318760000\n",
      "2017-09-07  21784.779297  21850.009766  21745.710938  21820.380859  333810000\n",
      "2017-09-08  21797.789062  21846.630859  21731.119141  21764.429688  289400000\n",
      "2017-09-11  22057.369141  22067.099609  21927.789062  21927.789062  312770000\n",
      "Warning: 'Adj Close' not found for ^DJI. Available columns: MultiIndex([( 'Close', '^DJI'),\n",
      "            (  'High', '^DJI'),\n",
      "            (   'Low', '^DJI'),\n",
      "            (  'Open', '^DJI'),\n",
      "            ('Volume', '^DJI')],\n",
      "           names=['Price', 'Ticker'])\n",
      "Error downloading USD/EUR: Thank you for using Alpha Vantage! Our standard API rate limit is 25 requests per day. Please subscribe to any of the premium plans at https://www.alphavantage.co/premium/ to instantly remove all daily rate limits.\n",
      "Error downloading USD/JPY: Thank you for using Alpha Vantage! Our standard API rate limit is 25 requests per day. Please subscribe to any of the premium plans at https://www.alphavantage.co/premium/ to instantly remove all daily rate limits.\n"
     ]
    },
    {
     "name": "stderr",
     "output_type": "stream",
     "text": [
      "[*********************100%***********************]  1 of 1 completed\n"
     ]
    },
    {
     "name": "stdout",
     "output_type": "stream",
     "text": [
      "Downloaded Gold Data:\n",
      "Price             Close         High          Low         Open Volume\n",
      "Ticker             GC=F         GC=F         GC=F         GC=F   GC=F\n",
      "Date                                                                 \n",
      "2017-09-05  1339.199951  1339.199951  1328.599976  1335.199951     39\n",
      "2017-09-06  1333.900024  1340.300049  1332.599976  1340.000000     20\n",
      "2017-09-07  1345.099976  1349.000000  1336.400024  1336.400024     26\n",
      "2017-09-08  1346.000000  1355.800049  1345.599976  1351.000000     37\n",
      "2017-09-11  1331.000000  1331.000000  1327.300049  1331.000000      9\n",
      "Warning: 'Adj Close' not found in gold data. Available columns: MultiIndex([( 'Close', 'GC=F'),\n",
      "            (  'High', 'GC=F'),\n",
      "            (   'Low', 'GC=F'),\n",
      "            (  'Open', 'GC=F'),\n",
      "            ('Volume', 'GC=F')],\n",
      "           names=['Price', 'Ticker'])\n"
     ]
    },
    {
     "name": "stderr",
     "output_type": "stream",
     "text": [
      "[*********************100%***********************]  1 of 1 completed"
     ]
    },
    {
     "name": "stdout",
     "output_type": "stream",
     "text": [
      "Downloading data for 2017-11-01 (2017-10-17 to 2017-11-16)\n",
      "Downloaded data for ^GSPC:\n",
      "Price             Close         High          Low         Open      Volume\n",
      "Ticker            ^GSPC        ^GSPC        ^GSPC        ^GSPC       ^GSPC\n",
      "Date                                                                      \n",
      "2017-10-17  2559.360107  2559.709961  2554.689941  2557.169922  2901890000\n",
      "2017-10-18  2561.260010  2564.110107  2559.669922  2562.870117  2999320000\n",
      "2017-10-19  2562.100098  2562.360107  2547.919922  2553.389893  3019520000\n",
      "2017-10-20  2575.209961  2575.439941  2567.560059  2567.560059  3394450000\n",
      "2017-10-23  2564.979980  2578.290039  2564.330078  2578.080078  3214470000\n",
      "Warning: 'Adj Close' not found for ^GSPC. Available columns: MultiIndex([( 'Close', '^GSPC'),\n",
      "            (  'High', '^GSPC'),\n",
      "            (   'Low', '^GSPC'),\n",
      "            (  'Open', '^GSPC'),\n",
      "            ('Volume', '^GSPC')],\n",
      "           names=['Price', 'Ticker'])\n"
     ]
    },
    {
     "name": "stderr",
     "output_type": "stream",
     "text": [
      "\n",
      "[*********************100%***********************]  1 of 1 completed\n",
      "[*********************100%***********************]  1 of 1 completed\n"
     ]
    },
    {
     "name": "stdout",
     "output_type": "stream",
     "text": [
      "Downloaded data for ^IXIC:\n",
      "Price             Close         High          Low         Open      Volume\n",
      "Ticker            ^IXIC        ^IXIC        ^IXIC        ^IXIC       ^IXIC\n",
      "Date                                                                      \n",
      "2017-10-17  6623.660156  6628.600098  6613.209961  6621.419922  1653160000\n",
      "2017-10-18  6624.220215  6635.520020  6613.549805  6634.259766  1738060000\n",
      "2017-10-19  6605.069824  6605.290039  6558.529785  6583.700195  1847020000\n",
      "2017-10-20  6629.049805  6640.029785  6622.919922  6633.370117  1812220000\n",
      "2017-10-23  6586.830078  6641.569824  6581.149902  6641.569824  1813080000\n",
      "Warning: 'Adj Close' not found for ^IXIC. Available columns: MultiIndex([( 'Close', '^IXIC'),\n",
      "            (  'High', '^IXIC'),\n",
      "            (   'Low', '^IXIC'),\n",
      "            (  'Open', '^IXIC'),\n",
      "            ('Volume', '^IXIC')],\n",
      "           names=['Price', 'Ticker'])\n",
      "Downloaded data for ^DJI:\n",
      "Price              Close          High           Low          Open     Volume\n",
      "Ticker              ^DJI          ^DJI          ^DJI          ^DJI       ^DJI\n",
      "Date                                                                         \n",
      "2017-10-17  22997.439453  23002.199219  22948.230469  22952.410156  273090000\n",
      "2017-10-18  23157.599609  23172.929688  23086.750000  23087.130859  271870000\n",
      "2017-10-19  23163.039062  23167.240234  23052.669922  23107.470703  350400000\n",
      "2017-10-20  23328.630859  23328.839844  23201.779297  23205.179688  474380000\n",
      "2017-10-23  23273.960938  23368.369141  23273.960938  23348.949219  456830000\n",
      "Warning: 'Adj Close' not found for ^DJI. Available columns: MultiIndex([( 'Close', '^DJI'),\n",
      "            (  'High', '^DJI'),\n",
      "            (   'Low', '^DJI'),\n",
      "            (  'Open', '^DJI'),\n",
      "            ('Volume', '^DJI')],\n",
      "           names=['Price', 'Ticker'])\n",
      "Error downloading USD/EUR: Thank you for using Alpha Vantage! Our standard API rate limit is 25 requests per day. Please subscribe to any of the premium plans at https://www.alphavantage.co/premium/ to instantly remove all daily rate limits.\n",
      "Error downloading USD/JPY: Thank you for using Alpha Vantage! Our standard API rate limit is 25 requests per day. Please subscribe to any of the premium plans at https://www.alphavantage.co/premium/ to instantly remove all daily rate limits.\n"
     ]
    },
    {
     "name": "stderr",
     "output_type": "stream",
     "text": [
      "[*********************100%***********************]  1 of 1 completed\n"
     ]
    },
    {
     "name": "stdout",
     "output_type": "stream",
     "text": [
      "Downloaded Gold Data:\n",
      "Price             Close         High          Low         Open Volume\n",
      "Ticker             GC=F         GC=F         GC=F         GC=F   GC=F\n",
      "Date                                                                 \n",
      "2017-10-17  1283.000000  1295.099976  1283.000000  1295.099976    571\n",
      "2017-10-18  1279.900024  1279.900024  1279.900024  1279.900024    163\n",
      "2017-10-19  1286.900024  1286.900024  1285.099976  1286.400024    134\n",
      "2017-10-20  1277.400024  1279.599976  1277.400024  1279.599976    304\n",
      "2017-10-23  1277.699951  1280.800049  1271.500000  1274.699951    115\n",
      "Warning: 'Adj Close' not found in gold data. Available columns: MultiIndex([( 'Close', 'GC=F'),\n",
      "            (  'High', 'GC=F'),\n",
      "            (   'Low', 'GC=F'),\n",
      "            (  'Open', 'GC=F'),\n",
      "            ('Volume', 'GC=F')],\n",
      "           names=['Price', 'Ticker'])\n"
     ]
    },
    {
     "name": "stderr",
     "output_type": "stream",
     "text": [
      "[*********************100%***********************]  1 of 1 completed"
     ]
    },
    {
     "name": "stdout",
     "output_type": "stream",
     "text": [
      "Downloading data for 2017-12-13 (2017-11-28 to 2017-12-28)\n",
      "Downloaded data for ^GSPC:\n",
      "Price             Close         High          Low         Open      Volume\n",
      "Ticker            ^GSPC        ^GSPC        ^GSPC        ^GSPC       ^GSPC\n",
      "Date                                                                      \n",
      "2017-11-28  2627.040039  2627.689941  2605.439941  2605.939941  3493340000\n",
      "2017-11-29  2626.070068  2634.889893  2620.320068  2627.820068  4090630000\n",
      "2017-11-30  2647.580078  2657.739990  2633.929932  2633.929932  4965700000\n",
      "2017-12-01  2642.219971  2650.620117  2605.520020  2645.100098  3950930000\n",
      "2017-12-04  2639.439941  2665.189941  2639.030029  2657.189941  4025840000\n",
      "Warning: 'Adj Close' not found for ^GSPC. Available columns: MultiIndex([( 'Close', '^GSPC'),\n",
      "            (  'High', '^GSPC'),\n",
      "            (   'Low', '^GSPC'),\n",
      "            (  'Open', '^GSPC'),\n",
      "            ('Volume', '^GSPC')],\n",
      "           names=['Price', 'Ticker'])\n"
     ]
    },
    {
     "name": "stderr",
     "output_type": "stream",
     "text": [
      "\n",
      "[*********************100%***********************]  1 of 1 completed\n",
      "[*********************100%***********************]  1 of 1 completed\n"
     ]
    },
    {
     "name": "stdout",
     "output_type": "stream",
     "text": [
      "Downloaded data for ^IXIC:\n",
      "Price             Close         High          Low         Open      Volume\n",
      "Ticker            ^IXIC        ^IXIC        ^IXIC        ^IXIC       ^IXIC\n",
      "Date                                                                      \n",
      "2017-11-28  6912.359863  6914.189941  6866.209961  6893.720215  2003840000\n",
      "2017-11-29  6824.390137  6908.330078  6793.950195  6907.279785  2456990000\n",
      "2017-11-30  6873.970215  6888.649902  6838.479980  6852.799805  2468530000\n",
      "2017-12-01  6847.589844  6872.169922  6737.160156  6844.040039  2302140000\n",
      "2017-12-04  6775.370117  6899.229980  6770.689941  6897.129883  2427170000\n",
      "Warning: 'Adj Close' not found for ^IXIC. Available columns: MultiIndex([( 'Close', '^IXIC'),\n",
      "            (  'High', '^IXIC'),\n",
      "            (   'Low', '^IXIC'),\n",
      "            (  'Open', '^IXIC'),\n",
      "            ('Volume', '^IXIC')],\n",
      "           names=['Price', 'Ticker'])\n",
      "Downloaded data for ^DJI:\n",
      "Price              Close          High           Low          Open     Volume\n",
      "Ticker              ^DJI          ^DJI          ^DJI          ^DJI       ^DJI\n",
      "Date                                                                         \n",
      "2017-11-28  23836.710938  23849.609375  23617.109375  23625.189453  319240000\n",
      "2017-11-29  23940.679688  23959.759766  23872.589844  23883.259766  401410000\n",
      "2017-11-30  24272.349609  24327.820312  24013.800781  24013.800781  488200000\n",
      "2017-12-01  24231.589844  24322.060547  23921.900391  24305.400391  417910000\n",
      "2017-12-04  24290.050781  24534.039062  24288.189453  24424.109375  424250000\n",
      "Warning: 'Adj Close' not found for ^DJI. Available columns: MultiIndex([( 'Close', '^DJI'),\n",
      "            (  'High', '^DJI'),\n",
      "            (   'Low', '^DJI'),\n",
      "            (  'Open', '^DJI'),\n",
      "            ('Volume', '^DJI')],\n",
      "           names=['Price', 'Ticker'])\n",
      "Error downloading USD/EUR: Thank you for using Alpha Vantage! Our standard API rate limit is 25 requests per day. Please subscribe to any of the premium plans at https://www.alphavantage.co/premium/ to instantly remove all daily rate limits.\n",
      "Error downloading USD/JPY: Thank you for using Alpha Vantage! Our standard API rate limit is 25 requests per day. Please subscribe to any of the premium plans at https://www.alphavantage.co/premium/ to instantly remove all daily rate limits.\n"
     ]
    },
    {
     "name": "stderr",
     "output_type": "stream",
     "text": [
      "[*********************100%***********************]  1 of 1 completed\n"
     ]
    },
    {
     "name": "stdout",
     "output_type": "stream",
     "text": [
      "Downloaded Gold Data:\n",
      "Price             Close         High          Low         Open  Volume\n",
      "Ticker             GC=F         GC=F         GC=F         GC=F    GC=F\n",
      "Date                                                                  \n",
      "2017-11-28  1294.699951  1294.699951  1294.699951  1294.699951  275442\n",
      "2017-11-29  1282.099976  1296.199951  1281.099976  1293.400024   47244\n",
      "2017-11-30  1273.199951  1284.500000  1269.699951  1283.099976    3049\n",
      "2017-12-01  1278.800049  1288.599976  1271.000000  1274.099976     823\n",
      "2017-12-04  1274.300049  1276.099976  1270.300049  1272.500000     850\n",
      "Warning: 'Adj Close' not found in gold data. Available columns: MultiIndex([( 'Close', 'GC=F'),\n",
      "            (  'High', 'GC=F'),\n",
      "            (   'Low', 'GC=F'),\n",
      "            (  'Open', 'GC=F'),\n",
      "            ('Volume', 'GC=F')],\n",
      "           names=['Price', 'Ticker'])\n"
     ]
    },
    {
     "name": "stderr",
     "output_type": "stream",
     "text": [
      "[*********************100%***********************]  1 of 1 completed"
     ]
    },
    {
     "name": "stdout",
     "output_type": "stream",
     "text": [
      "Downloading data for 2018-01-31 (2018-01-16 to 2018-02-15)\n",
      "Downloaded data for ^GSPC:\n",
      "Price             Close         High          Low         Open      Volume\n",
      "Ticker            ^GSPC        ^GSPC        ^GSPC        ^GSPC       ^GSPC\n",
      "Date                                                                      \n",
      "2018-01-16  2776.419922  2807.540039  2768.639893  2798.959961  4362880000\n",
      "2018-01-17  2802.560059  2807.040039  2778.379883  2784.989990  3790340000\n",
      "2018-01-18  2798.030029  2805.830078  2792.560059  2802.399902  3703300000\n",
      "2018-01-19  2810.300049  2810.330078  2798.080078  2802.600098  3724230000\n",
      "2018-01-22  2832.969971  2833.030029  2808.120117  2809.159912  3489480000\n",
      "Warning: 'Adj Close' not found for ^GSPC. Available columns: MultiIndex([( 'Close', '^GSPC'),\n",
      "            (  'High', '^GSPC'),\n",
      "            (   'Low', '^GSPC'),\n",
      "            (  'Open', '^GSPC'),\n",
      "            ('Volume', '^GSPC')],\n",
      "           names=['Price', 'Ticker'])\n"
     ]
    },
    {
     "name": "stderr",
     "output_type": "stream",
     "text": [
      "\n",
      "[*********************100%***********************]  1 of 1 completed\n",
      "[*********************100%***********************]  1 of 1 completed\n"
     ]
    },
    {
     "name": "stdout",
     "output_type": "stream",
     "text": [
      "Downloaded data for ^IXIC:\n",
      "Price             Close         High          Low         Open      Volume\n",
      "Ticker            ^IXIC        ^IXIC        ^IXIC        ^IXIC       ^IXIC\n",
      "Date                                                                      \n",
      "2018-01-16  7223.689941  7330.330078  7205.930176  7307.189941  2399790000\n",
      "2018-01-17  7298.279785  7309.359863  7229.319824  7257.770020  2245910000\n",
      "2018-01-18  7296.049805  7313.890137  7276.109863  7293.649902  2037410000\n",
      "2018-01-19  7336.379883  7336.379883  7297.279785  7312.000000  2005470000\n",
      "2018-01-22  7408.029785  7408.029785  7332.810059  7338.040039  2118310000\n",
      "Warning: 'Adj Close' not found for ^IXIC. Available columns: MultiIndex([( 'Close', '^IXIC'),\n",
      "            (  'High', '^IXIC'),\n",
      "            (   'Low', '^IXIC'),\n",
      "            (  'Open', '^IXIC'),\n",
      "            ('Volume', '^IXIC')],\n",
      "           names=['Price', 'Ticker'])\n",
      "Downloaded data for ^DJI:\n",
      "Price              Close          High           Low          Open     Volume\n",
      "Ticker              ^DJI          ^DJI          ^DJI          ^DJI       ^DJI\n",
      "Date                                                                         \n",
      "2018-01-16  25792.859375  26086.119141  25702.990234  25987.619141  606520000\n",
      "2018-01-17  26115.650391  26130.449219  25865.019531  25910.779297  522720000\n",
      "2018-01-18  26017.810547  26153.419922  25947.320312  26149.550781  492780000\n",
      "2018-01-19  26071.720703  26071.720703  25942.830078  25987.349609  585000000\n",
      "2018-01-22  26214.599609  26215.230469  25974.650391  26025.320312  431200000\n",
      "Warning: 'Adj Close' not found for ^DJI. Available columns: MultiIndex([( 'Close', '^DJI'),\n",
      "            (  'High', '^DJI'),\n",
      "            (   'Low', '^DJI'),\n",
      "            (  'Open', '^DJI'),\n",
      "            ('Volume', '^DJI')],\n",
      "           names=['Price', 'Ticker'])\n",
      "Error downloading USD/EUR: Thank you for using Alpha Vantage! Our standard API rate limit is 25 requests per day. Please subscribe to any of the premium plans at https://www.alphavantage.co/premium/ to instantly remove all daily rate limits.\n",
      "Error downloading USD/JPY: Thank you for using Alpha Vantage! Our standard API rate limit is 25 requests per day. Please subscribe to any of the premium plans at https://www.alphavantage.co/premium/ to instantly remove all daily rate limits.\n"
     ]
    },
    {
     "name": "stderr",
     "output_type": "stream",
     "text": [
      "[*********************100%***********************]  1 of 1 completed\n"
     ]
    },
    {
     "name": "stdout",
     "output_type": "stream",
     "text": [
      "Downloaded Gold Data:\n",
      "Price             Close         High          Low         Open Volume\n",
      "Ticker             GC=F         GC=F         GC=F         GC=F   GC=F\n",
      "Date                                                                 \n",
      "2018-01-16  1335.400024  1335.400024  1331.000000  1331.099976     13\n",
      "2018-01-17  1338.000000  1338.000000  1326.800049  1334.400024     27\n",
      "2018-01-18  1326.000000  1328.900024  1326.000000  1328.900024    211\n",
      "2018-01-19  1331.900024  1333.000000  1330.099976  1330.099976     50\n",
      "2018-01-22  1330.900024  1330.900024  1328.400024  1328.400024    162\n",
      "Warning: 'Adj Close' not found in gold data. Available columns: MultiIndex([( 'Close', 'GC=F'),\n",
      "            (  'High', 'GC=F'),\n",
      "            (   'Low', 'GC=F'),\n",
      "            (  'Open', 'GC=F'),\n",
      "            ('Volume', 'GC=F')],\n",
      "           names=['Price', 'Ticker'])\n"
     ]
    },
    {
     "name": "stderr",
     "output_type": "stream",
     "text": [
      "[*********************100%***********************]  1 of 1 completed"
     ]
    },
    {
     "name": "stdout",
     "output_type": "stream",
     "text": [
      "Downloading data for 2018-03-21 (2018-03-06 to 2018-04-05)\n",
      "Downloaded data for ^GSPC:\n",
      "Price             Close         High          Low         Open      Volume\n",
      "Ticker            ^GSPC        ^GSPC        ^GSPC        ^GSPC       ^GSPC\n",
      "Date                                                                      \n",
      "2018-03-06  2728.120117  2732.080078  2711.260010  2730.179932  3389030000\n",
      "2018-03-07  2726.800049  2730.600098  2701.739990  2710.179932  3406690000\n",
      "2018-03-08  2738.969971  2740.449951  2722.649902  2732.750000  3206040000\n",
      "2018-03-09  2786.570068  2786.570068  2751.540039  2752.909912  3376870000\n",
      "2018-03-12  2783.020020  2796.979980  2779.260010  2790.540039  3216960000\n",
      "Warning: 'Adj Close' not found for ^GSPC. Available columns: MultiIndex([( 'Close', '^GSPC'),\n",
      "            (  'High', '^GSPC'),\n",
      "            (   'Low', '^GSPC'),\n",
      "            (  'Open', '^GSPC'),\n",
      "            ('Volume', '^GSPC')],\n",
      "           names=['Price', 'Ticker'])\n"
     ]
    },
    {
     "name": "stderr",
     "output_type": "stream",
     "text": [
      "\n",
      "[*********************100%***********************]  1 of 1 completed\n",
      "[*********************100%***********************]  1 of 1 completed\n"
     ]
    },
    {
     "name": "stdout",
     "output_type": "stream",
     "text": [
      "Downloaded data for ^IXIC:\n",
      "Price             Close         High          Low         Open      Volume\n",
      "Ticker            ^IXIC        ^IXIC        ^IXIC        ^IXIC       ^IXIC\n",
      "Date                                                                      \n",
      "2018-03-06  7372.009766  7378.029785  7319.680176  7366.609863  2132920000\n",
      "2018-03-07  7396.649902  7403.790039  7311.740234  7311.740234  2198610000\n",
      "2018-03-08  7427.950195  7435.009766  7391.500000  7422.770020  2277740000\n",
      "2018-03-09  7560.810059  7560.810059  7469.029785  7475.979980  2310050000\n",
      "2018-03-12  7588.319824  7609.100098  7563.439941  7581.040039  2314480000\n",
      "Warning: 'Adj Close' not found for ^IXIC. Available columns: MultiIndex([( 'Close', '^IXIC'),\n",
      "            (  'High', '^IXIC'),\n",
      "            (   'Low', '^IXIC'),\n",
      "            (  'Open', '^IXIC'),\n",
      "            ('Volume', '^IXIC')],\n",
      "           names=['Price', 'Ticker'])\n",
      "Downloaded data for ^DJI:\n",
      "Price              Close          High           Low          Open     Volume\n",
      "Ticker              ^DJI          ^DJI          ^DJI          ^DJI       ^DJI\n",
      "Date                                                                         \n",
      "2018-03-06  24884.119141  24995.240234  24708.410156  24965.890625  331770000\n",
      "2018-03-07  24801.359375  24849.679688  24535.119141  24758.150391  394070000\n",
      "2018-03-08  24895.210938  24950.490234  24703.050781  24853.410156  327300000\n",
      "2018-03-09  25335.740234  25336.330078  25004.890625  25004.890625  371570000\n",
      "2018-03-12  25178.609375  25449.150391  25152.019531  25372.439453  362580000\n",
      "Warning: 'Adj Close' not found for ^DJI. Available columns: MultiIndex([( 'Close', '^DJI'),\n",
      "            (  'High', '^DJI'),\n",
      "            (   'Low', '^DJI'),\n",
      "            (  'Open', '^DJI'),\n",
      "            ('Volume', '^DJI')],\n",
      "           names=['Price', 'Ticker'])\n",
      "Error downloading USD/EUR: Thank you for using Alpha Vantage! Our standard API rate limit is 25 requests per day. Please subscribe to any of the premium plans at https://www.alphavantage.co/premium/ to instantly remove all daily rate limits.\n",
      "Error downloading USD/JPY: Thank you for using Alpha Vantage! Our standard API rate limit is 25 requests per day. Please subscribe to any of the premium plans at https://www.alphavantage.co/premium/ to instantly remove all daily rate limits.\n"
     ]
    },
    {
     "name": "stderr",
     "output_type": "stream",
     "text": [
      "[*********************100%***********************]  1 of 1 completed\n"
     ]
    },
    {
     "name": "stdout",
     "output_type": "stream",
     "text": [
      "Downloaded Gold Data:\n",
      "Price             Close         High          Low         Open Volume\n",
      "Ticker             GC=F         GC=F         GC=F         GC=F   GC=F\n",
      "Date                                                                 \n",
      "2018-03-06  1333.599976  1333.599976  1321.400024  1321.599976     18\n",
      "2018-03-07  1326.000000  1338.099976  1326.000000  1338.099976     27\n",
      "2018-03-08  1319.900024  1326.800049  1319.300049  1324.800049     62\n",
      "2018-03-09  1322.400024  1322.400024  1313.000000  1316.800049     88\n",
      "2018-03-12  1319.400024  1319.400024  1319.400024  1319.400024      0\n",
      "Warning: 'Adj Close' not found in gold data. Available columns: MultiIndex([( 'Close', 'GC=F'),\n",
      "            (  'High', 'GC=F'),\n",
      "            (   'Low', 'GC=F'),\n",
      "            (  'Open', 'GC=F'),\n",
      "            ('Volume', 'GC=F')],\n",
      "           names=['Price', 'Ticker'])\n"
     ]
    },
    {
     "name": "stderr",
     "output_type": "stream",
     "text": [
      "[*********************100%***********************]  1 of 1 completed"
     ]
    },
    {
     "name": "stdout",
     "output_type": "stream",
     "text": [
      "Downloading data for 2018-05-02 (2018-04-17 to 2018-05-17)\n",
      "Downloaded data for ^GSPC:\n",
      "Price             Close         High          Low         Open      Volume\n",
      "Ticker            ^GSPC        ^GSPC        ^GSPC        ^GSPC       ^GSPC\n",
      "Date                                                                      \n",
      "2018-04-17  2706.389893  2713.340088  2692.050049  2692.739990  3286190000\n",
      "2018-04-18  2708.639893  2717.489990  2703.629883  2710.110107  3412030000\n",
      "2018-04-19  2693.129883  2702.840088  2681.899902  2701.159912  3375120000\n",
      "2018-04-20  2670.139893  2693.939941  2660.610107  2692.560059  3428260000\n",
      "2018-04-23  2670.290039  2682.860107  2657.989990  2675.399902  3030390000\n",
      "Warning: 'Adj Close' not found for ^GSPC. Available columns: MultiIndex([( 'Close', '^GSPC'),\n",
      "            (  'High', '^GSPC'),\n",
      "            (   'Low', '^GSPC'),\n",
      "            (  'Open', '^GSPC'),\n",
      "            ('Volume', '^GSPC')],\n",
      "           names=['Price', 'Ticker'])\n"
     ]
    },
    {
     "name": "stderr",
     "output_type": "stream",
     "text": [
      "\n",
      "[*********************100%***********************]  1 of 1 completed\n",
      "[*********************100%***********************]  1 of 1 completed\n"
     ]
    },
    {
     "name": "stdout",
     "output_type": "stream",
     "text": [
      "Downloaded data for ^IXIC:\n",
      "Price             Close         High          Low         Open      Volume\n",
      "Ticker            ^IXIC        ^IXIC        ^IXIC        ^IXIC       ^IXIC\n",
      "Date                                                                      \n",
      "2018-04-17  7281.100098  7298.589844  7206.549805  7215.120117  1935380000\n",
      "2018-04-18  7295.240234  7319.580078  7259.899902  7292.379883  1908700000\n",
      "2018-04-19  7238.060059  7277.450195  7215.169922  7258.609863  1982090000\n",
      "2018-04-20  7146.129883  7222.990234  7123.490234  7220.640137  1935160000\n",
      "2018-04-23  7128.600098  7195.720215  7094.430176  7173.990234  1744480000\n",
      "Warning: 'Adj Close' not found for ^IXIC. Available columns: MultiIndex([( 'Close', '^IXIC'),\n",
      "            (  'High', '^IXIC'),\n",
      "            (   'Low', '^IXIC'),\n",
      "            (  'Open', '^IXIC'),\n",
      "            ('Volume', '^IXIC')],\n",
      "           names=['Price', 'Ticker'])\n",
      "Downloaded data for ^DJI:\n",
      "Price              Close          High           Low          Open     Volume\n",
      "Ticker              ^DJI          ^DJI          ^DJI          ^DJI       ^DJI\n",
      "Date                                                                         \n",
      "2018-04-17  24786.630859  24858.970703  24681.789062  24681.789062  342410000\n",
      "2018-04-18  24748.070312  24832.539062  24721.089844  24820.849609  302030000\n",
      "2018-04-19  24664.890625  24762.480469  24557.029297  24711.300781  381110000\n",
      "2018-04-20  24462.939453  24678.070312  24375.039062  24657.390625  537770000\n",
      "2018-04-23  24448.689453  24536.890625  24328.539062  24488.070312  351030000\n",
      "Warning: 'Adj Close' not found for ^DJI. Available columns: MultiIndex([( 'Close', '^DJI'),\n",
      "            (  'High', '^DJI'),\n",
      "            (   'Low', '^DJI'),\n",
      "            (  'Open', '^DJI'),\n",
      "            ('Volume', '^DJI')],\n",
      "           names=['Price', 'Ticker'])\n",
      "Error downloading USD/EUR: Thank you for using Alpha Vantage! Our standard API rate limit is 25 requests per day. Please subscribe to any of the premium plans at https://www.alphavantage.co/premium/ to instantly remove all daily rate limits.\n",
      "Error downloading USD/JPY: Thank you for using Alpha Vantage! Our standard API rate limit is 25 requests per day. Please subscribe to any of the premium plans at https://www.alphavantage.co/premium/ to instantly remove all daily rate limits.\n"
     ]
    },
    {
     "name": "stderr",
     "output_type": "stream",
     "text": [
      "[*********************100%***********************]  1 of 1 completed\n"
     ]
    },
    {
     "name": "stdout",
     "output_type": "stream",
     "text": [
      "Downloaded Gold Data:\n",
      "Price             Close         High          Low         Open Volume\n",
      "Ticker             GC=F         GC=F         GC=F         GC=F   GC=F\n",
      "Date                                                                 \n",
      "2018-04-17  1347.199951  1348.099976  1339.000000  1348.000000    409\n",
      "2018-04-18  1351.199951  1354.199951  1343.500000  1343.500000     45\n",
      "2018-04-19  1346.800049  1355.199951  1341.599976  1348.599976    387\n",
      "2018-04-20  1336.699951  1343.400024  1335.300049  1342.500000    310\n",
      "2018-04-23  1322.500000  1334.400024  1322.500000  1334.000000     68\n",
      "Warning: 'Adj Close' not found in gold data. Available columns: MultiIndex([( 'Close', 'GC=F'),\n",
      "            (  'High', 'GC=F'),\n",
      "            (   'Low', 'GC=F'),\n",
      "            (  'Open', 'GC=F'),\n",
      "            ('Volume', 'GC=F')],\n",
      "           names=['Price', 'Ticker'])\n"
     ]
    },
    {
     "name": "stderr",
     "output_type": "stream",
     "text": [
      "[*********************100%***********************]  1 of 1 completed"
     ]
    },
    {
     "name": "stdout",
     "output_type": "stream",
     "text": [
      "Downloading data for 2018-06-13 (2018-05-29 to 2018-06-28)\n",
      "Downloaded data for ^GSPC:\n",
      "Price             Close         High          Low         Open      Volume\n",
      "Ticker            ^GSPC        ^GSPC        ^GSPC        ^GSPC       ^GSPC\n",
      "Date                                                                      \n",
      "2018-05-29  2689.860107  2710.669922  2676.810059  2705.110107  3743310000\n",
      "2018-05-30  2724.010010  2729.340088  2702.429932  2702.429932  3566490000\n",
      "2018-05-31  2705.270020  2722.500000  2700.679932  2720.979980  4241100000\n",
      "2018-06-01  2734.620117  2736.929932  2718.699951  2718.699951  3694310000\n",
      "2018-06-04  2746.870117  2749.159912  2740.540039  2741.669922  3410090000\n",
      "Warning: 'Adj Close' not found for ^GSPC. Available columns: MultiIndex([( 'Close', '^GSPC'),\n",
      "            (  'High', '^GSPC'),\n",
      "            (   'Low', '^GSPC'),\n",
      "            (  'Open', '^GSPC'),\n",
      "            ('Volume', '^GSPC')],\n",
      "           names=['Price', 'Ticker'])\n"
     ]
    },
    {
     "name": "stderr",
     "output_type": "stream",
     "text": [
      "\n",
      "[*********************100%***********************]  1 of 1 completed\n",
      "[*********************100%***********************]  1 of 1 completed\n"
     ]
    },
    {
     "name": "stdout",
     "output_type": "stream",
     "text": [
      "Downloaded data for ^IXIC:\n",
      "Price             Close         High          Low         Open      Volume\n",
      "Ticker            ^IXIC        ^IXIC        ^IXIC        ^IXIC       ^IXIC\n",
      "Date                                                                      \n",
      "2018-05-29  7396.589844  7435.129883  7354.290039  7398.509766  2095380000\n",
      "2018-05-30  7462.450195  7473.810059  7423.669922  7428.410156  2058300000\n",
      "2018-05-31  7442.120117  7492.419922  7431.410156  7455.580078  2533360000\n",
      "2018-06-01  7554.330078  7557.379883  7487.229980  7487.660156  2212330000\n",
      "2018-06-04  7606.459961  7607.169922  7561.200195  7570.080078  2152170000\n",
      "Warning: 'Adj Close' not found for ^IXIC. Available columns: MultiIndex([( 'Close', '^IXIC'),\n",
      "            (  'High', '^IXIC'),\n",
      "            (   'Low', '^IXIC'),\n",
      "            (  'Open', '^IXIC'),\n",
      "            ('Volume', '^IXIC')],\n",
      "           names=['Price', 'Ticker'])\n",
      "Downloaded data for ^DJI:\n",
      "Price              Close          High           Low          Open     Volume\n",
      "Ticker              ^DJI          ^DJI          ^DJI          ^DJI       ^DJI\n",
      "Date                                                                         \n",
      "2018-05-29  24361.449219  24635.179688  24247.839844  24606.589844  395810000\n",
      "2018-05-30  24667.779297  24714.480469  24459.089844  24467.830078  324870000\n",
      "2018-05-31  24415.839844  24620.789062  24352.150391  24620.789062  429740000\n",
      "2018-06-01  24635.210938  24673.599609  24542.089844  24542.089844  315710000\n",
      "2018-06-04  24813.689453  24859.369141  24722.140625  24727.550781  340400000\n",
      "Warning: 'Adj Close' not found for ^DJI. Available columns: MultiIndex([( 'Close', '^DJI'),\n",
      "            (  'High', '^DJI'),\n",
      "            (   'Low', '^DJI'),\n",
      "            (  'Open', '^DJI'),\n",
      "            ('Volume', '^DJI')],\n",
      "           names=['Price', 'Ticker'])\n",
      "Error downloading USD/EUR: Thank you for using Alpha Vantage! Our standard API rate limit is 25 requests per day. Please subscribe to any of the premium plans at https://www.alphavantage.co/premium/ to instantly remove all daily rate limits.\n",
      "Error downloading USD/JPY: Thank you for using Alpha Vantage! Our standard API rate limit is 25 requests per day. Please subscribe to any of the premium plans at https://www.alphavantage.co/premium/ to instantly remove all daily rate limits.\n"
     ]
    },
    {
     "name": "stderr",
     "output_type": "stream",
     "text": [
      "[*********************100%***********************]  1 of 1 completed\n"
     ]
    },
    {
     "name": "stdout",
     "output_type": "stream",
     "text": [
      "Downloaded Gold Data:\n",
      "Price             Close         High          Low         Open  Volume\n",
      "Ticker             GC=F         GC=F         GC=F         GC=F    GC=F\n",
      "Date                                                                  \n",
      "2018-05-29  1298.699951  1298.699951  1298.699951  1298.699951  386334\n",
      "2018-05-30  1301.500000  1303.699951  1295.199951  1298.000000   50845\n",
      "2018-05-31  1300.099976  1306.800049  1296.599976  1301.000000    4082\n",
      "2018-06-01  1294.800049  1299.500000  1288.900024  1298.599976     663\n",
      "2018-06-04  1293.099976  1297.099976  1290.000000  1293.900024     144\n",
      "Warning: 'Adj Close' not found in gold data. Available columns: MultiIndex([( 'Close', 'GC=F'),\n",
      "            (  'High', 'GC=F'),\n",
      "            (   'Low', 'GC=F'),\n",
      "            (  'Open', 'GC=F'),\n",
      "            ('Volume', 'GC=F')],\n",
      "           names=['Price', 'Ticker'])\n"
     ]
    },
    {
     "name": "stderr",
     "output_type": "stream",
     "text": [
      "[*********************100%***********************]  1 of 1 completed"
     ]
    },
    {
     "name": "stdout",
     "output_type": "stream",
     "text": [
      "Downloading data for 2018-08-01 (2018-07-17 to 2018-08-16)\n",
      "Downloaded data for ^GSPC:\n",
      "Price             Close         High          Low         Open      Volume\n",
      "Ticker            ^GSPC        ^GSPC        ^GSPC        ^GSPC       ^GSPC\n",
      "Date                                                                      \n",
      "2018-07-17  2809.550049  2814.189941  2789.239990  2789.340088  3064920000\n",
      "2018-07-18  2815.620117  2816.760010  2805.889893  2811.350098  3111560000\n",
      "2018-07-19  2804.489990  2812.050049  2799.770020  2809.370117  3278360000\n",
      "2018-07-20  2801.830078  2809.699951  2800.010010  2804.550049  3243250000\n",
      "2018-07-23  2806.979980  2808.610107  2795.139893  2799.169922  2928490000\n",
      "Warning: 'Adj Close' not found for ^GSPC. Available columns: MultiIndex([( 'Close', '^GSPC'),\n",
      "            (  'High', '^GSPC'),\n",
      "            (   'Low', '^GSPC'),\n",
      "            (  'Open', '^GSPC'),\n",
      "            ('Volume', '^GSPC')],\n",
      "           names=['Price', 'Ticker'])\n"
     ]
    },
    {
     "name": "stderr",
     "output_type": "stream",
     "text": [
      "\n",
      "[*********************100%***********************]  1 of 1 completed\n",
      "[*********************100%***********************]  1 of 1 completed\n"
     ]
    },
    {
     "name": "stdout",
     "output_type": "stream",
     "text": [
      "Downloaded data for ^IXIC:\n",
      "Price             Close         High          Low         Open      Volume\n",
      "Ticker            ^IXIC        ^IXIC        ^IXIC        ^IXIC       ^IXIC\n",
      "Date                                                                      \n",
      "2018-07-17  7855.120117  7867.149902  7749.609863  7751.970215  1752210000\n",
      "2018-07-18  7854.439941  7863.770020  7822.830078  7859.430176  1881110000\n",
      "2018-07-19  7825.299805  7849.850098  7811.149902  7829.799805  1886300000\n",
      "2018-07-20  7820.200195  7860.250000  7815.859863  7843.080078  1796530000\n",
      "2018-07-23  7841.870117  7846.759766  7776.549805  7806.930176  1668270000\n",
      "Warning: 'Adj Close' not found for ^IXIC. Available columns: MultiIndex([( 'Close', '^IXIC'),\n",
      "            (  'High', '^IXIC'),\n",
      "            (   'Low', '^IXIC'),\n",
      "            (  'Open', '^IXIC'),\n",
      "            ('Volume', '^IXIC')],\n",
      "           names=['Price', 'Ticker'])\n",
      "Downloaded data for ^DJI:\n",
      "Price              Close          High           Low          Open     Volume\n",
      "Ticker              ^DJI          ^DJI          ^DJI          ^DJI       ^DJI\n",
      "Date                                                                         \n",
      "2018-07-17  25119.890625  25155.390625  24989.609375  25033.919922  250450000\n",
      "2018-07-18  25199.289062  25215.320312  25101.119141  25133.789062  252870000\n",
      "2018-07-19  25064.500000  25154.169922  25052.619141  25139.150391  285760000\n",
      "2018-07-20  25058.119141  25124.099609  24986.349609  25041.140625  274080000\n",
      "2018-07-23  25044.289062  25081.449219  24983.330078  25036.900391  228820000\n",
      "Warning: 'Adj Close' not found for ^DJI. Available columns: MultiIndex([( 'Close', '^DJI'),\n",
      "            (  'High', '^DJI'),\n",
      "            (   'Low', '^DJI'),\n",
      "            (  'Open', '^DJI'),\n",
      "            ('Volume', '^DJI')],\n",
      "           names=['Price', 'Ticker'])\n",
      "Error downloading USD/EUR: Thank you for using Alpha Vantage! Our standard API rate limit is 25 requests per day. Please subscribe to any of the premium plans at https://www.alphavantage.co/premium/ to instantly remove all daily rate limits.\n",
      "Error downloading USD/JPY: Thank you for using Alpha Vantage! Our standard API rate limit is 25 requests per day. Please subscribe to any of the premium plans at https://www.alphavantage.co/premium/ to instantly remove all daily rate limits.\n"
     ]
    },
    {
     "name": "stderr",
     "output_type": "stream",
     "text": [
      "[*********************100%***********************]  1 of 1 completed\n"
     ]
    },
    {
     "name": "stdout",
     "output_type": "stream",
     "text": [
      "Downloaded Gold Data:\n",
      "Price             Close         High          Low         Open Volume\n",
      "Ticker             GC=F         GC=F         GC=F         GC=F   GC=F\n",
      "Date                                                                 \n",
      "2018-07-17  1225.699951  1225.699951  1225.699951  1225.699951      0\n",
      "2018-07-18  1226.300049  1226.699951  1222.199951  1226.699951     67\n",
      "2018-07-19  1222.400024  1228.000000  1211.699951  1227.199951     33\n",
      "2018-07-20  1229.500000  1229.500000  1229.500000  1229.500000      0\n",
      "2018-07-23  1224.000000  1224.000000  1222.000000  1222.000000      1\n",
      "Warning: 'Adj Close' not found in gold data. Available columns: MultiIndex([( 'Close', 'GC=F'),\n",
      "            (  'High', 'GC=F'),\n",
      "            (   'Low', 'GC=F'),\n",
      "            (  'Open', 'GC=F'),\n",
      "            ('Volume', 'GC=F')],\n",
      "           names=['Price', 'Ticker'])\n"
     ]
    },
    {
     "name": "stderr",
     "output_type": "stream",
     "text": [
      "[*********************100%***********************]  1 of 1 completed"
     ]
    },
    {
     "name": "stdout",
     "output_type": "stream",
     "text": [
      "Downloading data for 2018-09-26 (2018-09-11 to 2018-10-11)\n",
      "Downloaded data for ^GSPC:\n",
      "Price             Close         High          Low         Open      Volume\n",
      "Ticker            ^GSPC        ^GSPC        ^GSPC        ^GSPC       ^GSPC\n",
      "Date                                                                      \n",
      "2018-09-11  2887.889893  2892.520020  2866.780029  2871.570068  2904500000\n",
      "2018-09-12  2888.919922  2894.649902  2879.199951  2888.290039  3341280000\n",
      "2018-09-13  2904.179932  2906.760010  2896.389893  2896.850098  3274090000\n",
      "2018-09-14  2904.979980  2908.300049  2895.770020  2906.379883  3179410000\n",
      "2018-09-17  2888.800049  2904.649902  2886.159912  2903.830078  2967980000\n",
      "Warning: 'Adj Close' not found for ^GSPC. Available columns: MultiIndex([( 'Close', '^GSPC'),\n",
      "            (  'High', '^GSPC'),\n",
      "            (   'Low', '^GSPC'),\n",
      "            (  'Open', '^GSPC'),\n",
      "            ('Volume', '^GSPC')],\n",
      "           names=['Price', 'Ticker'])\n"
     ]
    },
    {
     "name": "stderr",
     "output_type": "stream",
     "text": [
      "\n",
      "[*********************100%***********************]  1 of 1 completed\n",
      "[*********************100%***********************]  1 of 1 completed\n"
     ]
    },
    {
     "name": "stdout",
     "output_type": "stream",
     "text": [
      "Downloaded data for ^IXIC:\n",
      "Price             Close         High          Low         Open      Volume\n",
      "Ticker            ^IXIC        ^IXIC        ^IXIC        ^IXIC       ^IXIC\n",
      "Date                                                                      \n",
      "2018-09-11  7972.470215  7986.319824  7880.919922  7894.870117  2345080000\n",
      "2018-09-12  7954.229980  7965.390137  7884.049805  7958.870117  2372320000\n",
      "2018-09-13  8013.709961  8037.509766  7989.850098  7999.930176  2332930000\n",
      "2018-09-14  8010.040039  8040.830078  7979.779785  8026.160156  2069380000\n",
      "2018-09-17  7895.790039  8002.779785  7890.069824  7992.209961  2303600000\n",
      "Warning: 'Adj Close' not found for ^IXIC. Available columns: MultiIndex([( 'Close', '^IXIC'),\n",
      "            (  'High', '^IXIC'),\n",
      "            (   'Low', '^IXIC'),\n",
      "            (  'Open', '^IXIC'),\n",
      "            ('Volume', '^IXIC')],\n",
      "           names=['Price', 'Ticker'])\n",
      "Downloaded data for ^DJI:\n",
      "Price              Close          High           Low          Open     Volume\n",
      "Ticker              ^DJI          ^DJI          ^DJI          ^DJI       ^DJI\n",
      "Date                                                                         \n",
      "2018-09-11  25971.060547  26019.919922  25754.320312  25841.140625  265960000\n",
      "2018-09-12  25998.919922  26145.720703  25929.429688  25989.070312  282770000\n",
      "2018-09-13  26145.990234  26191.640625  26067.080078  26083.939453  260800000\n",
      "2018-09-14  26154.669922  26211.109375  26068.289062  26169.560547  228640000\n",
      "2018-09-17  26062.119141  26184.470703  26030.349609  26151.660156  230230000\n",
      "Warning: 'Adj Close' not found for ^DJI. Available columns: MultiIndex([( 'Close', '^DJI'),\n",
      "            (  'High', '^DJI'),\n",
      "            (   'Low', '^DJI'),\n",
      "            (  'Open', '^DJI'),\n",
      "            ('Volume', '^DJI')],\n",
      "           names=['Price', 'Ticker'])\n",
      "Error downloading USD/EUR: Thank you for using Alpha Vantage! Our standard API rate limit is 25 requests per day. Please subscribe to any of the premium plans at https://www.alphavantage.co/premium/ to instantly remove all daily rate limits.\n",
      "Error downloading USD/JPY: Thank you for using Alpha Vantage! Our standard API rate limit is 25 requests per day. Please subscribe to any of the premium plans at https://www.alphavantage.co/premium/ to instantly remove all daily rate limits.\n"
     ]
    },
    {
     "name": "stderr",
     "output_type": "stream",
     "text": [
      "[*********************100%***********************]  1 of 1 completed\n"
     ]
    },
    {
     "name": "stdout",
     "output_type": "stream",
     "text": [
      "Downloaded Gold Data:\n",
      "Price             Close         High          Low         Open Volume\n",
      "Ticker             GC=F         GC=F         GC=F         GC=F   GC=F\n",
      "Date                                                                 \n",
      "2018-09-11  1195.400024  1196.300049  1190.400024  1190.400024     21\n",
      "2018-09-12  1204.699951  1205.000000  1204.699951  1205.000000     37\n",
      "2018-09-13  1202.000000  1203.400024  1200.000000  1203.400024     22\n",
      "2018-09-14  1195.000000  1195.000000  1195.000000  1195.000000      1\n",
      "2018-09-17  1199.699951  1199.699951  1199.699951  1199.699951      0\n",
      "Warning: 'Adj Close' not found in gold data. Available columns: MultiIndex([( 'Close', 'GC=F'),\n",
      "            (  'High', 'GC=F'),\n",
      "            (   'Low', 'GC=F'),\n",
      "            (  'Open', 'GC=F'),\n",
      "            ('Volume', 'GC=F')],\n",
      "           names=['Price', 'Ticker'])\n"
     ]
    },
    {
     "name": "stderr",
     "output_type": "stream",
     "text": [
      "[*********************100%***********************]  1 of 1 completed"
     ]
    },
    {
     "name": "stdout",
     "output_type": "stream",
     "text": [
      "Downloading data for 2018-11-08 (2018-10-24 to 2018-11-23)\n",
      "Downloaded data for ^GSPC:\n",
      "Price             Close         High          Low         Open      Volume\n",
      "Ticker            ^GSPC        ^GSPC        ^GSPC        ^GSPC       ^GSPC\n",
      "Date                                                                      \n",
      "2018-10-24  2656.100098  2742.590088  2651.889893  2737.870117  4738670000\n",
      "2018-10-25  2705.570068  2722.699951  2667.840088  2674.879883  4663930000\n",
      "2018-10-26  2658.689941  2692.379883  2628.159912  2667.860107  4804330000\n",
      "2018-10-29  2641.250000  2706.850098  2603.540039  2682.649902  4701260000\n",
      "2018-10-30  2682.629883  2685.429932  2635.340088  2640.679932  5125600000\n",
      "Warning: 'Adj Close' not found for ^GSPC. Available columns: MultiIndex([( 'Close', '^GSPC'),\n",
      "            (  'High', '^GSPC'),\n",
      "            (   'Low', '^GSPC'),\n",
      "            (  'Open', '^GSPC'),\n",
      "            ('Volume', '^GSPC')],\n",
      "           names=['Price', 'Ticker'])\n"
     ]
    },
    {
     "name": "stderr",
     "output_type": "stream",
     "text": [
      "\n",
      "[*********************100%***********************]  1 of 1 completed\n",
      "[*********************100%***********************]  1 of 1 completed\n"
     ]
    },
    {
     "name": "stdout",
     "output_type": "stream",
     "text": [
      "Downloaded data for ^IXIC:\n",
      "Price             Close         High          Low         Open      Volume\n",
      "Ticker            ^IXIC        ^IXIC        ^IXIC        ^IXIC       ^IXIC\n",
      "Date                                                                      \n",
      "2018-10-24  7108.399902  7435.689941  7099.000000  7423.209961  2959560000\n",
      "2018-10-25  7318.339844  7364.819824  7178.540039  7197.490234  2788090000\n",
      "2018-10-26  7167.209961  7283.319824  7057.000000  7125.180176  2971530000\n",
      "2018-10-29  7050.290039  7295.609863  6922.830078  7272.419922  2711900000\n",
      "2018-10-30  7161.649902  7166.839844  7001.479980  7017.870117  2699220000\n",
      "Warning: 'Adj Close' not found for ^IXIC. Available columns: MultiIndex([( 'Close', '^IXIC'),\n",
      "            (  'High', '^IXIC'),\n",
      "            (   'Low', '^IXIC'),\n",
      "            (  'Open', '^IXIC'),\n",
      "            ('Volume', '^IXIC')],\n",
      "           names=['Price', 'Ticker'])\n",
      "Downloaded data for ^DJI:\n",
      "Price              Close          High           Low          Open     Volume\n",
      "Ticker              ^DJI          ^DJI          ^DJI          ^DJI       ^DJI\n",
      "Date                                                                         \n",
      "2018-10-24  24583.419922  25306.230469  24533.189453  25172.880859  496400000\n",
      "2018-10-25  24984.550781  25104.289062  24645.560547  24736.539062  439670000\n",
      "2018-10-26  24688.310547  24916.160156  24445.189453  24770.250000  505310000\n",
      "2018-10-29  24442.919922  25040.580078  24122.230469  24818.980469  443850000\n",
      "2018-10-30  24874.640625  24906.679688  24415.689453  24482.039062  470050000\n",
      "Warning: 'Adj Close' not found for ^DJI. Available columns: MultiIndex([( 'Close', '^DJI'),\n",
      "            (  'High', '^DJI'),\n",
      "            (   'Low', '^DJI'),\n",
      "            (  'Open', '^DJI'),\n",
      "            ('Volume', '^DJI')],\n",
      "           names=['Price', 'Ticker'])\n",
      "Error downloading USD/EUR: Thank you for using Alpha Vantage! Our standard API rate limit is 25 requests per day. Please subscribe to any of the premium plans at https://www.alphavantage.co/premium/ to instantly remove all daily rate limits.\n",
      "Error downloading USD/JPY: Thank you for using Alpha Vantage! Our standard API rate limit is 25 requests per day. Please subscribe to any of the premium plans at https://www.alphavantage.co/premium/ to instantly remove all daily rate limits.\n"
     ]
    },
    {
     "name": "stderr",
     "output_type": "stream",
     "text": [
      "[*********************100%***********************]  1 of 1 completed\n"
     ]
    },
    {
     "name": "stdout",
     "output_type": "stream",
     "text": [
      "Downloaded Gold Data:\n",
      "Price             Close         High          Low         Open Volume\n",
      "Ticker             GC=F         GC=F         GC=F         GC=F   GC=F\n",
      "Date                                                                 \n",
      "2018-10-24  1227.800049  1231.599976  1227.800049  1231.599976     36\n",
      "2018-10-25  1229.099976  1238.599976  1229.099976  1238.599976      7\n",
      "2018-10-26  1232.500000  1234.800049  1232.500000  1234.300049     20\n",
      "2018-10-29  1224.500000  1224.500000  1224.500000  1224.500000    214\n",
      "2018-10-30  1222.599976  1227.699951  1219.800049  1227.699951     72\n",
      "Warning: 'Adj Close' not found in gold data. Available columns: MultiIndex([( 'Close', 'GC=F'),\n",
      "            (  'High', 'GC=F'),\n",
      "            (   'Low', 'GC=F'),\n",
      "            (  'Open', 'GC=F'),\n",
      "            ('Volume', 'GC=F')],\n",
      "           names=['Price', 'Ticker'])\n"
     ]
    },
    {
     "name": "stderr",
     "output_type": "stream",
     "text": [
      "[*********************100%***********************]  1 of 1 completed"
     ]
    },
    {
     "name": "stdout",
     "output_type": "stream",
     "text": [
      "Downloading data for 2018-12-19 (2018-12-04 to 2019-01-03)\n",
      "Downloaded data for ^GSPC:\n",
      "Price             Close         High          Low         Open      Volume\n",
      "Ticker            ^GSPC        ^GSPC        ^GSPC        ^GSPC       ^GSPC\n",
      "Date                                                                      \n",
      "2018-12-04  2700.060059  2785.929932  2697.179932  2782.429932  4515710000\n",
      "2018-12-06  2695.949951  2696.149902  2621.530029  2663.510010  5180430000\n",
      "2018-12-07  2633.080078  2708.540039  2623.139893  2691.260010  4242240000\n",
      "2018-12-10  2637.719971  2647.510010  2583.229980  2630.860107  4162880000\n",
      "2018-12-11  2636.780029  2674.350098  2621.300049  2664.439941  3963440000\n",
      "Warning: 'Adj Close' not found for ^GSPC. Available columns: MultiIndex([( 'Close', '^GSPC'),\n",
      "            (  'High', '^GSPC'),\n",
      "            (   'Low', '^GSPC'),\n",
      "            (  'Open', '^GSPC'),\n",
      "            ('Volume', '^GSPC')],\n",
      "           names=['Price', 'Ticker'])\n"
     ]
    },
    {
     "name": "stderr",
     "output_type": "stream",
     "text": [
      "\n",
      "[*********************100%***********************]  1 of 1 completed\n",
      "[*********************100%***********************]  1 of 1 completed\n"
     ]
    },
    {
     "name": "stdout",
     "output_type": "stream",
     "text": [
      "Downloaded data for ^IXIC:\n",
      "Price             Close         High          Low         Open      Volume\n",
      "Ticker            ^IXIC        ^IXIC        ^IXIC        ^IXIC       ^IXIC\n",
      "Date                                                                      \n",
      "2018-12-04  7158.430176  7421.109863  7150.109863  7407.950195  2655720000\n",
      "2018-12-06  7188.259766  7189.520020  6984.339844  7017.049805  2857650000\n",
      "2018-12-07  6969.250000  7205.370117  6945.270020  7163.490234  2504680000\n",
      "2018-12-10  7020.520020  7047.620117  6878.990234  6959.629883  2380270000\n",
      "2018-12-11  7031.830078  7129.830078  6983.009766  7121.660156  2286810000\n",
      "Warning: 'Adj Close' not found for ^IXIC. Available columns: MultiIndex([( 'Close', '^IXIC'),\n",
      "            (  'High', '^IXIC'),\n",
      "            (   'Low', '^IXIC'),\n",
      "            (  'Open', '^IXIC'),\n",
      "            ('Volume', '^IXIC')],\n",
      "           names=['Price', 'Ticker'])\n",
      "Downloaded data for ^DJI:\n",
      "Price              Close          High           Low          Open     Volume\n",
      "Ticker              ^DJI          ^DJI          ^DJI          ^DJI       ^DJI\n",
      "Date                                                                         \n",
      "2018-12-04  25027.070312  25773.119141  25008.109375  25752.560547  418900000\n",
      "2018-12-06  24947.669922  24951.009766  24242.220703  24737.419922  471690000\n",
      "2018-12-07  24388.949219  25095.619141  24284.779297  24918.820312  398230000\n",
      "2018-12-10  24423.259766  24500.810547  23881.369141  24360.949219  389690000\n",
      "2018-12-11  24370.240234  24791.259766  24221.060547  24719.910156  342960000\n",
      "Warning: 'Adj Close' not found for ^DJI. Available columns: MultiIndex([( 'Close', '^DJI'),\n",
      "            (  'High', '^DJI'),\n",
      "            (   'Low', '^DJI'),\n",
      "            (  'Open', '^DJI'),\n",
      "            ('Volume', '^DJI')],\n",
      "           names=['Price', 'Ticker'])\n",
      "Error downloading USD/EUR: Thank you for using Alpha Vantage! Our standard API rate limit is 25 requests per day. Please subscribe to any of the premium plans at https://www.alphavantage.co/premium/ to instantly remove all daily rate limits.\n",
      "Error downloading USD/JPY: Thank you for using Alpha Vantage! Our standard API rate limit is 25 requests per day. Please subscribe to any of the premium plans at https://www.alphavantage.co/premium/ to instantly remove all daily rate limits.\n"
     ]
    },
    {
     "name": "stderr",
     "output_type": "stream",
     "text": [
      "[*********************100%***********************]  1 of 1 completed\n"
     ]
    },
    {
     "name": "stdout",
     "output_type": "stream",
     "text": [
      "Downloaded Gold Data:\n",
      "Price             Close         High          Low         Open Volume\n",
      "Ticker             GC=F         GC=F         GC=F         GC=F   GC=F\n",
      "Date                                                                 \n",
      "2018-12-04  1241.099976  1241.400024  1230.400024  1231.000000    474\n",
      "2018-12-06  1238.099976  1244.400024  1234.800049  1237.500000    434\n",
      "2018-12-07  1246.800049  1249.800049  1237.599976  1238.300049    211\n",
      "2018-12-10  1243.699951  1249.599976  1241.699951  1249.599976    131\n",
      "2018-12-11  1241.900024  1248.699951  1241.500000  1245.800049    117\n",
      "Warning: 'Adj Close' not found in gold data. Available columns: MultiIndex([( 'Close', 'GC=F'),\n",
      "            (  'High', 'GC=F'),\n",
      "            (   'Low', 'GC=F'),\n",
      "            (  'Open', 'GC=F'),\n",
      "            ('Volume', 'GC=F')],\n",
      "           names=['Price', 'Ticker'])\n"
     ]
    },
    {
     "name": "stderr",
     "output_type": "stream",
     "text": [
      "[*********************100%***********************]  1 of 1 completed"
     ]
    },
    {
     "name": "stdout",
     "output_type": "stream",
     "text": [
      "Downloading data for 2019-01-30 (2019-01-15 to 2019-02-14)\n",
      "Downloaded data for ^GSPC:\n",
      "Price             Close         High          Low         Open      Volume\n",
      "Ticker            ^GSPC        ^GSPC        ^GSPC        ^GSPC       ^GSPC\n",
      "Date                                                                      \n",
      "2019-01-15  2610.300049  2613.080078  2585.100098  2585.100098  3601180000\n",
      "2019-01-16  2616.100098  2625.760010  2612.679932  2614.750000  3882180000\n",
      "2019-01-17  2635.959961  2645.060059  2606.360107  2609.280029  3802410000\n",
      "2019-01-18  2670.709961  2675.469971  2647.580078  2651.270020  4009010000\n",
      "2019-01-22  2632.899902  2657.879883  2617.270020  2657.879883  3923950000\n",
      "Warning: 'Adj Close' not found for ^GSPC. Available columns: MultiIndex([( 'Close', '^GSPC'),\n",
      "            (  'High', '^GSPC'),\n",
      "            (   'Low', '^GSPC'),\n",
      "            (  'Open', '^GSPC'),\n",
      "            ('Volume', '^GSPC')],\n",
      "           names=['Price', 'Ticker'])\n"
     ]
    },
    {
     "name": "stderr",
     "output_type": "stream",
     "text": [
      "\n",
      "[*********************100%***********************]  1 of 1 completed\n",
      "[*********************100%***********************]  1 of 1 completed\n"
     ]
    },
    {
     "name": "stdout",
     "output_type": "stream",
     "text": [
      "Downloaded data for ^IXIC:\n",
      "Price             Close         High          Low         Open      Volume\n",
      "Ticker            ^IXIC        ^IXIC        ^IXIC        ^IXIC       ^IXIC\n",
      "Date                                                                      \n",
      "2019-01-15  7023.830078  7025.850098  6928.120117  6931.390137  2066090000\n",
      "2019-01-16  7034.689941  7079.629883  7028.120117  7033.750000  2163730000\n",
      "2019-01-17  7084.459961  7113.950195  7003.620117  7010.129883  2149280000\n",
      "2019-01-18  7157.229980  7185.379883  7096.620117  7134.100098  2459920000\n",
      "2019-01-22  7020.359863  7110.160156  6979.810059  7109.569824  2397660000\n",
      "Warning: 'Adj Close' not found for ^IXIC. Available columns: MultiIndex([( 'Close', '^IXIC'),\n",
      "            (  'High', '^IXIC'),\n",
      "            (   'Low', '^IXIC'),\n",
      "            (  'Open', '^IXIC'),\n",
      "            ('Volume', '^IXIC')],\n",
      "           names=['Price', 'Ticker'])\n",
      "Downloaded data for ^DJI:\n",
      "Price              Close          High           Low          Open     Volume\n",
      "Ticker              ^DJI          ^DJI          ^DJI          ^DJI       ^DJI\n",
      "Date                                                                         \n",
      "2019-01-15  24065.589844  24099.140625  23887.929688  23914.109375  291570000\n",
      "2019-01-16  24207.160156  24288.609375  24119.720703  24139.910156  302830000\n",
      "2019-01-17  24370.099609  24474.460938  24088.900391  24147.089844  288590000\n",
      "2019-01-18  24706.349609  24750.220703  24459.029297  24534.189453  372970000\n",
      "2019-01-22  24404.480469  24607.759766  24244.310547  24607.759766  338480000\n",
      "Warning: 'Adj Close' not found for ^DJI. Available columns: MultiIndex([( 'Close', '^DJI'),\n",
      "            (  'High', '^DJI'),\n",
      "            (   'Low', '^DJI'),\n",
      "            (  'Open', '^DJI'),\n",
      "            ('Volume', '^DJI')],\n",
      "           names=['Price', 'Ticker'])\n",
      "Error downloading USD/EUR: Thank you for using Alpha Vantage! Our standard API rate limit is 25 requests per day. Please subscribe to any of the premium plans at https://www.alphavantage.co/premium/ to instantly remove all daily rate limits.\n",
      "Error downloading USD/JPY: Thank you for using Alpha Vantage! Our standard API rate limit is 25 requests per day. Please subscribe to any of the premium plans at https://www.alphavantage.co/premium/ to instantly remove all daily rate limits.\n"
     ]
    },
    {
     "name": "stderr",
     "output_type": "stream",
     "text": [
      "[*********************100%***********************]  1 of 1 completed\n"
     ]
    },
    {
     "name": "stdout",
     "output_type": "stream",
     "text": [
      "Downloaded Gold Data:\n",
      "Price             Close         High          Low         Open Volume\n",
      "Ticker             GC=F         GC=F         GC=F         GC=F   GC=F\n",
      "Date                                                                 \n",
      "2019-01-15  1286.199951  1292.699951  1286.199951  1290.099976      3\n",
      "2019-01-16  1291.599976  1291.599976  1291.599976  1291.599976      2\n",
      "2019-01-17  1291.000000  1292.699951  1288.500000  1291.599976     10\n",
      "2019-01-18  1281.300049  1281.300049  1281.300049  1281.300049      3\n",
      "2019-01-22  1282.500000  1283.300049  1282.500000  1282.500000      7\n",
      "Warning: 'Adj Close' not found in gold data. Available columns: MultiIndex([( 'Close', 'GC=F'),\n",
      "            (  'High', 'GC=F'),\n",
      "            (   'Low', 'GC=F'),\n",
      "            (  'Open', 'GC=F'),\n",
      "            ('Volume', 'GC=F')],\n",
      "           names=['Price', 'Ticker'])\n"
     ]
    },
    {
     "name": "stderr",
     "output_type": "stream",
     "text": [
      "[*********************100%***********************]  1 of 1 completed"
     ]
    },
    {
     "name": "stdout",
     "output_type": "stream",
     "text": [
      "Downloading data for 2019-03-20 (2019-03-05 to 2019-04-04)\n",
      "Downloaded data for ^GSPC:\n",
      "Price             Close         High          Low         Open      Volume\n",
      "Ticker            ^GSPC        ^GSPC        ^GSPC        ^GSPC       ^GSPC\n",
      "Date                                                                      \n",
      "2019-03-05  2789.649902  2796.439941  2782.969971  2794.409912  3631380000\n",
      "2019-03-06  2771.449951  2790.270020  2768.689941  2790.270020  3800180000\n",
      "2019-03-07  2748.929932  2767.250000  2739.090088  2766.530029  3932150000\n",
      "2019-03-08  2743.070068  2744.129883  2722.270020  2730.790039  3424300000\n",
      "2019-03-11  2783.300049  2784.000000  2747.610107  2747.610107  3764850000\n",
      "Warning: 'Adj Close' not found for ^GSPC. Available columns: MultiIndex([( 'Close', '^GSPC'),\n",
      "            (  'High', '^GSPC'),\n",
      "            (   'Low', '^GSPC'),\n",
      "            (  'Open', '^GSPC'),\n",
      "            ('Volume', '^GSPC')],\n",
      "           names=['Price', 'Ticker'])\n"
     ]
    },
    {
     "name": "stderr",
     "output_type": "stream",
     "text": [
      "\n",
      "[*********************100%***********************]  1 of 1 completed\n",
      "[*********************100%***********************]  1 of 1 completed\n"
     ]
    },
    {
     "name": "stdout",
     "output_type": "stream",
     "text": [
      "Downloaded data for ^IXIC:\n",
      "Price             Close         High          Low         Open      Volume\n",
      "Ticker            ^IXIC        ^IXIC        ^IXIC        ^IXIC       ^IXIC\n",
      "Date                                                                      \n",
      "2019-03-05  7576.359863  7598.660156  7543.540039  7582.290039  2166670000\n",
      "2019-03-06  7505.919922  7579.020020  7499.870117  7575.379883  2256550000\n",
      "2019-03-07  7421.459961  7489.080078  7397.189941  7483.790039  2462690000\n",
      "2019-03-08  7408.140137  7411.520020  7332.919922  7334.350098  2260950000\n",
      "2019-03-11  7558.060059  7558.229980  7442.399902  7442.560059  2248460000\n",
      "Warning: 'Adj Close' not found for ^IXIC. Available columns: MultiIndex([( 'Close', '^IXIC'),\n",
      "            (  'High', '^IXIC'),\n",
      "            (   'Low', '^IXIC'),\n",
      "            (  'Open', '^IXIC'),\n",
      "            ('Volume', '^IXIC')],\n",
      "           names=['Price', 'Ticker'])\n",
      "Downloaded data for ^DJI:\n",
      "Price              Close          High           Low          Open     Volume\n",
      "Ticker              ^DJI          ^DJI          ^DJI          ^DJI       ^DJI\n",
      "Date                                                                         \n",
      "2019-03-05  25806.630859  25877.150391  25725.630859  25829.070312  252260000\n",
      "2019-03-06  25673.460938  25837.609375  25633.710938  25818.759766  256250000\n",
      "2019-03-07  25473.230469  25645.449219  25352.550781  25645.449219  289140000\n",
      "2019-03-08  25450.240234  25466.140625  25252.460938  25347.380859  270500000\n",
      "2019-03-11  25650.880859  25661.630859  25208.000000  25208.000000  309790000\n",
      "Warning: 'Adj Close' not found for ^DJI. Available columns: MultiIndex([( 'Close', '^DJI'),\n",
      "            (  'High', '^DJI'),\n",
      "            (   'Low', '^DJI'),\n",
      "            (  'Open', '^DJI'),\n",
      "            ('Volume', '^DJI')],\n",
      "           names=['Price', 'Ticker'])\n",
      "Error downloading USD/EUR: Thank you for using Alpha Vantage! Our standard API rate limit is 25 requests per day. Please subscribe to any of the premium plans at https://www.alphavantage.co/premium/ to instantly remove all daily rate limits.\n",
      "Error downloading USD/JPY: Thank you for using Alpha Vantage! Our standard API rate limit is 25 requests per day. Please subscribe to any of the premium plans at https://www.alphavantage.co/premium/ to instantly remove all daily rate limits.\n"
     ]
    },
    {
     "name": "stderr",
     "output_type": "stream",
     "text": [
      "[*********************100%***********************]  1 of 1 completed\n"
     ]
    },
    {
     "name": "stdout",
     "output_type": "stream",
     "text": [
      "Downloaded Gold Data:\n",
      "Price             Close         High          Low         Open Volume\n",
      "Ticker             GC=F         GC=F         GC=F         GC=F   GC=F\n",
      "Date                                                                 \n",
      "2019-03-05  1282.000000  1287.000000  1282.000000  1287.000000    114\n",
      "2019-03-06  1284.900024  1287.099976  1282.599976  1287.099976     14\n",
      "2019-03-07  1283.800049  1284.599976  1281.000000  1281.000000     11\n",
      "2019-03-08  1297.000000  1297.400024  1291.599976  1292.099976     10\n",
      "2019-03-11  1288.800049  1291.000000  1288.800049  1291.000000      9\n",
      "Warning: 'Adj Close' not found in gold data. Available columns: MultiIndex([( 'Close', 'GC=F'),\n",
      "            (  'High', 'GC=F'),\n",
      "            (   'Low', 'GC=F'),\n",
      "            (  'Open', 'GC=F'),\n",
      "            ('Volume', 'GC=F')],\n",
      "           names=['Price', 'Ticker'])\n"
     ]
    },
    {
     "name": "stderr",
     "output_type": "stream",
     "text": [
      "[*********************100%***********************]  1 of 1 completed"
     ]
    },
    {
     "name": "stdout",
     "output_type": "stream",
     "text": [
      "Downloading data for 2019-05-01 (2019-04-16 to 2019-05-16)\n",
      "Downloaded data for ^GSPC:\n",
      "Price             Close         High          Low         Open      Volume\n",
      "Ticker            ^GSPC        ^GSPC        ^GSPC        ^GSPC       ^GSPC\n",
      "Date                                                                      \n",
      "2019-04-16  2907.060059  2916.060059  2900.709961  2912.260010  3403120000\n",
      "2019-04-17  2900.449951  2918.000000  2895.449951  2916.040039  3648100000\n",
      "2019-04-18  2905.030029  2908.399902  2891.899902  2904.810059  3507100000\n",
      "2019-04-22  2907.969971  2909.510010  2896.350098  2898.780029  3010130000\n",
      "2019-04-23  2933.679932  2936.310059  2908.530029  2909.989990  3674480000\n",
      "Warning: 'Adj Close' not found for ^GSPC. Available columns: MultiIndex([( 'Close', '^GSPC'),\n",
      "            (  'High', '^GSPC'),\n",
      "            (   'Low', '^GSPC'),\n",
      "            (  'Open', '^GSPC'),\n",
      "            ('Volume', '^GSPC')],\n",
      "           names=['Price', 'Ticker'])\n"
     ]
    },
    {
     "name": "stderr",
     "output_type": "stream",
     "text": [
      "\n",
      "[*********************100%***********************]  1 of 1 completed\n",
      "[*********************100%***********************]  1 of 1 completed\n"
     ]
    },
    {
     "name": "stdout",
     "output_type": "stream",
     "text": [
      "Downloaded data for ^IXIC:\n",
      "Price             Close         High          Low         Open      Volume\n",
      "Ticker            ^IXIC        ^IXIC        ^IXIC        ^IXIC       ^IXIC\n",
      "Date                                                                      \n",
      "2019-04-16  8000.229980  8017.560059  7978.810059  8000.569824  2102740000\n",
      "2019-04-17  7996.080078  8052.399902  7973.379883  8044.970215  2317330000\n",
      "2019-04-18  7998.060059  8002.310059  7950.970215  7998.450195  2124630000\n",
      "2019-04-22  8015.270020  8017.149902  7965.899902  7969.370117  1790990000\n",
      "2019-04-23  8120.819824  8128.870117  8023.810059  8026.750000  2099410000\n",
      "Warning: 'Adj Close' not found for ^IXIC. Available columns: MultiIndex([( 'Close', '^IXIC'),\n",
      "            (  'High', '^IXIC'),\n",
      "            (   'Low', '^IXIC'),\n",
      "            (  'Open', '^IXIC'),\n",
      "            ('Volume', '^IXIC')],\n",
      "           names=['Price', 'Ticker'])\n",
      "Downloaded data for ^DJI:\n",
      "Price              Close          High           Low          Open     Volume\n",
      "Ticker              ^DJI          ^DJI          ^DJI          ^DJI       ^DJI\n",
      "Date                                                                         \n",
      "2019-04-16  26452.660156  26530.710938  26397.189453  26482.189453  302340000\n",
      "2019-04-17  26449.539062  26501.019531  26391.859375  26468.529297  367780000\n",
      "2019-04-18  26559.539062  26602.419922  26444.529297  26463.369141  332850000\n",
      "2019-04-22  26511.050781  26553.050781  26458.609375  26510.769531  232570000\n",
      "2019-04-23  26656.390625  26695.960938  26503.560547  26513.830078  311690000\n",
      "Warning: 'Adj Close' not found for ^DJI. Available columns: MultiIndex([( 'Close', '^DJI'),\n",
      "            (  'High', '^DJI'),\n",
      "            (   'Low', '^DJI'),\n",
      "            (  'Open', '^DJI'),\n",
      "            ('Volume', '^DJI')],\n",
      "           names=['Price', 'Ticker'])\n",
      "Error downloading USD/EUR: Thank you for using Alpha Vantage! Our standard API rate limit is 25 requests per day. Please subscribe to any of the premium plans at https://www.alphavantage.co/premium/ to instantly remove all daily rate limits.\n",
      "Error downloading USD/JPY: Thank you for using Alpha Vantage! Our standard API rate limit is 25 requests per day. Please subscribe to any of the premium plans at https://www.alphavantage.co/premium/ to instantly remove all daily rate limits.\n"
     ]
    },
    {
     "name": "stderr",
     "output_type": "stream",
     "text": [
      "[*********************100%***********************]  1 of 1 completed\n"
     ]
    },
    {
     "name": "stdout",
     "output_type": "stream",
     "text": [
      "Downloaded Gold Data:\n",
      "Price             Close         High          Low         Open Volume\n",
      "Ticker             GC=F         GC=F         GC=F         GC=F   GC=F\n",
      "Date                                                                 \n",
      "2019-04-16  1272.599976  1285.199951  1272.199951  1285.199951    643\n",
      "2019-04-17  1272.199951  1273.500000  1271.599976  1273.500000    308\n",
      "2019-04-18  1271.900024  1273.599976  1270.099976  1270.800049     27\n",
      "2019-04-22  1273.500000  1273.500000  1273.500000  1273.500000    147\n",
      "2019-04-23  1269.300049  1269.800049  1266.000000  1266.400024    206\n",
      "Warning: 'Adj Close' not found in gold data. Available columns: MultiIndex([( 'Close', 'GC=F'),\n",
      "            (  'High', 'GC=F'),\n",
      "            (   'Low', 'GC=F'),\n",
      "            (  'Open', 'GC=F'),\n",
      "            ('Volume', 'GC=F')],\n",
      "           names=['Price', 'Ticker'])\n"
     ]
    },
    {
     "name": "stderr",
     "output_type": "stream",
     "text": [
      "[*********************100%***********************]  1 of 1 completed"
     ]
    },
    {
     "name": "stdout",
     "output_type": "stream",
     "text": [
      "Downloading data for 2019-06-19 (2019-06-04 to 2019-07-04)\n",
      "Downloaded data for ^GSPC:\n",
      "Price             Close         High          Low         Open      Volume\n",
      "Ticker            ^GSPC        ^GSPC        ^GSPC        ^GSPC       ^GSPC\n",
      "Date                                                                      \n",
      "2019-06-04  2803.270020  2804.489990  2762.639893  2762.639893  3814130000\n",
      "2019-06-05  2826.149902  2827.280029  2800.919922  2818.090088  3570760000\n",
      "2019-06-06  2843.489990  2852.100098  2822.449951  2828.510010  3445140000\n",
      "2019-06-07  2873.340088  2884.969971  2852.870117  2852.870117  3244380000\n",
      "2019-06-10  2886.729980  2904.770020  2885.510010  2885.830078  3209890000\n",
      "Warning: 'Adj Close' not found for ^GSPC. Available columns: MultiIndex([( 'Close', '^GSPC'),\n",
      "            (  'High', '^GSPC'),\n",
      "            (   'Low', '^GSPC'),\n",
      "            (  'Open', '^GSPC'),\n",
      "            ('Volume', '^GSPC')],\n",
      "           names=['Price', 'Ticker'])\n"
     ]
    },
    {
     "name": "stderr",
     "output_type": "stream",
     "text": [
      "\n",
      "[*********************100%***********************]  1 of 1 completed\n",
      "[*********************100%***********************]  1 of 1 completed\n"
     ]
    },
    {
     "name": "stdout",
     "output_type": "stream",
     "text": [
      "Downloaded data for ^IXIC:\n",
      "Price             Close         High          Low         Open      Volume\n",
      "Ticker            ^IXIC        ^IXIC        ^IXIC        ^IXIC       ^IXIC\n",
      "Date                                                                      \n",
      "2019-06-04  7527.120117  7529.500000  7385.020020  7413.939941  2374130000\n",
      "2019-06-05  7575.479980  7589.470215  7498.169922  7585.680176  2139290000\n",
      "2019-06-06  7615.549805  7634.120117  7546.220215  7582.240234  2093470000\n",
      "2019-06-07  7742.100098  7767.020020  7647.910156  7652.970215  2074120000\n",
      "2019-06-10  7823.169922  7895.439941  7795.759766  7798.870117  2042340000\n",
      "Warning: 'Adj Close' not found for ^IXIC. Available columns: MultiIndex([( 'Close', '^IXIC'),\n",
      "            (  'High', '^IXIC'),\n",
      "            (   'Low', '^IXIC'),\n",
      "            (  'Open', '^IXIC'),\n",
      "            ('Volume', '^IXIC')],\n",
      "           names=['Price', 'Ticker'])\n",
      "Downloaded data for ^DJI:\n",
      "Price              Close          High           Low          Open     Volume\n",
      "Ticker              ^DJI          ^DJI          ^DJI          ^DJI       ^DJI\n",
      "Date                                                                         \n",
      "2019-06-04  25332.179688  25343.769531  24962.820312  24962.820312  281690000\n",
      "2019-06-05  25539.570312  25544.660156  25373.580078  25451.000000  262660000\n",
      "2019-06-06  25720.660156  25800.300781  25518.050781  25567.449219  248070000\n",
      "2019-06-07  25983.939453  26072.750000  25768.720703  25768.720703  263010000\n",
      "2019-06-10  26062.679688  26210.609375  26054.310547  26090.220703  249280000\n",
      "Warning: 'Adj Close' not found for ^DJI. Available columns: MultiIndex([( 'Close', '^DJI'),\n",
      "            (  'High', '^DJI'),\n",
      "            (   'Low', '^DJI'),\n",
      "            (  'Open', '^DJI'),\n",
      "            ('Volume', '^DJI')],\n",
      "           names=['Price', 'Ticker'])\n",
      "Error downloading USD/EUR: Thank you for using Alpha Vantage! Our standard API rate limit is 25 requests per day. Please subscribe to any of the premium plans at https://www.alphavantage.co/premium/ to instantly remove all daily rate limits.\n",
      "Error downloading USD/JPY: Thank you for using Alpha Vantage! Our standard API rate limit is 25 requests per day. Please subscribe to any of the premium plans at https://www.alphavantage.co/premium/ to instantly remove all daily rate limits.\n"
     ]
    },
    {
     "name": "stderr",
     "output_type": "stream",
     "text": [
      "[*********************100%***********************]  1 of 1 completed\n"
     ]
    },
    {
     "name": "stdout",
     "output_type": "stream",
     "text": [
      "Downloaded Gold Data:\n",
      "Price             Close         High          Low         Open Volume\n",
      "Ticker             GC=F         GC=F         GC=F         GC=F   GC=F\n",
      "Date                                                                 \n",
      "2019-06-04  1323.400024  1328.599976  1320.800049  1324.300049    302\n",
      "2019-06-05  1328.300049  1343.300049  1326.300049  1328.900024    622\n",
      "2019-06-06  1337.599976  1338.699951  1326.199951  1330.800049    161\n",
      "2019-06-07  1341.199951  1347.699951  1329.800049  1333.099976    240\n",
      "2019-06-10  1324.699951  1336.500000  1324.099976  1335.800049    268\n",
      "Warning: 'Adj Close' not found in gold data. Available columns: MultiIndex([( 'Close', 'GC=F'),\n",
      "            (  'High', 'GC=F'),\n",
      "            (   'Low', 'GC=F'),\n",
      "            (  'Open', 'GC=F'),\n",
      "            ('Volume', 'GC=F')],\n",
      "           names=['Price', 'Ticker'])\n"
     ]
    },
    {
     "name": "stderr",
     "output_type": "stream",
     "text": [
      "[*********************100%***********************]  1 of 1 completed"
     ]
    },
    {
     "name": "stdout",
     "output_type": "stream",
     "text": [
      "Downloading data for 2019-07-31 (2019-07-16 to 2019-08-15)\n",
      "Downloaded data for ^GSPC:\n",
      "Price             Close         High          Low         Open      Volume\n",
      "Ticker            ^GSPC        ^GSPC        ^GSPC        ^GSPC       ^GSPC\n",
      "Date                                                                      \n",
      "2019-07-16  3004.040039  3015.020020  3001.149902  3012.129883  3297030000\n",
      "2019-07-17  2984.419922  3005.260010  2984.250000  3005.100098  3185650000\n",
      "2019-07-18  2995.110107  2998.280029  2973.090088  2978.870117  3369820000\n",
      "2019-07-19  2976.610107  3006.020020  2975.860107  3004.260010  3285890000\n",
      "2019-07-22  2985.030029  2990.709961  2976.649902  2981.929932  3016200000\n",
      "Warning: 'Adj Close' not found for ^GSPC. Available columns: MultiIndex([( 'Close', '^GSPC'),\n",
      "            (  'High', '^GSPC'),\n",
      "            (   'Low', '^GSPC'),\n",
      "            (  'Open', '^GSPC'),\n",
      "            ('Volume', '^GSPC')],\n",
      "           names=['Price', 'Ticker'])\n"
     ]
    },
    {
     "name": "stderr",
     "output_type": "stream",
     "text": [
      "\n",
      "[*********************100%***********************]  1 of 1 completed\n",
      "[*********************100%***********************]  1 of 1 completed\n"
     ]
    },
    {
     "name": "stdout",
     "output_type": "stream",
     "text": [
      "Downloaded data for ^IXIC:\n",
      "Price             Close         High          Low         Open      Volume\n",
      "Ticker            ^IXIC        ^IXIC        ^IXIC        ^IXIC       ^IXIC\n",
      "Date                                                                      \n",
      "2019-07-16  8222.799805  8259.750000  8204.230469  8251.660156  1947010000\n",
      "2019-07-17  8185.209961  8230.669922  8184.660156  8224.000000  1887120000\n",
      "2019-07-18  8207.240234  8215.580078  8135.120117  8151.759766  2063790000\n",
      "2019-07-19  8146.490234  8245.780273  8144.629883  8241.339844  1893050000\n",
      "2019-07-22  8204.139648  8218.419922  8171.540039  8171.990234  1860440000\n",
      "Warning: 'Adj Close' not found for ^IXIC. Available columns: MultiIndex([( 'Close', '^IXIC'),\n",
      "            (  'High', '^IXIC'),\n",
      "            (   'Low', '^IXIC'),\n",
      "            (  'Open', '^IXIC'),\n",
      "            ('Volume', '^IXIC')],\n",
      "           names=['Price', 'Ticker'])\n",
      "Downloaded data for ^DJI:\n",
      "Price              Close          High           Low          Open     Volume\n",
      "Ticker              ^DJI          ^DJI          ^DJI          ^DJI       ^DJI\n",
      "Date                                                                         \n",
      "2019-07-16  27335.630859  27398.679688  27290.240234  27349.320312  226000000\n",
      "2019-07-17  27219.849609  27343.060547  27218.380859  27320.910156  193930000\n",
      "2019-07-18  27222.970703  27266.810547  27068.789062  27191.980469  216070000\n",
      "2019-07-19  27154.199219  27342.960938  27145.779297  27246.380859  287690000\n",
      "2019-07-22  27171.900391  27227.769531  27088.900391  27174.179688  216310000\n",
      "Warning: 'Adj Close' not found for ^DJI. Available columns: MultiIndex([( 'Close', '^DJI'),\n",
      "            (  'High', '^DJI'),\n",
      "            (   'Low', '^DJI'),\n",
      "            (  'Open', '^DJI'),\n",
      "            ('Volume', '^DJI')],\n",
      "           names=['Price', 'Ticker'])\n",
      "Error downloading USD/EUR: Thank you for using Alpha Vantage! Our standard API rate limit is 25 requests per day. Please subscribe to any of the premium plans at https://www.alphavantage.co/premium/ to instantly remove all daily rate limits.\n",
      "Error downloading USD/JPY: Thank you for using Alpha Vantage! Our standard API rate limit is 25 requests per day. Please subscribe to any of the premium plans at https://www.alphavantage.co/premium/ to instantly remove all daily rate limits.\n"
     ]
    },
    {
     "name": "stderr",
     "output_type": "stream",
     "text": [
      "[*********************100%***********************]  1 of 1 completed\n"
     ]
    },
    {
     "name": "stdout",
     "output_type": "stream",
     "text": [
      "Downloaded Gold Data:\n",
      "Price             Close         High          Low         Open Volume\n",
      "Ticker             GC=F         GC=F         GC=F         GC=F   GC=F\n",
      "Date                                                                 \n",
      "2019-07-16  1409.199951  1413.699951  1405.000000  1413.599976     13\n",
      "2019-07-17  1421.300049  1421.300049  1404.599976  1404.599976      6\n",
      "2019-07-18  1426.099976  1444.199951  1419.500000  1422.300049     66\n",
      "2019-07-19  1425.099976  1442.000000  1425.099976  1440.500000     22\n",
      "2019-07-22  1425.300049  1425.300049  1424.000000  1425.300049      1\n",
      "Warning: 'Adj Close' not found in gold data. Available columns: MultiIndex([( 'Close', 'GC=F'),\n",
      "            (  'High', 'GC=F'),\n",
      "            (   'Low', 'GC=F'),\n",
      "            (  'Open', 'GC=F'),\n",
      "            ('Volume', 'GC=F')],\n",
      "           names=['Price', 'Ticker'])\n"
     ]
    },
    {
     "name": "stderr",
     "output_type": "stream",
     "text": [
      "[*********************100%***********************]  1 of 1 completed"
     ]
    },
    {
     "name": "stdout",
     "output_type": "stream",
     "text": [
      "Downloading data for 2019-09-18 (2019-09-03 to 2019-10-03)\n",
      "Downloaded data for ^GSPC:\n",
      "Price             Close         High          Low         Open      Volume\n",
      "Ticker            ^GSPC        ^GSPC        ^GSPC        ^GSPC       ^GSPC\n",
      "Date                                                                      \n",
      "2019-09-03  2906.270020  2914.389893  2891.850098  2909.010010  3427830000\n",
      "2019-09-04  2937.780029  2938.840088  2921.860107  2924.669922  3167900000\n",
      "2019-09-05  2976.000000  2985.860107  2960.600098  2960.600098  3902600000\n",
      "2019-09-06  2978.709961  2985.030029  2972.510010  2980.330078  3209340000\n",
      "2019-09-09  2978.429932  2989.429932  2969.389893  2988.429932  4031120000\n",
      "Warning: 'Adj Close' not found for ^GSPC. Available columns: MultiIndex([( 'Close', '^GSPC'),\n",
      "            (  'High', '^GSPC'),\n",
      "            (   'Low', '^GSPC'),\n",
      "            (  'Open', '^GSPC'),\n",
      "            ('Volume', '^GSPC')],\n",
      "           names=['Price', 'Ticker'])\n"
     ]
    },
    {
     "name": "stderr",
     "output_type": "stream",
     "text": [
      "\n",
      "[*********************100%***********************]  1 of 1 completed\n",
      "[*********************100%***********************]  1 of 1 completed\n"
     ]
    },
    {
     "name": "stdout",
     "output_type": "stream",
     "text": [
      "Downloaded data for ^IXIC:\n",
      "Price             Close         High          Low         Open      Volume\n",
      "Ticker            ^IXIC        ^IXIC        ^IXIC        ^IXIC       ^IXIC\n",
      "Date                                                                      \n",
      "2019-09-03  7874.160156  7940.370117  7847.319824  7906.439941  1938780000\n",
      "2019-09-04  7976.879883  7981.410156  7928.939941  7949.810059  1893740000\n",
      "2019-09-05  8116.830078  8134.419922  8061.290039  8061.290039  2108700000\n",
      "2019-09-06  8103.069824  8134.390137  8098.520020  8125.580078  1878730000\n",
      "2019-09-09  8087.439941  8131.660156  8052.339844  8130.910156  2186660000\n",
      "Warning: 'Adj Close' not found for ^IXIC. Available columns: MultiIndex([( 'Close', '^IXIC'),\n",
      "            (  'High', '^IXIC'),\n",
      "            (   'Low', '^IXIC'),\n",
      "            (  'Open', '^IXIC'),\n",
      "            ('Volume', '^IXIC')],\n",
      "           names=['Price', 'Ticker'])\n",
      "Downloaded data for ^DJI:\n",
      "Price              Close          High           Low          Open     Volume\n",
      "Ticker              ^DJI          ^DJI          ^DJI          ^DJI       ^DJI\n",
      "Date                                                                         \n",
      "2019-09-03  26118.019531  26198.259766  25978.220703  26198.259766  223210000\n",
      "2019-09-04  26355.470703  26362.349609  26244.439453  26301.990234  202710000\n",
      "2019-09-05  26728.150391  26836.300781  26603.150391  26603.150391  256670000\n",
      "2019-09-06  26797.460938  26860.869141  26708.390625  26790.250000  209700000\n",
      "2019-09-09  26835.509766  26900.830078  26762.179688  26866.230469  273120000\n",
      "Warning: 'Adj Close' not found for ^DJI. Available columns: MultiIndex([( 'Close', '^DJI'),\n",
      "            (  'High', '^DJI'),\n",
      "            (   'Low', '^DJI'),\n",
      "            (  'Open', '^DJI'),\n",
      "            ('Volume', '^DJI')],\n",
      "           names=['Price', 'Ticker'])\n",
      "Error downloading USD/EUR: Thank you for using Alpha Vantage! Our standard API rate limit is 25 requests per day. Please subscribe to any of the premium plans at https://www.alphavantage.co/premium/ to instantly remove all daily rate limits.\n",
      "Error downloading USD/JPY: Thank you for using Alpha Vantage! Our standard API rate limit is 25 requests per day. Please subscribe to any of the premium plans at https://www.alphavantage.co/premium/ to instantly remove all daily rate limits.\n"
     ]
    },
    {
     "name": "stderr",
     "output_type": "stream",
     "text": [
      "[*********************100%***********************]  1 of 1 completed\n"
     ]
    },
    {
     "name": "stdout",
     "output_type": "stream",
     "text": [
      "Downloaded Gold Data:\n",
      "Price             Close         High          Low         Open Volume\n",
      "Ticker             GC=F         GC=F         GC=F         GC=F   GC=F\n",
      "Date                                                                 \n",
      "2019-09-03  1545.900024  1547.300049  1521.000000  1522.900024    139\n",
      "2019-09-04  1550.300049  1553.199951  1534.800049  1549.000000     46\n",
      "2019-09-05  1515.400024  1551.099976  1511.099976  1551.000000    125\n",
      "2019-09-06  1506.199951  1526.000000  1504.500000  1517.300049     54\n",
      "2019-09-09  1502.199951  1513.000000  1498.000000  1509.000000     69\n",
      "Warning: 'Adj Close' not found in gold data. Available columns: MultiIndex([( 'Close', 'GC=F'),\n",
      "            (  'High', 'GC=F'),\n",
      "            (   'Low', 'GC=F'),\n",
      "            (  'Open', 'GC=F'),\n",
      "            ('Volume', 'GC=F')],\n",
      "           names=['Price', 'Ticker'])\n",
      "Downloading data for 2019-10-30 (2019-10-15 to 2019-11-14)\n"
     ]
    },
    {
     "name": "stderr",
     "output_type": "stream",
     "text": [
      "[*********************100%***********************]  1 of 1 completed\n",
      "[*********************100%***********************]  1 of 1 completed\n"
     ]
    },
    {
     "name": "stdout",
     "output_type": "stream",
     "text": [
      "Downloaded data for ^GSPC:\n",
      "Price             Close         High          Low         Open      Volume\n",
      "Ticker            ^GSPC        ^GSPC        ^GSPC        ^GSPC       ^GSPC\n",
      "Date                                                                      \n",
      "2019-10-15  2995.679932  3003.280029  2973.610107  2973.610107  3345090000\n",
      "2019-10-16  2989.689941  2997.540039  2985.199951  2989.679932  3230320000\n",
      "2019-10-17  2997.949951  3008.290039  2991.790039  3000.770020  3103470000\n",
      "2019-10-18  2986.199951  3000.000000  2976.310059  2996.840088  3268970000\n",
      "2019-10-21  3006.719971  3007.330078  2995.350098  2996.479980  3271960000\n",
      "Warning: 'Adj Close' not found for ^GSPC. Available columns: MultiIndex([( 'Close', '^GSPC'),\n",
      "            (  'High', '^GSPC'),\n",
      "            (   'Low', '^GSPC'),\n",
      "            (  'Open', '^GSPC'),\n",
      "            ('Volume', '^GSPC')],\n",
      "           names=['Price', 'Ticker'])\n",
      "Downloaded data for ^IXIC:\n",
      "Price             Close         High          Low         Open      Volume\n",
      "Ticker            ^IXIC        ^IXIC        ^IXIC        ^IXIC       ^IXIC\n",
      "Date                                                                      \n",
      "2019-10-15  8148.709961  8166.180176  8071.810059  8074.850098  1841660000\n",
      "2019-10-16  8124.180176  8146.149902  8103.379883  8119.810059  1900010000\n",
      "2019-10-17  8156.850098  8183.640137  8131.250000  8176.910156  1864020000\n",
      "2019-10-18  8089.540039  8157.359863  8045.370117  8149.850098  2020020000\n",
      "2019-10-21  8162.990234  8164.140137  8117.259766  8137.419922  1756640000\n",
      "Warning: 'Adj Close' not found for ^IXIC. Available columns: MultiIndex([( 'Close', '^IXIC'),\n",
      "            (  'High', '^IXIC'),\n",
      "            (   'Low', '^IXIC'),\n",
      "            (  'Open', '^IXIC'),\n",
      "            ('Volume', '^IXIC')],\n",
      "           names=['Price', 'Ticker'])\n"
     ]
    },
    {
     "name": "stderr",
     "output_type": "stream",
     "text": [
      "[*********************100%***********************]  1 of 1 completed\n"
     ]
    },
    {
     "name": "stdout",
     "output_type": "stream",
     "text": [
      "Downloaded data for ^DJI:\n",
      "Price              Close          High           Low          Open     Volume\n",
      "Ticker              ^DJI          ^DJI          ^DJI          ^DJI       ^DJI\n",
      "Date                                                                         \n",
      "2019-10-15  27024.800781  27120.109375  26811.199219  26811.199219  245510000\n",
      "2019-10-16  27001.980469  27058.339844  26943.289062  26972.310547  214660000\n",
      "2019-10-17  27025.880859  27112.160156  26970.289062  27032.380859  222540000\n",
      "2019-10-18  26770.199219  27018.250000  26770.130859  27004.490234  288970000\n",
      "2019-10-21  26827.640625  26852.669922  26747.619141  26852.669922  241030000\n",
      "Warning: 'Adj Close' not found for ^DJI. Available columns: MultiIndex([( 'Close', '^DJI'),\n",
      "            (  'High', '^DJI'),\n",
      "            (   'Low', '^DJI'),\n",
      "            (  'Open', '^DJI'),\n",
      "            ('Volume', '^DJI')],\n",
      "           names=['Price', 'Ticker'])\n",
      "Error downloading USD/EUR: Thank you for using Alpha Vantage! Our standard API rate limit is 25 requests per day. Please subscribe to any of the premium plans at https://www.alphavantage.co/premium/ to instantly remove all daily rate limits.\n",
      "Error downloading USD/JPY: Thank you for using Alpha Vantage! Our standard API rate limit is 25 requests per day. Please subscribe to any of the premium plans at https://www.alphavantage.co/premium/ to instantly remove all daily rate limits.\n"
     ]
    },
    {
     "name": "stderr",
     "output_type": "stream",
     "text": [
      "[*********************100%***********************]  1 of 1 completed\n"
     ]
    },
    {
     "name": "stdout",
     "output_type": "stream",
     "text": [
      "Downloaded Gold Data:\n",
      "Price             Close         High          Low         Open Volume\n",
      "Ticker             GC=F         GC=F         GC=F         GC=F   GC=F\n",
      "Date                                                                 \n",
      "2019-10-15  1477.599976  1495.400024  1476.599976  1488.900024    367\n",
      "2019-10-16  1488.000000  1488.000000  1480.000000  1482.000000    383\n",
      "2019-10-17  1492.300049  1493.199951  1485.800049  1486.199951    271\n",
      "2019-10-18  1488.199951  1489.099976  1486.599976  1487.300049     82\n",
      "2019-10-21  1482.400024  1489.900024  1481.500000  1489.900024     72\n",
      "Warning: 'Adj Close' not found in gold data. Available columns: MultiIndex([( 'Close', 'GC=F'),\n",
      "            (  'High', 'GC=F'),\n",
      "            (   'Low', 'GC=F'),\n",
      "            (  'Open', 'GC=F'),\n",
      "            ('Volume', 'GC=F')],\n",
      "           names=['Price', 'Ticker'])\n"
     ]
    },
    {
     "name": "stderr",
     "output_type": "stream",
     "text": [
      "[*********************100%***********************]  1 of 1 completed"
     ]
    },
    {
     "name": "stdout",
     "output_type": "stream",
     "text": [
      "Downloading data for 2019-12-11 (2019-11-26 to 2019-12-26)\n",
      "Downloaded data for ^GSPC:\n",
      "Price             Close         High          Low         Open      Volume\n",
      "Ticker            ^GSPC        ^GSPC        ^GSPC        ^GSPC       ^GSPC\n",
      "Date                                                                      \n",
      "2019-11-26  3140.520020  3142.689941  3131.000000  3134.850098  4600450000\n",
      "2019-11-27  3153.629883  3154.260010  3143.409912  3145.489990  3035470000\n",
      "2019-11-29  3140.979980  3150.300049  3139.340088  3147.179932  1743420000\n",
      "2019-12-02  3113.870117  3144.310059  3110.780029  3143.850098  3285750000\n",
      "2019-12-03  3093.199951  3094.969971  3070.330078  3087.409912  3671580000\n",
      "Warning: 'Adj Close' not found for ^GSPC. Available columns: MultiIndex([( 'Close', '^GSPC'),\n",
      "            (  'High', '^GSPC'),\n",
      "            (   'Low', '^GSPC'),\n",
      "            (  'Open', '^GSPC'),\n",
      "            ('Volume', '^GSPC')],\n",
      "           names=['Price', 'Ticker'])\n"
     ]
    },
    {
     "name": "stderr",
     "output_type": "stream",
     "text": [
      "\n",
      "[*********************100%***********************]  1 of 1 completed\n",
      "[*********************100%***********************]  1 of 1 completed\n"
     ]
    },
    {
     "name": "stdout",
     "output_type": "stream",
     "text": [
      "Downloaded data for ^IXIC:\n",
      "Price             Close         High          Low         Open      Volume\n",
      "Ticker            ^IXIC        ^IXIC        ^IXIC        ^IXIC       ^IXIC\n",
      "Date                                                                      \n",
      "2019-11-26  8647.929688  8659.730469  8625.620117  8635.400391  2439370000\n",
      "2019-11-27  8705.179688  8705.910156  8662.580078  8669.589844  1748520000\n",
      "2019-11-29  8665.469727  8697.320312  8664.040039  8682.009766  1099090000\n",
      "2019-12-02  8567.990234  8672.839844  8540.160156  8672.839844  2240300000\n",
      "2019-12-03  8520.639648  8523.980469  8435.400391  8460.719727  2318760000\n",
      "Warning: 'Adj Close' not found for ^IXIC. Available columns: MultiIndex([( 'Close', '^IXIC'),\n",
      "            (  'High', '^IXIC'),\n",
      "            (   'Low', '^IXIC'),\n",
      "            (  'Open', '^IXIC'),\n",
      "            ('Volume', '^IXIC')],\n",
      "           names=['Price', 'Ticker'])\n",
      "Downloaded data for ^DJI:\n",
      "Price              Close          High           Low          Open     Volume\n",
      "Ticker              ^DJI          ^DJI          ^DJI          ^DJI       ^DJI\n",
      "Date                                                                         \n",
      "2019-11-26  28121.679688  28146.019531  28042.210938  28080.750000  324050000\n",
      "2019-11-27  28164.000000  28174.970703  28075.230469  28156.470703  198210000\n",
      "2019-11-29  28051.410156  28119.509766  28042.529297  28103.160156  120630000\n",
      "2019-12-02  27783.039062  28109.839844  27782.349609  28109.740234  236610000\n",
      "2019-12-03  27502.810547  27524.740234  27325.130859  27501.980469  275350000\n",
      "Warning: 'Adj Close' not found for ^DJI. Available columns: MultiIndex([( 'Close', '^DJI'),\n",
      "            (  'High', '^DJI'),\n",
      "            (   'Low', '^DJI'),\n",
      "            (  'Open', '^DJI'),\n",
      "            ('Volume', '^DJI')],\n",
      "           names=['Price', 'Ticker'])\n",
      "Error downloading USD/EUR: Thank you for using Alpha Vantage! Our standard API rate limit is 25 requests per day. Please subscribe to any of the premium plans at https://www.alphavantage.co/premium/ to instantly remove all daily rate limits.\n",
      "Error downloading USD/JPY: Thank you for using Alpha Vantage! Our standard API rate limit is 25 requests per day. Please subscribe to any of the premium plans at https://www.alphavantage.co/premium/ to instantly remove all daily rate limits.\n"
     ]
    },
    {
     "name": "stderr",
     "output_type": "stream",
     "text": [
      "[*********************100%***********************]  1 of 1 completed\n"
     ]
    },
    {
     "name": "stdout",
     "output_type": "stream",
     "text": [
      "Downloaded Gold Data:\n",
      "Price             Close         High          Low         Open  Volume\n",
      "Ticker             GC=F         GC=F         GC=F         GC=F    GC=F\n",
      "Date                                                                  \n",
      "2019-11-26  1459.800049  1459.800049  1459.800049  1459.800049  346362\n",
      "2019-11-27  1453.400024  1461.900024  1452.000000  1461.099976   88364\n",
      "2019-11-29  1465.599976  1465.599976  1452.099976  1453.599976    7020\n",
      "2019-12-02  1462.300049  1464.400024  1453.300049  1462.800049    2172\n",
      "2019-12-03  1478.199951  1480.400024  1459.500000  1461.599976    1460\n",
      "Warning: 'Adj Close' not found in gold data. Available columns: MultiIndex([( 'Close', 'GC=F'),\n",
      "            (  'High', 'GC=F'),\n",
      "            (   'Low', 'GC=F'),\n",
      "            (  'Open', 'GC=F'),\n",
      "            ('Volume', 'GC=F')],\n",
      "           names=['Price', 'Ticker'])\n"
     ]
    },
    {
     "name": "stderr",
     "output_type": "stream",
     "text": [
      "[*********************100%***********************]  1 of 1 completed"
     ]
    },
    {
     "name": "stdout",
     "output_type": "stream",
     "text": [
      "Downloading data for 2020-01-29 (2020-01-14 to 2020-02-13)\n",
      "Downloaded data for ^GSPC:\n",
      "Price             Close         High          Low         Open      Volume\n",
      "Ticker            ^GSPC        ^GSPC        ^GSPC        ^GSPC       ^GSPC\n",
      "Date                                                                      \n",
      "2020-01-14  3283.149902  3294.250000  3277.189941  3285.350098  3687620000\n",
      "2020-01-15  3289.290039  3298.659912  3280.689941  3282.270020  3721490000\n",
      "2020-01-16  3316.810059  3317.110107  3302.820068  3302.969971  3540580000\n",
      "2020-01-17  3329.620117  3329.879883  3318.860107  3323.659912  3726220000\n",
      "2020-01-21  3320.790039  3329.790039  3316.610107  3321.030029  4104840000\n",
      "Warning: 'Adj Close' not found for ^GSPC. Available columns: MultiIndex([( 'Close', '^GSPC'),\n",
      "            (  'High', '^GSPC'),\n",
      "            (   'Low', '^GSPC'),\n",
      "            (  'Open', '^GSPC'),\n",
      "            ('Volume', '^GSPC')],\n",
      "           names=['Price', 'Ticker'])\n"
     ]
    },
    {
     "name": "stderr",
     "output_type": "stream",
     "text": [
      "\n",
      "[*********************100%***********************]  1 of 1 completed\n",
      "[*********************100%***********************]  1 of 1 completed\n"
     ]
    },
    {
     "name": "stdout",
     "output_type": "stream",
     "text": [
      "Downloaded data for ^IXIC:\n",
      "Price             Close         High          Low         Open      Volume\n",
      "Ticker            ^IXIC        ^IXIC        ^IXIC        ^IXIC       ^IXIC\n",
      "Date                                                                      \n",
      "2020-01-14  9251.330078  9298.330078  9226.490234  9270.610352  2553160000\n",
      "2020-01-15  9258.700195  9298.820312  9231.139648  9253.759766  2443220000\n",
      "2020-01-16  9357.129883  9357.919922  9301.320312  9313.450195  2312110000\n",
      "2020-01-17  9388.940430  9393.480469  9346.809570  9392.370117  2542540000\n",
      "2020-01-21  9370.809570  9397.580078  9350.200195  9361.070312  2686610000\n",
      "Warning: 'Adj Close' not found for ^IXIC. Available columns: MultiIndex([( 'Close', '^IXIC'),\n",
      "            (  'High', '^IXIC'),\n",
      "            (   'Low', '^IXIC'),\n",
      "            (  'Open', '^IXIC'),\n",
      "            ('Volume', '^IXIC')],\n",
      "           names=['Price', 'Ticker'])\n",
      "Downloaded data for ^DJI:\n",
      "Price              Close          High           Low          Open     Volume\n",
      "Ticker              ^DJI          ^DJI          ^DJI          ^DJI       ^DJI\n",
      "Date                                                                         \n",
      "2020-01-14  28939.669922  29054.160156  28872.269531  28895.500000  287440000\n",
      "2020-01-15  29030.220703  29127.589844  28897.349609  28901.800781  260270000\n",
      "2020-01-16  29297.640625  29300.320312  29131.949219  29131.949219  252110000\n",
      "2020-01-17  29348.099609  29373.619141  29289.910156  29313.310547  321820000\n",
      "2020-01-21  29196.039062  29341.210938  29146.470703  29269.050781  320640000\n",
      "Warning: 'Adj Close' not found for ^DJI. Available columns: MultiIndex([( 'Close', '^DJI'),\n",
      "            (  'High', '^DJI'),\n",
      "            (   'Low', '^DJI'),\n",
      "            (  'Open', '^DJI'),\n",
      "            ('Volume', '^DJI')],\n",
      "           names=['Price', 'Ticker'])\n",
      "Error downloading USD/EUR: Thank you for using Alpha Vantage! Our standard API rate limit is 25 requests per day. Please subscribe to any of the premium plans at https://www.alphavantage.co/premium/ to instantly remove all daily rate limits.\n",
      "Error downloading USD/JPY: Thank you for using Alpha Vantage! Our standard API rate limit is 25 requests per day. Please subscribe to any of the premium plans at https://www.alphavantage.co/premium/ to instantly remove all daily rate limits.\n"
     ]
    },
    {
     "name": "stderr",
     "output_type": "stream",
     "text": [
      "[*********************100%***********************]  1 of 1 completed\n"
     ]
    },
    {
     "name": "stdout",
     "output_type": "stream",
     "text": [
      "Downloaded Gold Data:\n",
      "Price             Close         High          Low         Open Volume\n",
      "Ticker             GC=F         GC=F         GC=F         GC=F   GC=F\n",
      "Date                                                                 \n",
      "2020-01-14  1542.400024  1546.699951  1534.900024  1546.699951     32\n",
      "2020-01-15  1552.099976  1553.900024  1545.599976  1548.000000     11\n",
      "2020-01-16  1549.000000  1556.099976  1548.500000  1555.699951     98\n",
      "2020-01-17  1558.800049  1558.800049  1553.599976  1554.099976    108\n",
      "2020-01-21  1556.400024  1566.199951  1551.000000  1559.300049     45\n",
      "Warning: 'Adj Close' not found in gold data. Available columns: MultiIndex([( 'Close', 'GC=F'),\n",
      "            (  'High', 'GC=F'),\n",
      "            (   'Low', 'GC=F'),\n",
      "            (  'Open', 'GC=F'),\n",
      "            ('Volume', 'GC=F')],\n",
      "           names=['Price', 'Ticker'])\n",
      "Downloading data for 2020-03-18 (2020-03-03 to 2020-04-02)\n"
     ]
    },
    {
     "name": "stderr",
     "output_type": "stream",
     "text": [
      "[*********************100%***********************]  1 of 1 completed\n",
      "[*********************100%***********************]  1 of 1 completed\n"
     ]
    },
    {
     "name": "stdout",
     "output_type": "stream",
     "text": [
      "Downloaded data for ^GSPC:\n",
      "Price             Close         High          Low         Open      Volume\n",
      "Ticker            ^GSPC        ^GSPC        ^GSPC        ^GSPC       ^GSPC\n",
      "Date                                                                      \n",
      "2020-03-03  3003.370117  3136.719971  2976.629883  3096.459961  6376510000\n",
      "2020-03-04  3130.120117  3130.969971  3034.379883  3045.750000  5073020000\n",
      "2020-03-05  3023.939941  3083.040039  2999.830078  3075.699951  5579290000\n",
      "2020-03-06  2972.370117  2985.929932  2901.540039  2954.199951  6555240000\n",
      "2020-03-09  2746.560059  2863.889893  2734.429932  2863.889893  8441290000\n",
      "Warning: 'Adj Close' not found for ^GSPC. Available columns: MultiIndex([( 'Close', '^GSPC'),\n",
      "            (  'High', '^GSPC'),\n",
      "            (   'Low', '^GSPC'),\n",
      "            (  'Open', '^GSPC'),\n",
      "            ('Volume', '^GSPC')],\n",
      "           names=['Price', 'Ticker'])\n",
      "Downloaded data for ^IXIC:\n",
      "Price             Close         High          Low         Open      Volume\n",
      "Ticker            ^IXIC        ^IXIC        ^IXIC        ^IXIC       ^IXIC\n",
      "Date                                                                      \n",
      "2020-03-03  8684.089844  9070.320312  8602.889648  8965.099609  4336700000\n",
      "2020-03-04  9018.089844  9019.959961  8757.660156  8834.099609  3634760000\n",
      "2020-03-05  8738.589844  8921.080078  8677.389648  8790.089844  3763860000\n",
      "2020-03-06  8575.620117  8612.360352  8375.129883  8469.019531  4292730000\n",
      "2020-03-09  7950.680176  8243.309570  7943.160156  7957.930176  4554110000\n",
      "Warning: 'Adj Close' not found for ^IXIC. Available columns: MultiIndex([( 'Close', '^IXIC'),\n",
      "            (  'High', '^IXIC'),\n",
      "            (   'Low', '^IXIC'),\n",
      "            (  'Open', '^IXIC'),\n",
      "            ('Volume', '^IXIC')],\n",
      "           names=['Price', 'Ticker'])\n"
     ]
    },
    {
     "name": "stderr",
     "output_type": "stream",
     "text": [
      "[*********************100%***********************]  1 of 1 completed\n"
     ]
    },
    {
     "name": "stdout",
     "output_type": "stream",
     "text": [
      "Downloaded data for ^DJI:\n",
      "Price              Close          High           Low          Open     Volume\n",
      "Ticker              ^DJI          ^DJI          ^DJI          ^DJI       ^DJI\n",
      "Date                                                                         \n",
      "2020-03-03  25917.410156  27084.589844  25706.279297  26762.470703  647080000\n",
      "2020-03-04  27090.859375  27102.339844  26286.310547  26383.679688  457590000\n",
      "2020-03-05  26121.279297  26671.919922  25943.330078  26671.919922  477370000\n",
      "2020-03-06  25864.779297  25994.380859  25226.619141  25457.210938  599780000\n",
      "2020-03-09  23851.019531  24992.359375  23706.070312  24992.359375  750430000\n",
      "Warning: 'Adj Close' not found for ^DJI. Available columns: MultiIndex([( 'Close', '^DJI'),\n",
      "            (  'High', '^DJI'),\n",
      "            (   'Low', '^DJI'),\n",
      "            (  'Open', '^DJI'),\n",
      "            ('Volume', '^DJI')],\n",
      "           names=['Price', 'Ticker'])\n",
      "Error downloading USD/EUR: Thank you for using Alpha Vantage! Our standard API rate limit is 25 requests per day. Please subscribe to any of the premium plans at https://www.alphavantage.co/premium/ to instantly remove all daily rate limits.\n",
      "Error downloading USD/JPY: Thank you for using Alpha Vantage! Our standard API rate limit is 25 requests per day. Please subscribe to any of the premium plans at https://www.alphavantage.co/premium/ to instantly remove all daily rate limits.\n"
     ]
    },
    {
     "name": "stderr",
     "output_type": "stream",
     "text": [
      "[*********************100%***********************]  1 of 1 completed\n"
     ]
    },
    {
     "name": "stdout",
     "output_type": "stream",
     "text": [
      "Downloaded Gold Data:\n",
      "Price             Close         High          Low         Open Volume\n",
      "Ticker             GC=F         GC=F         GC=F         GC=F   GC=F\n",
      "Date                                                                 \n",
      "2020-03-03  1642.099976  1645.300049  1594.000000  1594.500000    610\n",
      "2020-03-04  1641.099976  1645.900024  1631.300049  1645.400024     83\n",
      "2020-03-05  1666.400024  1672.900024  1637.199951  1637.300049    154\n",
      "2020-03-06  1670.800049  1686.199951  1647.199951  1670.800049    175\n",
      "2020-03-09  1674.500000  1701.599976  1657.699951  1696.099976    161\n",
      "Warning: 'Adj Close' not found in gold data. Available columns: MultiIndex([( 'Close', 'GC=F'),\n",
      "            (  'High', 'GC=F'),\n",
      "            (   'Low', 'GC=F'),\n",
      "            (  'Open', 'GC=F'),\n",
      "            ('Volume', 'GC=F')],\n",
      "           names=['Price', 'Ticker'])\n"
     ]
    },
    {
     "name": "stderr",
     "output_type": "stream",
     "text": [
      "[*********************100%***********************]  1 of 1 completed"
     ]
    },
    {
     "name": "stdout",
     "output_type": "stream",
     "text": [
      "Downloading data for 2020-04-29 (2020-04-14 to 2020-05-14)\n",
      "Downloaded data for ^GSPC:\n",
      "Price             Close         High          Low         Open      Volume\n",
      "Ticker            ^GSPC        ^GSPC        ^GSPC        ^GSPC       ^GSPC\n",
      "Date                                                                      \n",
      "2020-04-14  2846.060059  2851.850098  2805.100098  2805.100098  5615730000\n",
      "2020-04-15  2783.360107  2801.879883  2761.540039  2795.639893  5208000000\n",
      "2020-04-16  2799.550049  2806.510010  2764.320068  2799.340088  5228810000\n",
      "2020-04-17  2874.560059  2879.219971  2830.879883  2842.429932  5804810000\n",
      "2020-04-20  2823.159912  2868.979980  2820.429932  2845.620117  5228630000\n",
      "Warning: 'Adj Close' not found for ^GSPC. Available columns: MultiIndex([( 'Close', '^GSPC'),\n",
      "            (  'High', '^GSPC'),\n",
      "            (   'Low', '^GSPC'),\n",
      "            (  'Open', '^GSPC'),\n",
      "            ('Volume', '^GSPC')],\n",
      "           names=['Price', 'Ticker'])\n"
     ]
    },
    {
     "name": "stderr",
     "output_type": "stream",
     "text": [
      "\n",
      "[*********************100%***********************]  1 of 1 completed\n",
      "[*********************100%***********************]  1 of 1 completed\n"
     ]
    },
    {
     "name": "stdout",
     "output_type": "stream",
     "text": [
      "Downloaded data for ^IXIC:\n",
      "Price             Close         High          Low         Open      Volume\n",
      "Ticker            ^IXIC        ^IXIC        ^IXIC        ^IXIC       ^IXIC\n",
      "Date                                                                      \n",
      "2020-04-14  8515.740234  8531.110352  8338.080078  8353.209961  3767410000\n",
      "2020-04-15  8393.179688  8464.660156  8308.790039  8355.959961  3347920000\n",
      "2020-04-16  8532.360352  8560.160156  8393.269531  8479.110352  4057800000\n",
      "2020-04-17  8650.139648  8670.299805  8531.690430  8667.480469  4348310000\n",
      "2020-04-20  8560.730469  8684.910156  8553.379883  8553.379883  3827370000\n",
      "Warning: 'Adj Close' not found for ^IXIC. Available columns: MultiIndex([( 'Close', '^IXIC'),\n",
      "            (  'High', '^IXIC'),\n",
      "            (   'Low', '^IXIC'),\n",
      "            (  'Open', '^IXIC'),\n",
      "            ('Volume', '^IXIC')],\n",
      "           names=['Price', 'Ticker'])\n",
      "Downloaded data for ^DJI:\n",
      "Price              Close          High           Low          Open     Volume\n",
      "Ticker              ^DJI          ^DJI          ^DJI          ^DJI       ^DJI\n",
      "Date                                                                         \n",
      "2020-04-14  23949.759766  24040.580078  23683.439453  23690.570312  485910000\n",
      "2020-04-15  23504.349609  23649.720703  23233.320312  23600.720703  437630000\n",
      "2020-04-16  23537.679688  23598.080078  23211.380859  23543.660156  471050000\n",
      "2020-04-17  24242.490234  24264.210938  23817.150391  23817.150391  525950000\n",
      "2020-04-20  23650.439453  24108.689453  23627.189453  24095.099609  423410000\n",
      "Warning: 'Adj Close' not found for ^DJI. Available columns: MultiIndex([( 'Close', '^DJI'),\n",
      "            (  'High', '^DJI'),\n",
      "            (   'Low', '^DJI'),\n",
      "            (  'Open', '^DJI'),\n",
      "            ('Volume', '^DJI')],\n",
      "           names=['Price', 'Ticker'])\n",
      "Error downloading USD/EUR: Thank you for using Alpha Vantage! Our standard API rate limit is 25 requests per day. Please subscribe to any of the premium plans at https://www.alphavantage.co/premium/ to instantly remove all daily rate limits.\n",
      "Error downloading USD/JPY: Thank you for using Alpha Vantage! Our standard API rate limit is 25 requests per day. Please subscribe to any of the premium plans at https://www.alphavantage.co/premium/ to instantly remove all daily rate limits.\n"
     ]
    },
    {
     "name": "stderr",
     "output_type": "stream",
     "text": [
      "[*********************100%***********************]  1 of 1 completed\n"
     ]
    },
    {
     "name": "stdout",
     "output_type": "stream",
     "text": [
      "Downloaded Gold Data:\n",
      "Price             Close         High          Low         Open Volume\n",
      "Ticker             GC=F         GC=F         GC=F         GC=F   GC=F\n",
      "Date                                                                 \n",
      "2020-04-14  1756.699951  1775.000000  1739.500000  1756.800049    675\n",
      "2020-04-15  1727.199951  1744.900024  1722.699951  1739.400024    642\n",
      "2020-04-16  1720.400024  1750.599976  1715.000000  1731.000000    162\n",
      "2020-04-17  1689.199951  1725.000000  1684.900024  1715.699951    223\n",
      "2020-04-20  1701.599976  1701.599976  1680.000000  1686.000000    106\n",
      "Warning: 'Adj Close' not found in gold data. Available columns: MultiIndex([( 'Close', 'GC=F'),\n",
      "            (  'High', 'GC=F'),\n",
      "            (   'Low', 'GC=F'),\n",
      "            (  'Open', 'GC=F'),\n",
      "            ('Volume', 'GC=F')],\n",
      "           names=['Price', 'Ticker'])\n"
     ]
    },
    {
     "name": "stderr",
     "output_type": "stream",
     "text": [
      "[*********************100%***********************]  1 of 1 completed"
     ]
    },
    {
     "name": "stdout",
     "output_type": "stream",
     "text": [
      "Downloading data for 2020-06-10 (2020-05-26 to 2020-06-25)\n",
      "Downloaded data for ^GSPC:\n",
      "Price             Close         High          Low         Open      Volume\n",
      "Ticker            ^GSPC        ^GSPC        ^GSPC        ^GSPC       ^GSPC\n",
      "Date                                                                      \n",
      "2020-05-26  2991.770020  3021.719971  2988.169922  3004.080078  5848500000\n",
      "2020-05-27  3036.129883  3036.250000  2969.750000  3015.649902  6398000000\n",
      "2020-05-28  3029.729980  3068.669922  3023.399902  3046.610107  5447020000\n",
      "2020-05-29  3044.310059  3049.169922  2998.610107  3025.169922  7297550000\n",
      "2020-06-01  3055.729980  3062.179932  3031.540039  3038.780029  4684170000\n",
      "Warning: 'Adj Close' not found for ^GSPC. Available columns: MultiIndex([( 'Close', '^GSPC'),\n",
      "            (  'High', '^GSPC'),\n",
      "            (   'Low', '^GSPC'),\n",
      "            (  'Open', '^GSPC'),\n",
      "            ('Volume', '^GSPC')],\n",
      "           names=['Price', 'Ticker'])\n"
     ]
    },
    {
     "name": "stderr",
     "output_type": "stream",
     "text": [
      "\n",
      "[*********************100%***********************]  1 of 1 completed\n",
      "[*********************100%***********************]  1 of 1 completed\n"
     ]
    },
    {
     "name": "stdout",
     "output_type": "stream",
     "text": [
      "Downloaded data for ^IXIC:\n",
      "Price             Close         High          Low         Open      Volume\n",
      "Ticker            ^IXIC        ^IXIC        ^IXIC        ^IXIC       ^IXIC\n",
      "Date                                                                      \n",
      "2020-05-26  9340.219727  9501.209961  9333.160156  9501.209961  4448950000\n",
      "2020-05-27  9412.360352  9414.620117  9144.280273  9346.120117  4489110000\n",
      "2020-05-28  9368.990234  9523.639648  9345.280273  9392.990234  4113660000\n",
      "2020-05-29  9489.870117  9505.549805  9324.730469  9382.349609  4742290000\n",
      "2020-06-01  9552.049805  9571.280273  9462.320312  9471.419922  3847770000\n",
      "Warning: 'Adj Close' not found for ^IXIC. Available columns: MultiIndex([( 'Close', '^IXIC'),\n",
      "            (  'High', '^IXIC'),\n",
      "            (   'Low', '^IXIC'),\n",
      "            (  'Open', '^IXIC'),\n",
      "            ('Volume', '^IXIC')],\n",
      "           names=['Price', 'Ticker'])\n",
      "Downloaded data for ^DJI:\n",
      "Price              Close          High           Low          Open     Volume\n",
      "Ticker              ^DJI          ^DJI          ^DJI          ^DJI       ^DJI\n",
      "Date                                                                         \n",
      "2020-05-26  24995.109375  25176.419922  24781.839844  24781.839844  424380000\n",
      "2020-05-27  25548.269531  25551.560547  25009.869141  25298.630859  411230000\n",
      "2020-05-28  25400.640625  25758.789062  25358.730469  25697.359375  377800000\n",
      "2020-05-29  25383.109375  25482.800781  25031.669922  25324.150391  527620000\n",
      "2020-06-01  25475.019531  25508.830078  25220.660156  25342.990234  338310000\n",
      "Warning: 'Adj Close' not found for ^DJI. Available columns: MultiIndex([( 'Close', '^DJI'),\n",
      "            (  'High', '^DJI'),\n",
      "            (   'Low', '^DJI'),\n",
      "            (  'Open', '^DJI'),\n",
      "            ('Volume', '^DJI')],\n",
      "           names=['Price', 'Ticker'])\n",
      "Error downloading USD/EUR: Thank you for using Alpha Vantage! Our standard API rate limit is 25 requests per day. Please subscribe to any of the premium plans at https://www.alphavantage.co/premium/ to instantly remove all daily rate limits.\n",
      "Error downloading USD/JPY: Thank you for using Alpha Vantage! Our standard API rate limit is 25 requests per day. Please subscribe to any of the premium plans at https://www.alphavantage.co/premium/ to instantly remove all daily rate limits.\n"
     ]
    },
    {
     "name": "stderr",
     "output_type": "stream",
     "text": [
      "[*********************100%***********************]  1 of 1 completed\n"
     ]
    },
    {
     "name": "stdout",
     "output_type": "stream",
     "text": [
      "Downloaded Gold Data:\n",
      "Price             Close         High          Low         Open  Volume\n",
      "Ticker             GC=F         GC=F         GC=F         GC=F    GC=F\n",
      "Date                                                                  \n",
      "2020-05-26  1704.800049  1726.400024  1704.800049  1726.400024      39\n",
      "2020-05-27  1710.300049  1710.300049  1685.599976  1685.599976  137416\n",
      "2020-05-28  1713.300049  1727.800049  1705.000000  1709.300049   23355\n",
      "2020-05-29  1736.900024  1738.300049  1715.099976  1718.800049    1526\n",
      "2020-06-01  1737.800049  1747.000000  1727.099976  1740.400024     871\n",
      "Warning: 'Adj Close' not found in gold data. Available columns: MultiIndex([( 'Close', 'GC=F'),\n",
      "            (  'High', 'GC=F'),\n",
      "            (   'Low', 'GC=F'),\n",
      "            (  'Open', 'GC=F'),\n",
      "            ('Volume', 'GC=F')],\n",
      "           names=['Price', 'Ticker'])\n"
     ]
    },
    {
     "name": "stderr",
     "output_type": "stream",
     "text": [
      "[*********************100%***********************]  1 of 1 completed"
     ]
    },
    {
     "name": "stdout",
     "output_type": "stream",
     "text": [
      "Downloading data for 2020-07-29 (2020-07-14 to 2020-08-13)\n",
      "Downloaded data for ^GSPC:\n",
      "Price             Close         High          Low         Open      Volume\n",
      "Ticker            ^GSPC        ^GSPC        ^GSPC        ^GSPC       ^GSPC\n",
      "Date                                                                      \n",
      "2020-07-14  3197.520020  3200.949951  3127.659912  3141.110107  4507140000\n",
      "2020-07-15  3226.560059  3238.280029  3200.760010  3225.979980  4686830000\n",
      "2020-07-16  3215.570068  3220.389893  3198.590088  3208.360107  3972860000\n",
      "2020-07-17  3224.729980  3233.520020  3205.649902  3224.209961  4012850000\n",
      "2020-07-20  3251.840088  3258.610107  3215.159912  3224.290039  3979340000\n",
      "Warning: 'Adj Close' not found for ^GSPC. Available columns: MultiIndex([( 'Close', '^GSPC'),\n",
      "            (  'High', '^GSPC'),\n",
      "            (   'Low', '^GSPC'),\n",
      "            (  'Open', '^GSPC'),\n",
      "            ('Volume', '^GSPC')],\n",
      "           names=['Price', 'Ticker'])\n"
     ]
    },
    {
     "name": "stderr",
     "output_type": "stream",
     "text": [
      "\n",
      "[*********************100%***********************]  1 of 1 completed\n",
      "[*********************100%***********************]  1 of 1 completed\n"
     ]
    },
    {
     "name": "stdout",
     "output_type": "stream",
     "text": [
      "Downloaded data for ^IXIC:\n",
      "Price              Close          High           Low          Open      Volume\n",
      "Ticker             ^IXIC         ^IXIC         ^IXIC         ^IXIC       ^IXIC\n",
      "Date                                                                          \n",
      "2020-07-14  10488.580078  10497.830078  10182.459961  10310.250000  4461770000\n",
      "2020-07-15  10550.490234  10604.669922  10420.540039  10576.719727  4647070000\n",
      "2020-07-16  10473.830078  10499.790039  10364.389648  10443.870117  4277760000\n",
      "2020-07-17  10503.190430  10532.620117  10421.209961  10500.519531  4361480000\n",
      "2020-07-20  10767.089844  10783.799805  10488.040039  10526.019531  4314630000\n",
      "Warning: 'Adj Close' not found for ^IXIC. Available columns: MultiIndex([( 'Close', '^IXIC'),\n",
      "            (  'High', '^IXIC'),\n",
      "            (   'Low', '^IXIC'),\n",
      "            (  'Open', '^IXIC'),\n",
      "            ('Volume', '^IXIC')],\n",
      "           names=['Price', 'Ticker'])\n",
      "Downloaded data for ^DJI:\n",
      "Price              Close          High           Low          Open     Volume\n",
      "Ticker              ^DJI          ^DJI          ^DJI          ^DJI       ^DJI\n",
      "Date                                                                         \n",
      "2020-07-14  26642.589844  26690.519531  25994.980469  26044.169922  401640000\n",
      "2020-07-15  26870.099609  27071.330078  26692.480469  27009.810547  384900000\n",
      "2020-07-16  26734.710938  26879.160156  26590.009766  26746.570312  287330000\n",
      "2020-07-17  26671.949219  26808.429688  26619.880859  26774.619141  296460000\n",
      "2020-07-20  26680.869141  26765.019531  26504.199219  26660.289062  309390000\n",
      "Warning: 'Adj Close' not found for ^DJI. Available columns: MultiIndex([( 'Close', '^DJI'),\n",
      "            (  'High', '^DJI'),\n",
      "            (   'Low', '^DJI'),\n",
      "            (  'Open', '^DJI'),\n",
      "            ('Volume', '^DJI')],\n",
      "           names=['Price', 'Ticker'])\n",
      "Error downloading USD/EUR: Thank you for using Alpha Vantage! Our standard API rate limit is 25 requests per day. Please subscribe to any of the premium plans at https://www.alphavantage.co/premium/ to instantly remove all daily rate limits.\n",
      "Error downloading USD/JPY: Thank you for using Alpha Vantage! Our standard API rate limit is 25 requests per day. Please subscribe to any of the premium plans at https://www.alphavantage.co/premium/ to instantly remove all daily rate limits.\n"
     ]
    },
    {
     "name": "stderr",
     "output_type": "stream",
     "text": [
      "[*********************100%***********************]  1 of 1 completed\n"
     ]
    },
    {
     "name": "stdout",
     "output_type": "stream",
     "text": [
      "Downloaded Gold Data:\n",
      "Price             Close         High          Low         Open Volume\n",
      "Ticker             GC=F         GC=F         GC=F         GC=F   GC=F\n",
      "Date                                                                 \n",
      "2020-07-14  1810.599976  1811.500000  1791.000000  1791.000000    339\n",
      "2020-07-15  1811.400024  1813.500000  1806.099976  1806.099976    167\n",
      "2020-07-16  1798.699951  1810.900024  1794.300049  1810.900024    146\n",
      "2020-07-17  1808.300049  1810.099976  1798.500000  1798.500000     24\n",
      "2020-07-20  1815.900024  1817.300049  1807.000000  1807.000000     89\n",
      "Warning: 'Adj Close' not found in gold data. Available columns: MultiIndex([( 'Close', 'GC=F'),\n",
      "            (  'High', 'GC=F'),\n",
      "            (   'Low', 'GC=F'),\n",
      "            (  'Open', 'GC=F'),\n",
      "            ('Volume', 'GC=F')],\n",
      "           names=['Price', 'Ticker'])\n"
     ]
    },
    {
     "name": "stderr",
     "output_type": "stream",
     "text": [
      "[*********************100%***********************]  1 of 1 completed"
     ]
    },
    {
     "name": "stdout",
     "output_type": "stream",
     "text": [
      "Downloading data for 2020-09-16 (2020-09-01 to 2020-10-01)\n",
      "Downloaded data for ^GSPC:\n",
      "Price             Close         High          Low         Open      Volume\n",
      "Ticker            ^GSPC        ^GSPC        ^GSPC        ^GSPC       ^GSPC\n",
      "Date                                                                      \n",
      "2020-09-01  3526.649902  3528.030029  3494.600098  3507.439941  4101490000\n",
      "2020-09-02  3580.840088  3588.110107  3535.229980  3543.760010  4295640000\n",
      "2020-09-03  3455.060059  3564.850098  3427.409912  3564.739990  4911830000\n",
      "2020-09-04  3426.959961  3479.149902  3349.629883  3453.600098  4438720000\n",
      "2020-09-08  3331.840088  3379.969971  3329.270020  3371.879883  4694330000\n",
      "Warning: 'Adj Close' not found for ^GSPC. Available columns: MultiIndex([( 'Close', '^GSPC'),\n",
      "            (  'High', '^GSPC'),\n",
      "            (   'Low', '^GSPC'),\n",
      "            (  'Open', '^GSPC'),\n",
      "            ('Volume', '^GSPC')],\n",
      "           names=['Price', 'Ticker'])\n"
     ]
    },
    {
     "name": "stderr",
     "output_type": "stream",
     "text": [
      "\n",
      "[*********************100%***********************]  1 of 1 completed\n",
      "[*********************100%***********************]  1 of 1 completed\n"
     ]
    },
    {
     "name": "stdout",
     "output_type": "stream",
     "text": [
      "Downloaded data for ^IXIC:\n",
      "Price              Close          High           Low          Open      Volume\n",
      "Ticker             ^IXIC         ^IXIC         ^IXIC         ^IXIC       ^IXIC\n",
      "Date                                                                          \n",
      "2020-09-01  11939.669922  11945.719727  11794.780273  11850.959961  3511060000\n",
      "2020-09-02  12056.440430  12074.059570  11836.179688  12047.259766  3982360000\n",
      "2020-09-03  11458.099609  11894.400391  11361.360352  11861.900391  4465010000\n",
      "2020-09-04  11313.129883  11531.179688  10875.870117  11396.240234  4284440000\n",
      "2020-09-08  10847.690430  11131.500000  10837.200195  10900.700195  3905420000\n",
      "Warning: 'Adj Close' not found for ^IXIC. Available columns: MultiIndex([( 'Close', '^IXIC'),\n",
      "            (  'High', '^IXIC'),\n",
      "            (   'Low', '^IXIC'),\n",
      "            (  'Open', '^IXIC'),\n",
      "            ('Volume', '^IXIC')],\n",
      "           names=['Price', 'Ticker'])\n",
      "Downloaded data for ^DJI:\n",
      "Price              Close          High           Low          Open     Volume\n",
      "Ticker              ^DJI          ^DJI          ^DJI          ^DJI       ^DJI\n",
      "Date                                                                         \n",
      "2020-09-01  28645.660156  28659.259766  28290.720703  28439.609375  423410000\n",
      "2020-09-02  29100.500000  29162.880859  28713.529297  28736.789062  539510000\n",
      "2020-09-03  28292.730469  29199.349609  28074.759766  29090.699219  650080000\n",
      "2020-09-04  28133.310547  28539.750000  27664.679688  28341.050781  694640000\n",
      "2020-09-08  27500.890625  27925.230469  27464.900391  27925.230469  580860000\n",
      "Warning: 'Adj Close' not found for ^DJI. Available columns: MultiIndex([( 'Close', '^DJI'),\n",
      "            (  'High', '^DJI'),\n",
      "            (   'Low', '^DJI'),\n",
      "            (  'Open', '^DJI'),\n",
      "            ('Volume', '^DJI')],\n",
      "           names=['Price', 'Ticker'])\n",
      "Error downloading USD/EUR: Thank you for using Alpha Vantage! Our standard API rate limit is 25 requests per day. Please subscribe to any of the premium plans at https://www.alphavantage.co/premium/ to instantly remove all daily rate limits.\n",
      "Error downloading USD/JPY: Thank you for using Alpha Vantage! Our standard API rate limit is 25 requests per day. Please subscribe to any of the premium plans at https://www.alphavantage.co/premium/ to instantly remove all daily rate limits.\n"
     ]
    },
    {
     "name": "stderr",
     "output_type": "stream",
     "text": [
      "[*********************100%***********************]  1 of 1 completed\n"
     ]
    },
    {
     "name": "stdout",
     "output_type": "stream",
     "text": [
      "Downloaded Gold Data:\n",
      "Price             Close         High          Low         Open Volume\n",
      "Ticker             GC=F         GC=F         GC=F         GC=F   GC=F\n",
      "Date                                                                 \n",
      "2020-09-01  1968.199951  1986.300049  1961.699951  1961.699951    186\n",
      "2020-09-02  1934.400024  1967.300049  1934.400024  1967.300049     71\n",
      "2020-09-03  1927.599976  1938.800049  1923.000000  1937.099976    179\n",
      "2020-09-04  1923.900024  1939.699951  1917.699951  1927.900024    607\n",
      "2020-09-08  1933.000000  1937.900024  1903.099976  1930.900024    271\n",
      "Warning: 'Adj Close' not found in gold data. Available columns: MultiIndex([( 'Close', 'GC=F'),\n",
      "            (  'High', 'GC=F'),\n",
      "            (   'Low', 'GC=F'),\n",
      "            (  'Open', 'GC=F'),\n",
      "            ('Volume', 'GC=F')],\n",
      "           names=['Price', 'Ticker'])\n"
     ]
    },
    {
     "name": "stderr",
     "output_type": "stream",
     "text": [
      "[*********************100%***********************]  1 of 1 completed"
     ]
    },
    {
     "name": "stdout",
     "output_type": "stream",
     "text": [
      "Downloading data for 2020-11-05 (2020-10-21 to 2020-11-20)\n",
      "Downloaded data for ^GSPC:\n",
      "Price             Close         High          Low         Open      Volume\n",
      "Ticker            ^GSPC        ^GSPC        ^GSPC        ^GSPC       ^GSPC\n",
      "Date                                                                      \n",
      "2020-10-21  3435.560059  3464.860107  3433.060059  3439.909912  4103960000\n",
      "2020-10-22  3453.489990  3460.530029  3415.340088  3438.500000  4172060000\n",
      "2020-10-23  3465.389893  3466.459961  3440.449951  3464.899902  3651600000\n",
      "2020-10-26  3400.969971  3441.419922  3364.860107  3441.419922  4002210000\n",
      "2020-10-27  3390.679932  3409.510010  3388.709961  3403.149902  3962400000\n",
      "Warning: 'Adj Close' not found for ^GSPC. Available columns: MultiIndex([( 'Close', '^GSPC'),\n",
      "            (  'High', '^GSPC'),\n",
      "            (   'Low', '^GSPC'),\n",
      "            (  'Open', '^GSPC'),\n",
      "            ('Volume', '^GSPC')],\n",
      "           names=['Price', 'Ticker'])\n"
     ]
    },
    {
     "name": "stderr",
     "output_type": "stream",
     "text": [
      "\n",
      "[*********************100%***********************]  1 of 1 completed\n",
      "[*********************100%***********************]  1 of 1 completed\n"
     ]
    },
    {
     "name": "stdout",
     "output_type": "stream",
     "text": [
      "Downloaded data for ^IXIC:\n",
      "Price              Close          High           Low          Open      Volume\n",
      "Ticker             ^IXIC         ^IXIC         ^IXIC         ^IXIC       ^IXIC\n",
      "Date                                                                          \n",
      "2020-10-21  11484.690430  11613.790039  11476.080078  11530.389648  3467310000\n",
      "2020-10-22  11506.009766  11548.769531  11369.290039  11526.969727  3434040000\n",
      "2020-10-23  11548.280273  11548.849609  11434.860352  11536.009766  3145570000\n",
      "2020-10-26  11358.940430  11545.629883  11221.059570  11440.639648  3205100000\n",
      "2020-10-27  11431.349609  11465.059570  11361.860352  11409.339844  3104770000\n",
      "Warning: 'Adj Close' not found for ^IXIC. Available columns: MultiIndex([( 'Close', '^IXIC'),\n",
      "            (  'High', '^IXIC'),\n",
      "            (   'Low', '^IXIC'),\n",
      "            (  'Open', '^IXIC'),\n",
      "            ('Volume', '^IXIC')],\n",
      "           names=['Price', 'Ticker'])\n",
      "Downloaded data for ^DJI:\n",
      "Price              Close          High           Low          Open     Volume\n",
      "Ticker              ^DJI          ^DJI          ^DJI          ^DJI       ^DJI\n",
      "Date                                                                         \n",
      "2020-10-21  28210.820312  28450.640625  28196.390625  28270.660156  299420000\n",
      "2020-10-22  28363.660156  28421.310547  28040.179688  28197.419922  330320000\n",
      "2020-10-23  28335.570312  28436.519531  28149.820312  28409.650391  347300000\n",
      "2020-10-26  27685.380859  28185.820312  27370.160156  28185.820312  404150000\n",
      "2020-10-27  27463.189453  27707.689453  27457.960938  27651.179688  366400000\n",
      "Warning: 'Adj Close' not found for ^DJI. Available columns: MultiIndex([( 'Close', '^DJI'),\n",
      "            (  'High', '^DJI'),\n",
      "            (   'Low', '^DJI'),\n",
      "            (  'Open', '^DJI'),\n",
      "            ('Volume', '^DJI')],\n",
      "           names=['Price', 'Ticker'])\n",
      "Error downloading USD/EUR: Thank you for using Alpha Vantage! Our standard API rate limit is 25 requests per day. Please subscribe to any of the premium plans at https://www.alphavantage.co/premium/ to instantly remove all daily rate limits.\n",
      "Error downloading USD/JPY: Thank you for using Alpha Vantage! Our standard API rate limit is 25 requests per day. Please subscribe to any of the premium plans at https://www.alphavantage.co/premium/ to instantly remove all daily rate limits.\n"
     ]
    },
    {
     "name": "stderr",
     "output_type": "stream",
     "text": [
      "[*********************100%***********************]  1 of 1 completed\n"
     ]
    },
    {
     "name": "stdout",
     "output_type": "stream",
     "text": [
      "Downloaded Gold Data:\n",
      "Price             Close         High          Low         Open Volume\n",
      "Ticker             GC=F         GC=F         GC=F         GC=F   GC=F\n",
      "Date                                                                 \n",
      "2020-10-21  1924.599976  1927.300049  1913.599976  1913.599976   1202\n",
      "2020-10-22  1901.099976  1924.300049  1898.199951  1924.300049    899\n",
      "2020-10-23  1902.000000  1913.300049  1896.199951  1899.900024    287\n",
      "2020-10-26  1902.699951  1907.000000  1893.500000  1895.500000    242\n",
      "2020-10-27  1908.800049  1908.800049  1904.400024  1904.599976    176\n",
      "Warning: 'Adj Close' not found in gold data. Available columns: MultiIndex([( 'Close', 'GC=F'),\n",
      "            (  'High', 'GC=F'),\n",
      "            (   'Low', 'GC=F'),\n",
      "            (  'Open', 'GC=F'),\n",
      "            ('Volume', 'GC=F')],\n",
      "           names=['Price', 'Ticker'])\n"
     ]
    },
    {
     "name": "stderr",
     "output_type": "stream",
     "text": [
      "[*********************100%***********************]  1 of 1 completed"
     ]
    },
    {
     "name": "stdout",
     "output_type": "stream",
     "text": [
      "Downloading data for 2020-12-16 (2020-12-01 to 2020-12-31)\n",
      "Downloaded data for ^GSPC:\n",
      "Price             Close         High          Low         Open      Volume\n",
      "Ticker            ^GSPC        ^GSPC        ^GSPC        ^GSPC       ^GSPC\n",
      "Date                                                                      \n",
      "2020-12-01  3662.449951  3678.449951  3645.870117  3645.870117  5418480000\n",
      "2020-12-02  3669.010010  3670.959961  3644.840088  3653.780029  5041250000\n",
      "2020-12-03  3666.719971  3682.729980  3657.169922  3668.280029  5065340000\n",
      "2020-12-04  3699.120117  3699.199951  3670.939941  3670.939941  5099620000\n",
      "2020-12-07  3691.959961  3697.409912  3678.879883  3694.729980  4804500000\n",
      "Warning: 'Adj Close' not found for ^GSPC. Available columns: MultiIndex([( 'Close', '^GSPC'),\n",
      "            (  'High', '^GSPC'),\n",
      "            (   'Low', '^GSPC'),\n",
      "            (  'Open', '^GSPC'),\n",
      "            ('Volume', '^GSPC')],\n",
      "           names=['Price', 'Ticker'])\n"
     ]
    },
    {
     "name": "stderr",
     "output_type": "stream",
     "text": [
      "\n",
      "[*********************100%***********************]  1 of 1 completed\n",
      "[*********************100%***********************]  1 of 1 completed\n"
     ]
    },
    {
     "name": "stdout",
     "output_type": "stream",
     "text": [
      "Downloaded data for ^IXIC:\n",
      "Price              Close          High           Low          Open      Volume\n",
      "Ticker             ^IXIC         ^IXIC         ^IXIC         ^IXIC       ^IXIC\n",
      "Date                                                                          \n",
      "2020-12-01  12355.110352  12405.790039  12263.929688  12313.360352  6512420000\n",
      "2020-12-02  12349.370117  12360.059570  12217.349609  12285.750000  5194960000\n",
      "2020-12-03  12377.179688  12439.019531  12356.990234  12369.259766  5209980000\n",
      "2020-12-04  12464.230469  12464.230469  12376.440430  12399.320312  5086900000\n",
      "2020-12-07  12519.950195  12536.230469  12460.549805  12461.000000  4771820000\n",
      "Warning: 'Adj Close' not found for ^IXIC. Available columns: MultiIndex([( 'Close', '^IXIC'),\n",
      "            (  'High', '^IXIC'),\n",
      "            (   'Low', '^IXIC'),\n",
      "            (  'Open', '^IXIC'),\n",
      "            ('Volume', '^IXIC')],\n",
      "           names=['Price', 'Ticker'])\n",
      "Downloaded data for ^DJI:\n",
      "Price              Close          High           Low          Open     Volume\n",
      "Ticker              ^DJI          ^DJI          ^DJI          ^DJI       ^DJI\n",
      "Date                                                                         \n",
      "2020-12-01  29823.919922  30083.310547  29797.500000  29797.500000  429510000\n",
      "2020-12-02  29883.789062  29902.509766  29599.289062  29695.089844  385280000\n",
      "2020-12-03  29969.519531  30110.880859  29877.269531  29920.830078  405680000\n",
      "2020-12-04  30218.259766  30218.259766  29989.560547  29989.560547  356590000\n",
      "2020-12-07  30069.789062  30233.029297  29967.220703  30233.029297  365810000\n",
      "Warning: 'Adj Close' not found for ^DJI. Available columns: MultiIndex([( 'Close', '^DJI'),\n",
      "            (  'High', '^DJI'),\n",
      "            (   'Low', '^DJI'),\n",
      "            (  'Open', '^DJI'),\n",
      "            ('Volume', '^DJI')],\n",
      "           names=['Price', 'Ticker'])\n",
      "Error downloading USD/EUR: Thank you for using Alpha Vantage! Our standard API rate limit is 25 requests per day. Please subscribe to any of the premium plans at https://www.alphavantage.co/premium/ to instantly remove all daily rate limits.\n",
      "Error downloading USD/JPY: Thank you for using Alpha Vantage! Our standard API rate limit is 25 requests per day. Please subscribe to any of the premium plans at https://www.alphavantage.co/premium/ to instantly remove all daily rate limits.\n"
     ]
    },
    {
     "name": "stderr",
     "output_type": "stream",
     "text": [
      "[*********************100%***********************]  1 of 1 completed\n"
     ]
    },
    {
     "name": "stdout",
     "output_type": "stream",
     "text": [
      "Downloaded Gold Data:\n",
      "Price             Close         High          Low         Open Volume\n",
      "Ticker             GC=F         GC=F         GC=F         GC=F   GC=F\n",
      "Date                                                                 \n",
      "2020-12-01  1814.099976  1815.900024  1774.900024  1775.000000   1859\n",
      "2020-12-02  1825.699951  1830.000000  1807.800049  1811.300049    771\n",
      "2020-12-03  1836.800049  1842.000000  1825.300049  1829.199951   1765\n",
      "2020-12-04  1835.900024  1847.599976  1828.199951  1840.699951   1213\n",
      "2020-12-07  1861.800049  1866.900024  1820.800049  1836.500000   1427\n",
      "Warning: 'Adj Close' not found in gold data. Available columns: MultiIndex([( 'Close', 'GC=F'),\n",
      "            (  'High', 'GC=F'),\n",
      "            (   'Low', 'GC=F'),\n",
      "            (  'Open', 'GC=F'),\n",
      "            ('Volume', 'GC=F')],\n",
      "           names=['Price', 'Ticker'])\n"
     ]
    },
    {
     "name": "stderr",
     "output_type": "stream",
     "text": [
      "[*********************100%***********************]  1 of 1 completed"
     ]
    },
    {
     "name": "stdout",
     "output_type": "stream",
     "text": [
      "Downloading data for 2021-01-27 (2021-01-12 to 2021-02-11)\n",
      "Downloaded data for ^GSPC:\n",
      "Price             Close         High          Low         Open      Volume\n",
      "Ticker            ^GSPC        ^GSPC        ^GSPC        ^GSPC       ^GSPC\n",
      "Date                                                                      \n",
      "2021-01-12  3801.189941  3810.780029  3776.510010  3801.620117  4994950000\n",
      "2021-01-13  3809.840088  3820.959961  3791.500000  3802.229980  4602510000\n",
      "2021-01-14  3795.540039  3823.600098  3792.860107  3814.979980  5198480000\n",
      "2021-01-15  3768.250000  3788.729980  3749.620117  3788.729980  5369820000\n",
      "2021-01-19  3798.909912  3804.530029  3780.370117  3781.879883  5014440000\n",
      "Warning: 'Adj Close' not found for ^GSPC. Available columns: MultiIndex([( 'Close', '^GSPC'),\n",
      "            (  'High', '^GSPC'),\n",
      "            (   'Low', '^GSPC'),\n",
      "            (  'Open', '^GSPC'),\n",
      "            ('Volume', '^GSPC')],\n",
      "           names=['Price', 'Ticker'])\n"
     ]
    },
    {
     "name": "stderr",
     "output_type": "stream",
     "text": [
      "\n",
      "[*********************100%***********************]  1 of 1 completed\n",
      "[*********************100%***********************]  1 of 1 completed\n"
     ]
    },
    {
     "name": "stdout",
     "output_type": "stream",
     "text": [
      "Downloaded data for ^IXIC:\n",
      "Price              Close          High           Low          Open      Volume\n",
      "Ticker             ^IXIC         ^IXIC         ^IXIC         ^IXIC       ^IXIC\n",
      "Date                                                                          \n",
      "2021-01-12  13072.429688  13105.040039  12963.919922  13062.059570  7264070000\n",
      "2021-01-13  13128.950195  13171.150391  13051.059570  13088.009766  7104810000\n",
      "2021-01-14  13112.639648  13220.160156  13098.410156  13174.750000  6734100000\n",
      "2021-01-15  12998.500000  13139.830078  12949.759766  13099.900391  6458360000\n",
      "2021-01-19  13197.179688  13206.860352  13078.700195  13132.730469  6297860000\n",
      "Warning: 'Adj Close' not found for ^IXIC. Available columns: MultiIndex([( 'Close', '^IXIC'),\n",
      "            (  'High', '^IXIC'),\n",
      "            (   'Low', '^IXIC'),\n",
      "            (  'Open', '^IXIC'),\n",
      "            ('Volume', '^IXIC')],\n",
      "           names=['Price', 'Ticker'])\n",
      "Downloaded data for ^DJI:\n",
      "Price              Close          High           Low          Open     Volume\n",
      "Ticker              ^DJI          ^DJI          ^DJI          ^DJI       ^DJI\n",
      "Date                                                                         \n",
      "2021-01-12  31068.689453  31114.560547  30888.759766  31015.009766  362620000\n",
      "2021-01-13  31060.470703  31153.369141  30992.050781  31084.880859  413250000\n",
      "2021-01-14  30991.519531  31223.779297  30982.240234  31085.669922  427810000\n",
      "2021-01-15  30814.259766  30941.980469  30612.669922  30926.769531  433000000\n",
      "2021-01-19  30930.519531  31086.619141  30865.029297  30887.419922  386400000\n",
      "Warning: 'Adj Close' not found for ^DJI. Available columns: MultiIndex([( 'Close', '^DJI'),\n",
      "            (  'High', '^DJI'),\n",
      "            (   'Low', '^DJI'),\n",
      "            (  'Open', '^DJI'),\n",
      "            ('Volume', '^DJI')],\n",
      "           names=['Price', 'Ticker'])\n",
      "Error downloading USD/EUR: Thank you for using Alpha Vantage! Our standard API rate limit is 25 requests per day. Please subscribe to any of the premium plans at https://www.alphavantage.co/premium/ to instantly remove all daily rate limits.\n",
      "Error downloading USD/JPY: Thank you for using Alpha Vantage! Our standard API rate limit is 25 requests per day. Please subscribe to any of the premium plans at https://www.alphavantage.co/premium/ to instantly remove all daily rate limits.\n"
     ]
    },
    {
     "name": "stderr",
     "output_type": "stream",
     "text": [
      "[*********************100%***********************]  1 of 1 completed\n"
     ]
    },
    {
     "name": "stdout",
     "output_type": "stream",
     "text": [
      "Downloaded Gold Data:\n",
      "Price             Close         High          Low         Open Volume\n",
      "Ticker             GC=F         GC=F         GC=F         GC=F   GC=F\n",
      "Date                                                                 \n",
      "2021-01-12  1842.900024  1859.699951  1839.400024  1849.000000    176\n",
      "2021-01-13  1853.599976  1858.599976  1853.599976  1858.000000    189\n",
      "2021-01-14  1850.300049  1850.699951  1836.699951  1836.699951    149\n",
      "2021-01-15  1829.300049  1829.400024  1825.000000  1829.400024     31\n",
      "2021-01-19  1839.500000  1842.900024  1802.000000  1802.000000     13\n",
      "Warning: 'Adj Close' not found in gold data. Available columns: MultiIndex([( 'Close', 'GC=F'),\n",
      "            (  'High', 'GC=F'),\n",
      "            (   'Low', 'GC=F'),\n",
      "            (  'Open', 'GC=F'),\n",
      "            ('Volume', 'GC=F')],\n",
      "           names=['Price', 'Ticker'])\n"
     ]
    },
    {
     "name": "stderr",
     "output_type": "stream",
     "text": [
      "[*********************100%***********************]  1 of 1 completed"
     ]
    },
    {
     "name": "stdout",
     "output_type": "stream",
     "text": [
      "Downloading data for 2021-03-17 (2021-03-02 to 2021-04-01)\n",
      "Downloaded data for ^GSPC:\n",
      "Price             Close         High          Low         Open      Volume\n",
      "Ticker            ^GSPC        ^GSPC        ^GSPC        ^GSPC       ^GSPC\n",
      "Date                                                                      \n",
      "2021-03-02  3870.290039  3906.409912  3868.570068  3903.639893  5536010000\n",
      "2021-03-03  3819.719971  3874.469971  3818.860107  3863.989990  6173660000\n",
      "2021-03-04  3768.469971  3843.669922  3723.340088  3818.530029  7195400000\n",
      "2021-03-05  3841.939941  3851.689941  3730.189941  3793.580078  6851070000\n",
      "2021-03-08  3821.350098  3881.060059  3819.250000  3844.389893  5871710000\n",
      "Warning: 'Adj Close' not found for ^GSPC. Available columns: MultiIndex([( 'Close', '^GSPC'),\n",
      "            (  'High', '^GSPC'),\n",
      "            (   'Low', '^GSPC'),\n",
      "            (  'Open', '^GSPC'),\n",
      "            ('Volume', '^GSPC')],\n",
      "           names=['Price', 'Ticker'])\n"
     ]
    },
    {
     "name": "stderr",
     "output_type": "stream",
     "text": [
      "\n",
      "[*********************100%***********************]  1 of 1 completed\n",
      "[*********************100%***********************]  1 of 1 completed\n"
     ]
    },
    {
     "name": "stdout",
     "output_type": "stream",
     "text": [
      "Downloaded data for ^IXIC:\n",
      "Price              Close          High           Low          Open      Volume\n",
      "Ticker             ^IXIC         ^IXIC         ^IXIC         ^IXIC       ^IXIC\n",
      "Date                                                                          \n",
      "2021-03-02  13358.790039  13601.330078  13352.000000  13599.450195  4948140000\n",
      "2021-03-03  12997.750000  13372.519531  12995.070312  13336.250000  5529980000\n",
      "2021-03-04  12723.469727  13068.709961  12553.959961  12953.990234  7864380000\n",
      "2021-03-05  12920.150391  12941.209961  12397.049805  12860.040039  7725200000\n",
      "2021-03-08  12609.160156  13001.000000  12599.230469  12904.259766  6010230000\n",
      "Warning: 'Adj Close' not found for ^IXIC. Available columns: MultiIndex([( 'Close', '^IXIC'),\n",
      "            (  'High', '^IXIC'),\n",
      "            (   'Low', '^IXIC'),\n",
      "            (  'Open', '^IXIC'),\n",
      "            ('Volume', '^IXIC')],\n",
      "           names=['Price', 'Ticker'])\n",
      "Downloaded data for ^DJI:\n",
      "Price              Close          High           Low          Open     Volume\n",
      "Ticker              ^DJI          ^DJI          ^DJI          ^DJI       ^DJI\n",
      "Date                                                                         \n",
      "2021-03-02  31391.519531  31623.269531  31377.160156  31535.369141  337270000\n",
      "2021-03-03  31270.089844  31563.310547  31260.140625  31352.960938  409660000\n",
      "2021-03-04  30924.140625  31461.970703  30547.529297  31289.009766  537850000\n",
      "2021-03-05  31496.300781  31580.330078  30766.810547  31029.179688  501810000\n",
      "2021-03-08  31802.439453  32148.039062  31512.150391  31512.150391  496980000\n",
      "Warning: 'Adj Close' not found for ^DJI. Available columns: MultiIndex([( 'Close', '^DJI'),\n",
      "            (  'High', '^DJI'),\n",
      "            (   'Low', '^DJI'),\n",
      "            (  'Open', '^DJI'),\n",
      "            ('Volume', '^DJI')],\n",
      "           names=['Price', 'Ticker'])\n",
      "Error downloading USD/EUR: Thank you for using Alpha Vantage! Our standard API rate limit is 25 requests per day. Please subscribe to any of the premium plans at https://www.alphavantage.co/premium/ to instantly remove all daily rate limits.\n",
      "Error downloading USD/JPY: Thank you for using Alpha Vantage! Our standard API rate limit is 25 requests per day. Please subscribe to any of the premium plans at https://www.alphavantage.co/premium/ to instantly remove all daily rate limits.\n"
     ]
    },
    {
     "name": "stderr",
     "output_type": "stream",
     "text": [
      "[*********************100%***********************]  1 of 1 completed\n"
     ]
    },
    {
     "name": "stdout",
     "output_type": "stream",
     "text": [
      "Downloaded Gold Data:\n",
      "Price             Close         High          Low         Open Volume\n",
      "Ticker             GC=F         GC=F         GC=F         GC=F   GC=F\n",
      "Date                                                                 \n",
      "2021-03-02  1733.099976  1733.099976  1708.699951  1709.400024    867\n",
      "2021-03-03  1715.300049  1732.400024  1703.500000  1730.000000    501\n",
      "2021-03-04  1700.199951  1717.400024  1700.199951  1706.500000    521\n",
      "2021-03-05  1698.000000  1701.000000  1685.000000  1690.599976    302\n",
      "2021-03-08  1677.699951  1705.400024  1673.699951  1704.699951   1290\n",
      "Warning: 'Adj Close' not found in gold data. Available columns: MultiIndex([( 'Close', 'GC=F'),\n",
      "            (  'High', 'GC=F'),\n",
      "            (   'Low', 'GC=F'),\n",
      "            (  'Open', 'GC=F'),\n",
      "            ('Volume', 'GC=F')],\n",
      "           names=['Price', 'Ticker'])\n"
     ]
    },
    {
     "name": "stderr",
     "output_type": "stream",
     "text": [
      "[*********************100%***********************]  1 of 1 completed"
     ]
    },
    {
     "name": "stdout",
     "output_type": "stream",
     "text": [
      "Downloading data for 2021-04-28 (2021-04-13 to 2021-05-13)\n",
      "Downloaded data for ^GSPC:\n",
      "Price             Close         High          Low         Open      Volume\n",
      "Ticker            ^GSPC        ^GSPC        ^GSPC        ^GSPC       ^GSPC\n",
      "Date                                                                      \n",
      "2021-04-13  4141.589844  4148.000000  4124.430176  4130.100098  3734720000\n",
      "2021-04-14  4124.660156  4151.689941  4120.870117  4141.580078  3985350000\n",
      "2021-04-15  4170.419922  4173.490234  4139.759766  4139.759766  4033420000\n",
      "2021-04-16  4185.470215  4191.310059  4170.750000  4174.140137  4163820000\n",
      "2021-04-19  4163.259766  4180.810059  4150.470215  4179.799805  3810290000\n",
      "Warning: 'Adj Close' not found for ^GSPC. Available columns: MultiIndex([( 'Close', '^GSPC'),\n",
      "            (  'High', '^GSPC'),\n",
      "            (   'Low', '^GSPC'),\n",
      "            (  'Open', '^GSPC'),\n",
      "            ('Volume', '^GSPC')],\n",
      "           names=['Price', 'Ticker'])\n"
     ]
    },
    {
     "name": "stderr",
     "output_type": "stream",
     "text": [
      "\n",
      "[*********************100%***********************]  1 of 1 completed\n",
      "[*********************100%***********************]  1 of 1 completed\n"
     ]
    },
    {
     "name": "stdout",
     "output_type": "stream",
     "text": [
      "Downloaded data for ^IXIC:\n",
      "Price              Close          High           Low          Open      Volume\n",
      "Ticker             ^IXIC         ^IXIC         ^IXIC         ^IXIC       ^IXIC\n",
      "Date                                                                          \n",
      "2021-04-13  13996.099609  14011.509766  13902.450195  13902.450195  4219360000\n",
      "2021-04-14  13857.839844  14033.629883  13839.040039  14004.080078  4120770000\n",
      "2021-04-15  14038.759766  14049.129883  13970.419922  13983.230469  4406880000\n",
      "2021-04-16  14052.339844  14062.500000  13977.049805  14059.110352  4427780000\n",
      "2021-04-19  13914.769531  14041.790039  13842.570312  13984.580078  4379610000\n",
      "Warning: 'Adj Close' not found for ^IXIC. Available columns: MultiIndex([( 'Close', '^IXIC'),\n",
      "            (  'High', '^IXIC'),\n",
      "            (   'Low', '^IXIC'),\n",
      "            (  'Open', '^IXIC'),\n",
      "            ('Volume', '^IXIC')],\n",
      "           names=['Price', 'Ticker'])\n",
      "Downloaded data for ^DJI:\n",
      "Price              Close          High           Low          Open     Volume\n",
      "Ticker              ^DJI          ^DJI          ^DJI          ^DJI       ^DJI\n",
      "Date                                                                         \n",
      "2021-04-13  33677.269531  33741.640625  33545.839844  33721.160156  324480000\n",
      "2021-04-14  33730.890625  33911.250000  33668.949219  33668.949219  315330000\n",
      "2021-04-15  34035.988281  34068.730469  33788.531250  33788.531250  319680000\n",
      "2021-04-16  34200.671875  34256.750000  34058.160156  34058.160156  343760000\n",
      "2021-04-19  34077.628906  34182.378906  33980.558594  34182.378906  312540000\n",
      "Warning: 'Adj Close' not found for ^DJI. Available columns: MultiIndex([( 'Close', '^DJI'),\n",
      "            (  'High', '^DJI'),\n",
      "            (   'Low', '^DJI'),\n",
      "            (  'Open', '^DJI'),\n",
      "            ('Volume', '^DJI')],\n",
      "           names=['Price', 'Ticker'])\n",
      "Error downloading USD/EUR: Thank you for using Alpha Vantage! Our standard API rate limit is 25 requests per day. Please subscribe to any of the premium plans at https://www.alphavantage.co/premium/ to instantly remove all daily rate limits.\n",
      "Error downloading USD/JPY: Thank you for using Alpha Vantage! Our standard API rate limit is 25 requests per day. Please subscribe to any of the premium plans at https://www.alphavantage.co/premium/ to instantly remove all daily rate limits.\n"
     ]
    },
    {
     "name": "stderr",
     "output_type": "stream",
     "text": [
      "[*********************100%***********************]  1 of 1 completed\n"
     ]
    },
    {
     "name": "stdout",
     "output_type": "stream",
     "text": [
      "Downloaded Gold Data:\n",
      "Price             Close         High          Low         Open Volume\n",
      "Ticker             GC=F         GC=F         GC=F         GC=F   GC=F\n",
      "Date                                                                 \n",
      "2021-04-13  1746.199951  1746.900024  1722.099976  1733.800049    367\n",
      "2021-04-14  1734.900024  1745.900024  1732.699951  1741.300049   1037\n",
      "2021-04-15  1765.400024  1767.900024  1740.099976  1740.099976    368\n",
      "2021-04-16  1779.000000  1779.500000  1770.099976  1770.400024    625\n",
      "2021-04-19  1769.400024  1788.500000  1769.400024  1782.099976    144\n",
      "Warning: 'Adj Close' not found in gold data. Available columns: MultiIndex([( 'Close', 'GC=F'),\n",
      "            (  'High', 'GC=F'),\n",
      "            (   'Low', 'GC=F'),\n",
      "            (  'Open', 'GC=F'),\n",
      "            ('Volume', 'GC=F')],\n",
      "           names=['Price', 'Ticker'])\n"
     ]
    },
    {
     "name": "stderr",
     "output_type": "stream",
     "text": [
      "[*********************100%***********************]  1 of 1 completed"
     ]
    },
    {
     "name": "stdout",
     "output_type": "stream",
     "text": [
      "Downloading data for 2021-06-16 (2021-06-01 to 2021-07-01)\n",
      "Downloaded data for ^GSPC:\n",
      "Price             Close         High          Low         Open      Volume\n",
      "Ticker            ^GSPC        ^GSPC        ^GSPC        ^GSPC       ^GSPC\n",
      "Date                                                                      \n",
      "2021-06-01  4202.040039  4234.120117  4197.589844  4216.520020  5074670000\n",
      "2021-06-02  4208.120117  4217.370117  4198.270020  4206.819824  5833670000\n",
      "2021-06-03  4192.850098  4204.390137  4167.930176  4191.430176  5587970000\n",
      "2021-06-04  4229.890137  4233.450195  4206.049805  4206.049805  4139790000\n",
      "2021-06-07  4226.520020  4232.339844  4215.660156  4229.339844  4476920000\n",
      "Warning: 'Adj Close' not found for ^GSPC. Available columns: MultiIndex([( 'Close', '^GSPC'),\n",
      "            (  'High', '^GSPC'),\n",
      "            (   'Low', '^GSPC'),\n",
      "            (  'Open', '^GSPC'),\n",
      "            ('Volume', '^GSPC')],\n",
      "           names=['Price', 'Ticker'])\n"
     ]
    },
    {
     "name": "stderr",
     "output_type": "stream",
     "text": [
      "\n",
      "[*********************100%***********************]  1 of 1 completed\n",
      "[*********************100%***********************]  1 of 1 completed\n"
     ]
    },
    {
     "name": "stdout",
     "output_type": "stream",
     "text": [
      "Downloaded data for ^IXIC:\n",
      "Price              Close          High           Low          Open      Volume\n",
      "Ticker             ^IXIC         ^IXIC         ^IXIC         ^IXIC       ^IXIC\n",
      "Date                                                                          \n",
      "2021-06-01  13736.480469  13836.169922  13678.769531  13829.059570  4186280000\n",
      "2021-06-02  13756.330078  13775.889648  13689.740234  13743.240234  5097630000\n",
      "2021-06-03  13614.509766  13684.129883  13548.929688  13655.750000  5396250000\n",
      "2021-06-04  13814.490234  13826.820312  13692.009766  13697.250000  4360710000\n",
      "2021-06-07  13881.719727  13889.110352  13784.889648  13802.820312  4639210000\n",
      "Warning: 'Adj Close' not found for ^IXIC. Available columns: MultiIndex([( 'Close', '^IXIC'),\n",
      "            (  'High', '^IXIC'),\n",
      "            (   'Low', '^IXIC'),\n",
      "            (  'Open', '^IXIC'),\n",
      "            ('Volume', '^IXIC')],\n",
      "           names=['Price', 'Ticker'])\n",
      "Downloaded data for ^DJI:\n",
      "Price              Close          High           Low          Open     Volume\n",
      "Ticker              ^DJI          ^DJI          ^DJI          ^DJI       ^DJI\n",
      "Date                                                                         \n",
      "2021-06-01  34575.308594  34849.320312  34542.871094  34584.191406  287700000\n",
      "2021-06-02  34600.378906  34706.648438  34545.960938  34614.621094  263810000\n",
      "2021-06-03  34577.039062  34667.410156  34334.410156  34550.308594  297380000\n",
      "2021-06-04  34756.390625  34772.121094  34618.691406  34618.691406  270050000\n",
      "2021-06-07  34630.238281  34820.910156  34574.511719  34766.199219  259120000\n",
      "Warning: 'Adj Close' not found for ^DJI. Available columns: MultiIndex([( 'Close', '^DJI'),\n",
      "            (  'High', '^DJI'),\n",
      "            (   'Low', '^DJI'),\n",
      "            (  'Open', '^DJI'),\n",
      "            ('Volume', '^DJI')],\n",
      "           names=['Price', 'Ticker'])\n",
      "Error downloading USD/EUR: Thank you for using Alpha Vantage! Our standard API rate limit is 25 requests per day. Please subscribe to any of the premium plans at https://www.alphavantage.co/premium/ to instantly remove all daily rate limits.\n",
      "Error downloading USD/JPY: Thank you for using Alpha Vantage! Our standard API rate limit is 25 requests per day. Please subscribe to any of the premium plans at https://www.alphavantage.co/premium/ to instantly remove all daily rate limits.\n"
     ]
    },
    {
     "name": "stderr",
     "output_type": "stream",
     "text": [
      "[*********************100%***********************]  1 of 1 completed\n"
     ]
    },
    {
     "name": "stdout",
     "output_type": "stream",
     "text": [
      "Downloaded Gold Data:\n",
      "Price             Close         High          Low         Open Volume\n",
      "Ticker             GC=F         GC=F         GC=F         GC=F   GC=F\n",
      "Date                                                                 \n",
      "2021-06-01  1902.900024  1916.199951  1892.800049  1905.099976    640\n",
      "2021-06-02  1907.500000  1908.800049  1896.000000  1899.199951   1267\n",
      "2021-06-03  1871.199951  1908.800049  1865.000000  1908.800049   1021\n",
      "2021-06-04  1889.800049  1895.500000  1854.000000  1869.300049    367\n",
      "2021-06-07  1896.800049  1899.699951  1883.199951  1890.500000     87\n",
      "Warning: 'Adj Close' not found in gold data. Available columns: MultiIndex([( 'Close', 'GC=F'),\n",
      "            (  'High', 'GC=F'),\n",
      "            (   'Low', 'GC=F'),\n",
      "            (  'Open', 'GC=F'),\n",
      "            ('Volume', 'GC=F')],\n",
      "           names=['Price', 'Ticker'])\n"
     ]
    },
    {
     "name": "stderr",
     "output_type": "stream",
     "text": [
      "[*********************100%***********************]  1 of 1 completed"
     ]
    },
    {
     "name": "stdout",
     "output_type": "stream",
     "text": [
      "Downloading data for 2021-07-28 (2021-07-13 to 2021-08-12)\n",
      "Downloaded data for ^GSPC:\n",
      "Price             Close         High          Low         Open      Volume\n",
      "Ticker            ^GSPC        ^GSPC        ^GSPC        ^GSPC       ^GSPC\n",
      "Date                                                                      \n",
      "2021-07-13  4369.209961  4392.370117  4366.919922  4381.069824  3695430000\n",
      "2021-07-14  4374.299805  4393.680176  4362.359863  4380.109863  4006370000\n",
      "2021-07-15  4360.029785  4369.020020  4340.700195  4369.020020  3905230000\n",
      "2021-07-16  4327.160156  4375.089844  4322.529785  4367.430176  3985700000\n",
      "2021-07-19  4258.490234  4296.399902  4233.129883  4296.399902  5157660000\n",
      "Warning: 'Adj Close' not found for ^GSPC. Available columns: MultiIndex([( 'Close', '^GSPC'),\n",
      "            (  'High', '^GSPC'),\n",
      "            (   'Low', '^GSPC'),\n",
      "            (  'Open', '^GSPC'),\n",
      "            ('Volume', '^GSPC')],\n",
      "           names=['Price', 'Ticker'])\n"
     ]
    },
    {
     "name": "stderr",
     "output_type": "stream",
     "text": [
      "\n",
      "[*********************100%***********************]  1 of 1 completed\n",
      "[*********************100%***********************]  1 of 1 completed\n"
     ]
    },
    {
     "name": "stdout",
     "output_type": "stream",
     "text": [
      "Downloaded data for ^IXIC:\n",
      "Price              Close          High           Low          Open      Volume\n",
      "Ticker             ^IXIC         ^IXIC         ^IXIC         ^IXIC       ^IXIC\n",
      "Date                                                                          \n",
      "2021-07-13  14677.650391  14803.679688  14660.190430  14715.129883  4583460000\n",
      "2021-07-14  14644.950195  14790.549805  14632.950195  14780.900391  4496220000\n",
      "2021-07-15  14543.129883  14650.370117  14451.799805  14635.780273  4512550000\n",
      "2021-07-16  14427.240234  14623.019531  14413.320312  14597.509766  4069530000\n",
      "2021-07-19  14274.980469  14313.599609  14178.660156  14235.980469  4537130000\n",
      "Warning: 'Adj Close' not found for ^IXIC. Available columns: MultiIndex([( 'Close', '^IXIC'),\n",
      "            (  'High', '^IXIC'),\n",
      "            (   'Low', '^IXIC'),\n",
      "            (  'Open', '^IXIC'),\n",
      "            ('Volume', '^IXIC')],\n",
      "           names=['Price', 'Ticker'])\n",
      "Downloaded data for ^DJI:\n",
      "Price              Close          High           Low          Open     Volume\n",
      "Ticker              ^DJI          ^DJI          ^DJI          ^DJI       ^DJI\n",
      "Date                                                                         \n",
      "2021-07-13  34888.789062  35018.789062  34876.890625  34959.960938  322430000\n",
      "2021-07-14  34933.230469  35069.179688  34826.871094  34920.828125  344340000\n",
      "2021-07-15  34987.019531  34990.410156  34762.871094  34924.808594  320450000\n",
      "2021-07-16  34687.851562  35090.011719  34647.820312  35007.941406  322980000\n",
      "2021-07-19  33962.039062  34528.480469  33741.761719  34528.480469  440440000\n",
      "Warning: 'Adj Close' not found for ^DJI. Available columns: MultiIndex([( 'Close', '^DJI'),\n",
      "            (  'High', '^DJI'),\n",
      "            (   'Low', '^DJI'),\n",
      "            (  'Open', '^DJI'),\n",
      "            ('Volume', '^DJI')],\n",
      "           names=['Price', 'Ticker'])\n",
      "Error downloading USD/EUR: Thank you for using Alpha Vantage! Our standard API rate limit is 25 requests per day. Please subscribe to any of the premium plans at https://www.alphavantage.co/premium/ to instantly remove all daily rate limits.\n",
      "Error downloading USD/JPY: Thank you for using Alpha Vantage! Our standard API rate limit is 25 requests per day. Please subscribe to any of the premium plans at https://www.alphavantage.co/premium/ to instantly remove all daily rate limits.\n"
     ]
    },
    {
     "name": "stderr",
     "output_type": "stream",
     "text": [
      "[*********************100%***********************]  1 of 1 completed\n"
     ]
    },
    {
     "name": "stdout",
     "output_type": "stream",
     "text": [
      "Downloaded Gold Data:\n",
      "Price             Close         High          Low         Open Volume\n",
      "Ticker             GC=F         GC=F         GC=F         GC=F   GC=F\n",
      "Date                                                                 \n",
      "2021-07-13  1809.400024  1812.000000  1800.599976  1808.099976     78\n",
      "2021-07-14  1824.300049  1829.000000  1813.099976  1813.099976    707\n",
      "2021-07-15  1828.400024  1833.000000  1823.400024  1831.599976     99\n",
      "2021-07-16  1814.500000  1831.400024  1814.500000  1830.099976     78\n",
      "2021-07-19  1808.699951  1813.400024  1803.300049  1803.300049     33\n",
      "Warning: 'Adj Close' not found in gold data. Available columns: MultiIndex([( 'Close', 'GC=F'),\n",
      "            (  'High', 'GC=F'),\n",
      "            (   'Low', 'GC=F'),\n",
      "            (  'Open', 'GC=F'),\n",
      "            ('Volume', 'GC=F')],\n",
      "           names=['Price', 'Ticker'])\n"
     ]
    },
    {
     "name": "stderr",
     "output_type": "stream",
     "text": [
      "[*********************100%***********************]  1 of 1 completed"
     ]
    },
    {
     "name": "stdout",
     "output_type": "stream",
     "text": [
      "Downloading data for 2021-09-22 (2021-09-07 to 2021-10-07)\n",
      "Downloaded data for ^GSPC:\n",
      "Price             Close         High          Low         Open      Volume\n",
      "Ticker            ^GSPC        ^GSPC        ^GSPC        ^GSPC       ^GSPC\n",
      "Date                                                                      \n",
      "2021-09-07  4520.029785  4535.379883  4513.000000  4535.379883  3822960000\n",
      "2021-09-08  4514.069824  4521.790039  4493.950195  4518.089844  3750880000\n",
      "2021-09-09  4493.279785  4529.899902  4492.069824  4513.020020  3735390000\n",
      "2021-09-10  4458.580078  4520.470215  4457.660156  4506.919922  3623180000\n",
      "2021-09-13  4468.729980  4492.990234  4445.700195  4474.810059  3914220000\n",
      "Warning: 'Adj Close' not found for ^GSPC. Available columns: MultiIndex([( 'Close', '^GSPC'),\n",
      "            (  'High', '^GSPC'),\n",
      "            (   'Low', '^GSPC'),\n",
      "            (  'Open', '^GSPC'),\n",
      "            ('Volume', '^GSPC')],\n",
      "           names=['Price', 'Ticker'])\n"
     ]
    },
    {
     "name": "stderr",
     "output_type": "stream",
     "text": [
      "\n",
      "[*********************100%***********************]  1 of 1 completed\n",
      "[*********************100%***********************]  1 of 1 completed\n"
     ]
    },
    {
     "name": "stdout",
     "output_type": "stream",
     "text": [
      "Downloaded data for ^IXIC:\n",
      "Price              Close          High           Low          Open      Volume\n",
      "Ticker             ^IXIC         ^IXIC         ^IXIC         ^IXIC       ^IXIC\n",
      "Date                                                                          \n",
      "2021-09-07  15374.330078  15403.440430  15343.280273  15375.980469  4014250000\n",
      "2021-09-08  15286.639648  15360.349609  15206.610352  15360.349609  4131560000\n",
      "2021-09-09  15248.250000  15352.379883  15245.169922  15296.059570  4031140000\n",
      "2021-09-10  15115.490234  15349.469727  15111.309570  15332.919922  4587150000\n",
      "2021-09-13  15105.580078  15215.440430  15030.849609  15211.429688  4723370000\n",
      "Warning: 'Adj Close' not found for ^IXIC. Available columns: MultiIndex([( 'Close', '^IXIC'),\n",
      "            (  'High', '^IXIC'),\n",
      "            (   'Low', '^IXIC'),\n",
      "            (  'Open', '^IXIC'),\n",
      "            ('Volume', '^IXIC')],\n",
      "           names=['Price', 'Ticker'])\n",
      "Downloaded data for ^DJI:\n",
      "Price              Close          High           Low          Open     Volume\n",
      "Ticker              ^DJI          ^DJI          ^DJI          ^DJI       ^DJI\n",
      "Date                                                                         \n",
      "2021-09-07  35100.000000  35373.238281  35060.898438  35373.238281  289830000\n",
      "2021-09-08  35031.070312  35175.148438  34925.609375  35087.449219  261880000\n",
      "2021-09-09  34879.378906  35199.890625  34847.300781  35013.078125  261330000\n",
      "2021-09-10  34607.718750  35104.250000  34599.609375  34949.589844  333230000\n",
      "2021-09-13  34869.628906  34939.101562  34665.500000  34665.500000  334190000\n",
      "Warning: 'Adj Close' not found for ^DJI. Available columns: MultiIndex([( 'Close', '^DJI'),\n",
      "            (  'High', '^DJI'),\n",
      "            (   'Low', '^DJI'),\n",
      "            (  'Open', '^DJI'),\n",
      "            ('Volume', '^DJI')],\n",
      "           names=['Price', 'Ticker'])\n",
      "Error downloading USD/EUR: Thank you for using Alpha Vantage! Our standard API rate limit is 25 requests per day. Please subscribe to any of the premium plans at https://www.alphavantage.co/premium/ to instantly remove all daily rate limits.\n",
      "Error downloading USD/JPY: Thank you for using Alpha Vantage! Our standard API rate limit is 25 requests per day. Please subscribe to any of the premium plans at https://www.alphavantage.co/premium/ to instantly remove all daily rate limits.\n"
     ]
    },
    {
     "name": "stderr",
     "output_type": "stream",
     "text": [
      "[*********************100%***********************]  1 of 1 completed\n"
     ]
    },
    {
     "name": "stdout",
     "output_type": "stream",
     "text": [
      "Downloaded Gold Data:\n",
      "Price             Close         High          Low         Open Volume\n",
      "Ticker             GC=F         GC=F         GC=F         GC=F   GC=F\n",
      "Date                                                                 \n",
      "2021-09-07  1795.900024  1825.699951  1792.699951  1825.699951     48\n",
      "2021-09-08  1790.699951  1790.699951  1781.699951  1781.699951     69\n",
      "2021-09-09  1797.400024  1798.699951  1787.900024  1798.699951     49\n",
      "2021-09-10  1789.599976  1789.599976  1789.599976  1789.599976      0\n",
      "2021-09-13  1792.000000  1796.000000  1784.000000  1789.800049    533\n",
      "Warning: 'Adj Close' not found in gold data. Available columns: MultiIndex([( 'Close', 'GC=F'),\n",
      "            (  'High', 'GC=F'),\n",
      "            (   'Low', 'GC=F'),\n",
      "            (  'Open', 'GC=F'),\n",
      "            ('Volume', 'GC=F')],\n",
      "           names=['Price', 'Ticker'])\n"
     ]
    },
    {
     "name": "stderr",
     "output_type": "stream",
     "text": [
      "[*********************100%***********************]  1 of 1 completed"
     ]
    },
    {
     "name": "stdout",
     "output_type": "stream",
     "text": [
      "Downloading data for 2021-11-03 (2021-10-19 to 2021-11-18)\n",
      "Downloaded data for ^GSPC:\n",
      "Price             Close         High          Low         Open      Volume\n",
      "Ticker            ^GSPC        ^GSPC        ^GSPC        ^GSPC       ^GSPC\n",
      "Date                                                                      \n",
      "2021-10-19  4519.629883  4520.399902  4496.410156  4497.339844  3459130000\n",
      "2021-10-20  4536.189941  4540.870117  4524.399902  4524.419922  3670760000\n",
      "2021-10-21  4549.779785  4551.439941  4526.890137  4532.240234  3822330000\n",
      "2021-10-22  4544.899902  4559.669922  4524.000000  4546.120117  3758220000\n",
      "2021-10-25  4566.479980  4572.620117  4537.359863  4553.689941  3899400000\n",
      "Warning: 'Adj Close' not found for ^GSPC. Available columns: MultiIndex([( 'Close', '^GSPC'),\n",
      "            (  'High', '^GSPC'),\n",
      "            (   'Low', '^GSPC'),\n",
      "            (  'Open', '^GSPC'),\n",
      "            ('Volume', '^GSPC')],\n",
      "           names=['Price', 'Ticker'])\n"
     ]
    },
    {
     "name": "stderr",
     "output_type": "stream",
     "text": [
      "\n",
      "[*********************100%***********************]  1 of 1 completed\n",
      "[*********************100%***********************]  1 of 1 completed\n"
     ]
    },
    {
     "name": "stdout",
     "output_type": "stream",
     "text": [
      "Downloaded data for ^IXIC:\n",
      "Price              Close          High           Low          Open      Volume\n",
      "Ticker             ^IXIC         ^IXIC         ^IXIC         ^IXIC       ^IXIC\n",
      "Date                                                                          \n",
      "2021-10-19  15129.089844  15137.849609  15049.730469  15073.129883  4483400000\n",
      "2021-10-20  15121.679688  15178.389648  15071.150391  15160.000000  4117050000\n",
      "2021-10-21  15215.700195  15222.250000  15094.139648  15104.799805  4961860000\n",
      "2021-10-22  15090.200195  15193.009766  15021.019531  15158.070312  5775770000\n",
      "2021-10-25  15226.709961  15259.629883  15070.750000  15142.919922  5750200000\n",
      "Warning: 'Adj Close' not found for ^IXIC. Available columns: MultiIndex([( 'Close', '^IXIC'),\n",
      "            (  'High', '^IXIC'),\n",
      "            (   'Low', '^IXIC'),\n",
      "            (  'Open', '^IXIC'),\n",
      "            ('Volume', '^IXIC')],\n",
      "           names=['Price', 'Ticker'])\n",
      "Downloaded data for ^DJI:\n",
      "Price              Close          High           Low          Open     Volume\n",
      "Ticker              ^DJI          ^DJI          ^DJI          ^DJI       ^DJI\n",
      "Date                                                                         \n",
      "2021-10-19  35457.308594  35462.679688  35290.121094  35325.371094  278510000\n",
      "2021-10-20  35609.339844  35669.691406  35465.710938  35475.160156  265750000\n",
      "2021-10-21  35603.078125  35612.359375  35442.531250  35520.320312  298390000\n",
      "2021-10-22  35677.019531  35765.019531  35533.949219  35607.718750  346290000\n",
      "2021-10-25  35741.148438  35787.039062  35629.371094  35692.621094  267220000\n",
      "Warning: 'Adj Close' not found for ^DJI. Available columns: MultiIndex([( 'Close', '^DJI'),\n",
      "            (  'High', '^DJI'),\n",
      "            (   'Low', '^DJI'),\n",
      "            (  'Open', '^DJI'),\n",
      "            ('Volume', '^DJI')],\n",
      "           names=['Price', 'Ticker'])\n",
      "Error downloading USD/EUR: Thank you for using Alpha Vantage! Our standard API rate limit is 25 requests per day. Please subscribe to any of the premium plans at https://www.alphavantage.co/premium/ to instantly remove all daily rate limits.\n",
      "Error downloading USD/JPY: Thank you for using Alpha Vantage! Our standard API rate limit is 25 requests per day. Please subscribe to any of the premium plans at https://www.alphavantage.co/premium/ to instantly remove all daily rate limits.\n"
     ]
    },
    {
     "name": "stderr",
     "output_type": "stream",
     "text": [
      "[*********************100%***********************]  1 of 1 completed\n"
     ]
    },
    {
     "name": "stdout",
     "output_type": "stream",
     "text": [
      "Downloaded Gold Data:\n",
      "Price             Close         High     Low         Open Volume\n",
      "Ticker             GC=F         GC=F    GC=F         GC=F   GC=F\n",
      "Date                                                            \n",
      "2021-10-19  1769.699951  1785.000000  1767.5  1777.599976     51\n",
      "2021-10-20  1784.099976  1785.599976  1774.0  1774.599976    127\n",
      "2021-10-21  1781.199951  1785.699951  1781.0  1782.000000    146\n",
      "2021-10-22  1795.500000  1806.900024  1784.0  1787.099976    532\n",
      "2021-10-25  1806.000000  1809.000000  1794.0  1794.300049    140\n",
      "Warning: 'Adj Close' not found in gold data. Available columns: MultiIndex([( 'Close', 'GC=F'),\n",
      "            (  'High', 'GC=F'),\n",
      "            (   'Low', 'GC=F'),\n",
      "            (  'Open', 'GC=F'),\n",
      "            ('Volume', 'GC=F')],\n",
      "           names=['Price', 'Ticker'])\n"
     ]
    },
    {
     "name": "stderr",
     "output_type": "stream",
     "text": [
      "[*********************100%***********************]  1 of 1 completed"
     ]
    },
    {
     "name": "stdout",
     "output_type": "stream",
     "text": [
      "Downloading data for 2021-12-15 (2021-11-30 to 2021-12-30)\n",
      "Downloaded data for ^GSPC:\n",
      "Price             Close         High          Low         Open      Volume\n",
      "Ticker            ^GSPC        ^GSPC        ^GSPC        ^GSPC       ^GSPC\n",
      "Date                                                                      \n",
      "2021-11-30  4567.000000  4646.020020  4560.000000  4640.250000  6625990000\n",
      "2021-12-01  4513.040039  4652.939941  4510.270020  4602.819824  5366730000\n",
      "2021-12-02  4577.100098  4595.459961  4504.729980  4504.729980  5077180000\n",
      "2021-12-03  4538.430176  4608.029785  4495.120117  4589.490234  5240070000\n",
      "2021-12-06  4591.669922  4612.600098  4540.509766  4548.370117  4770800000\n",
      "Warning: 'Adj Close' not found for ^GSPC. Available columns: MultiIndex([( 'Close', '^GSPC'),\n",
      "            (  'High', '^GSPC'),\n",
      "            (   'Low', '^GSPC'),\n",
      "            (  'Open', '^GSPC'),\n",
      "            ('Volume', '^GSPC')],\n",
      "           names=['Price', 'Ticker'])\n"
     ]
    },
    {
     "name": "stderr",
     "output_type": "stream",
     "text": [
      "\n",
      "[*********************100%***********************]  1 of 1 completed\n",
      "[*********************100%***********************]  1 of 1 completed\n"
     ]
    },
    {
     "name": "stdout",
     "output_type": "stream",
     "text": [
      "Downloaded data for ^IXIC:\n",
      "Price              Close          High           Low          Open      Volume\n",
      "Ticker             ^IXIC         ^IXIC         ^IXIC         ^IXIC       ^IXIC\n",
      "Date                                                                          \n",
      "2021-11-30  15537.690430  15828.200195  15451.389648  15716.500000  6631470000\n",
      "2021-12-01  15254.049805  15816.820312  15243.929688  15752.269531  6320260000\n",
      "2021-12-02  15381.320312  15444.540039  15150.120117  15181.820312  5418340000\n",
      "2021-12-03  15085.469727  15470.360352  14931.059570  15428.709961  5900290000\n",
      "2021-12-06  15225.150391  15281.990234  14931.610352  15117.629883  5115230000\n",
      "Warning: 'Adj Close' not found for ^IXIC. Available columns: MultiIndex([( 'Close', '^IXIC'),\n",
      "            (  'High', '^IXIC'),\n",
      "            (   'Low', '^IXIC'),\n",
      "            (  'Open', '^IXIC'),\n",
      "            ('Volume', '^IXIC')],\n",
      "           names=['Price', 'Ticker'])\n",
      "Downloaded data for ^DJI:\n",
      "Price              Close          High           Low          Open     Volume\n",
      "Ticker              ^DJI          ^DJI          ^DJI          ^DJI       ^DJI\n",
      "Date                                                                         \n",
      "2021-11-30  34483.718750  35056.988281  34424.441406  35056.988281  678800000\n",
      "2021-12-01  34022.039062  35004.640625  34006.980469  34678.941406  496000000\n",
      "2021-12-02  34639.789062  34759.648438  34076.250000  34076.250000  466900000\n",
      "2021-12-03  34580.078125  34801.308594  34264.570312  34692.781250  439550000\n",
      "2021-12-06  35227.031250  35356.750000  34633.429688  34633.429688  416720000\n",
      "Warning: 'Adj Close' not found for ^DJI. Available columns: MultiIndex([( 'Close', '^DJI'),\n",
      "            (  'High', '^DJI'),\n",
      "            (   'Low', '^DJI'),\n",
      "            (  'Open', '^DJI'),\n",
      "            ('Volume', '^DJI')],\n",
      "           names=['Price', 'Ticker'])\n",
      "Error downloading USD/EUR: Thank you for using Alpha Vantage! Our standard API rate limit is 25 requests per day. Please subscribe to any of the premium plans at https://www.alphavantage.co/premium/ to instantly remove all daily rate limits.\n",
      "Error downloading USD/JPY: Thank you for using Alpha Vantage! Our standard API rate limit is 25 requests per day. Please subscribe to any of the premium plans at https://www.alphavantage.co/premium/ to instantly remove all daily rate limits.\n"
     ]
    },
    {
     "name": "stderr",
     "output_type": "stream",
     "text": [
      "[*********************100%***********************]  1 of 1 completed\n"
     ]
    },
    {
     "name": "stdout",
     "output_type": "stream",
     "text": [
      "Downloaded Gold Data:\n",
      "Price             Close         High          Low         Open Volume\n",
      "Ticker             GC=F         GC=F         GC=F         GC=F   GC=F\n",
      "Date                                                                 \n",
      "2021-11-30  1773.599976  1808.099976  1768.699951  1783.900024   4903\n",
      "2021-12-01  1781.599976  1790.500000  1772.300049  1774.800049   1128\n",
      "2021-12-02  1760.699951  1780.900024  1760.599976  1780.900024   1557\n",
      "2021-12-03  1782.000000  1785.099976  1766.500000  1767.500000    694\n",
      "2021-12-06  1777.500000  1783.000000  1777.199951  1780.199951    381\n",
      "Warning: 'Adj Close' not found in gold data. Available columns: MultiIndex([( 'Close', 'GC=F'),\n",
      "            (  'High', 'GC=F'),\n",
      "            (   'Low', 'GC=F'),\n",
      "            (  'Open', 'GC=F'),\n",
      "            ('Volume', 'GC=F')],\n",
      "           names=['Price', 'Ticker'])\n"
     ]
    },
    {
     "name": "stderr",
     "output_type": "stream",
     "text": [
      "[*********************100%***********************]  1 of 1 completed"
     ]
    },
    {
     "name": "stdout",
     "output_type": "stream",
     "text": [
      "Downloading data for 2022-01-26 (2022-01-11 to 2022-02-10)\n",
      "Downloaded data for ^GSPC:\n",
      "Price             Close         High          Low         Open      Volume\n",
      "Ticker            ^GSPC        ^GSPC        ^GSPC        ^GSPC       ^GSPC\n",
      "Date                                                                      \n",
      "2022-01-11  4713.069824  4714.129883  4638.270020  4669.140137  4101590000\n",
      "2022-01-12  4726.350098  4748.830078  4706.709961  4728.589844  4048220000\n",
      "2022-01-13  4659.029785  4744.129883  4650.290039  4733.560059  4251730000\n",
      "2022-01-14  4662.850098  4665.129883  4614.750000  4637.990234  4338490000\n",
      "2022-01-18  4577.109863  4632.240234  4568.700195  4632.240234  4748700000\n",
      "Warning: 'Adj Close' not found for ^GSPC. Available columns: MultiIndex([( 'Close', '^GSPC'),\n",
      "            (  'High', '^GSPC'),\n",
      "            (   'Low', '^GSPC'),\n",
      "            (  'Open', '^GSPC'),\n",
      "            ('Volume', '^GSPC')],\n",
      "           names=['Price', 'Ticker'])\n"
     ]
    },
    {
     "name": "stderr",
     "output_type": "stream",
     "text": [
      "\n",
      "[*********************100%***********************]  1 of 1 completed\n",
      "[*********************100%***********************]  1 of 1 completed\n"
     ]
    },
    {
     "name": "stdout",
     "output_type": "stream",
     "text": [
      "Downloaded data for ^IXIC:\n",
      "Price              Close          High           Low          Open      Volume\n",
      "Ticker             ^IXIC         ^IXIC         ^IXIC         ^IXIC       ^IXIC\n",
      "Date                                                                          \n",
      "2022-01-11  15153.450195  15158.709961  14837.629883  14919.259766  4390710000\n",
      "2022-01-12  15188.389648  15319.030273  15117.290039  15263.099609  4338530000\n",
      "2022-01-13  14806.809570  15259.709961  14782.240234  15245.040039  4302020000\n",
      "2022-01-14  14893.750000  14897.679688  14689.429688  14708.019531  4374020000\n",
      "2022-01-18  14506.900391  14740.540039  14482.940430  14681.830078  5060790000\n",
      "Warning: 'Adj Close' not found for ^IXIC. Available columns: MultiIndex([( 'Close', '^IXIC'),\n",
      "            (  'High', '^IXIC'),\n",
      "            (   'Low', '^IXIC'),\n",
      "            (  'Open', '^IXIC'),\n",
      "            ('Volume', '^IXIC')],\n",
      "           names=['Price', 'Ticker'])\n",
      "Downloaded data for ^DJI:\n",
      "Price              Close          High           Low          Open     Volume\n",
      "Ticker              ^DJI          ^DJI          ^DJI          ^DJI       ^DJI\n",
      "Date                                                                         \n",
      "2022-01-11  36252.019531  36271.468750  35769.378906  36058.851562  356850000\n",
      "2022-01-12  36290.320312  36453.488281  36168.148438  36336.160156  310180000\n",
      "2022-01-13  36113.621094  36513.878906  36044.218750  36312.488281  343640000\n",
      "2022-01-14  35911.808594  35996.429688  35641.488281  35996.429688  389200000\n",
      "2022-01-18  35368.468750  35661.761719  35262.019531  35661.761719  427260000\n",
      "Warning: 'Adj Close' not found for ^DJI. Available columns: MultiIndex([( 'Close', '^DJI'),\n",
      "            (  'High', '^DJI'),\n",
      "            (   'Low', '^DJI'),\n",
      "            (  'Open', '^DJI'),\n",
      "            ('Volume', '^DJI')],\n",
      "           names=['Price', 'Ticker'])\n",
      "Error downloading USD/EUR: Thank you for using Alpha Vantage! Our standard API rate limit is 25 requests per day. Please subscribe to any of the premium plans at https://www.alphavantage.co/premium/ to instantly remove all daily rate limits.\n",
      "Error downloading USD/JPY: Thank you for using Alpha Vantage! Our standard API rate limit is 25 requests per day. Please subscribe to any of the premium plans at https://www.alphavantage.co/premium/ to instantly remove all daily rate limits.\n"
     ]
    },
    {
     "name": "stderr",
     "output_type": "stream",
     "text": [
      "[*********************100%***********************]  1 of 1 completed\n"
     ]
    },
    {
     "name": "stdout",
     "output_type": "stream",
     "text": [
      "Downloaded Gold Data:\n",
      "Price             Close         High          Low         Open Volume\n",
      "Ticker             GC=F         GC=F         GC=F         GC=F   GC=F\n",
      "Date                                                                 \n",
      "2022-01-11  1818.599976  1822.500000  1803.000000  1803.900024    743\n",
      "2022-01-12  1827.199951  1827.199951  1816.900024  1819.000000   1547\n",
      "2022-01-13  1821.199951  1823.000000  1815.400024  1819.800049     40\n",
      "2022-01-14  1816.500000  1822.000000  1816.500000  1821.500000    816\n",
      "2022-01-18  1812.300049  1820.099976  1812.300049  1816.800049    900\n",
      "Warning: 'Adj Close' not found in gold data. Available columns: MultiIndex([( 'Close', 'GC=F'),\n",
      "            (  'High', 'GC=F'),\n",
      "            (   'Low', 'GC=F'),\n",
      "            (  'Open', 'GC=F'),\n",
      "            ('Volume', 'GC=F')],\n",
      "           names=['Price', 'Ticker'])\n"
     ]
    },
    {
     "name": "stderr",
     "output_type": "stream",
     "text": [
      "[*********************100%***********************]  1 of 1 completed"
     ]
    },
    {
     "name": "stdout",
     "output_type": "stream",
     "text": [
      "Downloading data for 2022-03-16 (2022-03-01 to 2022-03-31)\n",
      "Downloaded data for ^GSPC:\n",
      "Price             Close         High          Low         Open      Volume\n",
      "Ticker            ^GSPC        ^GSPC        ^GSPC        ^GSPC       ^GSPC\n",
      "Date                                                                      \n",
      "2022-03-01  4306.259766  4378.450195  4279.540039  4363.140137  5846230000\n",
      "2022-03-02  4386.540039  4401.479980  4322.560059  4322.560059  5337870000\n",
      "2022-03-03  4363.490234  4416.779785  4345.560059  4401.310059  5039890000\n",
      "2022-03-04  4328.870117  4342.120117  4284.979980  4342.120117  5797380000\n",
      "2022-03-07  4201.089844  4327.009766  4199.850098  4327.009766  6940470000\n",
      "Warning: 'Adj Close' not found for ^GSPC. Available columns: MultiIndex([( 'Close', '^GSPC'),\n",
      "            (  'High', '^GSPC'),\n",
      "            (   'Low', '^GSPC'),\n",
      "            (  'Open', '^GSPC'),\n",
      "            ('Volume', '^GSPC')],\n",
      "           names=['Price', 'Ticker'])\n"
     ]
    },
    {
     "name": "stderr",
     "output_type": "stream",
     "text": [
      "\n",
      "[*********************100%***********************]  1 of 1 completed\n",
      "[*********************100%***********************]  1 of 1 completed\n"
     ]
    },
    {
     "name": "stdout",
     "output_type": "stream",
     "text": [
      "Downloaded data for ^IXIC:\n",
      "Price              Close          High           Low          Open      Volume\n",
      "Ticker             ^IXIC         ^IXIC         ^IXIC         ^IXIC       ^IXIC\n",
      "Date                                                                          \n",
      "2022-03-01  13532.459961  13777.040039  13441.320312  13716.700195  6131350000\n",
      "2022-03-02  13752.019531  13796.549805  13493.910156  13597.530273  5246390000\n",
      "2022-03-03  13537.940430  13837.589844  13472.639648  13837.589844  5092580000\n",
      "2022-03-04  13313.440430  13486.709961  13224.980469  13455.230469  5343900000\n",
      "2022-03-07  12830.959961  13353.280273  12828.019531  13328.360352  6195370000\n",
      "Warning: 'Adj Close' not found for ^IXIC. Available columns: MultiIndex([( 'Close', '^IXIC'),\n",
      "            (  'High', '^IXIC'),\n",
      "            (   'Low', '^IXIC'),\n",
      "            (  'Open', '^IXIC'),\n",
      "            ('Volume', '^IXIC')],\n",
      "           names=['Price', 'Ticker'])\n",
      "Downloaded data for ^DJI:\n",
      "Price              Close          High           Low          Open     Volume\n",
      "Ticker              ^DJI          ^DJI          ^DJI          ^DJI       ^DJI\n",
      "Date                                                                         \n",
      "2022-03-01  33294.949219  33870.140625  33107.671875  33813.480469  438730000\n",
      "2022-03-02  33891.351562  34013.671875  33379.511719  33379.511719  400920000\n",
      "2022-03-03  33794.660156  34179.070312  33641.531250  33972.871094  369740000\n",
      "2022-03-04  33614.800781  33655.429688  33254.121094  33655.429688  408390000\n",
      "2022-03-07  32817.378906  33579.750000  32806.148438  33579.750000  488400000\n",
      "Warning: 'Adj Close' not found for ^DJI. Available columns: MultiIndex([( 'Close', '^DJI'),\n",
      "            (  'High', '^DJI'),\n",
      "            (   'Low', '^DJI'),\n",
      "            (  'Open', '^DJI'),\n",
      "            ('Volume', '^DJI')],\n",
      "           names=['Price', 'Ticker'])\n",
      "Error downloading USD/EUR: Thank you for using Alpha Vantage! Our standard API rate limit is 25 requests per day. Please subscribe to any of the premium plans at https://www.alphavantage.co/premium/ to instantly remove all daily rate limits.\n",
      "Error downloading USD/JPY: Thank you for using Alpha Vantage! Our standard API rate limit is 25 requests per day. Please subscribe to any of the premium plans at https://www.alphavantage.co/premium/ to instantly remove all daily rate limits.\n"
     ]
    },
    {
     "name": "stderr",
     "output_type": "stream",
     "text": [
      "[*********************100%***********************]  1 of 1 completed\n"
     ]
    },
    {
     "name": "stdout",
     "output_type": "stream",
     "text": [
      "Downloaded Gold Data:\n",
      "Price             Close         High          Low         Open Volume\n",
      "Ticker             GC=F         GC=F         GC=F         GC=F   GC=F\n",
      "Date                                                                 \n",
      "2022-03-01  1942.400024  1942.400024  1903.800049  1908.300049    547\n",
      "2022-03-02  1920.900024  1948.199951  1919.800049  1945.599976    109\n",
      "2022-03-03  1934.400024  1940.300049  1924.800049  1930.500000    122\n",
      "2022-03-04  1965.099976  1970.900024  1935.599976  1937.000000     47\n",
      "2022-03-07  1993.900024  2001.099976  1963.000000  1989.000000   2516\n",
      "Warning: 'Adj Close' not found in gold data. Available columns: MultiIndex([( 'Close', 'GC=F'),\n",
      "            (  'High', 'GC=F'),\n",
      "            (   'Low', 'GC=F'),\n",
      "            (  'Open', 'GC=F'),\n",
      "            ('Volume', 'GC=F')],\n",
      "           names=['Price', 'Ticker'])\n"
     ]
    },
    {
     "name": "stderr",
     "output_type": "stream",
     "text": [
      "[*********************100%***********************]  1 of 1 completed"
     ]
    },
    {
     "name": "stdout",
     "output_type": "stream",
     "text": [
      "Downloading data for 2022-05-04 (2022-04-19 to 2022-05-19)\n",
      "Downloaded data for ^GSPC:\n",
      "Price             Close         High          Low         Open      Volume\n",
      "Ticker            ^GSPC        ^GSPC        ^GSPC        ^GSPC       ^GSPC\n",
      "Date                                                                      \n",
      "2022-04-19  4462.209961  4471.029785  4390.629883  4390.629883  4108120000\n",
      "2022-04-20  4459.450195  4488.290039  4448.759766  4472.259766  4290450000\n",
      "2022-04-21  4393.660156  4512.939941  4384.470215  4489.169922  4636890000\n",
      "2022-04-22  4271.779785  4385.830078  4267.620117  4385.830078  4651940000\n",
      "2022-04-25  4296.120117  4299.020020  4200.819824  4255.339844  5240040000\n",
      "Warning: 'Adj Close' not found for ^GSPC. Available columns: MultiIndex([( 'Close', '^GSPC'),\n",
      "            (  'High', '^GSPC'),\n",
      "            (   'Low', '^GSPC'),\n",
      "            (  'Open', '^GSPC'),\n",
      "            ('Volume', '^GSPC')],\n",
      "           names=['Price', 'Ticker'])\n"
     ]
    },
    {
     "name": "stderr",
     "output_type": "stream",
     "text": [
      "\n",
      "[*********************100%***********************]  1 of 1 completed\n",
      "[*********************100%***********************]  1 of 1 completed\n"
     ]
    },
    {
     "name": "stdout",
     "output_type": "stream",
     "text": [
      "Downloaded data for ^IXIC:\n",
      "Price              Close          High           Low          Open      Volume\n",
      "Ticker             ^IXIC         ^IXIC         ^IXIC         ^IXIC       ^IXIC\n",
      "Date                                                                          \n",
      "2022-04-19  13619.660156  13643.969727  13281.219727  13312.440430  4562840000\n",
      "2022-04-20  13453.070312  13678.549805  13426.129883  13665.379883  4678930000\n",
      "2022-04-21  13174.650391  13710.700195  13140.830078  13623.700195  5233110000\n",
      "2022-04-22  12839.290039  13212.599609  12828.019531  13168.799805  4475090000\n",
      "2022-04-25  13004.849609  13011.450195  12722.589844  12749.169922  4845160000\n",
      "Warning: 'Adj Close' not found for ^IXIC. Available columns: MultiIndex([( 'Close', '^IXIC'),\n",
      "            (  'High', '^IXIC'),\n",
      "            (   'Low', '^IXIC'),\n",
      "            (  'Open', '^IXIC'),\n",
      "            ('Volume', '^IXIC')],\n",
      "           names=['Price', 'Ticker'])\n",
      "Downloaded data for ^DJI:\n",
      "Price              Close          High           Low          Open     Volume\n",
      "Ticker              ^DJI          ^DJI          ^DJI          ^DJI       ^DJI\n",
      "Date                                                                         \n",
      "2022-04-19  34911.199219  34983.109375  34394.621094  34394.621094  296350000\n",
      "2022-04-20  35160.789062  35315.398438  34962.671875  34962.671875  337620000\n",
      "2022-04-21  34792.761719  35492.218750  34723.820312  35258.800781  366390000\n",
      "2022-04-22  33811.398438  34727.378906  33773.390625  34727.378906  373280000\n",
      "2022-04-25  34049.460938  34106.011719  33323.371094  33731.648438  416900000\n",
      "Warning: 'Adj Close' not found for ^DJI. Available columns: MultiIndex([( 'Close', '^DJI'),\n",
      "            (  'High', '^DJI'),\n",
      "            (   'Low', '^DJI'),\n",
      "            (  'Open', '^DJI'),\n",
      "            ('Volume', '^DJI')],\n",
      "           names=['Price', 'Ticker'])\n",
      "Error downloading USD/EUR: Thank you for using Alpha Vantage! Our standard API rate limit is 25 requests per day. Please subscribe to any of the premium plans at https://www.alphavantage.co/premium/ to instantly remove all daily rate limits.\n",
      "Error downloading USD/JPY: Thank you for using Alpha Vantage! Our standard API rate limit is 25 requests per day. Please subscribe to any of the premium plans at https://www.alphavantage.co/premium/ to instantly remove all daily rate limits.\n"
     ]
    },
    {
     "name": "stderr",
     "output_type": "stream",
     "text": [
      "[*********************100%***********************]  1 of 1 completed\n"
     ]
    },
    {
     "name": "stdout",
     "output_type": "stream",
     "text": [
      "Downloaded Gold Data:\n",
      "Price             Close         High          Low         Open Volume\n",
      "Ticker             GC=F         GC=F         GC=F         GC=F   GC=F\n",
      "Date                                                                 \n",
      "2022-04-19  1955.699951  1978.300049  1945.699951  1973.800049    130\n",
      "2022-04-20  1952.300049  1953.599976  1945.500000  1945.500000    621\n",
      "2022-04-21  1944.900024  1944.900024  1942.500000  1942.500000      4\n",
      "2022-04-22  1931.000000  1950.400024  1930.199951  1949.599976    178\n",
      "2022-04-25  1893.199951  1925.000000  1889.300049  1925.000000    748\n",
      "Warning: 'Adj Close' not found in gold data. Available columns: MultiIndex([( 'Close', 'GC=F'),\n",
      "            (  'High', 'GC=F'),\n",
      "            (   'Low', 'GC=F'),\n",
      "            (  'Open', 'GC=F'),\n",
      "            ('Volume', 'GC=F')],\n",
      "           names=['Price', 'Ticker'])\n"
     ]
    },
    {
     "name": "stderr",
     "output_type": "stream",
     "text": [
      "[*********************100%***********************]  1 of 1 completed"
     ]
    },
    {
     "name": "stdout",
     "output_type": "stream",
     "text": [
      "Downloading data for 2022-06-15 (2022-05-31 to 2022-06-30)\n",
      "Downloaded data for ^GSPC:\n",
      "Price             Close         High          Low         Open      Volume\n",
      "Ticker            ^GSPC        ^GSPC        ^GSPC        ^GSPC       ^GSPC\n",
      "Date                                                                      \n",
      "2022-05-31  4132.149902  4168.339844  4104.879883  4151.089844  6822640000\n",
      "2022-06-01  4101.229980  4166.540039  4073.850098  4149.779785  4531800000\n",
      "2022-06-02  4176.819824  4177.509766  4074.370117  4095.409912  4405790000\n",
      "2022-06-03  4108.540039  4142.669922  4098.669922  4137.569824  3711110000\n",
      "2022-06-06  4121.430176  4168.779785  4109.180176  4134.720215  4332700000\n",
      "Warning: 'Adj Close' not found for ^GSPC. Available columns: MultiIndex([( 'Close', '^GSPC'),\n",
      "            (  'High', '^GSPC'),\n",
      "            (   'Low', '^GSPC'),\n",
      "            (  'Open', '^GSPC'),\n",
      "            ('Volume', '^GSPC')],\n",
      "           names=['Price', 'Ticker'])\n"
     ]
    },
    {
     "name": "stderr",
     "output_type": "stream",
     "text": [
      "\n",
      "[*********************100%***********************]  1 of 1 completed\n",
      "[*********************100%***********************]  1 of 1 completed\n"
     ]
    },
    {
     "name": "stdout",
     "output_type": "stream",
     "text": [
      "Downloaded data for ^IXIC:\n",
      "Price              Close          High           Low          Open      Volume\n",
      "Ticker             ^IXIC         ^IXIC         ^IXIC         ^IXIC       ^IXIC\n",
      "Date                                                                          \n",
      "2022-05-31  12081.389648  12190.080078  11942.500000  12137.540039  6045500000\n",
      "2022-06-01  11994.459961  12237.940430  11901.429688  12176.889648  4719900000\n",
      "2022-06-02  12316.900391  12320.120117  11901.450195  11945.570312  4445840000\n",
      "2022-06-03  12012.730469  12167.440430  11966.620117  12097.120117  4130040000\n",
      "2022-06-06  12061.370117  12245.400391  12004.200195  12200.330078  4647010000\n",
      "Warning: 'Adj Close' not found for ^IXIC. Available columns: MultiIndex([( 'Close', '^IXIC'),\n",
      "            (  'High', '^IXIC'),\n",
      "            (   'Low', '^IXIC'),\n",
      "            (  'Open', '^IXIC'),\n",
      "            ('Volume', '^IXIC')],\n",
      "           names=['Price', 'Ticker'])\n",
      "Downloaded data for ^DJI:\n",
      "Price              Close          High           Low          Open     Volume\n",
      "Ticker              ^DJI          ^DJI          ^DJI          ^DJI       ^DJI\n",
      "Date                                                                         \n",
      "2022-05-31  32990.121094  33240.218750  32752.339844  33160.589844  533560000\n",
      "2022-06-01  32813.230469  33272.339844  32584.759766  33156.308594  338210000\n",
      "2022-06-02  33248.281250  33248.609375  32509.429688  32809.011719  333210000\n",
      "2022-06-03  32899.699219  33135.609375  32839.210938  32986.320312  298570000\n",
      "2022-06-06  32915.781250  33235.371094  32819.500000  33032.039062  253010000\n",
      "Warning: 'Adj Close' not found for ^DJI. Available columns: MultiIndex([( 'Close', '^DJI'),\n",
      "            (  'High', '^DJI'),\n",
      "            (   'Low', '^DJI'),\n",
      "            (  'Open', '^DJI'),\n",
      "            ('Volume', '^DJI')],\n",
      "           names=['Price', 'Ticker'])\n",
      "Error downloading USD/EUR: Thank you for using Alpha Vantage! Our standard API rate limit is 25 requests per day. Please subscribe to any of the premium plans at https://www.alphavantage.co/premium/ to instantly remove all daily rate limits.\n",
      "Error downloading USD/JPY: Thank you for using Alpha Vantage! Our standard API rate limit is 25 requests per day. Please subscribe to any of the premium plans at https://www.alphavantage.co/premium/ to instantly remove all daily rate limits.\n"
     ]
    },
    {
     "name": "stderr",
     "output_type": "stream",
     "text": [
      "[*********************100%***********************]  1 of 1 completed\n"
     ]
    },
    {
     "name": "stdout",
     "output_type": "stream",
     "text": [
      "Downloaded Gold Data:\n",
      "Price             Close         High          Low         Open Volume\n",
      "Ticker             GC=F         GC=F         GC=F         GC=F   GC=F\n",
      "Date                                                                 \n",
      "2022-05-31  1842.699951  1862.099976  1832.800049  1850.300049   4073\n",
      "2022-06-01  1843.300049  1847.900024  1825.300049  1831.000000   1623\n",
      "2022-06-02  1866.500000  1868.699951  1842.099976  1845.400024    551\n",
      "2022-06-03  1845.400024  1871.800049  1845.400024  1867.599976     53\n",
      "2022-06-06  1839.199951  1854.099976  1839.199951  1849.000000    142\n",
      "Warning: 'Adj Close' not found in gold data. Available columns: MultiIndex([( 'Close', 'GC=F'),\n",
      "            (  'High', 'GC=F'),\n",
      "            (   'Low', 'GC=F'),\n",
      "            (  'Open', 'GC=F'),\n",
      "            ('Volume', 'GC=F')],\n",
      "           names=['Price', 'Ticker'])\n"
     ]
    },
    {
     "name": "stderr",
     "output_type": "stream",
     "text": [
      "[*********************100%***********************]  1 of 1 completed"
     ]
    },
    {
     "name": "stdout",
     "output_type": "stream",
     "text": [
      "Downloading data for 2022-07-27 (2022-07-12 to 2022-08-11)\n",
      "Downloaded data for ^GSPC:\n",
      "Price             Close         High          Low         Open      Volume\n",
      "Ticker            ^GSPC        ^GSPC        ^GSPC        ^GSPC       ^GSPC\n",
      "Date                                                                      \n",
      "2022-07-12  3818.800049  3873.409912  3802.360107  3851.949951  3817210000\n",
      "2022-07-13  3801.780029  3829.439941  3759.070068  3779.669922  4109390000\n",
      "2022-07-14  3790.379883  3796.409912  3721.560059  3763.989990  4199690000\n",
      "2022-07-15  3863.159912  3863.620117  3817.179932  3818.000000  4143800000\n",
      "2022-07-18  3830.850098  3902.439941  3818.629883  3883.790039  4046870000\n",
      "Warning: 'Adj Close' not found for ^GSPC. Available columns: MultiIndex([( 'Close', '^GSPC'),\n",
      "            (  'High', '^GSPC'),\n",
      "            (   'Low', '^GSPC'),\n",
      "            (  'Open', '^GSPC'),\n",
      "            ('Volume', '^GSPC')],\n",
      "           names=['Price', 'Ticker'])\n"
     ]
    },
    {
     "name": "stderr",
     "output_type": "stream",
     "text": [
      "\n",
      "[*********************100%***********************]  1 of 1 completed\n",
      "[*********************100%***********************]  1 of 1 completed\n"
     ]
    },
    {
     "name": "stdout",
     "output_type": "stream",
     "text": [
      "Downloaded data for ^IXIC:\n",
      "Price              Close          High           Low          Open      Volume\n",
      "Ticker             ^IXIC         ^IXIC         ^IXIC         ^IXIC       ^IXIC\n",
      "Date                                                                          \n",
      "2022-07-12  11264.730469  11483.169922  11207.080078  11420.889648  4317860000\n",
      "2022-07-13  11247.580078  11325.669922  11031.269531  11056.549805  4433060000\n",
      "2022-07-14  11251.190430  11279.969727  11005.929688  11151.209961  4481070000\n",
      "2022-07-15  11452.419922  11454.690430  11295.330078  11379.360352  4369060000\n",
      "2022-07-18  11360.049805  11629.030273  11322.839844  11561.639648  5057920000\n",
      "Warning: 'Adj Close' not found for ^IXIC. Available columns: MultiIndex([( 'Close', '^IXIC'),\n",
      "            (  'High', '^IXIC'),\n",
      "            (   'Low', '^IXIC'),\n",
      "            (  'Open', '^IXIC'),\n",
      "            ('Volume', '^IXIC')],\n",
      "           names=['Price', 'Ticker'])\n",
      "Downloaded data for ^DJI:\n",
      "Price              Close          High           Low          Open     Volume\n",
      "Ticker              ^DJI          ^DJI          ^DJI          ^DJI       ^DJI\n",
      "Date                                                                         \n",
      "2022-07-12  30981.330078  31346.099609  30860.509766  31113.310547  324190000\n",
      "2022-07-13  30772.789062  30979.169922  30514.609375  30743.630859  291830000\n",
      "2022-07-14  30630.169922  30680.119141  30143.929688  30451.800781  325130000\n",
      "2022-07-15  31288.259766  31288.259766  30775.369141  30775.369141  321570000\n",
      "2022-07-18  31072.609375  31644.679688  30982.970703  31475.980469  309960000\n",
      "Warning: 'Adj Close' not found for ^DJI. Available columns: MultiIndex([( 'Close', '^DJI'),\n",
      "            (  'High', '^DJI'),\n",
      "            (   'Low', '^DJI'),\n",
      "            (  'Open', '^DJI'),\n",
      "            ('Volume', '^DJI')],\n",
      "           names=['Price', 'Ticker'])\n",
      "Error downloading USD/EUR: Thank you for using Alpha Vantage! Our standard API rate limit is 25 requests per day. Please subscribe to any of the premium plans at https://www.alphavantage.co/premium/ to instantly remove all daily rate limits.\n",
      "Error downloading USD/JPY: Thank you for using Alpha Vantage! Our standard API rate limit is 25 requests per day. Please subscribe to any of the premium plans at https://www.alphavantage.co/premium/ to instantly remove all daily rate limits.\n"
     ]
    },
    {
     "name": "stderr",
     "output_type": "stream",
     "text": [
      "[*********************100%***********************]  1 of 1 completed\n"
     ]
    },
    {
     "name": "stdout",
     "output_type": "stream",
     "text": [
      "Downloaded Gold Data:\n",
      "Price             Close         High          Low         Open Volume\n",
      "Ticker             GC=F         GC=F         GC=F         GC=F   GC=F\n",
      "Date                                                                 \n",
      "2022-07-12  1723.300049  1735.500000  1723.300049  1734.199951    451\n",
      "2022-07-13  1734.199951  1734.199951  1710.000000  1710.000000    368\n",
      "2022-07-14  1704.500000  1710.500000  1704.500000  1710.300049   1289\n",
      "2022-07-15  1702.400024  1709.699951  1701.099976  1705.400024    721\n",
      "2022-07-18  1709.199951  1712.400024  1709.199951  1712.199951    264\n",
      "Warning: 'Adj Close' not found in gold data. Available columns: MultiIndex([( 'Close', 'GC=F'),\n",
      "            (  'High', 'GC=F'),\n",
      "            (   'Low', 'GC=F'),\n",
      "            (  'Open', 'GC=F'),\n",
      "            ('Volume', 'GC=F')],\n",
      "           names=['Price', 'Ticker'])\n"
     ]
    },
    {
     "name": "stderr",
     "output_type": "stream",
     "text": [
      "[*********************100%***********************]  1 of 1 completed"
     ]
    },
    {
     "name": "stdout",
     "output_type": "stream",
     "text": [
      "Downloading data for 2022-09-21 (2022-09-06 to 2022-10-06)\n",
      "Downloaded data for ^GSPC:\n",
      "Price             Close         High          Low         Open      Volume\n",
      "Ticker            ^GSPC        ^GSPC        ^GSPC        ^GSPC       ^GSPC\n",
      "Date                                                                      \n",
      "2022-09-06  3908.189941  3942.550049  3886.750000  3930.889893  4127340000\n",
      "2022-09-07  3979.870117  3987.889893  3906.030029  3909.429932  3890320000\n",
      "2022-09-08  4006.179932  4010.500000  3944.810059  3959.939941  3966850000\n",
      "2022-09-09  4067.360107  4076.810059  4022.939941  4022.939941  3901940000\n",
      "2022-09-12  4110.410156  4119.279785  4083.669922  4083.669922  3814200000\n",
      "Warning: 'Adj Close' not found for ^GSPC. Available columns: MultiIndex([( 'Close', '^GSPC'),\n",
      "            (  'High', '^GSPC'),\n",
      "            (   'Low', '^GSPC'),\n",
      "            (  'Open', '^GSPC'),\n",
      "            ('Volume', '^GSPC')],\n",
      "           names=['Price', 'Ticker'])\n"
     ]
    },
    {
     "name": "stderr",
     "output_type": "stream",
     "text": [
      "\n",
      "[*********************100%***********************]  1 of 1 completed\n",
      "[*********************100%***********************]  1 of 1 completed\n"
     ]
    },
    {
     "name": "stdout",
     "output_type": "stream",
     "text": [
      "Downloaded data for ^IXIC:\n",
      "Price              Close          High           Low          Open      Volume\n",
      "Ticker             ^IXIC         ^IXIC         ^IXIC         ^IXIC       ^IXIC\n",
      "Date                                                                          \n",
      "2022-09-06  11544.910156  11679.429688  11471.500000  11643.030273  4622940000\n",
      "2022-09-07  11791.900391  11819.070312  11555.080078  11559.379883  4445640000\n",
      "2022-09-08  11862.129883  11896.730469  11660.530273  11679.860352  4329910000\n",
      "2022-09-09  12112.309570  12132.669922  11958.610352  11958.610352  4401590000\n",
      "2022-09-12  12266.410156  12270.190430  12169.280273  12174.940430  4146680000\n",
      "Warning: 'Adj Close' not found for ^IXIC. Available columns: MultiIndex([( 'Close', '^IXIC'),\n",
      "            (  'High', '^IXIC'),\n",
      "            (   'Low', '^IXIC'),\n",
      "            (  'Open', '^IXIC'),\n",
      "            ('Volume', '^IXIC')],\n",
      "           names=['Price', 'Ticker'])\n",
      "Downloaded data for ^DJI:\n",
      "Price              Close          High           Low          Open     Volume\n",
      "Ticker              ^DJI          ^DJI          ^DJI          ^DJI       ^DJI\n",
      "Date                                                                         \n",
      "2022-09-06  31145.300781  31463.890625  31048.460938  31343.789062  347320000\n",
      "2022-09-07  31581.279297  31644.339844  31095.210938  31145.630859  345080000\n",
      "2022-09-08  31774.519531  31783.369141  31321.500000  31481.949219  344340000\n",
      "2022-09-09  32151.710938  32227.740234  31876.220703  31876.220703  310980000\n",
      "2022-09-12  32381.339844  32504.039062  32159.490234  32159.490234  339250000\n",
      "Warning: 'Adj Close' not found for ^DJI. Available columns: MultiIndex([( 'Close', '^DJI'),\n",
      "            (  'High', '^DJI'),\n",
      "            (   'Low', '^DJI'),\n",
      "            (  'Open', '^DJI'),\n",
      "            ('Volume', '^DJI')],\n",
      "           names=['Price', 'Ticker'])\n",
      "Error downloading USD/EUR: Thank you for using Alpha Vantage! Our standard API rate limit is 25 requests per day. Please subscribe to any of the premium plans at https://www.alphavantage.co/premium/ to instantly remove all daily rate limits.\n",
      "Error downloading USD/JPY: Thank you for using Alpha Vantage! Our standard API rate limit is 25 requests per day. Please subscribe to any of the premium plans at https://www.alphavantage.co/premium/ to instantly remove all daily rate limits.\n"
     ]
    },
    {
     "name": "stderr",
     "output_type": "stream",
     "text": [
      "[*********************100%***********************]  1 of 1 completed\n"
     ]
    },
    {
     "name": "stdout",
     "output_type": "stream",
     "text": [
      "Downloaded Gold Data:\n",
      "Price             Close         High          Low         Open Volume\n",
      "Ticker             GC=F         GC=F         GC=F         GC=F   GC=F\n",
      "Date                                                                 \n",
      "2022-09-06  1700.400024  1717.400024  1699.699951  1709.699951    697\n",
      "2022-09-07  1715.300049  1715.300049  1694.699951  1694.800049    651\n",
      "2022-09-08  1708.000000  1718.199951  1705.300049  1718.199951   1193\n",
      "2022-09-09  1716.199951  1720.000000  1712.800049  1719.199951    635\n",
      "2022-09-12  1728.099976  1728.099976  1727.400024  1727.400024     68\n",
      "Warning: 'Adj Close' not found in gold data. Available columns: MultiIndex([( 'Close', 'GC=F'),\n",
      "            (  'High', 'GC=F'),\n",
      "            (   'Low', 'GC=F'),\n",
      "            (  'Open', 'GC=F'),\n",
      "            ('Volume', 'GC=F')],\n",
      "           names=['Price', 'Ticker'])\n"
     ]
    },
    {
     "name": "stderr",
     "output_type": "stream",
     "text": [
      "[*********************100%***********************]  1 of 1 completed"
     ]
    },
    {
     "name": "stdout",
     "output_type": "stream",
     "text": [
      "Downloading data for 2022-11-02 (2022-10-18 to 2022-11-17)\n",
      "Downloaded data for ^GSPC:\n",
      "Price             Close         High          Low         Open      Volume\n",
      "Ticker            ^GSPC        ^GSPC        ^GSPC        ^GSPC       ^GSPC\n",
      "Date                                                                      \n",
      "2022-10-18  3719.979980  3762.790039  3686.530029  3746.260010  4483740000\n",
      "2022-10-19  3695.159912  3728.580078  3666.510010  3703.110107  4223800000\n",
      "2022-10-20  3665.780029  3736.000000  3656.439941  3689.050049  4496620000\n",
      "2022-10-21  3752.750000  3757.889893  3647.419922  3657.100098  5078020000\n",
      "2022-10-24  3797.340088  3810.739990  3741.649902  3762.010010  4747930000\n",
      "Warning: 'Adj Close' not found for ^GSPC. Available columns: MultiIndex([( 'Close', '^GSPC'),\n",
      "            (  'High', '^GSPC'),\n",
      "            (   'Low', '^GSPC'),\n",
      "            (  'Open', '^GSPC'),\n",
      "            ('Volume', '^GSPC')],\n",
      "           names=['Price', 'Ticker'])\n"
     ]
    },
    {
     "name": "stderr",
     "output_type": "stream",
     "text": [
      "\n",
      "[*********************100%***********************]  1 of 1 completed\n",
      "[*********************100%***********************]  1 of 1 completed\n"
     ]
    },
    {
     "name": "stdout",
     "output_type": "stream",
     "text": [
      "Downloaded data for ^IXIC:\n",
      "Price              Close          High           Low          Open      Volume\n",
      "Ticker             ^IXIC         ^IXIC         ^IXIC         ^IXIC       ^IXIC\n",
      "Date                                                                          \n",
      "2022-10-18  10772.400391  10972.969727  10670.120117  10963.990234  5047360000\n",
      "2022-10-19  10680.509766  10808.040039  10592.879883  10689.309570  4955090000\n",
      "2022-10-20  10614.839844  10837.299805  10574.549805  10657.410156  4628010000\n",
      "2022-10-21  10859.719727  10875.719727  10542.429688  10576.040039  4706440000\n",
      "2022-10-24  10952.610352  10983.519531  10713.330078  10867.070312  4808710000\n",
      "Warning: 'Adj Close' not found for ^IXIC. Available columns: MultiIndex([( 'Close', '^IXIC'),\n",
      "            (  'High', '^IXIC'),\n",
      "            (   'Low', '^IXIC'),\n",
      "            (  'Open', '^IXIC'),\n",
      "            ('Volume', '^IXIC')],\n",
      "           names=['Price', 'Ticker'])\n",
      "Downloaded data for ^DJI:\n",
      "Price              Close          High           Low          Open     Volume\n",
      "Ticker              ^DJI          ^DJI          ^DJI          ^DJI       ^DJI\n",
      "Date                                                                         \n",
      "2022-10-18  30523.800781  30837.900391  30301.830078  30697.519531  387130000\n",
      "2022-10-19  30423.810547  30662.109375  30226.900391  30439.039062  314030000\n",
      "2022-10-20  30333.589844  30822.960938  30265.199219  30411.919922  333190000\n",
      "2022-10-21  31082.560547  31119.269531  30206.279297  30291.179688  418190000\n",
      "2022-10-24  31499.619141  31603.630859  31161.410156  31187.320312  345040000\n",
      "Warning: 'Adj Close' not found for ^DJI. Available columns: MultiIndex([( 'Close', '^DJI'),\n",
      "            (  'High', '^DJI'),\n",
      "            (   'Low', '^DJI'),\n",
      "            (  'Open', '^DJI'),\n",
      "            ('Volume', '^DJI')],\n",
      "           names=['Price', 'Ticker'])\n",
      "Error downloading USD/EUR: Thank you for using Alpha Vantage! Our standard API rate limit is 25 requests per day. Please subscribe to any of the premium plans at https://www.alphavantage.co/premium/ to instantly remove all daily rate limits.\n",
      "Error downloading USD/JPY: Thank you for using Alpha Vantage! Our standard API rate limit is 25 requests per day. Please subscribe to any of the premium plans at https://www.alphavantage.co/premium/ to instantly remove all daily rate limits.\n"
     ]
    },
    {
     "name": "stderr",
     "output_type": "stream",
     "text": [
      "[*********************100%***********************]  1 of 1 completed\n"
     ]
    },
    {
     "name": "stdout",
     "output_type": "stream",
     "text": [
      "Downloaded Gold Data:\n",
      "Price             Close         High          Low         Open Volume\n",
      "Ticker             GC=F         GC=F         GC=F         GC=F   GC=F\n",
      "Date                                                                 \n",
      "2022-10-18  1649.000000  1655.199951  1649.000000  1651.400024    597\n",
      "2022-10-19  1627.500000  1637.500000  1627.500000  1637.500000     84\n",
      "2022-10-20  1630.800049  1641.400024  1622.800049  1622.800049    477\n",
      "2022-10-21  1651.000000  1653.900024  1634.099976  1634.099976    224\n",
      "2022-10-24  1648.699951  1662.699951  1648.699951  1662.699951     29\n",
      "Warning: 'Adj Close' not found in gold data. Available columns: MultiIndex([( 'Close', 'GC=F'),\n",
      "            (  'High', 'GC=F'),\n",
      "            (   'Low', 'GC=F'),\n",
      "            (  'Open', 'GC=F'),\n",
      "            ('Volume', 'GC=F')],\n",
      "           names=['Price', 'Ticker'])\n"
     ]
    },
    {
     "name": "stderr",
     "output_type": "stream",
     "text": [
      "[*********************100%***********************]  1 of 1 completed"
     ]
    },
    {
     "name": "stdout",
     "output_type": "stream",
     "text": [
      "Downloading data for 2022-12-14 (2022-11-29 to 2022-12-29)\n",
      "Downloaded data for ^GSPC:\n",
      "Price             Close         High          Low         Open      Volume\n",
      "Ticker            ^GSPC        ^GSPC        ^GSPC        ^GSPC       ^GSPC\n",
      "Date                                                                      \n",
      "2022-11-29  3957.629883  3976.770020  3937.649902  3964.189941  3546040000\n",
      "2022-11-30  4080.110107  4080.110107  3938.580078  3957.179932  6579360000\n",
      "2022-12-01  4076.570068  4100.509766  4050.870117  4087.139893  4527130000\n",
      "2022-12-02  4071.699951  4080.479980  4026.629883  4040.169922  4012620000\n",
      "2022-12-05  3998.840088  4052.449951  3984.489990  4052.020020  4280820000\n",
      "Warning: 'Adj Close' not found for ^GSPC. Available columns: MultiIndex([( 'Close', '^GSPC'),\n",
      "            (  'High', '^GSPC'),\n",
      "            (   'Low', '^GSPC'),\n",
      "            (  'Open', '^GSPC'),\n",
      "            ('Volume', '^GSPC')],\n",
      "           names=['Price', 'Ticker'])\n"
     ]
    },
    {
     "name": "stderr",
     "output_type": "stream",
     "text": [
      "\n",
      "[*********************100%***********************]  1 of 1 completed\n",
      "[*********************100%***********************]  1 of 1 completed\n"
     ]
    },
    {
     "name": "stdout",
     "output_type": "stream",
     "text": [
      "Downloaded data for ^IXIC:\n",
      "Price              Close          High           Low          Open      Volume\n",
      "Ticker             ^IXIC         ^IXIC         ^IXIC         ^IXIC       ^IXIC\n",
      "Date                                                                          \n",
      "2022-11-29  10983.780273  11086.019531  10944.370117  11060.019531  4592830000\n",
      "2022-11-30  11468.000000  11468.469727  10966.530273  10995.200195  6653460000\n",
      "2022-12-01  11482.450195  11546.769531  11378.750000  11475.169922  5158120000\n",
      "2022-12-02  11461.500000  11492.320312  11296.719727  11308.379883  4523010000\n",
      "2022-12-05  11239.940430  11425.509766  11193.019531  11380.990234  4510030000\n",
      "Warning: 'Adj Close' not found for ^IXIC. Available columns: MultiIndex([( 'Close', '^IXIC'),\n",
      "            (  'High', '^IXIC'),\n",
      "            (   'Low', '^IXIC'),\n",
      "            (  'Open', '^IXIC'),\n",
      "            ('Volume', '^IXIC')],\n",
      "           names=['Price', 'Ticker'])\n",
      "Downloaded data for ^DJI:\n",
      "Price              Close          High           Low          Open     Volume\n",
      "Ticker              ^DJI          ^DJI          ^DJI          ^DJI       ^DJI\n",
      "Date                                                                         \n",
      "2022-11-29  33852.531250  33933.910156  33662.449219  33847.800781  279750000\n",
      "2022-11-30  34589.769531  34589.769531  33583.769531  33795.429688  524440000\n",
      "2022-12-01  34395.011719  34595.511719  34129.351562  34533.589844  348720000\n",
      "2022-12-02  34429.878906  34483.210938  34039.730469  34265.449219  290580000\n",
      "2022-12-05  33947.101562  34335.730469  33846.808594  34335.730469  312960000\n",
      "Warning: 'Adj Close' not found for ^DJI. Available columns: MultiIndex([( 'Close', '^DJI'),\n",
      "            (  'High', '^DJI'),\n",
      "            (   'Low', '^DJI'),\n",
      "            (  'Open', '^DJI'),\n",
      "            ('Volume', '^DJI')],\n",
      "           names=['Price', 'Ticker'])\n",
      "Error downloading USD/EUR: Thank you for using Alpha Vantage! Our standard API rate limit is 25 requests per day. Please subscribe to any of the premium plans at https://www.alphavantage.co/premium/ to instantly remove all daily rate limits.\n",
      "Error downloading USD/JPY: Thank you for using Alpha Vantage! Our standard API rate limit is 25 requests per day. Please subscribe to any of the premium plans at https://www.alphavantage.co/premium/ to instantly remove all daily rate limits.\n"
     ]
    },
    {
     "name": "stderr",
     "output_type": "stream",
     "text": [
      "[*********************100%***********************]  1 of 1 completed\n"
     ]
    },
    {
     "name": "stdout",
     "output_type": "stream",
     "text": [
      "Downloaded Gold Data:\n",
      "Price             Close         High          Low         Open Volume\n",
      "Ticker             GC=F         GC=F         GC=F         GC=F   GC=F\n",
      "Date                                                                 \n",
      "2022-11-29  1748.400024  1758.199951  1737.900024  1739.500000  19416\n",
      "2022-11-30  1746.000000  1769.400024  1745.099976  1748.099976   3339\n",
      "2022-12-01  1801.099976  1803.699951  1768.699951  1768.699951   1053\n",
      "2022-12-02  1795.900024  1802.300049  1779.400024  1802.000000   1725\n",
      "2022-12-05  1767.400024  1808.000000  1764.300049  1795.699951   1713\n",
      "Warning: 'Adj Close' not found in gold data. Available columns: MultiIndex([( 'Close', 'GC=F'),\n",
      "            (  'High', 'GC=F'),\n",
      "            (   'Low', 'GC=F'),\n",
      "            (  'Open', 'GC=F'),\n",
      "            ('Volume', 'GC=F')],\n",
      "           names=['Price', 'Ticker'])\n"
     ]
    },
    {
     "name": "stderr",
     "output_type": "stream",
     "text": [
      "[*********************100%***********************]  1 of 1 completed"
     ]
    },
    {
     "name": "stdout",
     "output_type": "stream",
     "text": [
      "Downloading data for 2023-02-01 (2023-01-17 to 2023-02-16)\n",
      "Downloaded data for ^GSPC:\n",
      "Price             Close         High          Low         Open      Volume\n",
      "Ticker            ^GSPC        ^GSPC        ^GSPC        ^GSPC       ^GSPC\n",
      "Date                                                                      \n",
      "2023-01-17  3990.969971  4015.389893  3984.570068  3999.280029  4235560000\n",
      "2023-01-18  3928.860107  4014.159912  3926.590088  4002.250000  4298710000\n",
      "2023-01-19  3898.850098  3922.939941  3885.540039  3911.840088  3991500000\n",
      "2023-01-20  3972.610107  3972.959961  3897.860107  3909.040039  4013360000\n",
      "2023-01-23  4019.810059  4039.310059  3971.639893  3978.139893  3945210000\n",
      "Warning: 'Adj Close' not found for ^GSPC. Available columns: MultiIndex([( 'Close', '^GSPC'),\n",
      "            (  'High', '^GSPC'),\n",
      "            (   'Low', '^GSPC'),\n",
      "            (  'Open', '^GSPC'),\n",
      "            ('Volume', '^GSPC')],\n",
      "           names=['Price', 'Ticker'])\n"
     ]
    },
    {
     "name": "stderr",
     "output_type": "stream",
     "text": [
      "\n",
      "[*********************100%***********************]  1 of 1 completed\n",
      "[*********************100%***********************]  1 of 1 completed\n"
     ]
    },
    {
     "name": "stdout",
     "output_type": "stream",
     "text": [
      "Downloaded data for ^IXIC:\n",
      "Price              Close          High           Low          Open      Volume\n",
      "Ticker             ^IXIC         ^IXIC         ^IXIC         ^IXIC       ^IXIC\n",
      "Date                                                                          \n",
      "2023-01-17  11095.110352  11145.440430  11024.719727  11070.000000  5138410000\n",
      "2023-01-18  10957.009766  11223.410156  10952.049805  11170.950195  5288630000\n",
      "2023-01-19  10852.269531  10932.519531  10804.570312  10890.400391  4660800000\n",
      "2023-01-20  11140.429688  11143.169922  10885.650391  10924.660156  5980110000\n",
      "2023-01-23  11364.410156  11405.500000  11144.030273  11171.940430  5997810000\n",
      "Warning: 'Adj Close' not found for ^IXIC. Available columns: MultiIndex([( 'Close', '^IXIC'),\n",
      "            (  'High', '^IXIC'),\n",
      "            (   'Low', '^IXIC'),\n",
      "            (  'Open', '^IXIC'),\n",
      "            ('Volume', '^IXIC')],\n",
      "           names=['Price', 'Ticker'])\n",
      "Downloaded data for ^DJI:\n",
      "Price              Close          High           Low          Open     Volume\n",
      "Ticker              ^DJI          ^DJI          ^DJI          ^DJI       ^DJI\n",
      "Date                                                                         \n",
      "2023-01-17  33910.851562  34269.968750  33860.671875  34222.320312  353050000\n",
      "2023-01-18  33296.960938  34016.531250  33269.898438  33948.488281  351670000\n",
      "2023-01-19  33044.558594  33227.488281  32982.050781  33171.351562  319770000\n",
      "2023-01-20  33375.488281  33381.949219  32948.929688  33073.460938  367330000\n",
      "2023-01-23  33629.558594  33782.878906  33316.250000  33439.558594  355220000\n",
      "Warning: 'Adj Close' not found for ^DJI. Available columns: MultiIndex([( 'Close', '^DJI'),\n",
      "            (  'High', '^DJI'),\n",
      "            (   'Low', '^DJI'),\n",
      "            (  'Open', '^DJI'),\n",
      "            ('Volume', '^DJI')],\n",
      "           names=['Price', 'Ticker'])\n",
      "Error downloading USD/EUR: Thank you for using Alpha Vantage! Our standard API rate limit is 25 requests per day. Please subscribe to any of the premium plans at https://www.alphavantage.co/premium/ to instantly remove all daily rate limits.\n",
      "Error downloading USD/JPY: Thank you for using Alpha Vantage! Our standard API rate limit is 25 requests per day. Please subscribe to any of the premium plans at https://www.alphavantage.co/premium/ to instantly remove all daily rate limits.\n"
     ]
    },
    {
     "name": "stderr",
     "output_type": "stream",
     "text": [
      "[*********************100%***********************]  1 of 1 completed\n"
     ]
    },
    {
     "name": "stdout",
     "output_type": "stream",
     "text": [
      "Downloaded Gold Data:\n",
      "Price             Close         High          Low         Open Volume\n",
      "Ticker             GC=F         GC=F         GC=F         GC=F   GC=F\n",
      "Date                                                                 \n",
      "2023-01-17  1907.199951  1920.099976  1905.199951  1920.099976    706\n",
      "2023-01-18  1904.400024  1911.099976  1903.099976  1911.099976   1027\n",
      "2023-01-19  1922.099976  1931.800049  1922.099976  1922.099976    371\n",
      "2023-01-20  1926.400024  1928.500000  1921.400024  1922.099976   1346\n",
      "2023-01-23  1927.099976  1927.099976  1915.000000  1926.500000    218\n",
      "Warning: 'Adj Close' not found in gold data. Available columns: MultiIndex([( 'Close', 'GC=F'),\n",
      "            (  'High', 'GC=F'),\n",
      "            (   'Low', 'GC=F'),\n",
      "            (  'Open', 'GC=F'),\n",
      "            ('Volume', 'GC=F')],\n",
      "           names=['Price', 'Ticker'])\n"
     ]
    },
    {
     "name": "stderr",
     "output_type": "stream",
     "text": [
      "[*********************100%***********************]  1 of 1 completed"
     ]
    },
    {
     "name": "stdout",
     "output_type": "stream",
     "text": [
      "Downloading data for 2023-03-22 (2023-03-07 to 2023-04-06)\n",
      "Downloaded data for ^GSPC:\n",
      "Price             Close         High          Low         Open      Volume\n",
      "Ticker            ^GSPC        ^GSPC        ^GSPC        ^GSPC       ^GSPC\n",
      "Date                                                                      \n",
      "2023-03-07  3986.370117  4050.000000  3980.310059  4048.260010  3922500000\n",
      "2023-03-08  3992.010010  4000.409912  3969.760010  3987.550049  3535570000\n",
      "2023-03-09  3918.320068  4017.810059  3908.699951  3998.659912  4445260000\n",
      "2023-03-10  3861.590088  3934.050049  3846.320068  3912.770020  5518190000\n",
      "2023-03-13  3855.760010  3905.050049  3808.860107  3835.120117  6558020000\n",
      "Warning: 'Adj Close' not found for ^GSPC. Available columns: MultiIndex([( 'Close', '^GSPC'),\n",
      "            (  'High', '^GSPC'),\n",
      "            (   'Low', '^GSPC'),\n",
      "            (  'Open', '^GSPC'),\n",
      "            ('Volume', '^GSPC')],\n",
      "           names=['Price', 'Ticker'])\n"
     ]
    },
    {
     "name": "stderr",
     "output_type": "stream",
     "text": [
      "\n",
      "[*********************100%***********************]  1 of 1 completed\n",
      "[*********************100%***********************]  1 of 1 completed\n"
     ]
    },
    {
     "name": "stdout",
     "output_type": "stream",
     "text": [
      "Downloaded data for ^IXIC:\n",
      "Price              Close          High           Low          Open      Volume\n",
      "Ticker             ^IXIC         ^IXIC         ^IXIC         ^IXIC       ^IXIC\n",
      "Date                                                                          \n",
      "2023-03-07  11530.330078  11705.959961  11512.030273  11670.980469  5422820000\n",
      "2023-03-08  11576.000000  11601.230469  11487.750000  11553.089844  5085970000\n",
      "2023-03-09  11338.349609  11667.120117  11319.980469  11578.309570  5061790000\n",
      "2023-03-10  11138.889648  11373.809570  11093.860352  11325.360352  6193500000\n",
      "2023-03-13  11188.839844  11326.730469  10982.799805  11041.459961  6201490000\n",
      "Warning: 'Adj Close' not found for ^IXIC. Available columns: MultiIndex([( 'Close', '^IXIC'),\n",
      "            (  'High', '^IXIC'),\n",
      "            (   'Low', '^IXIC'),\n",
      "            (  'Open', '^IXIC'),\n",
      "            ('Volume', '^IXIC')],\n",
      "           names=['Price', 'Ticker'])\n",
      "Downloaded data for ^DJI:\n",
      "Price              Close          High           Low          Open     Volume\n",
      "Ticker              ^DJI          ^DJI          ^DJI          ^DJI       ^DJI\n",
      "Date                                                                         \n",
      "2023-03-07  32856.460938  33453.250000  32838.210938  33428.308594  299400000\n",
      "2023-03-08  32798.398438  32903.441406  32612.699219  32872.078125  242750000\n",
      "2023-03-09  32254.859375  32990.460938  32190.599609  32876.828125  315860000\n",
      "2023-03-10  31909.640625  32422.099609  31783.410156  32185.140625  397790000\n",
      "2023-03-13  31819.140625  32240.349609  31624.869141  31819.929688  429090000\n",
      "Warning: 'Adj Close' not found for ^DJI. Available columns: MultiIndex([( 'Close', '^DJI'),\n",
      "            (  'High', '^DJI'),\n",
      "            (   'Low', '^DJI'),\n",
      "            (  'Open', '^DJI'),\n",
      "            ('Volume', '^DJI')],\n",
      "           names=['Price', 'Ticker'])\n",
      "Error downloading USD/EUR: Thank you for using Alpha Vantage! Our standard API rate limit is 25 requests per day. Please subscribe to any of the premium plans at https://www.alphavantage.co/premium/ to instantly remove all daily rate limits.\n",
      "Error downloading USD/JPY: Thank you for using Alpha Vantage! Our standard API rate limit is 25 requests per day. Please subscribe to any of the premium plans at https://www.alphavantage.co/premium/ to instantly remove all daily rate limits.\n"
     ]
    },
    {
     "name": "stderr",
     "output_type": "stream",
     "text": [
      "[*********************100%***********************]  1 of 1 completed\n"
     ]
    },
    {
     "name": "stdout",
     "output_type": "stream",
     "text": [
      "Downloaded Gold Data:\n",
      "Price             Close         High          Low         Open Volume\n",
      "Ticker             GC=F         GC=F         GC=F         GC=F   GC=F\n",
      "Date                                                                 \n",
      "2023-03-07  1813.900024  1840.900024  1813.900024  1840.900024    450\n",
      "2023-03-08  1812.699951  1812.900024  1811.500000  1811.599976     75\n",
      "2023-03-09  1829.300049  1829.300049  1815.599976  1816.400024    332\n",
      "2023-03-10  1862.000000  1868.500000  1852.000000  1852.300049    248\n",
      "2023-03-13  1911.699951  1913.099976  1875.099976  1890.800049    503\n",
      "Warning: 'Adj Close' not found in gold data. Available columns: MultiIndex([( 'Close', 'GC=F'),\n",
      "            (  'High', 'GC=F'),\n",
      "            (   'Low', 'GC=F'),\n",
      "            (  'Open', 'GC=F'),\n",
      "            ('Volume', 'GC=F')],\n",
      "           names=['Price', 'Ticker'])\n"
     ]
    },
    {
     "name": "stderr",
     "output_type": "stream",
     "text": [
      "[*********************100%***********************]  1 of 1 completed"
     ]
    },
    {
     "name": "stdout",
     "output_type": "stream",
     "text": [
      "Downloading data for 2023-05-03 (2023-04-18 to 2023-05-18)\n",
      "Downloaded data for ^GSPC:\n",
      "Price             Close         High          Low         Open      Volume\n",
      "Ticker            ^GSPC        ^GSPC        ^GSPC        ^GSPC       ^GSPC\n",
      "Date                                                                      \n",
      "2023-04-18  4154.870117  4169.479980  4140.359863  4164.259766  3536640000\n",
      "2023-04-19  4154.520020  4162.569824  4134.490234  4139.330078  3572560000\n",
      "2023-04-20  4129.790039  4148.569824  4114.569824  4130.479980  3772080000\n",
      "2023-04-21  4133.520020  4138.020020  4113.859863  4132.140137  3611750000\n",
      "2023-04-24  4137.040039  4142.410156  4117.770020  4132.069824  3290940000\n",
      "Warning: 'Adj Close' not found for ^GSPC. Available columns: MultiIndex([( 'Close', '^GSPC'),\n",
      "            (  'High', '^GSPC'),\n",
      "            (   'Low', '^GSPC'),\n",
      "            (  'Open', '^GSPC'),\n",
      "            ('Volume', '^GSPC')],\n",
      "           names=['Price', 'Ticker'])\n"
     ]
    },
    {
     "name": "stderr",
     "output_type": "stream",
     "text": [
      "\n",
      "[*********************100%***********************]  1 of 1 completed\n",
      "[*********************100%***********************]  1 of 1 completed\n"
     ]
    },
    {
     "name": "stdout",
     "output_type": "stream",
     "text": [
      "Downloaded data for ^IXIC:\n",
      "Price              Close          High           Low          Open      Volume\n",
      "Ticker             ^IXIC         ^IXIC         ^IXIC         ^IXIC       ^IXIC\n",
      "Date                                                                          \n",
      "2023-04-18  12153.410156  12245.429688  12110.230469  12234.559570  4851810000\n",
      "2023-04-19  12157.230469  12191.099609  12060.169922  12063.679688  4972700000\n",
      "2023-04-20  12059.559570  12155.959961  12011.950195  12039.080078  4590530000\n",
      "2023-04-21  12072.459961  12097.150391  11986.820312  12046.030273  4868050000\n",
      "2023-04-24  12037.200195  12103.580078  11960.299805  12053.469727  4854050000\n",
      "Warning: 'Adj Close' not found for ^IXIC. Available columns: MultiIndex([( 'Close', '^IXIC'),\n",
      "            (  'High', '^IXIC'),\n",
      "            (   'Low', '^IXIC'),\n",
      "            (  'Open', '^IXIC'),\n",
      "            ('Volume', '^IXIC')],\n",
      "           names=['Price', 'Ticker'])\n",
      "Downloaded data for ^DJI:\n",
      "Price              Close          High           Low          Open     Volume\n",
      "Ticker              ^DJI          ^DJI          ^DJI          ^DJI       ^DJI\n",
      "Date                                                                         \n",
      "2023-04-18  33976.628906  34018.621094  33791.890625  33965.160156  253570000\n",
      "2023-04-19  33897.011719  33957.980469  33814.648438  33889.828125  251490000\n",
      "2023-04-20  33786.621094  33875.390625  33677.738281  33740.601562  307910000\n",
      "2023-04-21  33808.960938  33858.828125  33688.570312  33793.601562  291080000\n",
      "2023-04-24  33875.398438  33891.148438  33726.089844  33805.039062  252020000\n",
      "Warning: 'Adj Close' not found for ^DJI. Available columns: MultiIndex([( 'Close', '^DJI'),\n",
      "            (  'High', '^DJI'),\n",
      "            (   'Low', '^DJI'),\n",
      "            (  'Open', '^DJI'),\n",
      "            ('Volume', '^DJI')],\n",
      "           names=['Price', 'Ticker'])\n",
      "Error downloading USD/EUR: Thank you for using Alpha Vantage! Our standard API rate limit is 25 requests per day. Please subscribe to any of the premium plans at https://www.alphavantage.co/premium/ to instantly remove all daily rate limits.\n",
      "Error downloading USD/JPY: Thank you for using Alpha Vantage! Our standard API rate limit is 25 requests per day. Please subscribe to any of the premium plans at https://www.alphavantage.co/premium/ to instantly remove all daily rate limits.\n"
     ]
    },
    {
     "name": "stderr",
     "output_type": "stream",
     "text": [
      "[*********************100%***********************]  1 of 1 completed\n"
     ]
    },
    {
     "name": "stdout",
     "output_type": "stream",
     "text": [
      "Downloaded Gold Data:\n",
      "Price             Close         High          Low         Open Volume\n",
      "Ticker             GC=F         GC=F         GC=F         GC=F   GC=F\n",
      "Date                                                                 \n",
      "2023-04-18  2007.400024  2007.400024  1996.900024  1996.900024     72\n",
      "2023-04-19  1995.199951  2006.400024  1969.800049  2005.699951     61\n",
      "2023-04-20  2007.599976  2007.599976  1998.000000  1998.000000    164\n",
      "2023-04-21  1979.500000  1996.199951  1974.099976  1996.199951    132\n",
      "2023-04-24  1989.099976  1989.800049  1977.400024  1981.300049    145\n",
      "Warning: 'Adj Close' not found in gold data. Available columns: MultiIndex([( 'Close', 'GC=F'),\n",
      "            (  'High', 'GC=F'),\n",
      "            (   'Low', 'GC=F'),\n",
      "            (  'Open', 'GC=F'),\n",
      "            ('Volume', 'GC=F')],\n",
      "           names=['Price', 'Ticker'])\n"
     ]
    },
    {
     "name": "stderr",
     "output_type": "stream",
     "text": [
      "[*********************100%***********************]  1 of 1 completed"
     ]
    },
    {
     "name": "stdout",
     "output_type": "stream",
     "text": [
      "Downloading data for 2023-06-14 (2023-05-30 to 2023-06-29)\n",
      "Downloaded data for ^GSPC:\n",
      "Price             Close         High          Low         Open      Volume\n",
      "Ticker            ^GSPC        ^GSPC        ^GSPC        ^GSPC       ^GSPC\n",
      "Date                                                                      \n",
      "2023-05-30  4205.520020  4231.100098  4192.180176  4226.709961  4228510000\n",
      "2023-05-31  4179.830078  4195.439941  4166.149902  4190.740234  5980670000\n",
      "2023-06-01  4221.020020  4232.430176  4171.640137  4183.029785  4391860000\n",
      "2023-06-02  4282.370117  4290.669922  4241.009766  4241.009766  4454200000\n",
      "2023-06-05  4273.790039  4299.279785  4266.819824  4282.990234  3813290000\n",
      "Warning: 'Adj Close' not found for ^GSPC. Available columns: MultiIndex([( 'Close', '^GSPC'),\n",
      "            (  'High', '^GSPC'),\n",
      "            (   'Low', '^GSPC'),\n",
      "            (  'Open', '^GSPC'),\n",
      "            ('Volume', '^GSPC')],\n",
      "           names=['Price', 'Ticker'])\n"
     ]
    },
    {
     "name": "stderr",
     "output_type": "stream",
     "text": [
      "\n",
      "[*********************100%***********************]  1 of 1 completed\n",
      "[*********************100%***********************]  1 of 1 completed\n"
     ]
    },
    {
     "name": "stdout",
     "output_type": "stream",
     "text": [
      "Downloaded data for ^IXIC:\n",
      "Price              Close          High           Low          Open      Volume\n",
      "Ticker             ^IXIC         ^IXIC         ^IXIC         ^IXIC       ^IXIC\n",
      "Date                                                                          \n",
      "2023-05-30  13017.429688  13154.290039  12968.120117  13109.099609  4843470000\n",
      "2023-05-31  12935.290039  13029.080078  12889.370117  12968.379883  5905760000\n",
      "2023-06-01  13100.980469  13141.830078  12903.629883  12944.459961  4610310000\n",
      "2023-06-02  13240.769531  13256.209961  13125.860352  13190.480469  4426760000\n",
      "2023-06-05  13229.429688  13330.650391  13194.950195  13238.480469  4344280000\n",
      "Warning: 'Adj Close' not found for ^IXIC. Available columns: MultiIndex([( 'Close', '^IXIC'),\n",
      "            (  'High', '^IXIC'),\n",
      "            (   'Low', '^IXIC'),\n",
      "            (  'Open', '^IXIC'),\n",
      "            ('Volume', '^IXIC')],\n",
      "           names=['Price', 'Ticker'])\n",
      "Downloaded data for ^DJI:\n",
      "Price              Close          High           Low          Open     Volume\n",
      "Ticker              ^DJI          ^DJI          ^DJI          ^DJI       ^DJI\n",
      "Date                                                                         \n",
      "2023-05-30  33042.781250  33132.699219  32893.968750  33103.648438  322700000\n",
      "2023-05-31  32908.269531  32984.828125  32739.730469  32948.710938  689990000\n",
      "2023-06-01  33061.570312  33167.750000  32704.509766  32929.851562  349460000\n",
      "2023-06-02  33762.761719  33805.000000  33187.578125  33187.578125  383590000\n",
      "2023-06-05  33562.859375  33804.218750  33552.789062  33771.128906  367170000\n",
      "Warning: 'Adj Close' not found for ^DJI. Available columns: MultiIndex([( 'Close', '^DJI'),\n",
      "            (  'High', '^DJI'),\n",
      "            (   'Low', '^DJI'),\n",
      "            (  'Open', '^DJI'),\n",
      "            ('Volume', '^DJI')],\n",
      "           names=['Price', 'Ticker'])\n",
      "Error downloading USD/EUR: Thank you for using Alpha Vantage! Our standard API rate limit is 25 requests per day. Please subscribe to any of the premium plans at https://www.alphavantage.co/premium/ to instantly remove all daily rate limits.\n",
      "Error downloading USD/JPY: Thank you for using Alpha Vantage! Our standard API rate limit is 25 requests per day. Please subscribe to any of the premium plans at https://www.alphavantage.co/premium/ to instantly remove all daily rate limits.\n"
     ]
    },
    {
     "name": "stderr",
     "output_type": "stream",
     "text": [
      "[*********************100%***********************]  1 of 1 completed\n"
     ]
    },
    {
     "name": "stdout",
     "output_type": "stream",
     "text": [
      "Downloaded Gold Data:\n",
      "Price             Close         High          Low         Open Volume\n",
      "Ticker             GC=F         GC=F         GC=F         GC=F   GC=F\n",
      "Date                                                                 \n",
      "2023-05-30  1958.000000  1962.599976  1931.000000  1942.699951  37838\n",
      "2023-05-31  1963.900024  1973.000000  1953.000000  1958.199951   5959\n",
      "2023-06-01  1978.000000  1983.000000  1954.300049  1963.199951    750\n",
      "2023-06-02  1952.400024  1982.500000  1947.400024  1977.099976    356\n",
      "2023-06-05  1958.000000  1961.900024  1937.800049  1947.500000    713\n",
      "Warning: 'Adj Close' not found in gold data. Available columns: MultiIndex([( 'Close', 'GC=F'),\n",
      "            (  'High', 'GC=F'),\n",
      "            (   'Low', 'GC=F'),\n",
      "            (  'Open', 'GC=F'),\n",
      "            ('Volume', 'GC=F')],\n",
      "           names=['Price', 'Ticker'])\n"
     ]
    },
    {
     "name": "stderr",
     "output_type": "stream",
     "text": [
      "[*********************100%***********************]  1 of 1 completed"
     ]
    },
    {
     "name": "stdout",
     "output_type": "stream",
     "text": [
      "Downloading data for 2023-07-26 (2023-07-11 to 2023-08-10)\n",
      "Downloaded data for ^GSPC:\n",
      "Price             Close         High          Low         Open      Volume\n",
      "Ticker            ^GSPC        ^GSPC        ^GSPC        ^GSPC       ^GSPC\n",
      "Date                                                                      \n",
      "2023-07-11  4439.259766  4443.640137  4408.459961  4415.549805  3624220000\n",
      "2023-07-12  4472.160156  4488.339844  4463.229980  4467.689941  3920290000\n",
      "2023-07-13  4510.040039  4517.379883  4489.359863  4491.500000  3839530000\n",
      "2023-07-14  4505.419922  4527.759766  4499.560059  4514.609863  3647450000\n",
      "2023-07-17  4522.790039  4532.850098  4504.899902  4508.859863  3538240000\n",
      "Warning: 'Adj Close' not found for ^GSPC. Available columns: MultiIndex([( 'Close', '^GSPC'),\n",
      "            (  'High', '^GSPC'),\n",
      "            (   'Low', '^GSPC'),\n",
      "            (  'Open', '^GSPC'),\n",
      "            ('Volume', '^GSPC')],\n",
      "           names=['Price', 'Ticker'])\n"
     ]
    },
    {
     "name": "stderr",
     "output_type": "stream",
     "text": [
      "\n",
      "[*********************100%***********************]  1 of 1 completed\n",
      "[*********************100%***********************]  1 of 1 completed\n"
     ]
    },
    {
     "name": "stdout",
     "output_type": "stream",
     "text": [
      "Downloaded data for ^IXIC:\n",
      "Price              Close          High           Low          Open      Volume\n",
      "Ticker             ^IXIC         ^IXIC         ^IXIC         ^IXIC       ^IXIC\n",
      "Date                                                                          \n",
      "2023-07-11  13760.700195  13774.830078  13643.320312  13709.809570  4840950000\n",
      "2023-07-12  13918.959961  13963.450195  13842.129883  13915.639648  5230620000\n",
      "2023-07-13  14138.570312  14163.799805  14012.240234  14021.150391  5183560000\n",
      "2023-07-14  14113.700195  14232.110352  14081.959961  14166.660156  5366890000\n",
      "2023-07-17  14244.950195  14274.410156  14138.009766  14149.919922  4593160000\n",
      "Warning: 'Adj Close' not found for ^IXIC. Available columns: MultiIndex([( 'Close', '^IXIC'),\n",
      "            (  'High', '^IXIC'),\n",
      "            (   'Low', '^IXIC'),\n",
      "            (  'Open', '^IXIC'),\n",
      "            ('Volume', '^IXIC')],\n",
      "           names=['Price', 'Ticker'])\n",
      "Downloaded data for ^DJI:\n",
      "Price              Close          High           Low          Open     Volume\n",
      "Ticker              ^DJI          ^DJI          ^DJI          ^DJI       ^DJI\n",
      "Date                                                                         \n",
      "2023-07-11  34261.421875  34288.871094  33993.011719  34056.941406  278940000\n",
      "2023-07-12  34347.429688  34586.941406  34308.781250  34395.281250  331410000\n",
      "2023-07-13  34395.140625  34482.261719  34365.328125  34412.308594  267180000\n",
      "2023-07-14  34509.031250  34592.261719  34425.328125  34425.328125  293540000\n",
      "2023-07-17  34585.351562  34665.148438  34418.718750  34499.738281  359780000\n",
      "Warning: 'Adj Close' not found for ^DJI. Available columns: MultiIndex([( 'Close', '^DJI'),\n",
      "            (  'High', '^DJI'),\n",
      "            (   'Low', '^DJI'),\n",
      "            (  'Open', '^DJI'),\n",
      "            ('Volume', '^DJI')],\n",
      "           names=['Price', 'Ticker'])\n",
      "Error downloading USD/EUR: Thank you for using Alpha Vantage! Our standard API rate limit is 25 requests per day. Please subscribe to any of the premium plans at https://www.alphavantage.co/premium/ to instantly remove all daily rate limits.\n",
      "Error downloading USD/JPY: Thank you for using Alpha Vantage! Our standard API rate limit is 25 requests per day. Please subscribe to any of the premium plans at https://www.alphavantage.co/premium/ to instantly remove all daily rate limits.\n"
     ]
    },
    {
     "name": "stderr",
     "output_type": "stream",
     "text": [
      "[*********************100%***********************]  1 of 1 completed\n"
     ]
    },
    {
     "name": "stdout",
     "output_type": "stream",
     "text": [
      "Downloaded Gold Data:\n",
      "Price             Close         High          Low         Open Volume\n",
      "Ticker             GC=F         GC=F         GC=F         GC=F   GC=F\n",
      "Date                                                                 \n",
      "2023-07-11  1931.300049  1937.000000  1924.199951  1925.000000    142\n",
      "2023-07-12  1956.199951  1958.000000  1932.199951  1932.300049    132\n",
      "2023-07-13  1959.199951  1961.099976  1953.000000  1961.099976    121\n",
      "2023-07-14  1960.099976  1960.599976  1952.699951  1958.400024     94\n",
      "2023-07-17  1952.400024  1956.500000  1946.599976  1954.000000     29\n",
      "Warning: 'Adj Close' not found in gold data. Available columns: MultiIndex([( 'Close', 'GC=F'),\n",
      "            (  'High', 'GC=F'),\n",
      "            (   'Low', 'GC=F'),\n",
      "            (  'Open', 'GC=F'),\n",
      "            ('Volume', 'GC=F')],\n",
      "           names=['Price', 'Ticker'])\n"
     ]
    },
    {
     "name": "stderr",
     "output_type": "stream",
     "text": [
      "[*********************100%***********************]  1 of 1 completed"
     ]
    },
    {
     "name": "stdout",
     "output_type": "stream",
     "text": [
      "Downloading data for 2023-09-20 (2023-09-05 to 2023-10-05)\n",
      "Downloaded data for ^GSPC:\n",
      "Price             Close         High          Low         Open      Volume\n",
      "Ticker            ^GSPC        ^GSPC        ^GSPC        ^GSPC       ^GSPC\n",
      "Date                                                                      \n",
      "2023-09-05  4496.830078  4514.290039  4496.009766  4510.060059  3526250000\n",
      "2023-09-06  4465.479980  4490.350098  4442.379883  4490.350098  3418850000\n",
      "2023-09-07  4451.140137  4457.810059  4430.459961  4434.549805  3763760000\n",
      "2023-09-08  4457.490234  4473.529785  4448.379883  4451.299805  3259290000\n",
      "2023-09-11  4487.459961  4490.770020  4467.890137  4480.979980  3369920000\n",
      "Warning: 'Adj Close' not found for ^GSPC. Available columns: MultiIndex([( 'Close', '^GSPC'),\n",
      "            (  'High', '^GSPC'),\n",
      "            (   'Low', '^GSPC'),\n",
      "            (  'Open', '^GSPC'),\n",
      "            ('Volume', '^GSPC')],\n",
      "           names=['Price', 'Ticker'])\n"
     ]
    },
    {
     "name": "stderr",
     "output_type": "stream",
     "text": [
      "\n",
      "[*********************100%***********************]  1 of 1 completed\n",
      "[*********************100%***********************]  1 of 1 completed\n"
     ]
    },
    {
     "name": "stdout",
     "output_type": "stream",
     "text": [
      "Downloaded data for ^IXIC:\n",
      "Price              Close          High           Low          Open      Volume\n",
      "Ticker             ^IXIC         ^IXIC         ^IXIC         ^IXIC       ^IXIC\n",
      "Date                                                                          \n",
      "2023-09-05  14020.950195  14060.849609  13945.650391  13994.540039  4379790000\n",
      "2023-09-06  13872.469727  14001.950195  13802.419922  13988.809570  4215320000\n",
      "2023-09-07  13748.830078  13774.629883  13642.469727  13675.110352  4320830000\n",
      "2023-09-08  13761.530273  13843.370117  13733.179688  13754.709961  4160360000\n",
      "2023-09-11  13917.889648  13937.469727  13805.129883  13884.030273  4538870000\n",
      "Warning: 'Adj Close' not found for ^IXIC. Available columns: MultiIndex([( 'Close', '^IXIC'),\n",
      "            (  'High', '^IXIC'),\n",
      "            (   'Low', '^IXIC'),\n",
      "            (  'Open', '^IXIC'),\n",
      "            ('Volume', '^IXIC')],\n",
      "           names=['Price', 'Ticker'])\n",
      "Downloaded data for ^DJI:\n",
      "Price              Close          High           Low          Open     Volume\n",
      "Ticker              ^DJI          ^DJI          ^DJI          ^DJI       ^DJI\n",
      "Date                                                                         \n",
      "2023-09-05  34641.968750  34871.261719  34635.628906  34843.218750  283540000\n",
      "2023-09-06  34443.191406  34611.679688  34291.558594  34611.679688  308900000\n",
      "2023-09-07  34500.730469  34560.859375  34351.179688  34351.179688  386980000\n",
      "2023-09-08  34576.589844  34627.851562  34473.570312  34487.410156  293990000\n",
      "2023-09-11  34663.718750  34784.519531  34578.589844  34650.011719  291720000\n",
      "Warning: 'Adj Close' not found for ^DJI. Available columns: MultiIndex([( 'Close', '^DJI'),\n",
      "            (  'High', '^DJI'),\n",
      "            (   'Low', '^DJI'),\n",
      "            (  'Open', '^DJI'),\n",
      "            ('Volume', '^DJI')],\n",
      "           names=['Price', 'Ticker'])\n",
      "Error downloading USD/EUR: Thank you for using Alpha Vantage! Our standard API rate limit is 25 requests per day. Please subscribe to any of the premium plans at https://www.alphavantage.co/premium/ to instantly remove all daily rate limits.\n",
      "Error downloading USD/JPY: Thank you for using Alpha Vantage! Our standard API rate limit is 25 requests per day. Please subscribe to any of the premium plans at https://www.alphavantage.co/premium/ to instantly remove all daily rate limits.\n"
     ]
    },
    {
     "name": "stderr",
     "output_type": "stream",
     "text": [
      "[*********************100%***********************]  1 of 1 completed\n"
     ]
    },
    {
     "name": "stdout",
     "output_type": "stream",
     "text": [
      "Downloaded Gold Data:\n",
      "Price             Close         High          Low         Open Volume\n",
      "Ticker             GC=F         GC=F         GC=F         GC=F   GC=F\n",
      "Date                                                                 \n",
      "2023-09-05  1926.199951  1934.400024  1924.699951  1934.400024    113\n",
      "2023-09-06  1918.099976  1925.300049  1916.300049  1924.099976     24\n",
      "2023-09-07  1917.500000  1921.500000  1917.500000  1917.599976     41\n",
      "2023-09-08  1918.400024  1924.699951  1918.400024  1924.000000    105\n",
      "2023-09-11  1923.300049  1928.300049  1921.800049  1923.000000     50\n",
      "Warning: 'Adj Close' not found in gold data. Available columns: MultiIndex([( 'Close', 'GC=F'),\n",
      "            (  'High', 'GC=F'),\n",
      "            (   'Low', 'GC=F'),\n",
      "            (  'Open', 'GC=F'),\n",
      "            ('Volume', 'GC=F')],\n",
      "           names=['Price', 'Ticker'])\n"
     ]
    },
    {
     "name": "stderr",
     "output_type": "stream",
     "text": [
      "[*********************100%***********************]  1 of 1 completed"
     ]
    },
    {
     "name": "stdout",
     "output_type": "stream",
     "text": [
      "Downloading data for 2023-11-01 (2023-10-17 to 2023-11-16)\n",
      "Downloaded data for ^GSPC:\n",
      "Price             Close         High          Low         Open      Volume\n",
      "Ticker            ^GSPC        ^GSPC        ^GSPC        ^GSPC       ^GSPC\n",
      "Date                                                                      \n",
      "2023-10-17  4373.200195  4393.569824  4337.540039  4345.229980  3794850000\n",
      "2023-10-18  4314.600098  4364.200195  4303.839844  4357.350098  3686030000\n",
      "2023-10-19  4278.000000  4339.540039  4269.689941  4321.359863  3969730000\n",
      "2023-10-20  4224.160156  4276.560059  4223.029785  4273.850098  4004030000\n",
      "2023-10-23  4217.040039  4255.839844  4189.220215  4210.399902  3776100000\n",
      "Warning: 'Adj Close' not found for ^GSPC. Available columns: MultiIndex([( 'Close', '^GSPC'),\n",
      "            (  'High', '^GSPC'),\n",
      "            (   'Low', '^GSPC'),\n",
      "            (  'Open', '^GSPC'),\n",
      "            ('Volume', '^GSPC')],\n",
      "           names=['Price', 'Ticker'])\n"
     ]
    },
    {
     "name": "stderr",
     "output_type": "stream",
     "text": [
      "\n",
      "[*********************100%***********************]  1 of 1 completed\n",
      "[*********************100%***********************]  1 of 1 completed\n"
     ]
    },
    {
     "name": "stdout",
     "output_type": "stream",
     "text": [
      "Downloaded data for ^IXIC:\n",
      "Price              Close          High           Low          Open      Volume\n",
      "Ticker             ^IXIC         ^IXIC         ^IXIC         ^IXIC       ^IXIC\n",
      "Date                                                                          \n",
      "2023-10-17  13533.750000  13602.250000  13364.740234  13419.870117  4417640000\n",
      "2023-10-18  13314.299805  13499.740234  13275.299805  13439.679688  4617140000\n",
      "2023-10-19  13186.179688  13404.730469  13157.330078  13354.799805  5014790000\n",
      "2023-10-20  12983.809570  13177.349609  12977.429688  13157.769531  4622840000\n",
      "2023-10-23  13018.330078  13143.219727  12848.830078  12930.849609  4669060000\n",
      "Warning: 'Adj Close' not found for ^IXIC. Available columns: MultiIndex([( 'Close', '^IXIC'),\n",
      "            (  'High', '^IXIC'),\n",
      "            (   'Low', '^IXIC'),\n",
      "            (  'Open', '^IXIC'),\n",
      "            ('Volume', '^IXIC')],\n",
      "           names=['Price', 'Ticker'])\n",
      "Downloaded data for ^DJI:\n",
      "Price              Close          High           Low          Open     Volume\n",
      "Ticker              ^DJI          ^DJI          ^DJI          ^DJI       ^DJI\n",
      "Date                                                                         \n",
      "2023-10-17  33997.648438  34147.628906  33854.699219  33869.839844  281010000\n",
      "2023-10-18  33665.078125  33991.511719  33598.640625  33960.250000  285410000\n",
      "2023-10-19  33414.171875  33852.390625  33368.578125  33669.519531  304320000\n",
      "2023-10-20  33127.281250  33425.769531  33118.121094  33365.269531  325530000\n",
      "2023-10-23  32936.410156  33234.851562  32892.191406  32993.019531  342500000\n",
      "Warning: 'Adj Close' not found for ^DJI. Available columns: MultiIndex([( 'Close', '^DJI'),\n",
      "            (  'High', '^DJI'),\n",
      "            (   'Low', '^DJI'),\n",
      "            (  'Open', '^DJI'),\n",
      "            ('Volume', '^DJI')],\n",
      "           names=['Price', 'Ticker'])\n",
      "Error downloading USD/EUR: Thank you for using Alpha Vantage! Our standard API rate limit is 25 requests per day. Please subscribe to any of the premium plans at https://www.alphavantage.co/premium/ to instantly remove all daily rate limits.\n",
      "Error downloading USD/JPY: Thank you for using Alpha Vantage! Our standard API rate limit is 25 requests per day. Please subscribe to any of the premium plans at https://www.alphavantage.co/premium/ to instantly remove all daily rate limits.\n"
     ]
    },
    {
     "name": "stderr",
     "output_type": "stream",
     "text": [
      "[*********************100%***********************]  1 of 1 completed\n"
     ]
    },
    {
     "name": "stdout",
     "output_type": "stream",
     "text": [
      "Downloaded Gold Data:\n",
      "Price             Close         High          Low         Open Volume\n",
      "Ticker             GC=F         GC=F         GC=F         GC=F   GC=F\n",
      "Date                                                                 \n",
      "2023-10-17  1922.699951  1925.800049  1914.300049  1914.300049    103\n",
      "2023-10-18  1955.300049  1957.900024  1935.000000  1935.000000     67\n",
      "2023-10-19  1968.400024  1977.699951  1945.699951  1950.099976   1945\n",
      "2023-10-20  1982.500000  1988.599976  1980.400024  1981.099976    557\n",
      "2023-10-23  1976.300049  1978.900024  1972.900024  1976.199951    127\n",
      "Warning: 'Adj Close' not found in gold data. Available columns: MultiIndex([( 'Close', 'GC=F'),\n",
      "            (  'High', 'GC=F'),\n",
      "            (   'Low', 'GC=F'),\n",
      "            (  'Open', 'GC=F'),\n",
      "            ('Volume', 'GC=F')],\n",
      "           names=['Price', 'Ticker'])\n"
     ]
    },
    {
     "name": "stderr",
     "output_type": "stream",
     "text": [
      "[*********************100%***********************]  1 of 1 completed"
     ]
    },
    {
     "name": "stdout",
     "output_type": "stream",
     "text": [
      "Downloading data for 2023-12-13 (2023-11-28 to 2023-12-28)\n",
      "Downloaded data for ^GSPC:\n",
      "Price             Close         High          Low         Open      Volume\n",
      "Ticker            ^GSPC        ^GSPC        ^GSPC        ^GSPC       ^GSPC\n",
      "Date                                                                      \n",
      "2023-11-28  4554.890137  4568.140137  4540.509766  4545.549805  3586240000\n",
      "2023-11-29  4550.580078  4587.640137  4547.149902  4571.839844  4418760000\n",
      "2023-11-30  4567.799805  4569.890137  4537.240234  4554.870117  5399300000\n",
      "2023-12-01  4594.629883  4599.390137  4554.709961  4559.430176  4397120000\n",
      "2023-12-04  4569.779785  4572.370117  4546.720215  4564.370117  4369910000\n",
      "Warning: 'Adj Close' not found for ^GSPC. Available columns: MultiIndex([( 'Close', '^GSPC'),\n",
      "            (  'High', '^GSPC'),\n",
      "            (   'Low', '^GSPC'),\n",
      "            (  'Open', '^GSPC'),\n",
      "            ('Volume', '^GSPC')],\n",
      "           names=['Price', 'Ticker'])\n"
     ]
    },
    {
     "name": "stderr",
     "output_type": "stream",
     "text": [
      "\n",
      "[*********************100%***********************]  1 of 1 completed\n",
      "[*********************100%***********************]  1 of 1 completed\n"
     ]
    },
    {
     "name": "stdout",
     "output_type": "stream",
     "text": [
      "Downloaded data for ^IXIC:\n",
      "Price              Close          High           Low          Open      Volume\n",
      "Ticker             ^IXIC         ^IXIC         ^IXIC         ^IXIC       ^IXIC\n",
      "Date                                                                          \n",
      "2023-11-28  14281.759766  14303.660156  14195.719727  14224.629883  4474400000\n",
      "2023-11-29  14258.490234  14423.219727  14247.889648  14367.110352  4890220000\n",
      "2023-11-30  14226.219727  14289.200195  14127.049805  14265.049805  5678070000\n",
      "2023-12-01  14305.030273  14311.950195  14135.000000  14181.349609  5607000000\n",
      "2023-12-04  14185.490234  14197.519531  14058.519531  14168.660156  6270020000\n",
      "Warning: 'Adj Close' not found for ^IXIC. Available columns: MultiIndex([( 'Close', '^IXIC'),\n",
      "            (  'High', '^IXIC'),\n",
      "            (   'Low', '^IXIC'),\n",
      "            (  'Open', '^IXIC'),\n",
      "            ('Volume', '^IXIC')],\n",
      "           names=['Price', 'Ticker'])\n",
      "Downloaded data for ^DJI:\n",
      "Price              Close          High           Low          Open     Volume\n",
      "Ticker              ^DJI          ^DJI          ^DJI          ^DJI       ^DJI\n",
      "Date                                                                         \n",
      "2023-11-28  35416.980469  35518.671875  35307.730469  35332.128906  256210000\n",
      "2023-11-29  35430.421875  35579.128906  35405.890625  35436.800781  299330000\n",
      "2023-11-30  35950.890625  35970.699219  35592.218750  35596.570312  435540000\n",
      "2023-12-01  36245.500000  36264.851562  35914.449219  35914.449219  321840000\n",
      "2023-12-04  36204.441406  36238.179688  36029.691406  36089.378906  329450000\n",
      "Warning: 'Adj Close' not found for ^DJI. Available columns: MultiIndex([( 'Close', '^DJI'),\n",
      "            (  'High', '^DJI'),\n",
      "            (   'Low', '^DJI'),\n",
      "            (  'Open', '^DJI'),\n",
      "            ('Volume', '^DJI')],\n",
      "           names=['Price', 'Ticker'])\n",
      "Error downloading USD/EUR: Thank you for using Alpha Vantage! Our standard API rate limit is 25 requests per day. Please subscribe to any of the premium plans at https://www.alphavantage.co/premium/ to instantly remove all daily rate limits.\n",
      "Error downloading USD/JPY: Thank you for using Alpha Vantage! Our standard API rate limit is 25 requests per day. Please subscribe to any of the premium plans at https://www.alphavantage.co/premium/ to instantly remove all daily rate limits.\n"
     ]
    },
    {
     "name": "stderr",
     "output_type": "stream",
     "text": [
      "[*********************100%***********************]  1 of 1 completed\n"
     ]
    },
    {
     "name": "stdout",
     "output_type": "stream",
     "text": [
      "Downloaded Gold Data:\n",
      "Price             Close         High          Low         Open  Volume\n",
      "Ticker             GC=F         GC=F         GC=F         GC=F    GC=F\n",
      "Date                                                                  \n",
      "2023-11-28  2039.699951  2042.699951  2039.699951  2040.599976  174665\n",
      "2023-11-29  2047.099976  2052.100098  2036.000000  2041.699951   15290\n",
      "2023-11-30  2038.099976  2047.099976  2033.099976  2046.099976    2506\n",
      "2023-12-01  2071.000000  2073.199951  2036.000000  2038.300049     614\n",
      "2023-12-04  2024.099976  2130.199951  2021.000000  2075.300049    1071\n",
      "Warning: 'Adj Close' not found in gold data. Available columns: MultiIndex([( 'Close', 'GC=F'),\n",
      "            (  'High', 'GC=F'),\n",
      "            (   'Low', 'GC=F'),\n",
      "            (  'Open', 'GC=F'),\n",
      "            ('Volume', 'GC=F')],\n",
      "           names=['Price', 'Ticker'])\n"
     ]
    },
    {
     "name": "stderr",
     "output_type": "stream",
     "text": [
      "[*********************100%***********************]  1 of 1 completed"
     ]
    },
    {
     "name": "stdout",
     "output_type": "stream",
     "text": [
      "Downloading data for 2024-01-31 (2024-01-16 to 2024-02-15)\n",
      "Downloaded data for ^GSPC:\n",
      "Price             Close         High          Low         Open      Volume\n",
      "Ticker            ^GSPC        ^GSPC        ^GSPC        ^GSPC       ^GSPC\n",
      "Date                                                                      \n",
      "2024-01-16  4765.979980  4782.339844  4747.120117  4772.350098  4260550000\n",
      "2024-01-17  4739.209961  4744.229980  4714.819824  4739.129883  3928600000\n",
      "2024-01-18  4780.939941  4785.790039  4740.569824  4760.100098  4019000000\n",
      "2024-01-19  4839.810059  4842.069824  4785.870117  4796.279785  4287200000\n",
      "2024-01-22  4850.430176  4868.410156  4844.049805  4853.419922  4297610000\n",
      "Warning: 'Adj Close' not found for ^GSPC. Available columns: MultiIndex([( 'Close', '^GSPC'),\n",
      "            (  'High', '^GSPC'),\n",
      "            (   'Low', '^GSPC'),\n",
      "            (  'Open', '^GSPC'),\n",
      "            ('Volume', '^GSPC')],\n",
      "           names=['Price', 'Ticker'])\n"
     ]
    },
    {
     "name": "stderr",
     "output_type": "stream",
     "text": [
      "\n",
      "[*********************100%***********************]  1 of 1 completed\n",
      "[*********************100%***********************]  1 of 1 completed\n"
     ]
    },
    {
     "name": "stdout",
     "output_type": "stream",
     "text": [
      "Downloaded data for ^IXIC:\n",
      "Price              Close          High           Low          Open      Volume\n",
      "Ticker             ^IXIC         ^IXIC         ^IXIC         ^IXIC       ^IXIC\n",
      "Date                                                                          \n",
      "2024-01-16  14944.349609  15004.349609  14863.809570  14908.259766  6386180000\n",
      "2024-01-17  14855.620117  14865.759766  14706.230469  14814.769531  5181740000\n",
      "2024-01-18  15055.650391  15066.809570  14911.110352  14994.519531  5587440000\n",
      "2024-01-19  15310.969727  15310.969727  15087.200195  15122.379883  5604950000\n",
      "2024-01-22  15360.290039  15438.849609  15333.629883  15393.049805  5456240000\n",
      "Warning: 'Adj Close' not found for ^IXIC. Available columns: MultiIndex([( 'Close', '^IXIC'),\n",
      "            (  'High', '^IXIC'),\n",
      "            (   'Low', '^IXIC'),\n",
      "            (  'Open', '^IXIC'),\n",
      "            ('Volume', '^IXIC')],\n",
      "           names=['Price', 'Ticker'])\n",
      "Downloaded data for ^DJI:\n",
      "Price              Close          High           Low          Open     Volume\n",
      "Ticker              ^DJI          ^DJI          ^DJI          ^DJI       ^DJI\n",
      "Date                                                                         \n",
      "2024-01-16  37361.121094  37543.179688  37201.390625  37493.539062  378280000\n",
      "2024-01-17  37266.671875  37371.660156  37132.890625  37281.859375  290880000\n",
      "2024-01-18  37468.609375  37522.289062  37122.949219  37300.808594  340620000\n",
      "2024-01-19  37863.800781  37933.730469  37451.710938  37572.500000  377650000\n",
      "2024-01-22  38001.808594  38109.199219  37911.609375  37919.550781  339560000\n",
      "Warning: 'Adj Close' not found for ^DJI. Available columns: MultiIndex([( 'Close', '^DJI'),\n",
      "            (  'High', '^DJI'),\n",
      "            (   'Low', '^DJI'),\n",
      "            (  'Open', '^DJI'),\n",
      "            ('Volume', '^DJI')],\n",
      "           names=['Price', 'Ticker'])\n",
      "Error downloading USD/EUR: Thank you for using Alpha Vantage! Our standard API rate limit is 25 requests per day. Please subscribe to any of the premium plans at https://www.alphavantage.co/premium/ to instantly remove all daily rate limits.\n",
      "Error downloading USD/JPY: Thank you for using Alpha Vantage! Our standard API rate limit is 25 requests per day. Please subscribe to any of the premium plans at https://www.alphavantage.co/premium/ to instantly remove all daily rate limits.\n"
     ]
    },
    {
     "name": "stderr",
     "output_type": "stream",
     "text": [
      "[*********************100%***********************]  1 of 1 completed\n"
     ]
    },
    {
     "name": "stdout",
     "output_type": "stream",
     "text": [
      "Downloaded Gold Data:\n",
      "Price             Close         High          Low         Open Volume\n",
      "Ticker             GC=F         GC=F         GC=F         GC=F   GC=F\n",
      "Date                                                                 \n",
      "2024-01-16  2026.000000  2054.800049  2026.000000  2051.699951     46\n",
      "2024-01-17  2002.599976  2026.500000  2002.599976  2026.500000    764\n",
      "2024-01-18  2018.599976  2018.599976  2009.500000  2012.800049   1474\n",
      "2024-01-19  2026.500000  2036.000000  2019.500000  2023.199951     50\n",
      "2024-01-22  2019.800049  2021.300049  2019.800049  2021.300049     12\n",
      "Warning: 'Adj Close' not found in gold data. Available columns: MultiIndex([( 'Close', 'GC=F'),\n",
      "            (  'High', 'GC=F'),\n",
      "            (   'Low', 'GC=F'),\n",
      "            (  'Open', 'GC=F'),\n",
      "            ('Volume', 'GC=F')],\n",
      "           names=['Price', 'Ticker'])\n"
     ]
    },
    {
     "name": "stderr",
     "output_type": "stream",
     "text": [
      "[*********************100%***********************]  1 of 1 completed"
     ]
    },
    {
     "name": "stdout",
     "output_type": "stream",
     "text": [
      "Downloading data for 2024-03-20 (2024-03-05 to 2024-04-04)\n",
      "Downloaded data for ^GSPC:\n",
      "Price             Close         High          Low         Open      Volume\n",
      "Ticker            ^GSPC        ^GSPC        ^GSPC        ^GSPC       ^GSPC\n",
      "Date                                                                      \n",
      "2024-03-05  5078.649902  5114.540039  5056.819824  5110.520020  4418410000\n",
      "2024-03-06  5104.759766  5127.970215  5092.220215  5108.029785  4559050000\n",
      "2024-03-07  5157.359863  5165.620117  5128.209961  5132.379883  4137980000\n",
      "2024-03-08  5123.689941  5189.259766  5117.500000  5164.459961  4208870000\n",
      "2024-03-11  5117.939941  5124.660156  5091.140137  5111.959961  3896430000\n",
      "Warning: 'Adj Close' not found for ^GSPC. Available columns: MultiIndex([( 'Close', '^GSPC'),\n",
      "            (  'High', '^GSPC'),\n",
      "            (   'Low', '^GSPC'),\n",
      "            (  'Open', '^GSPC'),\n",
      "            ('Volume', '^GSPC')],\n",
      "           names=['Price', 'Ticker'])\n"
     ]
    },
    {
     "name": "stderr",
     "output_type": "stream",
     "text": [
      "\n",
      "[*********************100%***********************]  1 of 1 completed\n",
      "[*********************100%***********************]  1 of 1 completed\n"
     ]
    },
    {
     "name": "stdout",
     "output_type": "stream",
     "text": [
      "Downloaded data for ^IXIC:\n",
      "Price              Close          High           Low          Open      Volume\n",
      "Ticker             ^IXIC         ^IXIC         ^IXIC         ^IXIC       ^IXIC\n",
      "Date                                                                          \n",
      "2024-03-05  15939.589844  16087.570312  15862.629883  16077.740234  6356800000\n",
      "2024-03-06  16031.540039  16128.559570  15956.660156  16092.000000  5511370000\n",
      "2024-03-07  16273.379883  16309.019531  16096.009766  16147.320312  5072790000\n",
      "2024-03-08  16085.110352  16449.699219  16059.500000  16322.099609  5411790000\n",
      "2024-03-11  16019.269531  16085.950195  15978.040039  16052.629883  4917620000\n",
      "Warning: 'Adj Close' not found for ^IXIC. Available columns: MultiIndex([( 'Close', '^IXIC'),\n",
      "            (  'High', '^IXIC'),\n",
      "            (   'Low', '^IXIC'),\n",
      "            (  'Open', '^IXIC'),\n",
      "            ('Volume', '^IXIC')],\n",
      "           names=['Price', 'Ticker'])\n",
      "Downloaded data for ^DJI:\n",
      "Price              Close          High           Low          Open     Volume\n",
      "Ticker              ^DJI          ^DJI          ^DJI          ^DJI       ^DJI\n",
      "Date                                                                         \n",
      "2024-03-05  38585.191406  38906.980469  38457.828125  38906.980469  393750000\n",
      "2024-03-06  38661.050781  38858.128906  38570.800781  38721.148438  347900000\n",
      "2024-03-07  38791.351562  38910.351562  38730.128906  38784.300781  335580000\n",
      "2024-03-08  38722.691406  38971.148438  38705.031250  38776.800781  342030000\n",
      "2024-03-11  38769.660156  38794.761719  38483.250000  38667.210938  300190000\n",
      "Warning: 'Adj Close' not found for ^DJI. Available columns: MultiIndex([( 'Close', '^DJI'),\n",
      "            (  'High', '^DJI'),\n",
      "            (   'Low', '^DJI'),\n",
      "            (  'Open', '^DJI'),\n",
      "            ('Volume', '^DJI')],\n",
      "           names=['Price', 'Ticker'])\n",
      "Error downloading USD/EUR: Thank you for using Alpha Vantage! Our standard API rate limit is 25 requests per day. Please subscribe to any of the premium plans at https://www.alphavantage.co/premium/ to instantly remove all daily rate limits.\n",
      "Error downloading USD/JPY: Thank you for using Alpha Vantage! Our standard API rate limit is 25 requests per day. Please subscribe to any of the premium plans at https://www.alphavantage.co/premium/ to instantly remove all daily rate limits.\n"
     ]
    },
    {
     "name": "stderr",
     "output_type": "stream",
     "text": [
      "[*********************100%***********************]  1 of 1 completed\n"
     ]
    },
    {
     "name": "stdout",
     "output_type": "stream",
     "text": [
      "Downloaded Gold Data:\n",
      "Price             Close         High          Low         Open Volume\n",
      "Ticker             GC=F         GC=F         GC=F         GC=F   GC=F\n",
      "Date                                                                 \n",
      "2024-03-05  2133.500000  2133.500000  2111.399902  2114.899902   1287\n",
      "2024-03-06  2150.300049  2150.300049  2125.500000  2125.500000    443\n",
      "2024-03-07  2158.000000  2163.000000  2147.000000  2147.000000    152\n",
      "2024-03-08  2178.600098  2194.899902  2166.300049  2167.300049    259\n",
      "2024-03-11  2182.500000  2184.000000  2177.199951  2181.000000    738\n",
      "Warning: 'Adj Close' not found in gold data. Available columns: MultiIndex([( 'Close', 'GC=F'),\n",
      "            (  'High', 'GC=F'),\n",
      "            (   'Low', 'GC=F'),\n",
      "            (  'Open', 'GC=F'),\n",
      "            ('Volume', 'GC=F')],\n",
      "           names=['Price', 'Ticker'])\n"
     ]
    },
    {
     "name": "stderr",
     "output_type": "stream",
     "text": [
      "[*********************100%***********************]  1 of 1 completed"
     ]
    },
    {
     "name": "stdout",
     "output_type": "stream",
     "text": [
      "Downloading data for 2024-05-01 (2024-04-16 to 2024-05-16)\n",
      "Downloaded data for ^GSPC:\n",
      "Price             Close         High          Low         Open      Volume\n",
      "Ticker            ^GSPC        ^GSPC        ^GSPC        ^GSPC       ^GSPC\n",
      "Date                                                                      \n",
      "2024-04-16  5051.410156  5079.839844  5039.830078  5064.589844  4006200000\n",
      "2024-04-17  5022.209961  5077.959961  5007.250000  5068.970215  3596130000\n",
      "2024-04-18  5011.120117  5056.660156  5001.890137  5031.520020  3619760000\n",
      "2024-04-19  4967.229980  5019.020020  4953.560059  5005.439941  3878750000\n",
      "2024-04-22  5010.600098  5038.839844  4969.399902  4987.330078  3820250000\n",
      "Warning: 'Adj Close' not found for ^GSPC. Available columns: MultiIndex([( 'Close', '^GSPC'),\n",
      "            (  'High', '^GSPC'),\n",
      "            (   'Low', '^GSPC'),\n",
      "            (  'Open', '^GSPC'),\n",
      "            ('Volume', '^GSPC')],\n",
      "           names=['Price', 'Ticker'])\n"
     ]
    },
    {
     "name": "stderr",
     "output_type": "stream",
     "text": [
      "\n",
      "[*********************100%***********************]  1 of 1 completed\n",
      "[*********************100%***********************]  1 of 1 completed\n"
     ]
    },
    {
     "name": "stdout",
     "output_type": "stream",
     "text": [
      "Downloaded data for ^IXIC:\n",
      "Price              Close          High           Low          Open      Volume\n",
      "Ticker             ^IXIC         ^IXIC         ^IXIC         ^IXIC       ^IXIC\n",
      "Date                                                                          \n",
      "2024-04-16  15865.250000  15965.790039  15822.019531  15856.379883  5001860000\n",
      "2024-04-17  15683.370117  15957.030273  15654.509766  15942.290039  4991470000\n",
      "2024-04-18  15601.500000  15786.120117  15587.500000  15705.690430  4932540000\n",
      "2024-04-19  15282.009766  15576.700195  15222.780273  15547.099609  5316010000\n",
      "2024-04-22  15451.309570  15539.000000  15265.660156  15396.129883  4616730000\n",
      "Warning: 'Adj Close' not found for ^IXIC. Available columns: MultiIndex([( 'Close', '^IXIC'),\n",
      "            (  'High', '^IXIC'),\n",
      "            (   'Low', '^IXIC'),\n",
      "            (  'Open', '^IXIC'),\n",
      "            ('Volume', '^IXIC')],\n",
      "           names=['Price', 'Ticker'])\n",
      "Downloaded data for ^DJI:\n",
      "Price              Close          High           Low          Open     Volume\n",
      "Ticker              ^DJI          ^DJI          ^DJI          ^DJI       ^DJI\n",
      "Date                                                                         \n",
      "2024-04-16  37798.968750  37992.218750  37713.699219  37992.218750  339480000\n",
      "2024-04-17  37753.308594  38036.699219  37611.558594  37949.671875  314650000\n",
      "2024-04-18  37775.378906  38083.761719  37681.519531  37847.210938  300230000\n",
      "2024-04-19  37986.398438  38102.570312  37781.609375  37801.980469  420460000\n",
      "2024-04-22  38239.980469  38447.160156  37985.070312  38116.890625  351650000\n",
      "Warning: 'Adj Close' not found for ^DJI. Available columns: MultiIndex([( 'Close', '^DJI'),\n",
      "            (  'High', '^DJI'),\n",
      "            (   'Low', '^DJI'),\n",
      "            (  'Open', '^DJI'),\n",
      "            ('Volume', '^DJI')],\n",
      "           names=['Price', 'Ticker'])\n",
      "Error downloading USD/EUR: Thank you for using Alpha Vantage! Our standard API rate limit is 25 requests per day. Please subscribe to any of the premium plans at https://www.alphavantage.co/premium/ to instantly remove all daily rate limits.\n",
      "Error downloading USD/JPY: Thank you for using Alpha Vantage! Our standard API rate limit is 25 requests per day. Please subscribe to any of the premium plans at https://www.alphavantage.co/premium/ to instantly remove all daily rate limits.\n"
     ]
    },
    {
     "name": "stderr",
     "output_type": "stream",
     "text": [
      "[*********************100%***********************]  1 of 1 completed\n"
     ]
    },
    {
     "name": "stdout",
     "output_type": "stream",
     "text": [
      "Downloaded Gold Data:\n",
      "Price             Close         High          Low         Open Volume\n",
      "Ticker             GC=F         GC=F         GC=F         GC=F   GC=F\n",
      "Date                                                                 \n",
      "2024-04-16  2390.800049  2390.800049  2371.399902  2384.000000     41\n",
      "2024-04-17  2371.699951  2391.399902  2369.300049  2384.199951     37\n",
      "2024-04-18  2382.300049  2384.399902  2368.399902  2368.399902    128\n",
      "2024-04-19  2398.399902  2399.800049  2377.300049  2379.300049    160\n",
      "2024-04-22  2332.199951  2383.300049  2326.899902  2383.300049     53\n",
      "Warning: 'Adj Close' not found in gold data. Available columns: MultiIndex([( 'Close', 'GC=F'),\n",
      "            (  'High', 'GC=F'),\n",
      "            (   'Low', 'GC=F'),\n",
      "            (  'Open', 'GC=F'),\n",
      "            ('Volume', 'GC=F')],\n",
      "           names=['Price', 'Ticker'])\n"
     ]
    },
    {
     "name": "stderr",
     "output_type": "stream",
     "text": [
      "[*********************100%***********************]  1 of 1 completed"
     ]
    },
    {
     "name": "stdout",
     "output_type": "stream",
     "text": [
      "Downloading data for 2024-06-12 (2024-05-28 to 2024-06-27)\n",
      "Downloaded data for ^GSPC:\n",
      "Price             Close         High          Low         Open      Volume\n",
      "Ticker            ^GSPC        ^GSPC        ^GSPC        ^GSPC       ^GSPC\n",
      "Date                                                                      \n",
      "2024-05-28  5306.040039  5315.910156  5280.890137  5315.910156  3751540000\n",
      "2024-05-29  5266.950195  5282.270020  5262.700195  5278.729980  3552750000\n",
      "2024-05-30  5235.479980  5260.209961  5222.100098  5259.770020  3818750000\n",
      "2024-05-31  5277.509766  5280.330078  5191.680176  5243.209961  5437160000\n",
      "2024-06-03  5283.399902  5302.109863  5234.319824  5297.149902  4046920000\n",
      "Warning: 'Adj Close' not found for ^GSPC. Available columns: MultiIndex([( 'Close', '^GSPC'),\n",
      "            (  'High', '^GSPC'),\n",
      "            (   'Low', '^GSPC'),\n",
      "            (  'Open', '^GSPC'),\n",
      "            ('Volume', '^GSPC')],\n",
      "           names=['Price', 'Ticker'])\n"
     ]
    },
    {
     "name": "stderr",
     "output_type": "stream",
     "text": [
      "\n",
      "[*********************100%***********************]  1 of 1 completed\n",
      "[*********************100%***********************]  1 of 1 completed\n"
     ]
    },
    {
     "name": "stdout",
     "output_type": "stream",
     "text": [
      "Downloaded data for ^IXIC:\n",
      "Price              Close          High           Low          Open      Volume\n",
      "Ticker             ^IXIC         ^IXIC         ^IXIC         ^IXIC       ^IXIC\n",
      "Date                                                                          \n",
      "2024-05-28  17019.880859  17032.660156  16917.509766  16988.310547  6293380000\n",
      "2024-05-29  16920.580078  16989.599609  16873.970703  16879.349609  6652480000\n",
      "2024-05-30  16737.080078  16900.460938  16690.359375  16878.630859  6659290000\n",
      "2024-05-31  16735.019531  16789.269531  16445.539062  16771.900391  6674090000\n",
      "2024-06-03  16828.669922  16909.890625  16646.429688  16865.699219  5422040000\n",
      "Warning: 'Adj Close' not found for ^IXIC. Available columns: MultiIndex([( 'Close', '^IXIC'),\n",
      "            (  'High', '^IXIC'),\n",
      "            (   'Low', '^IXIC'),\n",
      "            (  'Open', '^IXIC'),\n",
      "            ('Volume', '^IXIC')],\n",
      "           names=['Price', 'Ticker'])\n",
      "Downloaded data for ^DJI:\n",
      "Price              Close          High           Low          Open     Volume\n",
      "Ticker              ^DJI          ^DJI          ^DJI          ^DJI       ^DJI\n",
      "Date                                                                         \n",
      "2024-05-28  38852.859375  39028.988281  38706.140625  39028.988281  303340000\n",
      "2024-05-29  38441.539062  38716.281250  38413.671875  38716.281250  292280000\n",
      "2024-05-30  38111.480469  38493.601562  38000.960938  38368.351562  360090000\n",
      "2024-05-31  38686.320312  38719.429688  38092.269531  38140.261719  618200000\n",
      "2024-06-03  38571.031250  38735.609375  38247.218750  38709.988281  314010000\n",
      "Warning: 'Adj Close' not found for ^DJI. Available columns: MultiIndex([( 'Close', '^DJI'),\n",
      "            (  'High', '^DJI'),\n",
      "            (   'Low', '^DJI'),\n",
      "            (  'Open', '^DJI'),\n",
      "            ('Volume', '^DJI')],\n",
      "           names=['Price', 'Ticker'])\n",
      "Error downloading USD/EUR: Thank you for using Alpha Vantage! Our standard API rate limit is 25 requests per day. Please subscribe to any of the premium plans at https://www.alphavantage.co/premium/ to instantly remove all daily rate limits.\n",
      "Error downloading USD/JPY: Thank you for using Alpha Vantage! Our standard API rate limit is 25 requests per day. Please subscribe to any of the premium plans at https://www.alphavantage.co/premium/ to instantly remove all daily rate limits.\n"
     ]
    },
    {
     "name": "stderr",
     "output_type": "stream",
     "text": [
      "[*********************100%***********************]  1 of 1 completed\n"
     ]
    },
    {
     "name": "stdout",
     "output_type": "stream",
     "text": [
      "Downloaded Gold Data:\n",
      "Price             Close         High          Low         Open  Volume\n",
      "Ticker             GC=F         GC=F         GC=F         GC=F    GC=F\n",
      "Date                                                                  \n",
      "2024-05-28  2355.199951  2359.699951  2336.899902  2336.899902      26\n",
      "2024-05-29  2340.300049  2340.300049  2340.300049  2340.300049  119317\n",
      "2024-05-30  2342.899902  2349.500000  2320.800049  2336.899902   32587\n",
      "2024-05-31  2322.899902  2354.000000  2319.000000  2344.100098     941\n",
      "2024-06-03  2346.600098  2347.500000  2312.000000  2322.600098     781\n",
      "Warning: 'Adj Close' not found in gold data. Available columns: MultiIndex([( 'Close', 'GC=F'),\n",
      "            (  'High', 'GC=F'),\n",
      "            (   'Low', 'GC=F'),\n",
      "            (  'Open', 'GC=F'),\n",
      "            ('Volume', 'GC=F')],\n",
      "           names=['Price', 'Ticker'])\n"
     ]
    },
    {
     "name": "stderr",
     "output_type": "stream",
     "text": [
      "[*********************100%***********************]  1 of 1 completed"
     ]
    },
    {
     "name": "stdout",
     "output_type": "stream",
     "text": [
      "Downloading data for 2024-07-31 (2024-07-16 to 2024-08-15)\n",
      "Downloaded data for ^GSPC:\n",
      "Price             Close         High          Low         Open      Volume\n",
      "Ticker            ^GSPC        ^GSPC        ^GSPC        ^GSPC       ^GSPC\n",
      "Date                                                                      \n",
      "2024-07-16  5667.200195  5669.669922  5639.020020  5644.089844  4041760000\n",
      "2024-07-17  5588.270020  5622.490234  5584.810059  5610.069824  4246450000\n",
      "2024-07-18  5544.589844  5614.049805  5522.810059  5608.560059  4007510000\n",
      "2024-07-19  5505.000000  5557.500000  5497.040039  5543.370117  3760570000\n",
      "2024-07-22  5564.410156  5570.359863  5529.040039  5544.540039  3375180000\n",
      "Warning: 'Adj Close' not found for ^GSPC. Available columns: MultiIndex([( 'Close', '^GSPC'),\n",
      "            (  'High', '^GSPC'),\n",
      "            (   'Low', '^GSPC'),\n",
      "            (  'Open', '^GSPC'),\n",
      "            ('Volume', '^GSPC')],\n",
      "           names=['Price', 'Ticker'])\n"
     ]
    },
    {
     "name": "stderr",
     "output_type": "stream",
     "text": [
      "\n",
      "[*********************100%***********************]  1 of 1 completed\n",
      "[*********************100%***********************]  1 of 1 completed\n"
     ]
    },
    {
     "name": "stdout",
     "output_type": "stream",
     "text": [
      "Downloaded data for ^IXIC:\n",
      "Price              Close          High           Low          Open      Volume\n",
      "Ticker             ^IXIC         ^IXIC         ^IXIC         ^IXIC       ^IXIC\n",
      "Date                                                                          \n",
      "2024-07-16  18509.339844  18576.830078  18386.070312  18534.269531  5812930000\n",
      "2024-07-17  17996.919922  18223.240234  17972.869141  18188.189453  6007280000\n",
      "2024-07-18  17871.220703  18130.869141  17759.539062  18119.150391  5977260000\n",
      "2024-07-19  17726.939453  17935.140625  17691.429688  17835.589844  4992930000\n",
      "2024-07-22  18007.570312  18040.990234  17839.759766  17923.650391  5093620000\n",
      "Warning: 'Adj Close' not found for ^IXIC. Available columns: MultiIndex([( 'Close', '^IXIC'),\n",
      "            (  'High', '^IXIC'),\n",
      "            (   'Low', '^IXIC'),\n",
      "            (  'Open', '^IXIC'),\n",
      "            ('Volume', '^IXIC')],\n",
      "           names=['Price', 'Ticker'])\n",
      "Downloaded data for ^DJI:\n",
      "Price              Close          High           Low          Open     Volume\n",
      "Ticker              ^DJI          ^DJI          ^DJI          ^DJI       ^DJI\n",
      "Date                                                                         \n",
      "2024-07-16  40954.480469  40988.808594  40263.781250  40263.781250  306390000\n",
      "2024-07-17  41198.078125  41221.980469  40849.710938  40862.570312  433450000\n",
      "2024-07-18  40665.019531  41376.000000  40597.500000  41156.558594  393450000\n",
      "2024-07-19  40287.531250  40626.160156  40203.269531  40592.351562  348530000\n",
      "2024-07-22  40415.441406  40472.531250  40222.769531  40414.488281  351670000\n",
      "Warning: 'Adj Close' not found for ^DJI. Available columns: MultiIndex([( 'Close', '^DJI'),\n",
      "            (  'High', '^DJI'),\n",
      "            (   'Low', '^DJI'),\n",
      "            (  'Open', '^DJI'),\n",
      "            ('Volume', '^DJI')],\n",
      "           names=['Price', 'Ticker'])\n",
      "Error downloading USD/EUR: Thank you for using Alpha Vantage! Our standard API rate limit is 25 requests per day. Please subscribe to any of the premium plans at https://www.alphavantage.co/premium/ to instantly remove all daily rate limits.\n",
      "Error downloading USD/JPY: Thank you for using Alpha Vantage! Our standard API rate limit is 25 requests per day. Please subscribe to any of the premium plans at https://www.alphavantage.co/premium/ to instantly remove all daily rate limits.\n"
     ]
    },
    {
     "name": "stderr",
     "output_type": "stream",
     "text": [
      "[*********************100%***********************]  1 of 1 completed\n"
     ]
    },
    {
     "name": "stdout",
     "output_type": "stream",
     "text": [
      "Downloaded Gold Data:\n",
      "Price             Close         High          Low         Open Volume\n",
      "Ticker             GC=F         GC=F         GC=F         GC=F   GC=F\n",
      "Date                                                                 \n",
      "2024-07-16  2462.399902  2462.399902  2427.399902  2427.399902     93\n",
      "2024-07-17  2454.800049  2473.100098  2454.800049  2472.899902     10\n",
      "2024-07-18  2451.800049  2466.000000  2451.800049  2466.000000      2\n",
      "2024-07-19  2395.500000  2419.199951  2395.500000  2418.800049     15\n",
      "2024-07-22  2392.000000  2402.100098  2392.000000  2402.100098     18\n",
      "Warning: 'Adj Close' not found in gold data. Available columns: MultiIndex([( 'Close', 'GC=F'),\n",
      "            (  'High', 'GC=F'),\n",
      "            (   'Low', 'GC=F'),\n",
      "            (  'Open', 'GC=F'),\n",
      "            ('Volume', 'GC=F')],\n",
      "           names=['Price', 'Ticker'])\n"
     ]
    },
    {
     "name": "stderr",
     "output_type": "stream",
     "text": [
      "[*********************100%***********************]  1 of 1 completed"
     ]
    },
    {
     "name": "stdout",
     "output_type": "stream",
     "text": [
      "Downloading data for 2024-09-18 (2024-09-03 to 2024-10-03)\n",
      "Downloaded data for ^GSPC:\n",
      "Price             Close         High          Low         Open      Volume\n",
      "Ticker            ^GSPC        ^GSPC        ^GSPC        ^GSPC       ^GSPC\n",
      "Date                                                                      \n",
      "2024-09-03  5528.930176  5623.890137  5504.330078  5623.890137  3866350000\n",
      "2024-09-04  5520.069824  5552.990234  5503.660156  5506.680176  3478140000\n",
      "2024-09-05  5503.410156  5546.299805  5480.540039  5520.080078  3521650000\n",
      "2024-09-06  5408.419922  5522.470215  5402.620117  5507.330078  3822800000\n",
      "2024-09-09  5471.049805  5484.200195  5434.490234  5442.069824  3825940000\n",
      "Warning: 'Adj Close' not found for ^GSPC. Available columns: MultiIndex([( 'Close', '^GSPC'),\n",
      "            (  'High', '^GSPC'),\n",
      "            (   'Low', '^GSPC'),\n",
      "            (  'Open', '^GSPC'),\n",
      "            ('Volume', '^GSPC')],\n",
      "           names=['Price', 'Ticker'])\n"
     ]
    },
    {
     "name": "stderr",
     "output_type": "stream",
     "text": [
      "\n",
      "[*********************100%***********************]  1 of 1 completed\n"
     ]
    },
    {
     "name": "stdout",
     "output_type": "stream",
     "text": [
      "Downloaded data for ^IXIC:\n",
      "Price              Close          High           Low          Open      Volume\n",
      "Ticker             ^IXIC         ^IXIC         ^IXIC         ^IXIC       ^IXIC\n",
      "Date                                                                          \n",
      "2024-09-03  17136.300781  17585.449219  17057.789062  17585.449219  5813970000\n",
      "2024-09-04  17084.300781  17232.650391  16984.669922  17015.710938  5011820000\n",
      "2024-09-05  17127.660156  17295.580078  17035.070312  17063.240234  4983030000\n",
      "2024-09-06  16690.830078  17166.539062  16668.570312  17137.619141  5549030000\n",
      "2024-09-09  16884.599609  16923.279297  16732.839844  16835.669922  5132150000\n",
      "Warning: 'Adj Close' not found for ^IXIC. Available columns: MultiIndex([( 'Close', '^IXIC'),\n",
      "            (  'High', '^IXIC'),\n",
      "            (   'Low', '^IXIC'),\n",
      "            (  'Open', '^IXIC'),\n",
      "            ('Volume', '^IXIC')],\n",
      "           names=['Price', 'Ticker'])\n"
     ]
    },
    {
     "name": "stderr",
     "output_type": "stream",
     "text": [
      "[*********************100%***********************]  1 of 1 completed\n"
     ]
    },
    {
     "name": "stdout",
     "output_type": "stream",
     "text": [
      "Downloaded data for ^DJI:\n",
      "Price              Close          High           Low          Open     Volume\n",
      "Ticker              ^DJI          ^DJI          ^DJI          ^DJI       ^DJI\n",
      "Date                                                                         \n",
      "2024-09-03  40936.929688  41489.671875  40778.089844  41489.671875  420530000\n",
      "2024-09-04  40974.968750  41172.589844  40840.890625  40872.058594  359380000\n",
      "2024-09-05  40755.750000  41084.781250  40519.078125  41056.328125  331250000\n",
      "2024-09-06  40345.410156  41009.390625  40297.328125  40756.808594  370440000\n",
      "2024-09-09  40829.589844  41000.238281  40518.058594  40555.109375  376720000\n",
      "Warning: 'Adj Close' not found for ^DJI. Available columns: MultiIndex([( 'Close', '^DJI'),\n",
      "            (  'High', '^DJI'),\n",
      "            (   'Low', '^DJI'),\n",
      "            (  'Open', '^DJI'),\n",
      "            ('Volume', '^DJI')],\n",
      "           names=['Price', 'Ticker'])\n",
      "Error downloading USD/EUR: Thank you for using Alpha Vantage! Our standard API rate limit is 25 requests per day. Please subscribe to any of the premium plans at https://www.alphavantage.co/premium/ to instantly remove all daily rate limits.\n",
      "Error downloading USD/JPY: Thank you for using Alpha Vantage! Our standard API rate limit is 25 requests per day. Please subscribe to any of the premium plans at https://www.alphavantage.co/premium/ to instantly remove all daily rate limits.\n"
     ]
    },
    {
     "name": "stderr",
     "output_type": "stream",
     "text": [
      "[*********************100%***********************]  1 of 1 completed\n"
     ]
    },
    {
     "name": "stdout",
     "output_type": "stream",
     "text": [
      "Downloaded Gold Data:\n",
      "Price             Close         High          Low         Open Volume\n",
      "Ticker             GC=F         GC=F         GC=F         GC=F   GC=F\n",
      "Date                                                                 \n",
      "2024-09-03  2489.899902  2501.800049  2476.300049  2501.600098    206\n",
      "2024-09-04  2493.399902  2493.399902  2483.500000  2490.899902    470\n",
      "2024-09-05  2511.399902  2513.300049  2493.399902  2493.699951     54\n",
      "2024-09-06  2493.500000  2517.899902  2483.699951  2510.300049     96\n",
      "2024-09-09  2501.800049  2504.699951  2491.300049  2491.300049     96\n",
      "Warning: 'Adj Close' not found in gold data. Available columns: MultiIndex([( 'Close', 'GC=F'),\n",
      "            (  'High', 'GC=F'),\n",
      "            (   'Low', 'GC=F'),\n",
      "            (  'Open', 'GC=F'),\n",
      "            ('Volume', 'GC=F')],\n",
      "           names=['Price', 'Ticker'])\n"
     ]
    },
    {
     "name": "stderr",
     "output_type": "stream",
     "text": [
      "[*********************100%***********************]  1 of 1 completed"
     ]
    },
    {
     "name": "stdout",
     "output_type": "stream",
     "text": [
      "Downloading data for 2024-11-07 (2024-10-23 to 2024-11-22)\n",
      "Downloaded data for ^GSPC:\n",
      "Price             Close         High          Low         Open      Volume\n",
      "Ticker            ^GSPC        ^GSPC        ^GSPC        ^GSPC       ^GSPC\n",
      "Date                                                                      \n",
      "2024-10-23  5797.419922  5834.850098  5762.410156  5834.500000  3532650000\n",
      "2024-10-24  5809.859863  5817.799805  5784.919922  5817.799805  3543030000\n",
      "2024-10-25  5808.120117  5862.819824  5799.979980  5826.750000  3501280000\n",
      "2024-10-28  5823.520020  5842.919922  5823.080078  5833.930176  3691280000\n",
      "2024-10-29  5832.919922  5847.189941  5802.169922  5819.680176  3879100000\n",
      "Warning: 'Adj Close' not found for ^GSPC. Available columns: MultiIndex([( 'Close', '^GSPC'),\n",
      "            (  'High', '^GSPC'),\n",
      "            (   'Low', '^GSPC'),\n",
      "            (  'Open', '^GSPC'),\n",
      "            ('Volume', '^GSPC')],\n",
      "           names=['Price', 'Ticker'])\n"
     ]
    },
    {
     "name": "stderr",
     "output_type": "stream",
     "text": [
      "\n",
      "[*********************100%***********************]  1 of 1 completed\n",
      "[*********************100%***********************]  1 of 1 completed\n"
     ]
    },
    {
     "name": "stdout",
     "output_type": "stream",
     "text": [
      "Downloaded data for ^IXIC:\n",
      "Price              Close          High           Low          Open      Volume\n",
      "Ticker             ^IXIC         ^IXIC         ^IXIC         ^IXIC       ^IXIC\n",
      "Date                                                                          \n",
      "2024-10-23  18276.650391  18509.189453  18146.609375  18502.060547  6245610000\n",
      "2024-10-24  18415.490234  18435.369141  18305.419922  18384.160156  5761280000\n",
      "2024-10-25  18518.609375  18690.009766  18487.060547  18512.580078  6100040000\n",
      "2024-10-28  18567.189453  18671.009766  18563.019531  18648.250000  5641660000\n",
      "2024-10-29  18712.750000  18753.189453  18509.589844  18576.089844  6881170000\n",
      "Warning: 'Adj Close' not found for ^IXIC. Available columns: MultiIndex([( 'Close', '^IXIC'),\n",
      "            (  'High', '^IXIC'),\n",
      "            (   'Low', '^IXIC'),\n",
      "            (  'Open', '^IXIC'),\n",
      "            ('Volume', '^IXIC')],\n",
      "           names=['Price', 'Ticker'])\n",
      "Downloaded data for ^DJI:\n",
      "Price              Close          High           Low          Open     Volume\n",
      "Ticker              ^DJI          ^DJI          ^DJI          ^DJI       ^DJI\n",
      "Date                                                                         \n",
      "2024-10-23  42514.949219  42834.398438  42293.171875  42834.398438  356610000\n",
      "2024-10-24  42374.359375  42522.550781  42191.828125  42522.550781  282680000\n",
      "2024-10-25  42114.398438  42594.640625  42051.390625  42477.511719  314000000\n",
      "2024-10-28  42387.570312  42476.460938  42264.539062  42264.539062  284770000\n",
      "2024-10-29  42233.050781  42491.859375  42171.648438  42323.480469  373550000\n",
      "Warning: 'Adj Close' not found for ^DJI. Available columns: MultiIndex([( 'Close', '^DJI'),\n",
      "            (  'High', '^DJI'),\n",
      "            (   'Low', '^DJI'),\n",
      "            (  'Open', '^DJI'),\n",
      "            ('Volume', '^DJI')],\n",
      "           names=['Price', 'Ticker'])\n",
      "Error downloading USD/EUR: Thank you for using Alpha Vantage! Our standard API rate limit is 25 requests per day. Please subscribe to any of the premium plans at https://www.alphavantage.co/premium/ to instantly remove all daily rate limits.\n",
      "Error downloading USD/JPY: Thank you for using Alpha Vantage! Our standard API rate limit is 25 requests per day. Please subscribe to any of the premium plans at https://www.alphavantage.co/premium/ to instantly remove all daily rate limits.\n"
     ]
    },
    {
     "name": "stderr",
     "output_type": "stream",
     "text": [
      "[*********************100%***********************]  1 of 1 completed\n"
     ]
    },
    {
     "name": "stdout",
     "output_type": "stream",
     "text": [
      "Downloaded Gold Data:\n",
      "Price             Close         High          Low         Open Volume\n",
      "Ticker             GC=F         GC=F         GC=F         GC=F   GC=F\n",
      "Date                                                                 \n",
      "2024-10-23  2714.399902  2742.500000  2714.199951  2742.500000     18\n",
      "2024-10-24  2734.899902  2736.100098  2729.000000  2729.000000     27\n",
      "2024-10-25  2740.899902  2742.399902  2725.500000  2725.500000     29\n",
      "2024-10-28  2742.899902  2742.899902  2729.500000  2736.100098     56\n",
      "2024-10-29  2768.399902  2768.399902  2768.399902  2768.399902    848\n",
      "Warning: 'Adj Close' not found in gold data. Available columns: MultiIndex([( 'Close', 'GC=F'),\n",
      "            (  'High', 'GC=F'),\n",
      "            (   'Low', 'GC=F'),\n",
      "            (  'Open', 'GC=F'),\n",
      "            ('Volume', 'GC=F')],\n",
      "           names=['Price', 'Ticker'])\n"
     ]
    },
    {
     "name": "stderr",
     "output_type": "stream",
     "text": [
      "[*********************100%***********************]  1 of 1 completed"
     ]
    },
    {
     "name": "stdout",
     "output_type": "stream",
     "text": [
      "Downloading data for 2024-12-18 (2024-12-03 to 2025-01-02)\n",
      "Downloaded data for ^GSPC:\n",
      "Price             Close         High          Low         Open      Volume\n",
      "Ticker            ^GSPC        ^GSPC        ^GSPC        ^GSPC       ^GSPC\n",
      "Date                                                                      \n",
      "2024-12-03  6049.879883  6052.069824  6033.390137  6042.970215  4095000000\n",
      "2024-12-04  6086.490234  6089.839844  6061.060059  6069.390137  4003390000\n",
      "2024-12-05  6075.109863  6094.549805  6072.899902  6089.029785  4212020000\n",
      "2024-12-06  6090.270020  6099.970215  6079.979980  6081.379883  3924830000\n",
      "2024-12-09  6052.850098  6088.509766  6048.629883  6083.009766  4556460000\n",
      "Warning: 'Adj Close' not found for ^GSPC. Available columns: MultiIndex([( 'Close', '^GSPC'),\n",
      "            (  'High', '^GSPC'),\n",
      "            (   'Low', '^GSPC'),\n",
      "            (  'Open', '^GSPC'),\n",
      "            ('Volume', '^GSPC')],\n",
      "           names=['Price', 'Ticker'])\n"
     ]
    },
    {
     "name": "stderr",
     "output_type": "stream",
     "text": [
      "\n",
      "[*********************100%***********************]  1 of 1 completed\n",
      "[*********************100%***********************]  1 of 1 completed\n"
     ]
    },
    {
     "name": "stdout",
     "output_type": "stream",
     "text": [
      "Downloaded data for ^IXIC:\n",
      "Price              Close          High           Low          Open      Volume\n",
      "Ticker             ^IXIC         ^IXIC         ^IXIC         ^IXIC       ^IXIC\n",
      "Date                                                                          \n",
      "2024-12-03  19480.910156  19486.150391  19340.410156  19364.339844  6005160000\n",
      "2024-12-04  19735.119141  19741.759766  19575.400391  19587.480469  7870030000\n",
      "2024-12-05  19700.259766  19790.029297  19688.589844  19756.400391  7229510000\n",
      "2024-12-06  19859.769531  19863.150391  19734.419922  19743.960938  6787610000\n",
      "2024-12-09  19736.689453  19872.789062  19698.050781  19824.089844  7884620000\n",
      "Warning: 'Adj Close' not found for ^IXIC. Available columns: MultiIndex([( 'Close', '^IXIC'),\n",
      "            (  'High', '^IXIC'),\n",
      "            (   'Low', '^IXIC'),\n",
      "            (  'Open', '^IXIC'),\n",
      "            ('Volume', '^IXIC')],\n",
      "           names=['Price', 'Ticker'])\n",
      "Downloaded data for ^DJI:\n",
      "Price              Close          High           Low          Open     Volume\n",
      "Ticker              ^DJI          ^DJI          ^DJI          ^DJI       ^DJI\n",
      "Date                                                                         \n",
      "2024-12-03  44705.531250  44914.679688  44574.781250  44769.578125  429130000\n",
      "2024-12-04  45014.039062  45073.628906  44799.738281  44941.050781  554420000\n",
      "2024-12-05  44765.710938  45059.941406  44747.140625  45038.441406  457340000\n",
      "2024-12-06  44642.519531  44923.738281  44596.460938  44824.289062  466910000\n",
      "2024-12-09  44401.929688  44728.511719  44382.828125  44637.968750  503920000\n",
      "Warning: 'Adj Close' not found for ^DJI. Available columns: MultiIndex([( 'Close', '^DJI'),\n",
      "            (  'High', '^DJI'),\n",
      "            (   'Low', '^DJI'),\n",
      "            (  'Open', '^DJI'),\n",
      "            ('Volume', '^DJI')],\n",
      "           names=['Price', 'Ticker'])\n",
      "Error downloading USD/EUR: Thank you for using Alpha Vantage! Our standard API rate limit is 25 requests per day. Please subscribe to any of the premium plans at https://www.alphavantage.co/premium/ to instantly remove all daily rate limits.\n",
      "Error downloading USD/JPY: Thank you for using Alpha Vantage! Our standard API rate limit is 25 requests per day. Please subscribe to any of the premium plans at https://www.alphavantage.co/premium/ to instantly remove all daily rate limits.\n"
     ]
    },
    {
     "name": "stderr",
     "output_type": "stream",
     "text": [
      "[*********************100%***********************]  1 of 1 completed\n"
     ]
    },
    {
     "name": "stdout",
     "output_type": "stream",
     "text": [
      "Downloaded Gold Data:\n",
      "Price             Close         High          Low         Open Volume\n",
      "Ticker             GC=F         GC=F         GC=F         GC=F   GC=F\n",
      "Date                                                                 \n",
      "2024-12-03  2644.699951  2654.699951  2636.000000  2639.000000   1062\n",
      "2024-12-04  2653.800049  2658.300049  2637.000000  2639.199951    249\n",
      "2024-12-05  2626.600098  2655.000000  2625.699951  2652.399902    573\n",
      "2024-12-06  2638.600098  2643.100098  2617.500000  2620.199951    571\n",
      "2024-12-09  2664.899902  2677.100098  2630.800049  2632.100098    935\n",
      "Warning: 'Adj Close' not found in gold data. Available columns: MultiIndex([( 'Close', 'GC=F'),\n",
      "            (  'High', 'GC=F'),\n",
      "            (   'Low', 'GC=F'),\n",
      "            (  'Open', 'GC=F'),\n",
      "            ('Volume', 'GC=F')],\n",
      "           names=['Price', 'Ticker'])\n",
      "Data collection complete. Saved to market_data.csv\n"
     ]
    }
   ],
   "source": [
    "import yfinance as yf\n",
    "import pandas as pd\n",
    "import datetime\n",
    "import time\n",
    "from pandas_datareader import data as pdr\n",
    "from alpha_vantage.foreignexchange import ForeignExchange\n",
    "\n",
    "# Set Alpha Vantage API Key\n",
    "ALPHA_VANTAGE_API_KEY = \"2TF07MIMWVNCRG7I\"  # Replace with your API key\n",
    "\n",
    "df = pd.read_csv(\"fomc_meetings_corrected.csv\")\n",
    "\n",
    "def get_fed_meeting_dates(years=15):\n",
    "    \"\"\"Returns a list of Federal Reserve meeting dates for the past X years.\"\"\"\n",
    "    return df['meeting_end'].tolist()\n",
    "\n",
    "def get_date_range(meeting_date):\n",
    "    \"\"\"Get 15 days before and after the meeting.\"\"\"\n",
    "    meeting_dt = datetime.datetime.strptime(meeting_date, \"%Y-%m-%d\")\n",
    "    start_date = (meeting_dt - datetime.timedelta(days=15)).strftime(\"%Y-%m-%d\")\n",
    "    end_date = (meeting_dt + datetime.timedelta(days=15)).strftime(\"%Y-%m-%d\")\n",
    "    return start_date, end_date\n",
    "\n",
    "def download_equity_data(symbols, start, end):\n",
    "    \"\"\"Download S&P 500, Nasdaq, Dow Jones data from Yahoo Finance.\"\"\"\n",
    "    data = {}\n",
    "    for symbol in symbols:\n",
    "        df = yf.download(symbol, start=start, end=end)\n",
    "\n",
    "        print(f\"Downloaded data for {symbol}:\")\n",
    "        print(df.head())  # Debug print\n",
    "\n",
    "        # Handle MultiIndex issue\n",
    "        if isinstance(df.columns, pd.MultiIndex):\n",
    "            df = df.xs('Close', level=0, axis=1)  # Extract Close prices\n",
    "\n",
    "        # Ensure 'Adj Close' or 'Close' column is used\n",
    "        if 'Adj Close' in df.columns:\n",
    "            data[symbol] = df[['Adj Close']]\n",
    "        elif 'Close' in df.columns:\n",
    "            data[symbol] = df[['Close']]\n",
    "        else:\n",
    "            print(f\"Warning: Neither 'Adj Close' nor 'Close' found for {symbol}. Available columns: {df.columns}\")\n",
    "            data[symbol] = df  # Store full data for debugging\n",
    "\n",
    "    return data\n",
    "\n",
    "def download_bond_data(start, end):\n",
    "    \"\"\"Download U.S. Treasury bond yield data from FRED.\"\"\"\n",
    "    symbols = [\"DGS10\"]  # 10-year Treasury yield\n",
    "    bond_data = {}\n",
    "    for symbol in symbols:\n",
    "        df = pdr.get_data_fred(symbol, start, end)\n",
    "        bond_data[symbol] = df\n",
    "    return bond_data\n",
    "\n",
    "def download_forex_data(pairs, start, end):\n",
    "    \"\"\"Download forex data from Alpha Vantage.\"\"\"\n",
    "    fx = ForeignExchange(key=ALPHA_VANTAGE_API_KEY)\n",
    "    forex_data = {}\n",
    "\n",
    "    for pair in pairs:\n",
    "        base, quote = pair.split('/')\n",
    "        try:\n",
    "            data, _ = fx.get_currency_exchange_daily(from_symbol=base, to_symbol=quote, outputsize='full')\n",
    "            if not data:\n",
    "                print(f\"Warning: No data received for {pair}\")\n",
    "                continue\n",
    "\n",
    "            df = pd.DataFrame.from_dict(data, orient='index')\n",
    "            \n",
    "            # Ensure column conversion\n",
    "            df = df.rename(columns={\"4. close\": \"Close\"})\n",
    "            df[\"Close\"] = pd.to_numeric(df[\"Close\"], errors=\"coerce\")\n",
    "            \n",
    "            # Convert index to datetime and sort it\n",
    "            df.index = pd.to_datetime(df.index)\n",
    "            df = df.sort_index()\n",
    "\n",
    "            # Ensure date range selection works properly\n",
    "            df = df.loc[start:end]\n",
    "\n",
    "            forex_data[pair] = df[['Close']]\n",
    "        except Exception as e:\n",
    "            print(f\"Error downloading {pair}: {e}\")\n",
    "        \n",
    "        time.sleep(12)  # Avoid API rate limits\n",
    "    return forex_data\n",
    "\n",
    "def download_gold_data(start, end):\n",
    "    \"\"\"Download gold prices using Yahoo Finance.\"\"\"\n",
    "    gold = yf.download(\"GC=F\", start=start, end=end)\n",
    "    print(\"Downloaded Gold Data:\")\n",
    "    print(gold.head())  # Debug print\n",
    "    if 'Adj Close' in gold.columns:\n",
    "        return gold[['Adj Close']]\n",
    "    else:\n",
    "        print(f\"Warning: 'Adj Close' not found in gold data. Available columns: {gold.columns}\")\n",
    "        return gold\n",
    "\n",
    "def main():\n",
    "    fed_meeting_dates = get_fed_meeting_dates()\n",
    "    \n",
    "    all_data = []\n",
    "    for meeting_date in fed_meeting_dates:\n",
    "        start_date, end_date = get_date_range(meeting_date)\n",
    "        \n",
    "        print(f\"Downloading data for {meeting_date} ({start_date} to {end_date})\")\n",
    "        \n",
    "        # Download data\n",
    "        equities = download_equity_data([\"^GSPC\", \"^IXIC\", \"^DJI\"], start_date, end_date)\n",
    "        bonds = download_bond_data(start_date, end_date)\n",
    "        forex = download_forex_data([\"USD/EUR\", \"USD/JPY\"], start_date, end_date)\n",
    "        gold = download_gold_data(start_date, end_date)\n",
    "        \n",
    "        # Combine data\n",
    "        for symbol, df in equities.items():\n",
    "            df['Type'] = symbol\n",
    "            df['Date'] = df.index\n",
    "            all_data.append(df.reset_index(drop=True))\n",
    "        \n",
    "        for symbol, df in bonds.items():\n",
    "            df['Type'] = symbol\n",
    "            df['Date'] = df.index\n",
    "            all_data.append(df.reset_index(drop=True))\n",
    "        \n",
    "        for pair, df in forex.items():\n",
    "            df['Type'] = pair\n",
    "            df['Date'] = df.index\n",
    "            all_data.append(df.reset_index(drop=True))\n",
    "        \n",
    "        if not gold.empty:\n",
    "            gold['Type'] = \"Gold\"\n",
    "            gold['Date'] = gold.index\n",
    "            all_data.append(gold.reset_index(drop=True))\n",
    "        \n",
    "        time.sleep(10)  # Avoid API rate limits\n",
    "    \n",
    "    # Merge all data\n",
    "    if all_data:\n",
    "        final_df = pd.concat(all_data, ignore_index=True)\n",
    "        final_df.to_csv(\"market_data.csv\", index=False)\n",
    "        print(\"Data collection complete. Saved to market_data.csv\")\n",
    "    else:\n",
    "        print(\"No data collected.\")\n",
    "\n",
    "if __name__ == \"__main__\":\n",
    "    main()\n"
   ]
  },
  {
   "cell_type": "markdown",
   "metadata": {},
   "source": [
    "## Rename to be more readable"
   ]
  },
  {
   "cell_type": "code",
   "execution_count": 1,
   "metadata": {},
   "outputs": [
    {
     "name": "stdout",
     "output_type": "stream",
     "text": [
      "Columns renamed and saved to market_data_renamed.csv\n"
     ]
    }
   ],
   "source": [
    "# convert the result to more readable format\n",
    "import pandas as pd\n",
    "\n",
    "# Load the existing CSV\n",
    "df = pd.read_csv('market_data.csv')\n",
    "\n",
    "# Mapping for symbols to readable names\n",
    "symbol_mapping = {\n",
    "    \"^GSPC\": \"SP500\",\n",
    "    \"^IXIC\": \"Nasdaq\",\n",
    "    \"^DJI\": \"DowJones\",\n",
    "    \"GC=F\": \"Gold\",\n",
    "    \"DGS10\": \"10Y_Treasury_Yield\",\n",
    "    \"USD/EUR\": \"USD_EUR\",\n",
    "    \"USD/JPY\": \"USD_JPY\"\n",
    "}\n",
    "\n",
    "def rename_columns(columns):\n",
    "    new_columns = []\n",
    "    for col in columns:\n",
    "        # Remove parentheses and split if needed\n",
    "        if col.startswith(\"(\") and col.endswith(\")\"):\n",
    "            parts = col.strip(\"()\").replace(\"'\", \"\").split(\", \")\n",
    "            if len(parts) == 2:\n",
    "                col_name, symbol = parts\n",
    "                readable_symbol = symbol_mapping.get(symbol, symbol)\n",
    "                new_columns.append(f\"{readable_symbol}_{col_name}\")\n",
    "            else:\n",
    "                new_columns.append(col)\n",
    "        else:\n",
    "            # For non-tuple columns like 'DGS10', 'Type', 'Date'\n",
    "            readable_col = symbol_mapping.get(col, col)\n",
    "            new_columns.append(readable_col)\n",
    "    return new_columns\n",
    "\n",
    "# Apply the renaming\n",
    "df.columns = rename_columns(df.columns)\n",
    "\n"
   ]
  },
  {
   "cell_type": "markdown",
   "metadata": {},
   "source": [
    "## Clean Type and Date, Consolidate"
   ]
  },
  {
   "cell_type": "code",
   "execution_count": 4,
   "metadata": {},
   "outputs": [],
   "source": [
    "# Drop the Type columns as they are redundant\n",
    "df.drop(columns=['_Type', 'Type'], inplace=True)\n",
    "\n",
    "# Fill missing Date values to align all rows\n",
    "df['Date'] = df['Date'].combine_first(df['_Date'])\n",
    "df.drop(columns=['_Date'], inplace=True)\n",
    "\n",
    "# Convert Date to datetime format\n",
    "df['Date'] = pd.to_datetime(df['Date'])\n",
    "\n",
    "# Group by Date to ensure one row per date, taking non-null values from each group\n",
    "consolidated_df = df.groupby('Date').first().reset_index()\n",
    "\n",
    "# Set Date as the index\n",
    "consolidated_df.set_index('Date', inplace=True)\n",
    "\n",
    "# Save the cleaned dataset\n",
    "consolidated_df.to_csv('market_data_consolidated.csv')\n"
   ]
  },
  {
   "cell_type": "code",
   "execution_count": 7,
   "metadata": {},
   "outputs": [
    {
     "name": "stdout",
     "output_type": "stream",
     "text": [
      "SP500_Close            171\n",
      "SP500_High             171\n",
      "SP500_Low              171\n",
      "SP500_Open             171\n",
      "SP500_Volume           171\n",
      "Nasdaq_Close           171\n",
      "Nasdaq_High            171\n",
      "Nasdaq_Low             171\n",
      "Nasdaq_Open            171\n",
      "Nasdaq_Volume          171\n",
      "DowJones_Close         171\n",
      "DowJones_High          171\n",
      "DowJones_Low           171\n",
      "DowJones_Open          171\n",
      "DowJones_Volume        171\n",
      "10Y_Treasury_Yield      66\n",
      "Close                 2760\n",
      "Gold_Close             173\n",
      "Gold_High              173\n",
      "Gold_Low               173\n",
      "Gold_Open              173\n",
      "Gold_Volume            173\n",
      "dtype: int64\n"
     ]
    }
   ],
   "source": [
    "# check if any col in consolidated_df has missing values\n",
    "missing_values = consolidated_df.isnull().sum()\n",
    "print(missing_values)"
   ]
  },
  {
   "cell_type": "markdown",
   "metadata": {},
   "source": [
    "## Remove Incorrect Close Column"
   ]
  },
  {
   "cell_type": "code",
   "execution_count": 9,
   "metadata": {},
   "outputs": [],
   "source": [
    "# delete col called Close\n",
    "consolidated_df.drop(columns=['Close'], inplace=True)\n",
    "# drop any rows that have missing values\n",
    "consolidated_df.dropna(inplace=True)\n",
    "# save to new\n",
    "consolidated_df.to_csv('market_data_cleaned.csv')"
   ]
  }
 ],
 "metadata": {
  "kernelspec": {
   "display_name": "base",
   "language": "python",
   "name": "python3"
  },
  "language_info": {
   "codemirror_mode": {
    "name": "ipython",
    "version": 3
   },
   "file_extension": ".py",
   "mimetype": "text/x-python",
   "name": "python",
   "nbconvert_exporter": "python",
   "pygments_lexer": "ipython3",
   "version": "3.12.7"
  }
 },
 "nbformat": 4,
 "nbformat_minor": 2
}
